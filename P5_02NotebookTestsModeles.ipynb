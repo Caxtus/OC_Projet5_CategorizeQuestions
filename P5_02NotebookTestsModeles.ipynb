{
 "cells": [
  {
   "cell_type": "markdown",
   "metadata": {},
   "source": [
    "# Projet 5: Catégorisez automatiquement des questions"
   ]
  },
  {
   "cell_type": "markdown",
   "metadata": {},
   "source": [
    "## Partie 2: Tests des modèles"
   ]
  },
  {
   "cell_type": "code",
   "execution_count": 1,
   "metadata": {},
   "outputs": [
    {
     "name": "stderr",
     "output_type": "stream",
     "text": [
      "C:\\Users\\alice\\Anaconda3\\lib\\site-packages\\past\\types\\oldstr.py:5: DeprecationWarning: Using or importing the ABCs from 'collections' instead of from 'collections.abc' is deprecated, and in 3.8 it will stop working\n",
      "  from collections import Iterable\n",
      "C:\\Users\\alice\\Anaconda3\\lib\\site-packages\\past\\builtins\\misc.py:4: DeprecationWarning: Using or importing the ABCs from 'collections' instead of from 'collections.abc' is deprecated, and in 3.8 it will stop working\n",
      "  from collections import Mapping\n",
      "C:\\Users\\alice\\Anaconda3\\lib\\site-packages\\nltk\\decorators.py:68: DeprecationWarning: `formatargspec` is deprecated since Python 3.5. Use `signature` and the `Signature` object directly\n",
      "  regargs, varargs, varkwargs, defaults, formatvalue=lambda value: \"\"\n",
      "C:\\Users\\alice\\Anaconda3\\lib\\site-packages\\nltk\\lm\\counter.py:15: DeprecationWarning: Using or importing the ABCs from 'collections' instead of from 'collections.abc' is deprecated, and in 3.8 it will stop working\n",
      "  from collections import Sequence, defaultdict\n",
      "[nltk_data] Downloading package punkt to\n",
      "[nltk_data]     C:\\Users\\alice\\AppData\\Roaming\\nltk_data...\n",
      "[nltk_data]   Package punkt is already up-to-date!\n"
     ]
    },
    {
     "data": {
      "text/plain": [
       "True"
      ]
     },
     "execution_count": 1,
     "metadata": {},
     "output_type": "execute_result"
    }
   ],
   "source": [
    "#importation des librairies\n",
    "\n",
    "import numpy as np\n",
    "import pandas as pd\n",
    "import matplotlib.pyplot as plt\n",
    "#import seaborn as sns\n",
    "import sklearn\n",
    "from sklearn.model_selection import train_test_split\n",
    "import ast\n",
    "#import re\n",
    "\n",
    "#binarisation des tags\n",
    "from sklearn.preprocessing import MultiLabelBinarizer\n",
    "\n",
    "#librairies pour le tfidf - extraction d'information du texte\n",
    "from sklearn.feature_extraction.text import TfidfVectorizer\n",
    "\n",
    "#Pour LDA\n",
    "from sklearn.decomposition import LatentDirichletAllocation\n",
    "import pyLDAvis.sklearn\n",
    "\n",
    "#pour NMF\n",
    "from sklearn.decomposition import NMF\n",
    "\n",
    "#pour les modèles supervisés\n",
    "from sklearn.multiclass import OneVsRestClassifier\n",
    "from sklearn.linear_model import LogisticRegression\n",
    "from sklearn.svm import LinearSVC\n",
    "from sklearn.naive_bayes import MultinomialNB\n",
    "from sklearn.neural_network import MLPClassifier\n",
    "\n",
    "#Traitement des données\n",
    "#from bs4 import BeautifulSoup #extraction du texte\n",
    "import string\n",
    "import nltk #traitement du texte\n",
    "nltk.download('punkt')\n",
    "#nltk.tokenize.word_tokenize #tokenization\n",
    "#w_tokenizer = nltk.tokenize.WhitespaceTokenizer()\n",
    "#nltk.download('stopwords')\n",
    "#from nltk.corpus import stopwords #stop words\n",
    "#stop_words = stopwords.words('english') \n",
    "#nltk.download('wordnet')\n",
    "#from nltk.stem import WordNetLemmatizer #lemmatisation\n",
    "#lemmatizer = WordNetLemmatizer()\n",
    "#from nltk.stem import PorterStemmer #stemming porter\n",
    "#porter = PorterStemmer()\n",
    "#from nltk.stem import LancasterStemmer #stemming lancaster\n",
    "#lancaster=LancasterStemmer()\n",
    "\n",
    "#importation des librairies - visualisation\n",
    "#from sklearn.feature_extraction.text import CountVectorizer\n",
    "#import collections\n"
   ]
  },
  {
   "cell_type": "code",
   "execution_count": 2,
   "metadata": {},
   "outputs": [],
   "source": [
    "#importation du dataset\n",
    "df = pd.read_csv('clean_dataframe_final.csv')"
   ]
  },
  {
   "cell_type": "code",
   "execution_count": 3,
   "metadata": {},
   "outputs": [
    {
     "data": {
      "text/plain": [
       "(38393, 5)"
      ]
     },
     "execution_count": 3,
     "metadata": {},
     "output_type": "execute_result"
    }
   ],
   "source": [
    "df.shape"
   ]
  },
  {
   "cell_type": "code",
   "execution_count": 4,
   "metadata": {},
   "outputs": [
    {
     "data": {
      "text/html": [
       "<div>\n",
       "<style scoped>\n",
       "    .dataframe tbody tr th:only-of-type {\n",
       "        vertical-align: middle;\n",
       "    }\n",
       "\n",
       "    .dataframe tbody tr th {\n",
       "        vertical-align: top;\n",
       "    }\n",
       "\n",
       "    .dataframe thead th {\n",
       "        text-align: right;\n",
       "    }\n",
       "</style>\n",
       "<table border=\"1\" class=\"dataframe\">\n",
       "  <thead>\n",
       "    <tr style=\"text-align: right;\">\n",
       "      <th></th>\n",
       "      <th>Text</th>\n",
       "      <th>TagsTokens</th>\n",
       "      <th>text_lemmatized</th>\n",
       "      <th>text_stemm_porter</th>\n",
       "      <th>text_stemm_lancaster</th>\n",
       "    </tr>\n",
       "  </thead>\n",
       "  <tbody>\n",
       "    <tr>\n",
       "      <td>0</td>\n",
       "      <td>c# 50 await keyword listed operator rather mod...</td>\n",
       "      <td>['c#']</td>\n",
       "      <td>['c#', '50', 'await', 'keyword', 'listed', 'op...</td>\n",
       "      <td>['c#', '50', 'await', 'keyword', 'list', 'oper...</td>\n",
       "      <td>['c#', '50', 'await', 'keyword', 'list', 'op',...</td>\n",
       "    </tr>\n",
       "    <tr>\n",
       "      <td>1</td>\n",
       "      <td>configure mercurial use winmerge merges cygwin...</td>\n",
       "      <td>['mercurial']</td>\n",
       "      <td>['configure', 'mercurial', 'use', 'winmerge', ...</td>\n",
       "      <td>['configur', 'mercuri', 'use', 'winmerg', 'mer...</td>\n",
       "      <td>['config', 'merc', 'us', 'winmerg', 'merg', 'c...</td>\n",
       "    </tr>\n",
       "    <tr>\n",
       "      <td>2</td>\n",
       "      <td>whats best way go photoshop mockup semantic ht...</td>\n",
       "      <td>['html', 'css']</td>\n",
       "      <td>['whats', 'best', 'way', 'go', 'photoshop', 'm...</td>\n",
       "      <td>['what', 'best', 'way', 'go', 'photoshop', 'mo...</td>\n",
       "      <td>['what', 'best', 'way', 'go', 'photoshop', 'mo...</td>\n",
       "    </tr>\n",
       "    <tr>\n",
       "      <td>3</td>\n",
       "      <td>lookup data book barcode number building world...</td>\n",
       "      <td>['language-agnostic']</td>\n",
       "      <td>['lookup', 'data', 'book', 'barcode', 'number'...</td>\n",
       "      <td>['lookup', 'data', 'book', 'barcod', 'number',...</td>\n",
       "      <td>['lookup', 'dat', 'book', 'barcod', 'numb', 'b...</td>\n",
       "    </tr>\n",
       "    <tr>\n",
       "      <td>4</td>\n",
       "      <td>embeddable webkit component windows c# develop...</td>\n",
       "      <td>['.net', 'com']</td>\n",
       "      <td>['embeddable', 'webkit', 'component', 'window'...</td>\n",
       "      <td>['embedd', 'webkit', 'compon', 'window', 'c#',...</td>\n",
       "      <td>['embed', 'webkit', 'compon', 'window', 'c#', ...</td>\n",
       "    </tr>\n",
       "  </tbody>\n",
       "</table>\n",
       "</div>"
      ],
      "text/plain": [
       "                                                Text             TagsTokens  \\\n",
       "0  c# 50 await keyword listed operator rather mod...                 ['c#']   \n",
       "1  configure mercurial use winmerge merges cygwin...          ['mercurial']   \n",
       "2  whats best way go photoshop mockup semantic ht...        ['html', 'css']   \n",
       "3  lookup data book barcode number building world...  ['language-agnostic']   \n",
       "4  embeddable webkit component windows c# develop...        ['.net', 'com']   \n",
       "\n",
       "                                     text_lemmatized  \\\n",
       "0  ['c#', '50', 'await', 'keyword', 'listed', 'op...   \n",
       "1  ['configure', 'mercurial', 'use', 'winmerge', ...   \n",
       "2  ['whats', 'best', 'way', 'go', 'photoshop', 'm...   \n",
       "3  ['lookup', 'data', 'book', 'barcode', 'number'...   \n",
       "4  ['embeddable', 'webkit', 'component', 'window'...   \n",
       "\n",
       "                                   text_stemm_porter  \\\n",
       "0  ['c#', '50', 'await', 'keyword', 'list', 'oper...   \n",
       "1  ['configur', 'mercuri', 'use', 'winmerg', 'mer...   \n",
       "2  ['what', 'best', 'way', 'go', 'photoshop', 'mo...   \n",
       "3  ['lookup', 'data', 'book', 'barcod', 'number',...   \n",
       "4  ['embedd', 'webkit', 'compon', 'window', 'c#',...   \n",
       "\n",
       "                                text_stemm_lancaster  \n",
       "0  ['c#', '50', 'await', 'keyword', 'list', 'op',...  \n",
       "1  ['config', 'merc', 'us', 'winmerg', 'merg', 'c...  \n",
       "2  ['what', 'best', 'way', 'go', 'photoshop', 'mo...  \n",
       "3  ['lookup', 'dat', 'book', 'barcod', 'numb', 'b...  \n",
       "4  ['embed', 'webkit', 'compon', 'window', 'c#', ...  "
      ]
     },
     "execution_count": 4,
     "metadata": {},
     "output_type": "execute_result"
    }
   ],
   "source": [
    "df.head()"
   ]
  },
  {
   "cell_type": "code",
   "execution_count": 5,
   "metadata": {},
   "outputs": [
    {
     "data": {
      "text/plain": [
       "0                            ['c#']\n",
       "1                     ['mercurial']\n",
       "2                   ['html', 'css']\n",
       "3             ['language-agnostic']\n",
       "4                   ['.net', 'com']\n",
       "                    ...            \n",
       "38388              ['php', 'mysql']\n",
       "38389               ['html', 'css']\n",
       "38390    ['c#', '.net', 'generics']\n",
       "38391               ['html', 'xml']\n",
       "38392                    ['winapi']\n",
       "Name: TagsTokens, Length: 38393, dtype: object"
      ]
     },
     "execution_count": 5,
     "metadata": {},
     "output_type": "execute_result"
    }
   ],
   "source": [
    "df['TagsTokens']"
   ]
  },
  {
   "cell_type": "markdown",
   "metadata": {},
   "source": [
    "## 1. Tests non supervisés sur données avec lemmatisation"
   ]
  },
  {
   "cell_type": "markdown",
   "metadata": {},
   "source": [
    "### 1.1 Préparation des données"
   ]
  },
  {
   "cell_type": "markdown",
   "metadata": {},
   "source": [
    "#### 1.1.1 Construction du dataset"
   ]
  },
  {
   "cell_type": "code",
   "execution_count": 6,
   "metadata": {},
   "outputs": [],
   "source": [
    "#construction du dataset\n",
    "cols = ['TagsTokens','text_lemmatized']\n",
    "df_lemm = df[cols]"
   ]
  },
  {
   "cell_type": "code",
   "execution_count": 7,
   "metadata": {},
   "outputs": [
    {
     "data": {
      "text/plain": [
       "(38393, 2)"
      ]
     },
     "execution_count": 7,
     "metadata": {},
     "output_type": "execute_result"
    }
   ],
   "source": [
    "df_lemm.shape"
   ]
  },
  {
   "cell_type": "code",
   "execution_count": 8,
   "metadata": {},
   "outputs": [
    {
     "data": {
      "text/html": [
       "<div>\n",
       "<style scoped>\n",
       "    .dataframe tbody tr th:only-of-type {\n",
       "        vertical-align: middle;\n",
       "    }\n",
       "\n",
       "    .dataframe tbody tr th {\n",
       "        vertical-align: top;\n",
       "    }\n",
       "\n",
       "    .dataframe thead th {\n",
       "        text-align: right;\n",
       "    }\n",
       "</style>\n",
       "<table border=\"1\" class=\"dataframe\">\n",
       "  <thead>\n",
       "    <tr style=\"text-align: right;\">\n",
       "      <th></th>\n",
       "      <th>TagsTokens</th>\n",
       "      <th>text_lemmatized</th>\n",
       "    </tr>\n",
       "  </thead>\n",
       "  <tbody>\n",
       "    <tr>\n",
       "      <td>0</td>\n",
       "      <td>['c#']</td>\n",
       "      <td>['c#', '50', 'await', 'keyword', 'listed', 'op...</td>\n",
       "    </tr>\n",
       "    <tr>\n",
       "      <td>1</td>\n",
       "      <td>['mercurial']</td>\n",
       "      <td>['configure', 'mercurial', 'use', 'winmerge', ...</td>\n",
       "    </tr>\n",
       "    <tr>\n",
       "      <td>2</td>\n",
       "      <td>['html', 'css']</td>\n",
       "      <td>['whats', 'best', 'way', 'go', 'photoshop', 'm...</td>\n",
       "    </tr>\n",
       "    <tr>\n",
       "      <td>3</td>\n",
       "      <td>['language-agnostic']</td>\n",
       "      <td>['lookup', 'data', 'book', 'barcode', 'number'...</td>\n",
       "    </tr>\n",
       "    <tr>\n",
       "      <td>4</td>\n",
       "      <td>['.net', 'com']</td>\n",
       "      <td>['embeddable', 'webkit', 'component', 'window'...</td>\n",
       "    </tr>\n",
       "    <tr>\n",
       "      <td>...</td>\n",
       "      <td>...</td>\n",
       "      <td>...</td>\n",
       "    </tr>\n",
       "    <tr>\n",
       "      <td>38388</td>\n",
       "      <td>['php', 'mysql']</td>\n",
       "      <td>['php', 'date', 'issue', 'daylight', 'saving',...</td>\n",
       "    </tr>\n",
       "    <tr>\n",
       "      <td>38389</td>\n",
       "      <td>['html', 'css']</td>\n",
       "      <td>['attach', 'image', 'bottom', 'middle', 'tryin...</td>\n",
       "    </tr>\n",
       "    <tr>\n",
       "      <td>38390</td>\n",
       "      <td>['c#', '.net', 'generics']</td>\n",
       "      <td>['c#', 'cant', 'liststring', 'object', 'stored...</td>\n",
       "    </tr>\n",
       "    <tr>\n",
       "      <td>38391</td>\n",
       "      <td>['html', 'xml']</td>\n",
       "      <td>['way', 'comment', 'code', 'notepad2', 'notepa...</td>\n",
       "    </tr>\n",
       "    <tr>\n",
       "      <td>38392</td>\n",
       "      <td>['winapi']</td>\n",
       "      <td>['preregistering', 'atl', 'window', 'class', '...</td>\n",
       "    </tr>\n",
       "  </tbody>\n",
       "</table>\n",
       "<p>38393 rows × 2 columns</p>\n",
       "</div>"
      ],
      "text/plain": [
       "                       TagsTokens  \\\n",
       "0                          ['c#']   \n",
       "1                   ['mercurial']   \n",
       "2                 ['html', 'css']   \n",
       "3           ['language-agnostic']   \n",
       "4                 ['.net', 'com']   \n",
       "...                           ...   \n",
       "38388            ['php', 'mysql']   \n",
       "38389             ['html', 'css']   \n",
       "38390  ['c#', '.net', 'generics']   \n",
       "38391             ['html', 'xml']   \n",
       "38392                  ['winapi']   \n",
       "\n",
       "                                         text_lemmatized  \n",
       "0      ['c#', '50', 'await', 'keyword', 'listed', 'op...  \n",
       "1      ['configure', 'mercurial', 'use', 'winmerge', ...  \n",
       "2      ['whats', 'best', 'way', 'go', 'photoshop', 'm...  \n",
       "3      ['lookup', 'data', 'book', 'barcode', 'number'...  \n",
       "4      ['embeddable', 'webkit', 'component', 'window'...  \n",
       "...                                                  ...  \n",
       "38388  ['php', 'date', 'issue', 'daylight', 'saving',...  \n",
       "38389  ['attach', 'image', 'bottom', 'middle', 'tryin...  \n",
       "38390  ['c#', 'cant', 'liststring', 'object', 'stored...  \n",
       "38391  ['way', 'comment', 'code', 'notepad2', 'notepa...  \n",
       "38392  ['preregistering', 'atl', 'window', 'class', '...  \n",
       "\n",
       "[38393 rows x 2 columns]"
      ]
     },
     "execution_count": 8,
     "metadata": {},
     "output_type": "execute_result"
    }
   ],
   "source": [
    "df_lemm"
   ]
  },
  {
   "cell_type": "markdown",
   "metadata": {},
   "source": [
    "#### 1.1.2 Préparation Train/Tests datasets"
   ]
  },
  {
   "cell_type": "code",
   "execution_count": 9,
   "metadata": {},
   "outputs": [
    {
     "name": "stderr",
     "output_type": "stream",
     "text": [
      "C:\\Users\\alice\\Anaconda3\\lib\\site-packages\\ipykernel_launcher.py:4: SettingWithCopyWarning: \n",
      "A value is trying to be set on a copy of a slice from a DataFrame.\n",
      "Try using .loc[row_indexer,col_indexer] = value instead\n",
      "\n",
      "See the caveats in the documentation: http://pandas.pydata.org/pandas-docs/stable/user_guide/indexing.html#returning-a-view-versus-a-copy\n",
      "  after removing the cwd from sys.path.\n"
     ]
    }
   ],
   "source": [
    "def removestring(text):\n",
    "    return ast.literal_eval(text)\n",
    "\n",
    "df_lemm['TagsTokens'] = df_lemm['TagsTokens'].apply(removestring)"
   ]
  },
  {
   "cell_type": "code",
   "execution_count": 10,
   "metadata": {},
   "outputs": [],
   "source": [
    "dfnew = df_lemm.copy()"
   ]
  },
  {
   "cell_type": "code",
   "execution_count": 11,
   "metadata": {},
   "outputs": [],
   "source": [
    "mlb = MultiLabelBinarizer()\n",
    "ytags = mlb.fit_transform(dfnew['TagsTokens'])"
   ]
  },
  {
   "cell_type": "code",
   "execution_count": 12,
   "metadata": {},
   "outputs": [
    {
     "data": {
      "text/plain": [
       "array([[0, 0, 0, ..., 0, 0, 0],\n",
       "       [0, 0, 0, ..., 0, 0, 0],\n",
       "       [0, 0, 0, ..., 0, 0, 0],\n",
       "       ...,\n",
       "       [1, 0, 0, ..., 0, 0, 0],\n",
       "       [0, 0, 0, ..., 0, 0, 1],\n",
       "       [0, 0, 0, ..., 0, 0, 0]])"
      ]
     },
     "execution_count": 12,
     "metadata": {},
     "output_type": "execute_result"
    }
   ],
   "source": [
    "ytags #check de la binarisation"
   ]
  },
  {
   "cell_type": "code",
   "execution_count": 13,
   "metadata": {},
   "outputs": [],
   "source": [
    "X_train, X_test, y_train, y_test = train_test_split(dfnew['text_lemmatized'], ytags, test_size=0.2,train_size=0.8, random_state=7)"
   ]
  },
  {
   "cell_type": "markdown",
   "metadata": {},
   "source": [
    "mlb.inverse_transform(y_train)"
   ]
  },
  {
   "cell_type": "markdown",
   "metadata": {},
   "source": [
    "### 1.2 Extraction de l'information du texte: tf-idf"
   ]
  },
  {
   "cell_type": "markdown",
   "metadata": {},
   "source": [
    "#### 1.2.1 tf-idf sur les données train"
   ]
  },
  {
   "cell_type": "code",
   "execution_count": 14,
   "metadata": {},
   "outputs": [],
   "source": [
    "#initislisation du vectorizer\n",
    "tfidf_vectorizer = TfidfVectorizer(use_idf = True, max_features = 1000)\n",
    "#transformation des données\n",
    "X_tfidf_train = tfidf_vectorizer.fit_transform(X_train)"
   ]
  },
  {
   "cell_type": "code",
   "execution_count": 15,
   "metadata": {},
   "outputs": [
    {
     "data": {
      "text/plain": [
       "<30714x1000 sparse matrix of type '<class 'numpy.float64'>'\n",
       "\twith 956361 stored elements in Compressed Sparse Row format>"
      ]
     },
     "execution_count": 15,
     "metadata": {},
     "output_type": "execute_result"
    }
   ],
   "source": [
    "X_tfidf_train"
   ]
  },
  {
   "cell_type": "code",
   "execution_count": 16,
   "metadata": {},
   "outputs": [],
   "source": [
    "# récupération du premier vecteur\n",
    "first_vector_tfidfvectorizer_train = X_tfidf_train[0]"
   ]
  },
  {
   "cell_type": "code",
   "execution_count": 17,
   "metadata": {
    "scrolled": false
   },
   "outputs": [
    {
     "data": {
      "text/html": [
       "<div>\n",
       "<style scoped>\n",
       "    .dataframe tbody tr th:only-of-type {\n",
       "        vertical-align: middle;\n",
       "    }\n",
       "\n",
       "    .dataframe tbody tr th {\n",
       "        vertical-align: top;\n",
       "    }\n",
       "\n",
       "    .dataframe thead th {\n",
       "        text-align: right;\n",
       "    }\n",
       "</style>\n",
       "<table border=\"1\" class=\"dataframe\">\n",
       "  <thead>\n",
       "    <tr style=\"text-align: right;\">\n",
       "      <th></th>\n",
       "      <th>tfidf</th>\n",
       "    </tr>\n",
       "  </thead>\n",
       "  <tbody>\n",
       "    <tr>\n",
       "      <td>map</td>\n",
       "      <td>0.717726</td>\n",
       "    </tr>\n",
       "    <tr>\n",
       "      <td>collection</td>\n",
       "      <td>0.404702</td>\n",
       "    </tr>\n",
       "    <tr>\n",
       "      <td>easy</td>\n",
       "      <td>0.261893</td>\n",
       "    </tr>\n",
       "    <tr>\n",
       "      <td>value</td>\n",
       "      <td>0.171563</td>\n",
       "    </tr>\n",
       "    <tr>\n",
       "      <td>make</td>\n",
       "      <td>0.169668</td>\n",
       "    </tr>\n",
       "    <tr>\n",
       "      <td>...</td>\n",
       "      <td>...</td>\n",
       "    </tr>\n",
       "    <tr>\n",
       "      <td>failed</td>\n",
       "      <td>0.000000</td>\n",
       "    </tr>\n",
       "    <tr>\n",
       "      <td>fails</td>\n",
       "      <td>0.000000</td>\n",
       "    </tr>\n",
       "    <tr>\n",
       "      <td>failure</td>\n",
       "      <td>0.000000</td>\n",
       "    </tr>\n",
       "    <tr>\n",
       "      <td>fairly</td>\n",
       "      <td>0.000000</td>\n",
       "    </tr>\n",
       "    <tr>\n",
       "      <td>yet</td>\n",
       "      <td>0.000000</td>\n",
       "    </tr>\n",
       "  </tbody>\n",
       "</table>\n",
       "<p>1000 rows × 1 columns</p>\n",
       "</div>"
      ],
      "text/plain": [
       "               tfidf\n",
       "map         0.717726\n",
       "collection  0.404702\n",
       "easy        0.261893\n",
       "value       0.171563\n",
       "make        0.169668\n",
       "...              ...\n",
       "failed      0.000000\n",
       "fails       0.000000\n",
       "failure     0.000000\n",
       "fairly      0.000000\n",
       "yet         0.000000\n",
       "\n",
       "[1000 rows x 1 columns]"
      ]
     },
     "execution_count": 17,
     "metadata": {},
     "output_type": "execute_result"
    }
   ],
   "source": [
    "# placement des valeurs tf-idf values dans un pandas data frame\n",
    "df_lemm_tfidfd_train = pd.DataFrame(first_vector_tfidfvectorizer_train.T.todense(), \n",
    "                                    index = tfidf_vectorizer.get_feature_names(), columns = [\"tfidf\"])\n",
    "df_lemm_tfidfd_train.sort_values(by = [\"tfidf\"],ascending=False)"
   ]
  },
  {
   "cell_type": "code",
   "execution_count": 18,
   "metadata": {},
   "outputs": [],
   "source": [
    "tfidf_feature_names = tfidf_vectorizer.get_feature_names()\n"
   ]
  },
  {
   "cell_type": "markdown",
   "metadata": {},
   "source": [
    "#### 1.2.2 tf-idf sur les données test"
   ]
  },
  {
   "cell_type": "code",
   "execution_count": 19,
   "metadata": {},
   "outputs": [],
   "source": [
    "#initislisation du vectorizer\n",
    "tfidf_vectorizer = TfidfVectorizer(use_idf = True, max_features = 1000)\n",
    "#transformation des données\n",
    "X_tfidf_test= tfidf_vectorizer.fit_transform(X_test)"
   ]
  },
  {
   "cell_type": "code",
   "execution_count": 20,
   "metadata": {},
   "outputs": [
    {
     "data": {
      "text/plain": [
       "<7679x1000 sparse matrix of type '<class 'numpy.float64'>'\n",
       "\twith 239032 stored elements in Compressed Sparse Row format>"
      ]
     },
     "execution_count": 20,
     "metadata": {},
     "output_type": "execute_result"
    }
   ],
   "source": [
    "X_tfidf_test"
   ]
  },
  {
   "cell_type": "code",
   "execution_count": 21,
   "metadata": {},
   "outputs": [],
   "source": [
    "# récupération du premier vecteur\n",
    "first_vector_tfidfvectorizer_test=X_tfidf_test[0]"
   ]
  },
  {
   "cell_type": "code",
   "execution_count": 22,
   "metadata": {
    "scrolled": false
   },
   "outputs": [
    {
     "data": {
      "text/html": [
       "<div>\n",
       "<style scoped>\n",
       "    .dataframe tbody tr th:only-of-type {\n",
       "        vertical-align: middle;\n",
       "    }\n",
       "\n",
       "    .dataframe tbody tr th {\n",
       "        vertical-align: top;\n",
       "    }\n",
       "\n",
       "    .dataframe thead th {\n",
       "        text-align: right;\n",
       "    }\n",
       "</style>\n",
       "<table border=\"1\" class=\"dataframe\">\n",
       "  <thead>\n",
       "    <tr style=\"text-align: right;\">\n",
       "      <th></th>\n",
       "      <th>tfidf</th>\n",
       "    </tr>\n",
       "  </thead>\n",
       "  <tbody>\n",
       "    <tr>\n",
       "      <td>dialog</td>\n",
       "      <td>0.449423</td>\n",
       "    </tr>\n",
       "    <tr>\n",
       "      <td>assembly</td>\n",
       "      <td>0.404126</td>\n",
       "    </tr>\n",
       "    <tr>\n",
       "      <td>framework</td>\n",
       "      <td>0.351412</td>\n",
       "    </tr>\n",
       "    <tr>\n",
       "      <td>reference</td>\n",
       "      <td>0.330897</td>\n",
       "    </tr>\n",
       "    <tr>\n",
       "      <td>net</td>\n",
       "      <td>0.303273</td>\n",
       "    </tr>\n",
       "    <tr>\n",
       "      <td>...</td>\n",
       "      <td>...</td>\n",
       "    </tr>\n",
       "    <tr>\n",
       "      <td>fact</td>\n",
       "      <td>0.000000</td>\n",
       "    </tr>\n",
       "    <tr>\n",
       "      <td>factory</td>\n",
       "      <td>0.000000</td>\n",
       "    </tr>\n",
       "    <tr>\n",
       "      <td>fail</td>\n",
       "      <td>0.000000</td>\n",
       "    </tr>\n",
       "    <tr>\n",
       "      <td>failed</td>\n",
       "      <td>0.000000</td>\n",
       "    </tr>\n",
       "    <tr>\n",
       "      <td>yet</td>\n",
       "      <td>0.000000</td>\n",
       "    </tr>\n",
       "  </tbody>\n",
       "</table>\n",
       "<p>1000 rows × 1 columns</p>\n",
       "</div>"
      ],
      "text/plain": [
       "              tfidf\n",
       "dialog     0.449423\n",
       "assembly   0.404126\n",
       "framework  0.351412\n",
       "reference  0.330897\n",
       "net        0.303273\n",
       "...             ...\n",
       "fact       0.000000\n",
       "factory    0.000000\n",
       "fail       0.000000\n",
       "failed     0.000000\n",
       "yet        0.000000\n",
       "\n",
       "[1000 rows x 1 columns]"
      ]
     },
     "execution_count": 22,
     "metadata": {},
     "output_type": "execute_result"
    }
   ],
   "source": [
    "# placement des valeurs tf-idf values dans un pandas data frame\n",
    "df_lemm_tfidfd_test = pd.DataFrame(first_vector_tfidfvectorizer_test.T.todense(), \n",
    "                                   index = tfidf_vectorizer.get_feature_names(), columns = [\"tfidf\"])\n",
    "df_lemm_tfidfd_test.sort_values(by = [\"tfidf\"],ascending=False)"
   ]
  },
  {
   "cell_type": "markdown",
   "metadata": {},
   "source": [
    "### 1.3 Méthode 1: Approche non supervisée"
   ]
  },
  {
   "cell_type": "markdown",
   "metadata": {},
   "source": [
    "#### 1.3.1 Latent Dirichlet Allocation (méthode non-supervisée)  -  train dataset"
   ]
  },
  {
   "cell_type": "code",
   "execution_count": 23,
   "metadata": {},
   "outputs": [
    {
     "data": {
      "text/plain": [
       "LatentDirichletAllocation(batch_size=128, doc_topic_prior=None,\n",
       "                          evaluate_every=-1, learning_decay=0.7,\n",
       "                          learning_method='online', learning_offset=50,\n",
       "                          max_doc_update_iter=100, max_iter=5,\n",
       "                          mean_change_tol=0.001, n_components=10, n_jobs=None,\n",
       "                          perp_tol=0.1, random_state=0, topic_word_prior=None,\n",
       "                          total_samples=1000000.0, verbose=0)"
      ]
     },
     "execution_count": 23,
     "metadata": {},
     "output_type": "execute_result"
    }
   ],
   "source": [
    "n_topics = 10\n",
    "\n",
    "# Créer le modèle LDA\n",
    "lda_model = LatentDirichletAllocation(\n",
    "        n_components =n_topics, \n",
    "        max_iter = 5, \n",
    "        learning_method ='online', \n",
    "        learning_offset = 50,\n",
    "        random_state = 0)\n",
    "\n",
    "# Fitter sur les données\n",
    "lda_model.fit(X_tfidf_train)"
   ]
  },
  {
   "cell_type": "code",
   "execution_count": 24,
   "metadata": {},
   "outputs": [
    {
     "name": "stderr",
     "output_type": "stream",
     "text": [
      "C:\\Users\\alice\\Anaconda3\\lib\\site-packages\\pyLDAvis\\_prepare.py:257: FutureWarning: Sorting because non-concatenation axis is not aligned. A future version\n",
      "of pandas will change to not sort by default.\n",
      "\n",
      "To accept the future behavior, pass 'sort=False'.\n",
      "\n",
      "To retain the current behavior and silence the warning, pass 'sort=True'.\n",
      "\n",
      "  return pd.concat([default_term_info] + list(topic_dfs))\n"
     ]
    },
    {
     "data": {
      "text/html": [
       "\n",
       "<link rel=\"stylesheet\" type=\"text/css\" href=\"https://cdn.rawgit.com/bmabey/pyLDAvis/files/ldavis.v1.0.0.css\">\n",
       "\n",
       "\n",
       "<div id=\"ldavis_el122642167516527944971498009\"></div>\n",
       "<script type=\"text/javascript\">\n",
       "\n",
       "var ldavis_el122642167516527944971498009_data = {\"mdsDat\": {\"x\": [-96.58938598632812, 88.61467742919922, -13.801841735839844, -11.249109268188477, 31.267065048217773, -77.72037506103516, 26.66082000732422, -33.339454650878906, 54.34280776977539, -41.044471740722656], \"y\": [24.950237274169922, 17.021690368652344, -33.460792541503906, -95.51756286621094, 77.2491226196289, -45.640769958496094, 12.413454055786133, 24.55509376525879, -53.057273864746094, 87.35414123535156], \"topics\": [1, 2, 3, 4, 5, 6, 7, 8, 9, 10], \"cluster\": [1, 1, 1, 1, 1, 1, 1, 1, 1, 1], \"Freq\": [24.103634539227222, 15.568372454025006, 15.040157583791197, 11.728239833207633, 10.922411806878442, 8.958102761148714, 6.185289885004511, 2.6289116026283796, 2.5968654907701496, 2.2680140433187517]}, \"tinfo\": {\"Category\": [\"Default\", \"Default\", \"Default\", \"Default\", \"Default\", \"Default\", \"Default\", \"Default\", \"Default\", \"Default\", \"Default\", \"Default\", \"Default\", \"Default\", \"Default\", \"Default\", \"Default\", \"Default\", \"Default\", \"Default\", \"Default\", \"Default\", \"Default\", \"Default\", \"Default\", \"Default\", \"Default\", \"Default\", \"Default\", \"Default\", \"Topic1\", \"Topic1\", \"Topic1\", \"Topic1\", \"Topic1\", \"Topic1\", \"Topic1\", \"Topic1\", \"Topic1\", \"Topic1\", \"Topic1\", \"Topic1\", \"Topic1\", \"Topic1\", \"Topic1\", \"Topic1\", \"Topic1\", \"Topic1\", \"Topic1\", \"Topic1\", \"Topic1\", \"Topic1\", \"Topic1\", \"Topic1\", \"Topic1\", \"Topic1\", \"Topic1\", \"Topic1\", \"Topic1\", \"Topic1\", \"Topic1\", \"Topic1\", \"Topic1\", \"Topic1\", \"Topic1\", \"Topic1\", \"Topic1\", \"Topic1\", \"Topic1\", \"Topic1\", \"Topic1\", \"Topic1\", \"Topic1\", \"Topic1\", \"Topic1\", \"Topic1\", \"Topic1\", \"Topic1\", \"Topic1\", \"Topic1\", \"Topic1\", \"Topic1\", \"Topic1\", \"Topic1\", \"Topic1\", \"Topic1\", \"Topic1\", \"Topic1\", \"Topic1\", \"Topic1\", \"Topic1\", \"Topic2\", \"Topic2\", \"Topic2\", \"Topic2\", \"Topic2\", \"Topic2\", \"Topic2\", \"Topic2\", \"Topic2\", \"Topic2\", \"Topic2\", \"Topic2\", \"Topic2\", \"Topic2\", \"Topic2\", \"Topic2\", \"Topic2\", \"Topic2\", \"Topic2\", \"Topic2\", \"Topic2\", \"Topic2\", \"Topic2\", \"Topic2\", \"Topic2\", \"Topic2\", \"Topic2\", \"Topic2\", \"Topic2\", \"Topic2\", \"Topic2\", \"Topic2\", \"Topic2\", \"Topic2\", \"Topic2\", \"Topic2\", \"Topic2\", \"Topic2\", \"Topic2\", \"Topic2\", \"Topic2\", \"Topic2\", \"Topic2\", \"Topic2\", \"Topic2\", \"Topic2\", \"Topic2\", \"Topic2\", \"Topic2\", \"Topic2\", \"Topic2\", \"Topic2\", \"Topic2\", \"Topic2\", \"Topic2\", \"Topic2\", \"Topic3\", \"Topic3\", \"Topic3\", \"Topic3\", \"Topic3\", \"Topic3\", \"Topic3\", \"Topic3\", \"Topic3\", \"Topic3\", \"Topic3\", \"Topic3\", \"Topic3\", \"Topic3\", \"Topic3\", \"Topic3\", \"Topic3\", \"Topic3\", \"Topic3\", \"Topic3\", \"Topic3\", \"Topic3\", \"Topic3\", \"Topic3\", \"Topic3\", \"Topic3\", \"Topic3\", \"Topic3\", \"Topic3\", \"Topic3\", \"Topic3\", \"Topic3\", \"Topic3\", \"Topic3\", \"Topic3\", \"Topic3\", \"Topic3\", \"Topic3\", \"Topic3\", \"Topic3\", \"Topic3\", \"Topic3\", \"Topic3\", \"Topic3\", \"Topic3\", \"Topic3\", \"Topic3\", \"Topic3\", \"Topic3\", \"Topic3\", \"Topic3\", \"Topic3\", \"Topic4\", \"Topic4\", \"Topic4\", \"Topic4\", \"Topic4\", \"Topic4\", \"Topic4\", \"Topic4\", \"Topic4\", \"Topic4\", \"Topic4\", \"Topic4\", \"Topic4\", \"Topic4\", \"Topic4\", \"Topic4\", \"Topic4\", \"Topic4\", \"Topic4\", \"Topic4\", \"Topic4\", \"Topic4\", \"Topic4\", \"Topic4\", \"Topic4\", \"Topic4\", \"Topic4\", \"Topic4\", \"Topic4\", \"Topic4\", \"Topic4\", \"Topic4\", \"Topic4\", \"Topic4\", \"Topic4\", \"Topic4\", \"Topic4\", \"Topic4\", \"Topic4\", \"Topic4\", \"Topic4\", \"Topic4\", \"Topic4\", \"Topic4\", \"Topic4\", \"Topic4\", \"Topic4\", \"Topic4\", \"Topic4\", \"Topic5\", \"Topic5\", \"Topic5\", \"Topic5\", \"Topic5\", \"Topic5\", \"Topic5\", \"Topic5\", \"Topic5\", \"Topic5\", \"Topic5\", \"Topic5\", \"Topic5\", \"Topic5\", \"Topic5\", \"Topic5\", \"Topic5\", \"Topic5\", \"Topic5\", \"Topic5\", \"Topic5\", \"Topic5\", \"Topic5\", \"Topic5\", \"Topic5\", \"Topic5\", \"Topic5\", \"Topic5\", \"Topic5\", \"Topic5\", \"Topic5\", \"Topic5\", \"Topic5\", \"Topic5\", \"Topic5\", \"Topic5\", \"Topic5\", \"Topic5\", \"Topic5\", \"Topic5\", \"Topic5\", \"Topic5\", \"Topic5\", \"Topic5\", \"Topic5\", \"Topic5\", \"Topic5\", \"Topic5\", \"Topic5\", \"Topic5\", \"Topic5\", \"Topic5\", \"Topic6\", \"Topic6\", \"Topic6\", \"Topic6\", \"Topic6\", \"Topic6\", \"Topic6\", \"Topic6\", \"Topic6\", \"Topic6\", \"Topic6\", \"Topic6\", \"Topic6\", \"Topic6\", \"Topic6\", \"Topic6\", \"Topic6\", \"Topic6\", \"Topic6\", \"Topic6\", \"Topic6\", \"Topic6\", \"Topic6\", \"Topic6\", \"Topic6\", \"Topic6\", \"Topic6\", \"Topic6\", \"Topic6\", \"Topic6\", \"Topic6\", \"Topic6\", \"Topic6\", \"Topic6\", \"Topic6\", \"Topic6\", \"Topic6\", \"Topic6\", \"Topic6\", \"Topic6\", \"Topic6\", \"Topic6\", \"Topic6\", \"Topic6\", \"Topic6\", \"Topic6\", \"Topic6\", \"Topic6\", \"Topic6\", \"Topic6\", \"Topic6\", \"Topic6\", \"Topic7\", \"Topic7\", \"Topic7\", \"Topic7\", \"Topic7\", \"Topic7\", \"Topic7\", \"Topic7\", \"Topic7\", \"Topic7\", \"Topic7\", \"Topic7\", \"Topic7\", \"Topic7\", \"Topic7\", \"Topic7\", \"Topic7\", \"Topic7\", \"Topic7\", \"Topic7\", \"Topic7\", \"Topic7\", \"Topic7\", \"Topic7\", \"Topic7\", \"Topic7\", \"Topic7\", \"Topic7\", \"Topic7\", \"Topic7\", \"Topic7\", \"Topic7\", \"Topic7\", \"Topic7\", \"Topic7\", \"Topic7\", \"Topic7\", \"Topic7\", \"Topic7\", \"Topic7\", \"Topic7\", \"Topic7\", \"Topic7\", \"Topic7\", \"Topic8\", \"Topic8\", \"Topic8\", \"Topic8\", \"Topic8\", \"Topic8\", \"Topic8\", \"Topic8\", \"Topic8\", \"Topic8\", \"Topic8\", \"Topic8\", \"Topic8\", \"Topic8\", \"Topic8\", \"Topic8\", \"Topic8\", \"Topic8\", \"Topic8\", \"Topic8\", \"Topic8\", \"Topic8\", \"Topic8\", \"Topic8\", \"Topic8\", \"Topic8\", \"Topic8\", \"Topic8\", \"Topic8\", \"Topic8\", \"Topic8\", \"Topic8\", \"Topic9\", \"Topic9\", \"Topic9\", \"Topic9\", \"Topic9\", \"Topic9\", \"Topic9\", \"Topic9\", \"Topic9\", \"Topic9\", \"Topic9\", \"Topic9\", \"Topic9\", \"Topic9\", \"Topic9\", \"Topic9\", \"Topic9\", \"Topic9\", \"Topic9\", \"Topic9\", \"Topic9\", \"Topic9\", \"Topic9\", \"Topic9\", \"Topic9\", \"Topic9\", \"Topic9\", \"Topic9\", \"Topic9\", \"Topic9\", \"Topic9\", \"Topic9\", \"Topic9\", \"Topic9\", \"Topic9\", \"Topic9\", \"Topic10\", \"Topic10\", \"Topic10\", \"Topic10\", \"Topic10\", \"Topic10\", \"Topic10\", \"Topic10\", \"Topic10\", \"Topic10\", \"Topic10\", \"Topic10\", \"Topic10\", \"Topic10\", \"Topic10\", \"Topic10\", \"Topic10\", \"Topic10\", \"Topic10\", \"Topic10\", \"Topic10\", \"Topic10\", \"Topic10\", \"Topic10\", \"Topic10\", \"Topic10\", \"Topic10\", \"Topic10\", \"Topic10\", \"Topic10\", \"Topic10\", \"Topic10\", \"Topic10\", \"Topic10\", \"Topic10\", \"Topic10\", \"Topic10\", \"Topic10\", \"Topic10\", \"Topic10\", \"Topic10\", \"Topic10\"], \"Freq\": [673.0, 594.0, 702.0, 542.0, 661.0, 496.0, 379.0, 438.0, 326.0, 382.0, 411.0, 311.0, 346.0, 277.0, 246.0, 222.0, 382.0, 247.0, 825.0, 249.0, 373.0, 231.0, 194.0, 196.0, 213.0, 174.0, 187.0, 180.0, 161.0, 158.0, 92.47494638229102, 67.55580260224932, 67.54420669878162, 51.84723957156768, 44.703889714935116, 62.0531451885402, 96.15339501579783, 52.12621891512494, 42.29682642782764, 91.0554279657174, 74.17660014000211, 208.477022150915, 80.9301958420403, 37.482867874924445, 215.41847490492978, 68.47631823289059, 92.03344143427037, 92.1837605587114, 75.4342113255572, 42.872246098026196, 40.24068038965841, 116.91286494914766, 52.36057282121646, 191.84999980561716, 119.94095107499838, 54.37369888090262, 87.40826845899883, 36.64593217954998, 317.37945558455135, 73.70616477852346, 147.64842125365627, 547.269066241052, 134.64320796569834, 90.99006784036808, 213.29989959990326, 82.88464458882898, 179.8733481226033, 260.21037618770185, 148.40936760892268, 202.7166975049915, 137.88128369803695, 272.821087626392, 198.14786166343424, 190.7983851547915, 164.85860750859314, 202.4149415452029, 116.25750544669779, 136.92493649617003, 132.05066683638915, 210.05105360511308, 100.40427045085815, 207.1192013696047, 184.7236080520566, 120.5536594728582, 116.89456053739441, 148.25748424962327, 152.10758784145995, 165.0258612143887, 126.02463724024258, 133.98541306217822, 125.52074723563358, 120.99932806191575, 61.338159295163166, 45.28659574653388, 95.8494122838407, 35.329843118056026, 43.93786371852084, 49.709027666175345, 34.603885902219346, 90.32594318199104, 219.03573182723156, 56.84029625744221, 161.04972643994, 47.6817463631455, 54.131502764332886, 65.62124958040857, 436.89366314668325, 43.06321771153591, 48.37082185081516, 46.075218211870755, 165.91164733796566, 95.74251707523017, 78.75911449296628, 32.45097044967056, 49.08753416366056, 38.10140795422081, 34.20999383741124, 34.421017249614074, 45.26049981622293, 66.55957165609803, 51.86261630565039, 255.22057823974413, 127.61437835079197, 86.00697271516407, 420.6540272711874, 264.6149779303997, 155.28190506745656, 290.2313367573484, 247.96218942562777, 287.7149364862967, 119.66119727372889, 217.9336171241685, 146.50169193372096, 242.2371522346998, 149.13338557483178, 186.3723735852747, 134.4491437249659, 166.06033202862167, 163.358769867516, 124.75623892885626, 149.54773992438956, 123.17525751037518, 120.45818114401384, 101.96693192904294, 105.02415000779965, 103.01580218311088, 100.56686567133927, 49.12056055637023, 82.34548488468006, 73.85154349096014, 97.26517803835416, 38.1348733395186, 42.369366895533915, 107.30771939517018, 65.72557172511267, 44.25483544325122, 114.74463969371077, 58.122982033357275, 69.0787292931096, 80.85749222926113, 39.02486598134442, 47.38534856691637, 207.20133939532425, 101.90917847318659, 41.28473103703962, 39.48717311495875, 45.11205567302084, 187.14128856913072, 35.876498485050625, 139.80867265697228, 248.7041203572261, 63.10763522879872, 47.08571966789538, 90.471638066801, 36.06085021680936, 54.40294226671955, 128.63080529666377, 149.85265732431174, 184.39706718210425, 187.77009961807306, 129.78779269451658, 67.17909778997871, 188.57290692381116, 231.41536680977967, 81.96024622005409, 182.36444390763043, 144.12269312481575, 158.9061086960307, 103.60400620101146, 127.96575618807239, 112.25416835063042, 80.62274194597717, 128.72993520568204, 133.96512120272587, 112.38304023016964, 113.29414156495328, 102.81019280170185, 84.28688571271357, 85.96370151304946, 54.080886909336286, 34.35499193807856, 42.19270472555847, 39.906330911879174, 89.90998377729902, 53.23138593692509, 47.79411913504036, 46.878283932208525, 90.52975981628967, 46.133096818685374, 53.476339980208785, 119.91451974249638, 24.648874208355785, 113.2943458057394, 108.25437536012029, 92.21208876408173, 87.53214695857503, 28.318938515159708, 36.44865715196635, 251.45794680754673, 34.95258501104127, 220.67854595305832, 36.828600975250396, 40.21044319026025, 24.61762923988864, 54.676025468681836, 95.51891469743673, 158.7602756878817, 52.771496576973256, 40.7247228500553, 116.58166829403505, 341.54091364951717, 182.4742976902629, 104.91934595587472, 96.59500501549138, 122.15760698535549, 184.9948651789791, 162.65323234208202, 151.56047231552827, 138.30198448955093, 101.42146547898952, 142.23642460071895, 125.42956249641544, 92.60864360027342, 93.73182013771812, 100.4799352826288, 96.21778605508827, 86.42782552364599, 84.54802100905005, 96.725813210268, 78.84275067010894, 145.65053830051363, 39.30073232828668, 58.884486397440426, 40.640309330154466, 54.940060437115996, 176.3917792143697, 86.32915945360956, 47.19860079788291, 89.97076829025215, 29.667429725314932, 29.15554947670542, 29.732953130383915, 60.05595462712561, 81.53679965869173, 25.609291167105045, 51.89569418137031, 46.37588473476262, 40.406005553896115, 20.342855134372133, 70.99181866331972, 112.4343265527106, 50.1540010748195, 43.68592317025867, 125.95692575362087, 67.21883919694544, 24.275588178722007, 22.569053491236552, 259.04816447132055, 76.84605367760453, 186.23473095357505, 111.47980305328687, 102.36000308190391, 126.08190242187409, 148.5762736782836, 101.01264468499302, 71.14935191729157, 68.06744552882148, 123.39963186544102, 89.21408717411758, 87.2934933609533, 96.07703603257485, 101.05458188435276, 88.75493472139911, 102.763237322192, 92.55762265621895, 86.46275439655435, 77.99566836479066, 75.92535630359806, 77.67704498552494, 71.61583876445172, 74.36237213557447, 50.64383378226561, 39.224434478882145, 46.41498428002766, 47.04490314731958, 181.51458670268883, 38.90386700044629, 52.3170859197979, 42.47350146708851, 69.1938331859365, 40.32349106491341, 52.72290292129874, 42.421776416068454, 118.85005974555709, 91.50911762414403, 53.04335436953012, 78.29174900330119, 209.1147721196, 154.7010865709362, 197.193719925266, 95.19057518926337, 39.4861552691409, 170.3553825561477, 32.18698794956127, 40.0626171984441, 28.5911525723093, 31.72751737612852, 49.92275365219623, 30.693868792265594, 32.46992142459226, 48.63384751888933, 80.58091684874307, 118.65798933360452, 144.1689593598283, 49.96126694155155, 86.98715080422117, 96.4910937342327, 99.33511820367848, 71.57662925973422, 100.84737650343995, 81.51287886729152, 72.33306318126553, 80.74374067332312, 67.11476676093106, 88.5796977495347, 81.43459818584608, 80.88359941166819, 69.04466917225636, 59.2423744839631, 62.42309773435415, 65.60858025299984, 61.80488597052074, 116.31419778736725, 81.32341451755653, 76.19576450246414, 51.542020523830274, 34.45088230961096, 140.54191902773874, 46.18526305214441, 91.09307289971474, 57.91959094138633, 33.186493120775935, 130.62928764638966, 39.59777287714751, 167.1092458704312, 62.49292467976327, 60.369773755195354, 283.312455183531, 55.96890600838293, 73.71382050615028, 36.20368331215862, 116.65559271484857, 72.01211614737811, 85.01109375985543, 47.28933947531783, 72.0151447710152, 38.95371848536425, 51.75811596346489, 47.72667667642435, 46.37689518003065, 46.69466927638124, 185.13067447511773, 76.95698165188053, 167.49081511846936, 71.19880342157947, 93.62046532970653, 102.2939099506937, 57.87518676163914, 83.39877731788432, 84.37703952002447, 85.08574996275286, 62.23264857942848, 61.7917932002183, 77.05010219553897, 61.4516371881874, 64.91024505170031, 149.0812527318015, 127.89057231845022, 168.22881382428582, 138.05274064346798, 90.48284914628854, 96.90803228125698, 100.94028723206044, 474.2579217742644, 192.71449267609285, 147.21989256170116, 157.47823829565618, 378.2686751150879, 110.0804949709038, 56.86271034806875, 50.065433115402676, 285.33485585278004, 66.53137690327853, 44.57579445587727, 21.1826700488328, 16.73585198039242, 75.45949438501543, 11.018389818396683, 30.349287042494808, 18.41073341214227, 8.068237183148696, 21.787957216435327, 57.059149758925265, 9.7421625359951, 21.485192507005536, 34.30416593941091, 14.84770058236835, 10.462767753306327, 140.9783234128492, 146.45754490700003, 179.11117454083922, 204.24048930815928, 141.98876897057679, 274.9901301191654, 298.1123124644798, 391.05627252309694, 65.22005787992495, 131.2115715525934, 167.62307442977706, 160.05090827132662, 65.35316425930645, 58.37108443089451, 211.6666311088029, 40.01990925520524, 38.61344620001641, 31.258876862921376, 9.7519282653527, 30.26752469004339, 19.568654686781343, 21.4532901247766, 21.221216526107263, 11.782338060482124, 15.216858589963403, 13.251986669039292, 22.669648944922717, 5.506564401382804, 5.273683591858764, 5.394956346940721, 71.69830308001109, 10.229932146219747, 26.28046249063843, 15.029471403606204, 14.418946642614783, 12.72010547067102, 325.30641718636616, 310.3930378977264, 377.47175776903066, 121.75623463112395, 213.2638003397489, 140.44701189071708, 97.1226609412406, 340.2633875414527, 105.87815950445098, 212.4187831434817, 45.66595629076003, 264.46092528092856, 48.9813532125726, 21.782960669128247, 14.66306143218736, 4.039108318869499, 10.920066188830221, 4.216757106203522, 1.483396741889696, 1.0310736469441553, 0.3703227909837964, 0.37031201443856665, 0.4537560566224839, 0.3703868868484839, 0.37031842802848275, 0.37179586636462264, 0.37031736242970503, 0.3764428631859626, 0.37031788122816756, 0.3703788821175274, 0.5380243091623774, 0.4302072915415951, 0.3752585646232083, 0.3910545210194643, 0.391330732431532, 0.3816116584751687, 0.37983972478359995, 0.38072924496987126, 0.3808068478324668, 0.388704395512426, 0.38251397492935396, 0.38116371792187176], \"Term\": [\"speed\", \"database\", \"tab\", \"format\", \"server\", \"role\", \"certain\", \"column\", \"task\", \"bad\", \"purpose\", \"except\", \"import\", \"connect\", \"default\", \"tr\", \"image\", \"month\", \"clean\", \"prevent\", \"push\", \"name\", \"specify\", \"private\", \"stop\", \"position\", \"selected\", \"call\", \"view\", \"whole\", \"sure\", \"given\", \"wrong\", \"generated\", \"javascript\", \"branch\", \"edit\", \"screen\", \"utf8\", \"install\", \"line\", \"struct\", \"dll\", \"bundle\", \"void\", \"live\", \"installed\", \"render\", \"main\", \"commit\", \"bin\", \"foo\", \"software\", \"build\", \"asp\", \"place\", \"development\", \"method\", \"program\", \"device\", \"directory\", \"figure\", \"tool\", \"page\", \"via\", \"item\", \"link\", \"width\", \"probably\", \"row\", \"command\", \"appears\", \"network\", \"api\", \"job\", \"term\", \"product\", \"ruby\", \"sound\", \"use\", \"make\", \"code\", \"wcf\", \"syntax\", \"pattern\", \"etc\", \"open\", \"git\", \"find\", \"wanted\", \"time\", \"static\", \"stream\", \"mysql\", \"const\", \"object\", \"gem_root\", \"model\", \"integer\", \"contact\", \"wait\", \"typeof\", \"previous\", \"consolewriteline\", \"delete\", \"boolean\", \"provided\", \"buffer\", \"border\", \"version\", \"state\", \"ca\", \"getting\", \"assign\", \"catch\", \"expression\", \"read\", \"able\", \"ienumerable\", \"menu\", \"boost\", \"int\", \"internal\", \"throw\", \"clean\", \"might\", \"execute\", \"obvious\", \"rest\", \"stored\", \"thread\", \"type\", \"number\", \"next\", \"project\", \"code\", \"variable\", \"general\", \"varchar\", \"callback\", \"git\", \"etc\", \"term\", \"load\", \"use\", \"format\", \"wcf\", \"convert\", \"attempt\", \"looked\", \"web\", \"small\", \"uri\", \"path\", \"right\", \"recently\", \"enabled\", \"avoid\", \"usr\", \"ii\", \"socket\", \"changed\", \"rendering\", \"session\", \"returned\", \"provide\", \"updated\", \"url\", \"sender\", \"mx\", \"service\", \"second\", \"shared\", \"requirement\", \"address\", \"anyway\", \"controller\", \"client\", \"asking\", \"webconfig\", \"since\", \"self\", \"http\", \"user\", \"port\", \"server\", \"param\", \"appears\", \"microsoft\", \"etc\", \"api\", \"across\", \"git\", \"figure\", \"data\", \"use\", \"wcf\", \"abstract\", \"next\", \"various\", \"layer\", \"framework\", \"fix\", \"json\", \"nil\", \"virtual\", \"registrynpmjsorg\", \"datetime\", \"cause\", \"pretty\", \"entry\", \"xmlns\", \"reason\", \"little\", \"insert\", \"customer\", \"title\", \"unfortunately\", \"push\", \"move\", \"seems\", \"match\", \"constructor\", \"id\", \"person\", \"index\", \"feel\", \"process\", \"tree\", \"module\", \"tab\", \"column\", \"date\", \"original\", \"known\", \"speed\", \"data\", \"varchar\", \"named\", \"number\", \"database\", \"role\", \"java\", \"load\", \"git\", \"wcf\", \"obvious\", \"wanted\", \"ref\", \"algorithm\", \"checkbox\", \"declaration\", \"perl\", \"eclipse\", \"part\", \"around\", \"express\", \"regex\", \"max\", \"validate\", \"either\", \"quite\", \"wondering\", \"conversion\", \"sequence\", \"machine\", \"remove\", \"li\", \"parameter\", \"full\", \"phone\", \"interested\", \"source\", \"obj\", \"last\", \"template\", \"valid\", \"stored\", \"vc\", \"general\", \"linux\", \"join\", \"load\", \"varchar\", \"excel\", \"date\", \"xaml\", \"wcf\", \"variable\", \"purpose\", \"rest\", \"code\", \"open\", \"figure\", \"use\", \"wanted\", \"testing\", \"something\", \"git\", \"resource\", \"text\", \"font\", \"username\", \"select\", \"params\", \"byte\", \"hidden\", \"ask\", \"style\", \"dialog\", \"dom\", \"window\", \"firefox\", \"click\", \"working\", \"seen\", \"ui\", \"control\", \"keep\", \"ever\", \"binding\", \"bind\", \"free\", \"box\", \"groupid\", \"visual\", \"disable\", \"handling\", \"hibernate\", \"drop\", \"schema\", \"input\", \"viewmodel\", \"param\", \"br\", \"join\", \"testing\", \"width\", \"oracle\", \"user\", \"java\", \"email\", \"project\", \"shell\", \"wcf\", \"wanted\", \"general\", \"varchar\", \"browser\", \"changing\", \"code\", \"git\", \"hello\", \"limit\", \"form\", \"img\", \"ul\", \"widget\", \"matter\", \"space\", \"bottom\", \"say\", \"color\", \"certificate\", \"cs\", \"href\", \"xml\", \"image\", \"written\", \"message\", \"due\", \"studio\", \"spring\", \"body\", \"icon\", \"system\", \"bound\", \"header\", \"left\", \"apps\", \"point\", \"html\", \"tmp\", \"testing\", \"back\", \"content\", \"schemasmicrosoftcom\", \"level\", \"email\", \"http\", \"param\", \"site\", \"table\", \"clean\", \"display\", \"join\", \"view\", \"transaction\", \"private\", \"order\", \"head\", \"logic\", \"2005\", \"speed\", \"connect\", \"stop\", \"name\", \"database\", \"db\", \"save\", \"configure\", \"server\", \"2008\", \"starting\", \"minute\", \"following\", \"push\", \"execution\", \"difference\", \"performance\", \"response\", \"abstract\", \"tab\", \"little\", \"seems\", \"data\", \"create\", \"instance\", \"basically\", \"grid\", \"specify\", \"default\", \"position\", \"import\", \"bad\", \"format\", \"export\", \"selected\", \"prevent\", \"month\", \"file\", \"help\", \"purpose\", \"worker\", \"parser\", \"chrome\", \"record\", \"error\", \"area\", \"note\", \"play\", \"easier\", \"deploy\", \"definition\", \"pattern\", \"world\", \"expression\", \"goal\", \"clean\", \"page\", \"named\", \"general\", \"figure\", \"force\", \"task\", \"except\", \"certain\", \"textbox\", \"tr\", \"whole\", \"environment\", \"role\", \"call\", \"column\", \"rail\", \"tab\", \"height\", \"html\", \"firstname\", \"removed\", \"data\", \"keep\", \"export\", \"bottom\", \"18\", \"xmlns\", \"map\", \"layer\", \"ul\", \"successfully\", \"say\", \"object\", \"integer\", \"failed\", \"otherwise\", \"assume\", \"id\", \"easily\", \"containing\", \"hour\", \"maybe\", \"deal\", \"quite\", \"test\", \"detail\", \"condition\"], \"Total\": [673.0, 594.0, 702.0, 542.0, 661.0, 496.0, 379.0, 438.0, 326.0, 382.0, 411.0, 311.0, 346.0, 277.0, 246.0, 222.0, 382.0, 247.0, 825.0, 249.0, 373.0, 231.0, 194.0, 196.0, 213.0, 174.0, 187.0, 180.0, 161.0, 158.0, 94.40437562899338, 69.0292371129016, 69.83090247172792, 54.30032803261843, 47.43553449218762, 66.0632521108005, 102.8952364502832, 56.836053098849575, 46.12657841908646, 101.24948021887681, 83.2831378551984, 235.32383795603778, 91.53384383322035, 42.527036161488155, 245.36934465179002, 79.1317055849253, 107.13356239763445, 107.77492179201762, 88.7430134106967, 50.45000333233459, 47.50443810787259, 141.02149553925852, 63.20019018354316, 235.5788670843984, 147.56148016712157, 67.04746425152562, 108.18686038967049, 45.504701122413984, 404.39550533087333, 94.52108934883339, 192.61509069671223, 890.5055984178674, 186.16167551928044, 119.61117695659185, 315.48706805983215, 107.70871648860587, 290.1426134996925, 465.71149059110127, 231.30015430567087, 357.950885108316, 215.2684771286648, 552.1362398898419, 359.97709172569216, 379.7578823236788, 315.5296990562531, 457.43128093980613, 182.87238037144692, 253.44473966453046, 238.52506153012845, 668.8168146678692, 144.1606093593237, 721.9606804730934, 731.7122007429497, 223.8650663970787, 220.85380306254558, 483.8284044842049, 537.0405466182985, 723.3629810398584, 341.38751810360293, 574.9928796428538, 394.1689358800466, 122.46983190269725, 63.55702488861619, 47.21351036762227, 102.25697870117676, 38.04438764345815, 47.808753801524375, 54.8124835607203, 38.435389688425325, 102.09364373851305, 259.12927088834624, 67.66225502871679, 195.73125310486802, 59.10777057046859, 68.04001329260451, 82.55197057591792, 561.7570413352742, 56.508976602888104, 63.8510718588123, 61.07051671150372, 220.64208394870792, 127.35523526469379, 105.17237965031175, 43.37295524507457, 66.12453901831145, 51.74833034441823, 46.774615236465294, 47.08494928170356, 61.961599296594, 92.3764754120101, 72.79760104561696, 370.65171216355867, 189.6674347395464, 125.87270844144489, 825.239407157103, 510.907371392137, 269.33917989708175, 605.9406949803539, 523.332916209597, 707.4698993794638, 218.84111422292676, 510.0773628129211, 300.8137876830372, 634.5749321794899, 388.1557491421742, 721.9606804730934, 387.99324406148656, 600.9601166794845, 607.1076958902661, 359.3020197930781, 723.3629810398584, 483.8284044842049, 457.43128093980613, 462.38710496858357, 668.8168146678692, 542.810816336187, 731.7122007429497, 50.58970706144254, 85.79799883872016, 77.09632678626774, 101.92490994494821, 40.133377422242575, 45.75854660919775, 116.70351233002515, 72.89168437008959, 50.04911578238741, 129.82189553025884, 66.09178479153584, 78.91342868016179, 94.05460905101066, 45.863510554385975, 55.73090958641658, 246.6306633787028, 123.8085200202559, 52.12451859808986, 50.924754265668426, 59.21083819499613, 246.18982906246367, 47.483720611626566, 185.18561698000764, 329.82198784281036, 83.77467251401856, 62.67351054028577, 121.72681452886238, 48.72378996588269, 75.89493225343132, 181.07487836035645, 231.1292736147896, 291.4936905701632, 323.85664394874567, 215.1792467620363, 97.94414750545575, 385.5052120948572, 542.4759735430812, 156.74932082874653, 661.828380314344, 442.9115258853822, 552.1362398898419, 258.34220471931815, 483.8284044842049, 379.7578823236788, 172.3693341745594, 723.3629810398584, 890.5055984178674, 559.7116908559572, 668.8168146678692, 731.7122007429497, 246.56191425037971, 634.5749321794899, 55.54678682645922, 35.82070792161854, 44.23847230617428, 42.158989669903576, 95.65802515143203, 57.34663671249107, 52.48693028274934, 52.93369348295906, 104.81911821663613, 53.83743211429075, 63.35101168112972, 150.26122363950623, 30.951020116762503, 142.61431936619877, 136.30569671272917, 124.62499333687889, 118.63873585439929, 38.95764915475504, 53.983815173183785, 373.39346062707784, 52.14553878455845, 333.20630459061294, 56.27035810974371, 66.0653866899189, 40.79364522484284, 90.80006494601339, 169.17495563835055, 281.7018577692006, 94.27429392484957, 74.02053647306612, 216.8136419408834, 702.6549985653656, 438.3130148217982, 220.44934620928595, 203.56033685989954, 299.1266081447007, 673.3934697018246, 559.7116908559572, 607.1076958902661, 532.1510345561818, 300.8137876830372, 594.7001361149108, 496.7922326343393, 340.52567776802334, 462.38710496858357, 723.3629810398584, 731.7122007429497, 605.9406949803539, 574.9928796428538, 101.16506489309467, 97.04508977615916, 181.3866562134931, 51.22685930114306, 82.0283337342415, 58.945666956944336, 80.69329106424968, 264.8853190698219, 132.96009103157763, 74.07782405589755, 143.77770783078248, 49.572861833479394, 55.373502480467415, 56.472385621558594, 114.22483357650276, 155.44957057981023, 50.82048824080224, 103.16954072750042, 92.87219646943431, 81.20039095507252, 41.92800756369447, 154.27047720566716, 248.30995795414657, 116.79380523812932, 102.06292796784585, 294.5245674815288, 157.95437428544562, 57.95099080801913, 58.880041692606376, 707.4698993794638, 212.88100943521673, 600.9601166794845, 363.59028955482626, 328.58100572925497, 462.38710496858357, 607.1076958902661, 370.56268563755975, 220.44934620928595, 224.3618106735559, 731.7122007429497, 387.99324406148656, 411.14960614448404, 523.332916209597, 721.9606804730934, 537.0405466182985, 890.5055984178674, 668.8168146678692, 574.9928796428538, 424.9366248374381, 426.3968139080874, 723.3629810398584, 301.84284507020413, 80.96034657032727, 58.32973370334617, 48.64257598995783, 59.05038036324932, 60.746930823001136, 242.6060378596551, 52.60306700756772, 71.9465885760555, 58.9277412033295, 96.98649218531824, 56.763149994906826, 74.57189749879947, 62.443605581240845, 175.7513572562535, 138.61845677908568, 80.44644540522941, 120.8121860076462, 337.5889452215016, 252.3608095714556, 322.90361243590354, 162.67716367222792, 68.9440622271909, 309.9094308676392, 61.7912489518815, 78.14338122458638, 56.14468092387922, 63.82809795657643, 100.85128809254046, 64.73377358648918, 72.7414834727311, 113.58173083444092, 204.98672216576085, 326.25384676700446, 442.9115258853822, 120.7041003953634, 328.58100572925497, 424.9366248374381, 465.71149059110127, 249.43639933338935, 542.4759735430812, 340.52567776802334, 280.85745382715857, 388.1557491421742, 241.18381580344746, 731.7122007429497, 574.9928796428538, 600.9601166794845, 607.1076958902661, 198.08113278321738, 342.18866351098916, 721.9606804730934, 723.3629810398584, 117.81114047639309, 82.76973288838784, 78.4746561304058, 53.63293729042378, 35.89717215737341, 149.06262626654444, 49.0203221974138, 98.31484592356452, 64.5501131199347, 37.180545299537656, 146.53897536754323, 46.22697089610993, 195.16073464028017, 77.88795747252578, 81.40726671160179, 382.4539820486365, 77.76004059699527, 104.303371165327, 52.19942615446337, 168.64487521320112, 104.3765138541279, 124.76149684909413, 71.76688177146465, 109.46490412632087, 59.889472081710615, 84.06529312747699, 77.85730111769283, 77.11103993376399, 86.35350617555629, 342.82380426885607, 148.156776523187, 424.9366248374381, 137.39795364841456, 245.4208874476054, 348.6160457957684, 118.02480567252134, 280.85745382715857, 385.5052120948572, 442.9115258853822, 172.87332713564246, 173.36061803115982, 825.239407157103, 197.3830425466347, 328.58100572925497, 161.46763184066208, 149.1310290237978, 196.8589419057869, 165.91492833954217, 117.4155026667134, 127.75115327296065, 141.29930094435085, 673.3934697018246, 277.6646967873806, 213.0052081414206, 231.92815204327374, 594.7001361149108, 186.40504931555174, 115.72864312012777, 103.82899254824443, 661.828380314344, 166.93820881551133, 163.41923282003253, 89.8191008205956, 75.62003325684788, 373.39346062707784, 55.530267151474625, 187.03212316765624, 143.47977316126983, 64.91832924173879, 246.56191425037971, 702.6549985653656, 136.30569671272917, 333.20630459061294, 559.7116908559572, 347.31897276449484, 218.7086799252527, 142.28297736836686, 148.85314829775396, 194.54162211200259, 246.55183971370118, 174.33608562914281, 346.72732457257274, 382.4773789875726, 542.810816336187, 91.96546548711459, 187.59963745265838, 249.06891658799148, 247.44824577559476, 105.47042176209274, 107.99486434255226, 411.14960614448404, 93.76313964943851, 137.19661499541286, 132.92616113604248, 42.93506384149004, 133.89798048884526, 88.77590458159233, 98.45463454700926, 133.15082992954297, 80.30424567470453, 118.16721509459968, 111.10102764449114, 220.85380306254558, 53.79766560227612, 51.74833034441823, 61.69686194900793, 825.239407157103, 119.61117695659185, 532.1510345561818, 600.9601166794845, 890.5055984178674, 366.86449800829143, 326.4976638170954, 311.58428294746545, 379.8561548096394, 122.94749884639768, 222.48040878793657, 158.4952074453303, 136.18575531003006, 496.7922326343393, 180.33655202870227, 438.3130148217982, 101.20683856772808, 702.6549985653656, 193.73257148867083, 342.82380426885607, 285.16808421421115, 110.95840821583145, 559.7116908559572, 252.3608095714556, 91.96546548711459, 64.5501131199347, 29.55158106241905, 30.951020116762503, 43.69371852495647, 35.82070792161854, 35.89717215737341, 36.27227186337064, 37.180545299537656, 38.04438764345815, 38.435389688425325, 38.816057874215694, 59.72669860236855, 59.866316796309, 40.79364522484284, 57.68438871261191, 66.34325011662068, 51.42636359731974, 49.84667557378727, 54.19363661867018, 56.472385621558594, 117.60473327942273, 82.67370244525604, 78.4914680722731], \"loglift\": [30.0, 29.0, 28.0, 27.0, 26.0, 25.0, 24.0, 23.0, 22.0, 21.0, 20.0, 19.0, 18.0, 17.0, 16.0, 15.0, 14.0, 13.0, 12.0, 11.0, 10.0, 9.0, 8.0, 7.0, 6.0, 5.0, 4.0, 3.0, 2.0, 1.0, 1.4022, 1.4012, 1.3895, 1.3766, 1.3635, 1.3602, 1.355, 1.3363, 1.3361, 1.3167, 1.307, 1.3017, 1.2997, 1.2966, 1.2926, 1.2782, 1.2709, 1.2665, 1.2603, 1.26, 1.2569, 1.2353, 1.2347, 1.2175, 1.2156, 1.2133, 1.2095, 1.2063, 1.1805, 1.1741, 1.1569, 0.936, 1.0988, 1.1493, 1.0314, 1.1608, 0.9447, 0.8407, 0.9791, 0.8542, 0.9773, 0.7178, 0.8258, 0.7345, 0.7736, 0.6075, 0.9698, 0.8071, 0.8315, 0.2646, 1.0611, 0.1741, 0.0463, 0.8039, 0.7866, 0.24, 0.1613, -0.055, 0.4263, -0.0338, 0.2785, 1.8478, 1.8244, 1.8183, 1.7952, 1.7859, 1.7755, 1.7622, 1.7549, 1.7375, 1.6918, 1.6856, 1.6649, 1.6451, 1.6312, 1.6304, 1.6085, 1.5882, 1.5823, 1.5782, 1.5748, 1.5746, 1.5707, 1.5698, 1.562, 1.5538, 1.5471, 1.5466, 1.5458, 1.5322, 1.5208, 1.4868, 1.4637, 1.4791, 1.1861, 1.202, 1.3092, 1.1238, 1.113, 0.9602, 1.2562, 1.0096, 1.1405, 0.8969, 0.9034, 0.5057, 0.8001, 0.5738, 0.5472, 0.8021, 0.2836, 0.4918, 0.5256, 0.3482, 0.0086, 0.1981, -0.1246, 1.865, 1.8534, 1.8514, 1.8477, 1.8434, 1.8175, 1.8105, 1.791, 1.7714, 1.771, 1.766, 1.7613, 1.7433, 1.733, 1.7322, 1.7202, 1.6998, 1.6613, 1.6401, 1.6225, 1.6202, 1.6141, 1.6134, 1.6122, 1.6112, 1.6085, 1.5977, 1.5935, 1.5615, 1.5525, 1.4611, 1.4365, 1.3494, 1.3889, 1.5174, 1.1794, 1.0425, 1.246, 0.6054, 0.7717, 0.649, 0.9807, 0.5645, 0.6757, 1.1346, 0.1683, 0.0002, 0.2889, 0.1189, -0.0681, 0.8211, -0.1046, 2.1164, 2.1014, 2.0958, 2.0883, 2.0812, 2.0687, 2.0495, 2.0217, 1.9966, 1.9887, 1.9737, 1.9176, 1.9155, 1.913, 1.9128, 1.842, 1.8391, 1.8242, 1.7504, 1.7478, 1.7431, 1.7311, 1.7193, 1.6467, 1.6381, 1.6359, 1.5716, 1.5697, 1.5629, 1.5457, 1.5227, 1.4218, 1.2668, 1.4007, 1.3977, 1.2476, 0.8512, 0.9074, 0.7554, 0.7957, 1.056, 0.7126, 0.7667, 0.8411, 0.5472, 0.1692, 0.1144, 0.1957, 0.2261, 2.1695, 2.0066, 1.9949, 1.9493, 1.8829, 1.8425, 1.8299, 1.8078, 1.7825, 1.7636, 1.7456, 1.701, 1.5729, 1.5729, 1.5715, 1.5691, 1.529, 1.5272, 1.5199, 1.5164, 1.4911, 1.4382, 1.422, 1.369, 1.3658, 1.3649, 1.36, 1.3442, 1.2554, 1.2097, 1.1954, 1.0428, 1.0322, 1.0481, 0.9149, 0.8067, 0.9146, 1.0835, 1.0216, 0.4344, 0.7444, 0.6647, 0.5193, 0.248, 0.4142, 0.055, 0.2367, 0.3197, 0.5191, 0.4887, -0.017, 0.7758, 2.3276, 2.2713, 2.1974, 2.1718, 2.157, 2.1225, 2.1109, 2.094, 2.0852, 2.075, 2.0707, 2.0659, 2.026, 2.0214, 1.9973, 1.9961, 1.9788, 1.9337, 1.9232, 1.9194, 1.8767, 1.8553, 1.8142, 1.7604, 1.7445, 1.7378, 1.7136, 1.7094, 1.6664, 1.606, 1.5644, 1.4789, 1.4012, 1.2902, 1.5305, 1.0836, 0.9301, 0.8675, 1.1642, 0.7301, 0.9829, 1.056, 0.8425, 1.1335, 0.3011, 0.4581, 0.4071, 0.2387, 1.2056, 0.7112, 0.0143, -0.0473, 2.7702, 2.7654, 2.7535, 2.7432, 2.7419, 2.7241, 2.7234, 2.7067, 2.6746, 2.6694, 2.6681, 2.6282, 2.6278, 2.5628, 2.484, 2.4829, 2.4542, 2.4359, 2.4171, 2.4144, 2.4118, 2.3994, 2.3659, 2.3643, 2.3529, 2.298, 2.2936, 2.2746, 2.1682, 2.1668, 2.128, 1.852, 2.1256, 1.8193, 1.5569, 2.0704, 1.5688, 1.2637, 1.1333, 1.7613, 1.7514, 0.4118, 1.6161, 1.1612, 3.5588, 3.4849, 3.4814, 3.4548, 3.378, 3.3623, 3.3022, 3.288, 3.2734, 3.2692, 3.2515, 3.1861, 3.1119, 2.928, 2.9092, 2.7973, 2.7187, 2.3395, 2.194, 2.1304, 2.0396, 2.0212, 1.8201, 1.5853, 1.5534, 1.2123, 1.1278, 1.0002, 0.8972, 0.8464, 0.4862, 0.5987, 3.6417, 3.6346, 3.5682, 3.4626, 3.4456, 3.4191, 3.4017, 3.323, 3.3072, 3.2934, 3.2549, 3.2152, 3.1722, 3.0356, 2.9869, 2.7995, 2.3831, 2.2034, 2.1686, 2.1639, 2.1387, 2.1271, 1.8144, 1.7316, 1.6012, 1.5246, 1.3744, 1.3716, 1.3672, 1.2141, 1.2077, 1.1919, 0.6428, -0.0377, -0.4724, 0.2891, 3.7826, 3.7824, 3.78, 3.7765, 3.744, 3.6654, 3.4482, 3.4078, 3.2537, 3.0619, 2.9905, 2.8091, 2.4112, 1.0302, 0.8185, 0.4731, -0.1506, -0.3055, -0.3408, -0.3506, -0.5933, -0.6395, -0.7811, -0.7855, -0.7878, -0.7942, -0.8229, -0.8295, -0.8561, -0.8658, -0.9234, -1.1493, -0.9024, -1.2076, -1.3468, -1.1172, -1.0907, -1.172, -1.2129, -1.926, -1.5896, -1.5413], \"logprob\": [30.0, 29.0, 28.0, 27.0, 26.0, 25.0, 24.0, 23.0, 22.0, 21.0, 20.0, 19.0, 18.0, 17.0, 16.0, 15.0, 14.0, 13.0, 12.0, 11.0, 10.0, 9.0, 8.0, 7.0, 6.0, 5.0, 4.0, 3.0, 2.0, 1.0, -5.8512, -6.1652, -6.1654, -6.4299, -6.5781, -6.2502, -5.8122, -6.4245, -6.6335, -5.8667, -6.0717, -5.0383, -5.9846, -6.7543, -5.0056, -6.1517, -5.856, -5.8544, -6.0549, -6.62, -6.6833, -5.6167, -6.42, -5.1215, -5.5912, -6.3823, -5.9076, -6.7769, -4.6181, -6.0781, -5.3833, -4.0732, -5.4755, -5.8674, -5.0155, -5.9607, -5.1859, -4.8167, -5.3782, -5.0664, -5.4518, -4.7694, -5.0892, -5.127, -5.2731, -5.0679, -5.6224, -5.4587, -5.495, -5.0308, -5.769, -5.0449, -5.1593, -5.5861, -5.6169, -5.3792, -5.3536, -5.2721, -5.5417, -5.4804, -5.5457, -5.1453, -5.8247, -6.128, -5.3783, -6.3763, -6.1583, -6.0349, -6.3971, -5.4376, -4.5518, -5.9008, -4.8593, -6.0765, -5.9496, -5.7572, -3.8614, -6.1784, -6.0622, -6.1108, -4.8296, -5.3794, -5.5747, -6.4613, -6.0475, -6.3008, -6.4085, -6.4024, -6.1286, -5.743, -5.9925, -4.3989, -5.092, -5.4866, -3.8992, -4.3628, -4.8958, -4.2704, -4.4278, -4.2791, -5.1564, -4.5569, -4.954, -4.4511, -4.9362, -4.7133, -5.0399, -4.8287, -4.8451, -5.1147, -4.9334, -5.1274, -5.1498, -5.3164, -5.2869, -5.3062, -5.3302, -6.0123, -5.4956, -5.6045, -5.3291, -6.2654, -6.1601, -5.2308, -5.7211, -6.1166, -5.1638, -5.844, -5.6713, -5.5139, -6.2423, -6.0482, -4.5728, -5.2825, -6.186, -6.2306, -6.0974, -4.6747, -6.3265, -4.9663, -4.3903, -5.7617, -6.0546, -5.4015, -6.3213, -5.9101, -5.0496, -4.8969, -4.6894, -4.6713, -5.0406, -5.6992, -4.6671, -4.4623, -5.5003, -4.7005, -4.9359, -4.8382, -5.266, -5.0548, -5.1858, -5.5168, -5.0488, -5.009, -5.1846, -5.1766, -5.2737, -5.4723, -5.4526, -5.6673, -6.1211, -5.9156, -5.9713, -5.159, -5.6832, -5.7909, -5.8103, -5.1521, -5.8263, -5.6786, -4.871, -6.4531, -4.9278, -4.9733, -5.1337, -5.1858, -6.3143, -6.0619, -4.1305, -6.1038, -4.2611, -6.0515, -5.9637, -6.4544, -5.6564, -5.0985, -4.5904, -5.6918, -5.951, -4.8992, -3.8243, -4.4512, -5.0046, -5.0873, -4.8525, -4.4375, -4.5662, -4.6368, -4.7284, -5.0385, -4.7003, -4.8261, -5.1294, -5.1174, -5.0479, -5.0912, -5.1985, -5.2205, -5.0148, -5.2192, -4.6054, -5.9154, -5.5111, -5.8819, -5.5804, -4.4139, -5.1285, -5.7323, -5.0871, -6.1966, -6.214, -6.1944, -5.4914, -5.1856, -6.3437, -5.6374, -5.7499, -5.8877, -6.5739, -5.3241, -4.8643, -5.6715, -5.8096, -4.7507, -5.3787, -6.3972, -6.4701, -4.0296, -5.2448, -4.3596, -4.8728, -4.9581, -4.7497, -4.5855, -4.9714, -5.3219, -5.3661, -4.7712, -5.0956, -5.1174, -5.0215, -4.971, -5.1008, -4.9542, -5.0588, -5.1269, -5.23, -5.2569, -5.2341, -5.3153, -5.0794, -5.4636, -5.7191, -5.5508, -5.5373, -4.187, -5.7273, -5.4311, -5.6395, -5.1515, -5.6914, -5.4233, -5.6407, -4.6105, -4.8719, -5.4173, -5.0279, -4.0455, -4.3469, -4.1042, -4.8325, -5.7124, -4.2505, -5.9168, -5.6979, -6.0353, -5.9312, -5.4779, -5.9643, -5.9081, -5.5041, -4.9991, -4.6121, -4.4174, -5.4771, -4.9226, -4.8189, -4.7899, -5.1176, -4.7748, -4.9876, -5.1071, -4.9971, -5.182, -4.9045, -4.9886, -4.9954, -5.1536, -5.3067, -5.2544, -5.2047, -5.2644, -4.2617, -4.6196, -4.6847, -5.0756, -5.4785, -4.0725, -5.1853, -4.5061, -4.9589, -5.5158, -4.1456, -5.3392, -3.8993, -4.8829, -4.9175, -3.3714, -4.9932, -4.7178, -5.4288, -4.2588, -4.7412, -4.5752, -5.1617, -4.7411, -5.3556, -5.0714, -5.1525, -5.1812, -5.1744, -3.7969, -4.6747, -3.8971, -4.7525, -4.4787, -4.3901, -4.9597, -4.5944, -4.5827, -4.5743, -4.8871, -4.8942, -4.6735, -4.8997, -4.845, -3.1579, -3.3112, -3.0371, -3.2347, -3.6572, -3.5886, -3.5479, -2.0006, -2.9012, -3.1705, -3.1031, -2.2268, -3.4612, -4.1217, -4.2491, -2.5087, -3.9647, -4.3652, -5.1092, -5.3448, -3.8388, -5.7628, -4.7496, -5.2495, -6.0744, -5.081, -4.1183, -5.8859, -5.095, -4.6271, -5.4645, -5.8146, -3.2015, -3.1634, -2.9621, -2.8308, -3.1944, -2.5334, -2.4526, -2.1813, -3.9724, -3.2733, -3.0284, -3.0746, -3.9703, -4.0833, -2.7951, -4.4607, -4.4965, -4.7078, -5.8727, -4.74, -5.1762, -5.0842, -5.0951, -5.6835, -5.4277, -5.566, -5.0291, -6.4442, -6.4874, -6.4647, -3.8777, -5.8248, -4.8813, -5.4401, -5.4816, -5.6069, -2.23, -2.2769, -2.0812, -3.2127, -2.6522, -3.0699, -3.4387, -2.185, -3.3524, -2.6562, -4.1934, -2.437, -4.1233, -4.9336, -5.3294, -6.6187, -5.6241, -6.5757, -7.6204, -7.9841, -9.0081, -9.0081, -8.8049, -9.0079, -9.0081, -9.0041, -9.0081, -8.9917, -9.0081, -9.0079, -8.6346, -8.8582, -8.9949, -8.9536, -8.9529, -8.9781, -8.9827, -8.9804, -8.9802, -8.9597, -8.9757, -8.9792]}, \"token.table\": {\"Topic\": [1, 2, 3, 4, 7, 1, 2, 3, 4, 8, 1, 2, 3, 4, 8, 1, 2, 3, 4, 1, 2, 3, 4, 5, 6, 8, 1, 2, 3, 4, 5, 6, 1, 3, 4, 1, 2, 3, 4, 5, 1, 3, 1, 2, 3, 4, 5, 6, 7, 1, 2, 3, 4, 5, 6, 7, 1, 2, 3, 4, 5, 7, 1, 2, 3, 5, 9, 2, 3, 4, 5, 1, 3, 4, 6, 1, 2, 3, 4, 5, 6, 7, 1, 2, 3, 4, 2, 3, 5, 1, 2, 3, 4, 5, 6, 1, 3, 1, 3, 1, 2, 3, 4, 6, 7, 1, 2, 3, 4, 5, 7, 9, 9, 1, 3, 5, 1, 2, 3, 4, 5, 6, 1, 2, 3, 4, 6, 2, 3, 4, 5, 6, 7, 2, 3, 4, 5, 6, 2, 3, 4, 5, 1, 2, 5, 6, 7, 10, 1, 3, 4, 6, 7, 2, 3, 4, 5, 6, 7, 1, 2, 3, 4, 5, 6, 7, 1, 2, 4, 1, 3, 5, 6, 7, 1, 2, 3, 4, 1, 2, 3, 4, 5, 6, 1, 2, 6, 1, 3, 4, 6, 7, 1, 2, 3, 4, 1, 3, 4, 10, 1, 2, 3, 4, 5, 6, 7, 9, 2, 4, 5, 3, 4, 7, 10, 3, 6, 7, 1, 3, 1, 2, 3, 4, 5, 6, 7, 2, 3, 4, 5, 6, 7, 1, 2, 3, 4, 5, 6, 7, 9, 1, 2, 3, 4, 5, 6, 7, 9, 1, 3, 4, 6, 7, 1, 2, 3, 4, 6, 8, 1, 2, 3, 4, 5, 6, 7, 2, 4, 6, 7, 2, 3, 4, 5, 7, 10, 1, 2, 3, 4, 5, 6, 9, 1, 3, 4, 1, 3, 4, 5, 9, 1, 3, 4, 6, 8, 1, 3, 4, 8, 2, 3, 4, 5, 2, 3, 4, 5, 1, 2, 3, 4, 7, 1, 2, 3, 4, 5, 1, 2, 3, 4, 5, 7, 9, 1, 2, 3, 4, 5, 6, 7, 1, 2, 3, 4, 5, 6, 7, 1, 3, 4, 5, 6, 1, 2, 3, 4, 5, 6, 7, 3, 1, 2, 3, 4, 5, 6, 7, 8, 9, 1, 3, 5, 6, 7, 1, 3, 4, 6, 1, 2, 3, 4, 5, 6, 7, 8, 10, 1, 2, 3, 4, 5, 8, 1, 2, 3, 4, 5, 6, 4, 5, 1, 3, 4, 8, 1, 2, 3, 4, 5, 7, 2, 4, 5, 1, 2, 3, 4, 5, 9, 1, 2, 3, 4, 5, 6, 7, 9, 2, 3, 4, 5, 6, 1, 2, 3, 4, 9, 1, 2, 3, 4, 5, 6, 1, 3, 4, 6, 1, 2, 3, 6, 7, 1, 3, 6, 1, 2, 3, 4, 5, 6, 7, 8, 1, 3, 4, 9, 1, 2, 3, 4, 6, 1, 2, 3, 4, 5, 6, 7, 1, 2, 3, 3, 4, 5, 6, 1, 2, 3, 4, 5, 6, 1, 4, 7, 1, 3, 4, 5, 7, 9, 1, 2, 3, 4, 5, 6, 1, 3, 4, 5, 1, 2, 1, 2, 3, 4, 5, 1, 2, 3, 4, 5, 6, 7, 1, 3, 4, 5, 1, 2, 3, 4, 2, 4, 10, 1, 2, 3, 4, 5, 6, 9, 1, 2, 3, 4, 5, 6, 7, 1, 2, 3, 4, 5, 6, 1, 2, 3, 4, 5, 6, 7, 9, 10, 1, 2, 3, 4, 5, 6, 1, 2, 3, 4, 5, 8, 1, 2, 3, 4, 9, 10, 2, 4, 5, 6, 7, 2, 3, 4, 7, 9, 1, 2, 3, 4, 5, 1, 2, 3, 4, 5, 6, 1, 2, 3, 4, 5, 6, 7, 9, 1, 2, 3, 9, 1, 2, 3, 4, 5, 6, 7, 1, 2, 3, 4, 6, 1, 2, 3, 4, 5, 6, 7, 10, 3, 4, 1, 3, 6, 8, 1, 2, 4, 6, 1, 3, 4, 1, 2, 3, 4, 5, 6, 7, 9, 1, 7, 1, 2, 3, 4, 5, 7, 9, 1, 4, 1, 2, 3, 4, 5, 6, 1, 2, 3, 4, 5, 6, 7, 2, 3, 4, 5, 1, 2, 3, 4, 5, 6, 7, 9, 1, 3, 1, 2, 3, 4, 5, 6, 1, 2, 3, 4, 5, 6, 7, 9, 1, 1, 2, 3, 4, 5, 9, 3, 9, 3, 4, 6, 7, 1, 2, 3, 6, 7, 1, 3, 4, 8, 1, 2, 3, 4, 5, 7, 1, 2, 3, 4, 7, 10, 7, 1, 2, 3, 5, 7, 9, 1, 2, 3, 5, 6, 7, 2, 3, 6, 7, 1, 3, 4, 5, 3, 6, 7, 1, 3, 4, 5, 6, 7, 10, 1, 2, 3, 4, 5, 6, 7, 1, 3, 7, 1, 2, 3, 4, 5, 2, 3, 4, 1, 3, 1, 3, 4, 6, 7, 3, 7, 1, 2, 3, 4, 5, 9, 1, 2, 3, 4, 5, 6, 7, 1, 2, 3, 4, 5, 6, 7, 1, 2, 3, 4, 5, 7, 1, 3, 1, 3, 4, 1, 2, 3, 4, 5, 6, 8, 9, 1, 2, 3, 4, 5, 7, 2, 3, 4, 2, 3, 4, 5, 1, 2, 3, 4, 6, 1, 3, 6, 1, 2, 3, 4, 5, 6, 7, 1, 3, 1, 2, 3, 4, 5, 1, 2, 3, 4, 5, 6, 7, 1, 2, 4, 5, 3, 4, 5, 6, 7, 10, 1, 2, 3, 4, 5, 6, 1, 2, 3, 4, 5, 6, 4, 1, 2, 3, 4, 6, 7, 1, 2, 3, 4, 5, 6, 7, 1, 2, 3, 4, 5, 7, 7, 1, 2, 3, 4, 1, 2, 3, 4, 5, 6, 1, 2, 3, 4, 5, 6, 7, 9, 1, 4, 5, 8, 1, 2, 3, 1, 2, 3, 4, 5, 6, 7, 9, 2, 3, 4, 8, 1, 3, 1, 2, 3, 4, 5, 6, 1, 2, 3, 6, 7, 1, 2, 3, 4, 1, 2, 3, 4, 1, 2, 3, 4, 4, 7, 1, 2, 3, 4, 5, 6, 1, 2, 4, 5, 1, 2, 3, 4, 1, 3, 7, 1, 3, 4, 1, 2, 3, 4, 5, 6, 1, 2, 3, 4, 5, 6, 7, 9, 1, 2, 3, 4, 6, 8, 2, 3, 4, 1, 2, 3, 4, 5, 6, 1, 2, 3, 4, 5, 9, 1, 3, 4, 1, 3, 4, 6, 2, 4, 1, 3, 4, 8, 1, 2, 3, 4, 5, 6, 7, 9, 1, 2, 3, 4, 5, 6, 1, 2, 3, 4, 5, 6, 7, 3, 4, 1, 2, 3, 4, 5, 6, 7, 9, 1, 2, 3, 4, 5, 6, 1, 2, 3, 4, 5, 6, 7, 2, 4, 1, 2, 3, 4, 5, 6, 7, 9, 1, 2, 3, 4, 5, 6, 7, 1, 2, 3, 4, 5, 6, 7, 1, 4, 8, 1, 2, 3, 4, 5, 6, 7, 1, 2, 3, 4, 5, 6, 10, 1, 2, 3, 4, 9, 1, 2, 3, 4, 5, 6, 7, 1, 2, 3, 4, 5, 1, 6, 7, 1, 2, 3, 4, 6, 7, 9, 1, 3, 4, 5, 1, 3, 4, 1, 3, 4, 5, 6, 7, 9, 1, 2, 3, 4, 5, 7, 8, 1, 5, 1, 2, 3, 4, 1, 2, 3, 4, 5, 8, 1, 2, 3, 4, 6, 1, 2, 3, 4, 5, 6, 7, 9, 1, 2, 3, 4, 5, 6, 7, 1, 2, 3, 4, 5, 6, 7, 1, 3, 9, 1, 2, 3, 4, 1, 2, 3, 4, 5, 6, 9, 1, 2, 3, 4, 6, 1, 2, 4, 6, 8, 1, 2, 3, 4, 5, 6, 1, 2, 3, 4, 1, 2, 3, 4, 5, 6, 1, 2, 3, 4, 5, 6, 1, 2, 3, 4, 5, 6, 7, 9, 1, 2, 3, 1, 2, 3, 4, 5, 6, 7, 1, 2, 3, 4, 5, 9, 1, 2, 3, 4, 5, 7, 8, 1, 2, 3, 4, 5, 7, 1, 2, 4, 5, 6, 10, 1, 2, 3, 4, 1, 3, 4, 5, 6, 1, 3, 1, 2, 3, 4, 9, 3, 5, 1, 3, 4, 5, 6, 7, 2, 3, 4, 1, 2, 3, 4, 5, 6, 7, 1, 2, 3, 4, 5, 6, 10, 1, 3, 4, 1, 2, 3, 4, 5, 1, 2, 3, 4, 5, 6, 1, 2, 3, 4, 5, 6, 7, 1, 2, 3, 4, 6, 8, 1, 2, 3, 4, 5, 6, 7, 9, 1, 3, 4, 7, 1, 3, 4, 3, 4, 5, 6, 7, 8, 10, 1, 2, 3, 4, 5, 6, 7, 1, 2, 3, 4, 5, 6, 1, 3, 4, 8, 1, 3, 4, 7, 1, 3, 4, 6, 7, 1, 3, 4, 5, 6, 7, 9, 1, 3, 1, 3, 4, 1, 2, 3, 4, 5, 6, 7, 8, 1, 2, 3, 4, 5, 6, 7, 2, 5, 6, 1, 2, 3, 4, 6, 9, 1, 2, 3, 4, 5, 6, 1, 3, 4, 5, 6, 2, 3, 4, 5, 1, 2, 3, 4, 5, 6, 8, 1, 2, 3, 4, 1, 3, 4, 5, 1, 3, 4, 1, 2, 3, 4, 5, 6, 7, 1, 2, 3, 4, 5, 6, 7, 1, 2, 3, 4, 5, 6, 7, 1, 3, 1, 3, 1, 2, 3, 4, 1, 2, 3, 4, 5, 6, 7, 9, 1, 2, 3, 4, 5, 6, 7, 1, 2, 3, 4, 5, 6, 7, 4, 5, 7, 1, 3, 4, 9, 1, 3, 4, 8, 1, 2, 3, 5, 7, 1, 2, 3, 4, 5, 7, 8, 1, 2, 3, 4, 5, 6, 2, 1, 2, 3, 4, 6, 8, 1, 2, 3, 4, 5, 6, 7, 2, 4, 1, 2, 3, 4, 6, 8, 1, 2, 3, 4, 5, 6, 7, 3, 4, 6, 1, 2, 3, 4, 6, 7, 1, 3, 1, 2, 3, 4, 5, 6, 7, 1, 3, 4, 5, 7, 1, 2, 3, 4, 5, 6, 7, 8, 10, 1, 2, 3, 4, 5, 6, 7, 10, 1, 2, 3, 4, 5, 6, 1, 2, 3, 4, 5, 6, 7, 1, 2, 3, 4, 5, 6, 1, 2, 3, 4, 5, 6, 7, 3, 4, 6, 10, 1, 2, 3, 4, 5, 6, 1, 2, 3, 4, 5, 1, 2, 3, 4, 5, 6, 7, 1, 3, 4, 1, 2, 3, 4, 5, 6, 7, 1, 2, 3, 4, 5, 6, 7, 8, 7, 10, 3, 4, 8, 1, 3, 4, 6, 1, 2, 3, 4, 5, 6, 7, 1, 2, 3, 4, 5, 1, 2, 3, 4, 5, 6, 7, 1, 2, 3, 4, 5, 1, 3, 4, 7, 3, 4, 7, 1, 2, 3, 4, 5, 7, 1, 2, 3, 4, 5, 6, 7, 8, 1, 2, 3, 4, 5, 6, 7, 6, 7, 3, 4, 1, 2, 4, 1, 2, 3, 4, 5, 7, 2, 3, 4, 5, 1, 2, 3, 4, 5, 6, 7, 9, 1, 2, 3, 4, 5, 6, 7, 4, 1, 2, 3, 4, 5, 6, 7, 9, 2, 4, 5, 1, 2, 3, 4, 5, 6, 7, 1, 8, 1, 2, 3, 4, 6, 7, 3, 4, 1, 2, 3, 4, 6, 7, 1, 2, 3, 4, 6, 2, 3, 4, 5, 6, 7, 1, 2, 3, 4, 5, 6, 7, 1, 2, 3, 4, 5, 6, 7, 8, 9, 1, 3, 1, 2, 3, 4, 5, 6, 7, 6, 10, 6, 7, 1, 2, 3, 4, 5, 6, 7, 1, 2, 3, 4, 6, 1, 2, 3, 4, 5, 6, 7, 1, 2, 3, 4, 6, 7, 9, 1, 2, 3, 4, 6, 7, 1, 2, 3, 4, 6, 9, 1, 6, 7, 1, 3, 1, 2, 3, 4, 5, 7, 1, 3, 4, 7, 1, 3, 4], \"Freq\": [0.4399087809393789, 0.13535654798134736, 0.03383913699533684, 0.3045522329580316, 0.03383913699533684, 0.14862069281057955, 0.007077175848122836, 0.014154351696245671, 0.10615763772184253, 0.7147947606604064, 0.46124850953142266, 0.02396096153409988, 0.029951201917624848, 0.08386336536934957, 0.40134610569617296, 0.06371462740782331, 0.7220991106219975, 0.042476418271882206, 0.12742925481564663, 0.23523503285710995, 0.17034260999997616, 0.3406852199999523, 0.08517130499998808, 0.03650198785713775, 0.03650198785713775, 0.08922708142855895, 0.06381645582537458, 0.17404487952374886, 0.4699211747141219, 0.058014959841249616, 0.017404487952374887, 0.20885385542849863, 0.16419083994906286, 0.738858779770783, 0.08209541997453143, 0.061826930284050355, 0.04121795352270023, 0.04121795352270023, 0.030913465142025177, 0.8140545820733297, 0.2635222063736116, 0.7115099572087513, 0.5029520357320855, 0.036865594242142384, 0.2949247539371391, 0.03423233751056079, 0.013166283657907996, 0.09216398560535596, 0.026332567315815993, 0.49444318317969294, 0.0561455629251666, 0.2879724033903706, 0.04346753258722575, 0.012678030337940845, 0.09417965393898914, 0.009055735955672032, 0.11671480513984409, 0.025936623364409796, 0.14265142850425389, 0.03890493504661469, 0.05187324672881959, 0.5965423373814254, 0.045057271101345664, 0.59700884209283, 0.045057271101345664, 0.07885022442735491, 0.22528635550672832, 0.22273790109314445, 0.022651311975574014, 0.08683002923970039, 0.6644384846168377, 0.055596798669217753, 0.1806895956749577, 0.027798399334608877, 0.7227583826998308, 0.13722423947413678, 0.010291817960560258, 0.6312315015810291, 0.034306059868534196, 0.006861211973706839, 0.16809969335581754, 0.006861211973706839, 0.8132203598397992, 0.1287598903079682, 0.04743785432398829, 0.006776836331998327, 0.7377869416364917, 0.20750257733526328, 0.023055841926140366, 0.2672621409872081, 0.15033495430530455, 0.2839660247989086, 0.10022330287020303, 0.13363107049360404, 0.05011165143510152, 0.023310566995385574, 0.9557332468108085, 0.10591331467411766, 0.8775674644426892, 0.18923134813587536, 0.06550315897011069, 0.07278128774456745, 0.021834386323370234, 0.13100631794022138, 0.5167471429864289, 0.018301735957638017, 0.07320694383055207, 0.01045813483293601, 0.005229067416468005, 0.02091626966587202, 0.08889414607995608, 0.7791310450537327, 0.9909829173377132, 0.8420265893718901, 0.06315199420289176, 0.06315199420289176, 0.04351353696151701, 0.18855866016657372, 0.058018049282022685, 0.11603609856404537, 0.014504512320505671, 0.5656759804997211, 0.03688286582183824, 0.12909003037643382, 0.1967086177164706, 0.04917715442911765, 0.5839787088457721, 0.06412234705452788, 0.18435174778176766, 0.008015293381815985, 0.03206117352726394, 0.024045880145447954, 0.6812999374543587, 0.7994963601662773, 0.036340743643921695, 0.04845432485856226, 0.04845432485856226, 0.060567906073202823, 0.7143092526828649, 0.10989373118197923, 0.06868358198873702, 0.09615701478423183, 0.18793733058286696, 0.7517493223314679, 0.03132288843047783, 0.07745919810721252, 0.8985266980436654, 0.015491839621442505, 0.066789702112294, 0.0166974255280735, 0.066789702112294, 0.1836716808088085, 0.6511995955948665, 0.2103857782535428, 0.04855056421235603, 0.1294681712329494, 0.016183521404118675, 0.5178726849317976, 0.03236704280823735, 0.21540279008614968, 0.016569445391242284, 0.13255556312993827, 0.016569445391242284, 0.03313889078248457, 0.4142361347810571, 0.15740973121680168, 0.9384945187986558, 0.030274016735440508, 0.015137008367720254, 0.1262109098869115, 0.3130030565195405, 0.06058123674571752, 0.29785774733311116, 0.19688901942358195, 0.1592667314300649, 0.7609410501658656, 0.053088910476688296, 0.01769630349222943, 0.8150136825779629, 0.04244862930093557, 0.04244862930093557, 0.03820376637084201, 0.03820376637084201, 0.01697945172037423, 0.8700347670479478, 0.07054335949037414, 0.02351445316345805, 0.05358481641549398, 0.02885336268526599, 0.008243817910075998, 0.7501874298169158, 0.16075444924648194, 0.10207668316878325, 0.7537970449387071, 0.10992873572022811, 0.03140821020577946, 0.09981337558863347, 0.23844306390617995, 0.07208743792512416, 0.5877898784663971, 0.16699043338123726, 0.34789673621091094, 0.21708756339560845, 0.05566347779374575, 0.10019426002874235, 0.09741108613905507, 0.008349521669061864, 0.008349521669061864, 0.7410259599152856, 0.1512297877378134, 0.0756148938689067, 0.11144662299759546, 0.8544241096482319, 0.002632575482424758, 0.9924809568741337, 0.021632392964864404, 0.08652957185945762, 0.8652957185945761, 0.12560354840693513, 0.8433381107322787, 0.301003542733356, 0.1022827572394899, 0.11104985071716046, 0.14904058912039958, 0.058447289851137084, 0.18118659853852498, 0.09351566376181934, 0.03307850822795899, 0.03859159293261882, 0.05513084704659832, 0.8049103668803355, 0.016539254113979496, 0.044104677637278655, 0.04513784155595478, 0.09779865670456869, 0.02256892077797739, 0.2633040757430696, 0.007522973592659131, 0.24073515496509218, 0.09027568311190956, 0.23321218137243305, 0.10178864372143186, 0.5101549881752716, 0.04483547402015451, 0.09572979588087044, 0.033929547907143955, 0.031506008770919386, 0.09330625674464588, 0.08724740890408446, 0.08534784728933453, 0.06258842134551199, 0.01137971297191127, 0.6770929218287206, 0.15931598160675778, 0.17738990547918407, 0.05624557978608275, 0.6489874590701856, 0.05624557978608275, 0.025959498362807424, 0.030286081423275327, 0.2867192156009868, 0.25763175894581425, 0.11219447566995136, 0.07202608314614162, 0.13989681534154427, 0.09141772091625666, 0.04016839252380974, 0.00682412305321393, 0.01364824610642786, 0.08188947663856716, 0.8939601199710249, 0.004562949153615997, 0.006844423730423995, 0.4152283729790557, 0.018251796614463987, 0.06616276272743195, 0.48367261028329567, 0.6410599537874658, 0.06968042975950715, 0.0743257917434743, 0.051098981823638576, 0.09755260166331, 0.041808257855704294, 0.023226809919835716, 0.8523289823539079, 0.03964320848157711, 0.07928641696315422, 0.560570480851318, 0.35672666963265687, 0.025480476402332634, 0.025480476402332634, 0.012740238201166317, 0.17336198260458177, 0.3081990801859231, 0.028893663767430293, 0.009631221255810098, 0.48156106279050487, 0.05402199189724909, 0.2232908998419629, 0.02521026288538291, 0.6950829624112717, 0.8120759679604926, 0.033836498665020524, 0.016918249332510262, 0.11842774532757185, 0.9388112304837268, 0.029337850952616464, 0.009779283650872155, 0.009779283650872155, 0.060546077157985836, 0.21191127005295043, 0.060546077157985836, 0.6054607715798583, 0.04540955786848938, 0.019589858161223946, 0.8815436172550776, 0.04897464540305987, 0.019589858161223946, 0.009794929080611973, 0.18087748156603642, 0.10551186424685458, 0.10551186424685458, 0.1356581111745273, 0.24116997542138188, 0.1507312346383637, 0.045219370391509105, 0.1344628826959365, 0.02852242966277441, 0.17113457797664647, 0.04074632808967773, 0.09371655460625877, 0.1466867811228398, 0.38301548404297064, 0.19254184984449557, 0.041470552274199046, 0.0651680107165985, 0.01481091152649966, 0.01777309383179959, 0.6190961018076857, 0.04739491688479891, 0.04970319506215066, 0.7124124625574928, 0.060748349520406364, 0.011045154458255702, 0.16015473964470767, 0.12222613371739811, 0.16725681456065003, 0.038597726437073085, 0.11579317931121925, 0.5275022613066656, 0.012865908812357696, 0.019298863218536542, 0.9685764722948129, 0.25336940075447534, 0.16699346867908602, 0.11804710716969874, 0.2159398301884733, 0.0806175366036967, 0.07773833886785039, 0.04030876830184835, 0.04318796603769466, 0.0028791977358463105, 0.025619907658248925, 0.030743889189898708, 0.005123981531649785, 0.07685972297474677, 0.8557049157855141, 0.12643425346683496, 0.10114740277346797, 0.7417476203387651, 0.01685790046224466, 0.12863765609378586, 0.11255794908206262, 0.20010302059033355, 0.2912213603234319, 0.10541141263240784, 0.0714653644965477, 0.010719804674482154, 0.06074555982206554, 0.019652975236550616, 0.04708255186037103, 0.008407598546494827, 0.06389774895336069, 0.23877579872045307, 0.0033630394185979306, 0.6356144501150089, 0.07711522076305397, 0.022680947283251165, 0.04536189456650233, 0.4762998929482745, 0.3220694514221666, 0.0544342734798028, 0.8681622355563485, 0.1240231765080498, 0.042917292366138504, 0.0804699231865097, 0.2789624003799003, 0.5901127700344044, 0.23988056183558248, 0.18452350910429421, 0.14761880728343538, 0.11071410546257653, 0.2583329127460119, 0.036904701820858844, 0.05856302808579676, 0.1366470655335258, 0.7613193651153579, 0.008111884309289368, 0.016223768618578736, 0.03650347939180216, 0.03244753723715747, 0.07300695878360432, 0.8274121995475155, 0.14401306935879948, 0.3060277723874489, 0.0810073515143247, 0.11701061885402457, 0.12601143568894954, 0.0540049010095498, 0.045004084174624835, 0.11701061885402457, 0.7936506385995876, 0.07348617024070256, 0.01469723404814051, 0.01469723404814051, 0.08818340428884307, 0.6516189785665766, 0.14386393033288056, 0.04231292068614134, 0.016925168274456535, 0.12693876205842403, 0.18143617082992666, 0.10886170249795599, 0.3386808522158631, 0.10886170249795599, 0.04838297888798044, 0.19353191555192176, 0.8041641996693586, 0.12940573328012667, 0.03697306665146476, 0.00924326666286619, 0.7828940663908391, 0.03173894863746645, 0.11637614500404365, 0.05289824772911075, 0.0211592990916443, 0.195903569372274, 0.08248571341990484, 0.7114392782466792, 0.187133629278356, 0.12832020293372984, 0.05881342634462617, 0.08020012683358115, 0.31545383221208584, 0.048120076100148686, 0.01604002536671623, 0.1604002536671623, 0.768371779514606, 0.16613443881396886, 0.01557510363880958, 0.046725310916428744, 0.2976745447267768, 0.031334162602818606, 0.12533665041127443, 0.015667081301409303, 0.5013466016450977, 0.11652470092290682, 0.030397748066845257, 0.09625953554500997, 0.08612695285606156, 0.06586178747816472, 0.28877860663502997, 0.30904377201292677, 0.8849185897577558, 0.07647444602844804, 0.03277476258362059, 0.05285118955289092, 0.017617063184296972, 0.17617063184296974, 0.704682527371879, 0.1649677656697569, 0.013747313805813077, 0.054989255223252306, 0.2749462761162615, 0.027494627611626153, 0.43991404178601845, 0.01915729872280395, 0.2490448833964513, 0.6896627540209421, 0.13697905892247175, 0.08716849204157294, 0.09962113376179764, 0.07471585032134823, 0.4358424602078647, 0.14943170064269645, 0.34671425746819556, 0.10401427724045867, 0.10401427724045867, 0.12134999011386845, 0.20802855448091734, 0.10401427724045867, 0.20357730465184415, 0.0848238769382684, 0.016964775387653678, 0.6955557908938008, 0.9329877972182431, 0.04859311443845016, 0.07223671649469834, 0.07223671649469834, 0.05417753737102376, 0.2347693286077696, 0.5237161945865629, 0.010681575151807147, 0.06764997596144526, 0.035605250506023825, 0.08901312626505956, 0.2385551783903596, 0.2563578036433715, 0.2955235791999977, 0.05392002613587199, 0.8858290008036113, 0.04621716525931885, 0.015405721753106283, 0.03327538455294075, 0.07320584601646964, 0.08651599983764593, 0.7986092292705779, 0.27168773940981295, 0.007342911875940891, 0.7122624519662665, 0.1792409408445065, 0.11949396056300433, 0.06721535281668994, 0.08962047042225325, 0.2688614112667598, 0.04481023521112663, 0.22405117605563313, 0.305893574309219, 0.2542223624326617, 0.2645566048079732, 0.07647339357730475, 0.06407230272693101, 0.031002727125934357, 0.0020668484750622908, 0.06813178655400458, 0.17032946638501145, 0.08051938410927814, 0.05574418899873102, 0.01238759755527356, 0.6100891795972229, 0.15651872745959286, 0.1700117212061095, 0.11064254872143633, 0.12413554246795296, 0.2725584736796358, 0.08095796247909975, 0.059369172484673154, 0.0215887899944266, 0.9949153951782203, 0.1633627904295729, 0.5754825571950863, 0.1819267438874789, 0.037127906915812026, 0.029702325532649617, 0.007425581383162404, 0.30613935196147457, 0.19809016891624825, 0.09004098587102193, 0.10804918304522632, 0.07203278869681755, 0.19809016891624825, 0.1957256444542436, 0.010873646914124645, 0.032620940742373934, 0.032620940742373934, 0.7067870494181019, 0.010873646914124645, 0.19554739921037717, 0.10529475342097232, 0.6468106281574014, 0.02256316144735121, 0.015042107631567474, 0.7343232090211549, 0.01932429497424092, 0.057972884922722755, 0.057972884922722755, 0.0966214748712046, 0.3864380058533465, 0.2576253372355643, 0.28338787095912077, 0.02576253372355643, 0.02576253372355643, 0.021299114061632575, 0.1348943890570063, 0.07809675155931943, 0.5644265226332632, 0.05679763749768686, 0.14199409374421715, 0.6142577890266353, 0.03930351483717045, 0.150476313948024, 0.025828024035854866, 0.11566462937795874, 0.02133619376874967, 0.016844363501644477, 0.01572140593486818, 0.20858928628942913, 0.08533198075476646, 0.06636931836481837, 0.6162865276733134, 0.3690820352774644, 0.10252278757707345, 0.11131045508367975, 0.11131045508367975, 0.1962579076475406, 0.08787667506606296, 0.02050455751541469, 0.09608670005760374, 0.11210115006720436, 0.08007225004800311, 0.016014450009600622, 0.6726069004032262, 0.17182848541771745, 0.14377485514543703, 0.11572122487315664, 0.14377485514543703, 0.2174156346101731, 0.1122145210891216, 0.0420804454084206, 0.052600556760525746, 0.023719733509502936, 0.9487893403801174, 0.2909281978926895, 0.17191211693658925, 0.30415220688781175, 0.22480815291707826, 0.08571957529292076, 0.017143915058584154, 0.017143915058584154, 0.8743396679877918, 0.8296607517357433, 0.1489134682602616, 0.014182235072405869, 0.16082232083047335, 0.24532218431767122, 0.11720948806288736, 0.13901590444668036, 0.16082232083047335, 0.06269344710340487, 0.07632245734327549, 0.03543542662366362, 0.012742967593744445, 0.9684655371245778, 0.00921131239378855, 0.18975303531204413, 0.00736904991503084, 0.01473809983006168, 0.04605656196894275, 0.00921131239378855, 0.7203246291942647, 0.022604758886767252, 0.9493998732442246, 0.07421523099703019, 0.04194773925919098, 0.20651194712217097, 0.06776173264946235, 0.05485473595432666, 0.5485473595432666, 0.2074278927480006, 0.05833909483537517, 0.11667818967075035, 0.11019606802237532, 0.46023063703462636, 0.019446364945125055, 0.019446364945125055, 0.9203335477570441, 0.020916671539932822, 0.020916671539932822, 0.020916671539932822, 0.07321617321814206, 0.2762246535048087, 0.06489615353426229, 0.04992011810327868, 0.3095047322403278, 0.13478431887885242, 0.06656015747103823, 0.02496005905163934, 0.9576369404023376, 0.018416095007737263, 0.06655739865613329, 0.7511477848335043, 0.03803279923207617, 0.06655739865613329, 0.03803279923207617, 0.028524599424057124, 0.22810124975265808, 0.20736477250241642, 0.17833370435207813, 0.13824318166827762, 0.10782968170125655, 0.08571077263433212, 0.05114997721726272, 0.004147295450048329, 0.985089837930293, 0.24312419669573154, 0.22691591691601612, 0.21070763713630067, 0.032416559559430874, 0.19449935735658525, 0.08104139889857719, 0.006718030565263422, 0.9808324625284596, 0.01279698912856062, 0.05118795651424248, 0.5118795651424248, 0.4223006412425005, 0.05949353859015108, 0.21814297483055398, 0.2082273850655288, 0.495779488251259, 0.009915589765025181, 0.0425838146278913, 0.10220115510693913, 0.07665086633020435, 0.7665086633020435, 0.1308506708389103, 0.05947757765405014, 0.0832686087156702, 0.011895515530810027, 0.0832686087156702, 0.6185668076021215, 0.11872035674365167, 0.07226456497439666, 0.32002878774375665, 0.015485263923085, 0.22195544956421834, 0.2529259774103883, 0.9846267469352272, 0.04629849790023667, 0.15741489286080468, 0.07407759664037868, 0.13889549370071, 0.03703879832018934, 0.5370625756427454, 0.13903098029617145, 0.061791546798298416, 0.061791546798298416, 0.030895773399149208, 0.47888448768681274, 0.23171830049361905, 0.09505149194591025, 0.05703089516754615, 0.7414016371780999, 0.0760411935567282, 0.23334335077554308, 0.13611695461906678, 0.4277961430884956, 0.1750075130816573, 0.05135582097413404, 0.12838955243533512, 0.7960152250990776, 0.02916950303765255, 0.11376106184684494, 0.00583390060753051, 0.09334240972048816, 0.15459836609955852, 0.5396358061965721, 0.06417290668283561, 0.13488792983479794, 0.033721982458699486, 0.4902657449764772, 0.033721982458699486, 0.05447397166405302, 0.033721982458699486, 0.21789588665621207, 0.3065480825829534, 0.013934003753770609, 0.6548981764272186, 0.07354086607031224, 0.09805448809374966, 0.07354086607031224, 0.6128405505859353, 0.12256811011718707, 0.7262562701875519, 0.016139028226390042, 0.24208542339585062, 0.12758545403651386, 0.8612018147464685, 0.09674366521642003, 0.0888995842529265, 0.007844080963493516, 0.06275264770794813, 0.7399583042228882, 0.018645258874877082, 0.9695534614936082, 0.08652332214365403, 0.06056632550055782, 0.008652332214365403, 0.020188775166852607, 0.025956996643096208, 0.7931304529834953, 0.023644161660375418, 0.07684352539622011, 0.09457664664150167, 0.56745987984901, 0.16550913162262793, 0.0650214445660324, 0.0059110404150938545, 0.05366201226977491, 0.08781056553235894, 0.05854037702157263, 0.048783647517977195, 0.2536749670934814, 0.39514754489561527, 0.09268893028415667, 0.048144435873959536, 0.024072217936979768, 0.03209629058263969, 0.7382146834007128, 0.12036108968489884, 0.024072217936979768, 0.8987700460612744, 0.08888934521485131, 0.858741163283033, 0.12134386002912421, 0.009334143079163401, 0.1828916895921582, 0.3840725481435322, 0.1325964749543147, 0.0914458447960791, 0.06858438359705933, 0.06858438359705933, 0.04572292239803955, 0.01828916895921582, 0.01079180230047044, 0.6879773966549906, 0.01348975287558805, 0.16457498508217422, 0.11601187473005724, 0.00539590115023522, 0.9106191008787956, 0.026017688596537015, 0.026017688596537015, 0.3082355260760627, 0.008562097946557297, 0.23973874250360433, 0.4281048973278649, 0.18453352336452708, 0.6748654568759848, 0.07381340934581083, 0.015817159145530894, 0.04217909105474905, 0.7705968718769411, 0.09284299661167966, 0.12998019525635152, 0.0381762693644971, 0.14095853303814312, 0.026429724944651838, 0.2731071577614023, 0.14683180524806577, 0.24080416060682786, 0.12921198861829786, 0.9486559070481488, 0.021081242378847752, 0.5229301726383087, 0.20917206905532346, 0.07923184433913767, 0.02218491641495855, 0.16480223622540635, 0.05782440149828889, 0.027390505972873683, 0.13695252986436843, 0.0030433895525415204, 0.3104257343592351, 0.26477489107111224, 0.19782032091519883, 0.010453905967815496, 0.010453905967815496, 0.9408515371033945, 0.03136171790344648, 0.07132644736148433, 0.003962580408971352, 0.0990645102242838, 0.6141999633905595, 0.1902038596306249, 0.015850321635885407, 0.10029198066354458, 0.14375183895108057, 0.12369344281837165, 0.4078540546984146, 0.12369344281837165, 0.09360584861930828, 0.34187087406908057, 0.08230224746107495, 0.05697847901151343, 0.05697847901151343, 0.4241731215301555, 0.025323768449561523, 0.9491716376571188, 0.11559609530254804, 0.025688021178344008, 0.03853203176751601, 0.051376042356688016, 0.14128411648089204, 0.6165125082802562, 0.05930956598583705, 0.06778236112667092, 0.01694559028166773, 0.21181987852084663, 0.05083677084500319, 0.09320074654917251, 0.4914221181683642, 0.012315211641693836, 0.19704338626710138, 0.09852169313355069, 0.1354673280586322, 0.49260846566775346, 0.03694563492508151, 0.9786185985307666, 0.8885352053936935, 0.036021697515960543, 0.048028930021280725, 0.012007232505320181, 0.6203845682261035, 0.09305768523391554, 0.08961110429932607, 0.017232904672947323, 0.14820298018734698, 0.027572647476715714, 0.3052886812128743, 0.14576846940794896, 0.06600836350548633, 0.04125522719092895, 0.3052886812128743, 0.03300418175274317, 0.08526080286125318, 0.013751742396976319, 0.022009351570409008, 0.7923366565347243, 0.10271030732857538, 0.0733645052346967, 0.859326858903874, 0.03791147906928856, 0.07582295813857712, 0.10813450345549147, 0.22059438704920262, 0.06920608221151454, 0.20329286649632397, 0.27249894870783853, 0.09083298290261284, 0.03244035103664744, 0.0021626900691098295, 0.18786523162511248, 0.03131087193751875, 0.007827717984379687, 0.7592886444848297, 0.025941573138037445, 0.9598382061073855, 0.058156699716708796, 0.22293401558071704, 0.03877113314447253, 0.11631339943341759, 0.5040247308781429, 0.058156699716708796, 0.8451369535188651, 0.011268492713584868, 0.0338054781407546, 0.0338054781407546, 0.056342463567924335, 0.6936707637711745, 0.04162024582627047, 0.23584805968219932, 0.01387341527542349, 0.5263914534274103, 0.06865975479487961, 0.18309267945301227, 0.18309267945301227, 0.05331403781275249, 0.10662807562550498, 0.15994211343825748, 0.657539799690614, 0.020399702718656505, 0.9383863250581992, 0.06955181127083612, 0.06955181127083612, 0.08346217352500335, 0.10432771690625418, 0.6259663014375251, 0.041731086762501673, 0.060184555248005374, 0.12036911049601075, 0.5416609972320483, 0.2407382209920215, 0.054126334412515784, 0.7252928811277115, 0.10825266882503157, 0.09742740194252841, 0.24927286347042865, 0.028762253477357152, 0.709468919108143, 0.8131028022899183, 0.021975751413241033, 0.13185450847944621, 0.2128959147799951, 0.2167667495941768, 0.4025668206748998, 0.042579182955999016, 0.03483751332763556, 0.08902920072617976, 0.1135235137476285, 0.5186850197089923, 0.1350538353204546, 0.06067636079614626, 0.0939504941359684, 0.06654826667964428, 0.005871905883498025, 0.0019573019611660086, 0.4564730622486778, 0.07793442526196938, 0.11133489323138483, 0.055667446615692416, 0.055667446615692416, 0.23380327578590815, 0.9122009577364047, 0.05473205746418428, 0.018244019154728095, 0.08302060626290247, 0.08302060626290247, 0.1798779802362887, 0.5396339407088662, 0.023061279517472912, 0.09224511806989165, 0.23439244767408413, 0.032329992782632294, 0.04849498917394844, 0.004041249097829037, 0.032329992782632294, 0.6465998556526459, 0.23012515125365796, 0.07670838375121931, 0.6711983578231691, 0.07019983631560037, 0.755998237244927, 0.05399987408892336, 0.11339973558673905, 0.9531170135330536, 0.0211803780785123, 0.012935040328524898, 0.021558400547541497, 0.2802592071180395, 0.676933777192803, 0.12214577399856136, 0.180399912367106, 0.13905826578297756, 0.25932487402771487, 0.12778327126003342, 0.07328746439913682, 0.04697914384560052, 0.04885830959942455, 0.5500350009796704, 0.14167568207052117, 0.14445363662092356, 0.030557500054426135, 0.10000636381448554, 0.030557500054426135, 0.1560099445781413, 0.3813576423021232, 0.1355237902395975, 0.12764450010938835, 0.08194461735417523, 0.07091361117188241, 0.04569988275521311, 0.052313442809917204, 0.9242041563085374, 0.15235443277012958, 0.08125569747740244, 0.10156962184675306, 0.05078481092337653, 0.04062784873870122, 0.12188354621610366, 0.2132962058781814, 0.2132962058781814, 0.0299188413846348, 0.4886744092823684, 0.05318905135046187, 0.33575588664979056, 0.05318905135046187, 0.03656747280344253, 0.16636982245317467, 0.0882778649751539, 0.06790604998088762, 0.18674163744744093, 0.42780811487959197, 0.03734832748948819, 0.023767117493310664, 0.9199780090564385, 0.0262850859730411, 0.0808659996034574, 0.47859469153066625, 0.08746730569353556, 0.14192808093668033, 0.1105718770088091, 0.07756534655841832, 0.004950979567558617, 0.01485293870267585, 0.2830326331170558, 0.13220603257441424, 0.12848191898076874, 0.14896454374581886, 0.16572305491722347, 0.09682695343478225, 0.04282730632692292, 0.3207230388740272, 0.06414460777480543, 0.1403163295073869, 0.07617172173258145, 0.06815364576073078, 0.28865073498662447, 0.03608134187332806, 0.006027185196702231, 0.15067962991755576, 0.8317515571449079, 0.14246390258215802, 0.09333841893313802, 0.07368822547353002, 0.4765171913954941, 0.11790116075764802, 0.06386312874372602, 0.029475290189412005, 0.4520591399125026, 0.1004575866472228, 0.11720051775509327, 0.1004575866472228, 0.1506863799708342, 0.06697172443148187, 0.01674293110787047, 0.7607984664595756, 0.05016253625008191, 0.06688338166677588, 0.025081268125040954, 0.08360422708346985, 0.07224919228740288, 0.011288936294906701, 0.325121365293313, 0.03612459614370144, 0.03612459614370144, 0.325121365293313, 0.19191191701341392, 0.023850405924509075, 0.23850405924509077, 0.07155121777352723, 0.14310243554705446, 0.47700811849018154, 0.06584694808129213, 0.7737016399551825, 0.13169389616258426, 0.05102166697213371, 0.08746571480937207, 0.014577619134895345, 0.19679785832108715, 0.25510833486066853, 0.10933214351171508, 0.2842635731304592, 0.13631864377971115, 0.09914083183978992, 0.07435562387984244, 0.6815932188985557, 0.04284361198881942, 0.9168532965607356, 0.02570616719329165, 0.5297622154455982, 0.1992268160650113, 0.02263941091647856, 0.09508552584920994, 0.03169517528306998, 0.013583646549887135, 0.10414129021580136, 0.31363305787653045, 0.13242284665897952, 0.10454435262551015, 0.17424058770918358, 0.12545322315061216, 0.013939247016734687, 0.12545322315061216, 0.2682000108800995, 0.7192636655420849, 0.09911887183507073, 0.19823774367014146, 0.0881056638533962, 0.6057264389920989, 0.2335790335509235, 0.01610889886558093, 0.2617696065656901, 0.024163348298371395, 0.451049168236266, 0.012081674149185697, 0.8053995867378573, 0.04474442148543652, 0.07457403580906086, 0.029829614323624343, 0.029829614323624343, 0.4355962334646417, 0.007510279887321409, 0.06759251898589268, 0.007510279887321409, 0.022530839661964227, 0.24783923628160648, 0.05257195921124986, 0.15771587763374958, 0.046321222810200874, 0.034740917107650655, 0.011580305702550218, 0.046321222810200874, 0.17370458553825327, 0.13896366843060262, 0.5442743680198603, 0.11483303343729033, 0.04465729078116846, 0.5231282634365448, 0.10845342046855197, 0.05103690374990681, 0.14035148531224373, 0.012759225937476703, 0.16060931905723247, 0.017208141327560624, 0.8145186895045361, 0.07892533784885622, 0.015785067569771244, 0.03157013513954249, 0.836608581197876, 0.06022429536967442, 0.03613457722180465, 0.012044859073934884, 0.016059812098579845, 0.18468783913366824, 0.016059812098579845, 0.6745121081403536, 0.030654276743353536, 0.8225564259466532, 0.06130855348670707, 0.056199507362814816, 0.02554523061946128, 0.015239338233544631, 0.030478676467089263, 0.0812764705789047, 0.005079779411181544, 0.8534029410784995, 0.6398612246683288, 0.08646773306328769, 0.14699514620758905, 0.04323386653164384, 0.05188063983797261, 0.025940319918986304, 0.297005671793417, 0.010607345421193464, 0.11668079963312811, 0.5621893073232537, 0.6343221418367443, 0.1640488297853649, 0.06561953191414596, 0.02734147163089415, 0.09296100354504011, 0.01093658865235766, 0.7838860615936694, 0.04451088046904116, 0.07171197408901075, 0.05934784062538821, 0.017309786849071564, 0.02225544023452058, 0.08501741909769502, 0.383866528653229, 0.05152570854405759, 0.1623059819137814, 0.04894942311685471, 0.20867911960343324, 0.030915425126434554, 0.028339139699231675, 0.058910446270380695, 0.13745770796422163, 0.765835801514949, 0.014241031996651644, 0.7779163728170961, 0.05696412798660658, 0.10502761097530589, 0.01246090299707019, 0.0160211609962331, 0.017801289995814557, 0.22862724077854768, 0.01216102344566743, 0.02432204689133486, 0.007296614067400458, 0.21160180795461328, 0.515627394096299, 0.01874698070031592, 0.010712560400180525, 0.07230978270121854, 0.6722131651113279, 0.01874698070031592, 0.0026781401000451313, 0.20086050750338483, 0.1239543880244315, 0.10624661830665556, 0.10624661830665556, 0.10624661830665556, 0.5312330915332778, 0.017707769717775927, 0.019761510470081435, 0.07904604188032574, 0.10868830758544788, 0.2964226570512215, 0.02964226570512215, 0.454514740811873, 0.10689558801762244, 0.7268899985198327, 0.08551647041409796, 0.06413735281057346, 0.06310726748896929, 0.07713110470874025, 0.792346802917059, 0.035059593049427386, 0.021035755829656434, 0.07992149186794674, 0.8791364105474141, 0.02329098667913604, 0.5589836802992649, 0.02329098667913604, 0.13974592007481623, 0.2329098667913604, 0.029654505764121486, 0.9588290197065947, 0.10799453280327687, 0.12149384940368647, 0.026998633200819216, 0.6344678802192516, 0.06749658300204804, 0.026998633200819216, 0.03778311824478789, 0.056674677367181826, 0.8879032787525153, 0.1292098222738749, 0.07537239632642703, 0.06460491113693745, 0.07537239632642703, 0.4953043187165205, 0.0861398815159166, 0.05383742594744788, 0.36049543827443653, 0.0720990876548873, 0.21629726296466192, 0.20728487700780102, 0.045061929784304566, 0.05407431574116548, 0.03604954382744365, 0.8536308676478576, 0.064950174712337, 0.064950174712337, 0.052710396273955705, 0.04460110453950098, 0.8393116945160639, 0.04054645867227362, 0.016218583468909448, 0.07393605127049496, 0.0657209344626622, 0.7393605127049496, 0.04107558403916387, 0.04107558403916387, 0.0328604672313311, 0.11926736243036319, 0.22859577799152944, 0.11264139785089856, 0.24184770715045867, 0.23853472486072638, 0.04306876976652004, 0.019877893738393864, 0.107827790421621, 0.107827790421621, 0.2772714610841683, 0.33888734132509457, 0.04621191018069471, 0.12323176048185257, 0.03439493187313852, 0.4738857280299086, 0.11082811381344636, 0.131847238847031, 0.1834396366567388, 0.03821659097015392, 0.011464977291046174, 0.015286636388061567, 0.0383696589204239, 0.7865780078686899, 0.1151089767612717, 0.0383696589204239, 0.054875944143243885, 0.9054530783635242, 0.013718986035810971, 0.0020129139191595283, 0.251614239894941, 0.008051655676638113, 0.024154967029914338, 0.018116225272435754, 0.008051655676638113, 0.6843907325142395, 0.5671169102950315, 0.10615981572025221, 0.13130292996978563, 0.08660406019283733, 0.058667266582244644, 0.036317831693770494, 0.011174717444237075, 0.5405517596511912, 0.08680393220676064, 0.22490109708115255, 0.0710213990782587, 0.03551069953912935, 0.03551069953912935, 0.034563612707771495, 0.06048632223860011, 0.406122449316315, 0.49253148108574374, 0.026895786275959625, 0.026895786275959625, 0.026895786275959625, 0.8875609471066676, 0.15847619038520527, 0.07923809519260264, 0.017608465598356143, 0.4314074071597255, 0.30814814797123247, 0.34134974977518506, 0.1061339558124525, 0.04302727938342669, 0.10900244110468095, 0.07458061759793959, 0.2925854998073015, 0.03155333821451291, 0.9149122285032938, 0.05278339779826695, 0.19098851144207835, 0.7520172638031835, 0.047747127860519586, 0.027010293250776467, 0.027010293250776467, 0.01800686216718431, 0.6632527564912888, 0.05702173019608365, 0.11704460408669802, 0.027010293250776467, 0.06302401758514509, 0.09944504023393383, 0.024861260058483457, 0.012430630029241729, 0.0870144102046921, 0.03729189008772518, 0.6588233915498116, 0.06215315014620864, 0.10160815160022524, 0.10160815160022524, 0.7789958289350601, 0.02132200282641494, 0.14925401978490457, 0.03198300423962241, 0.026652503533018675, 0.06929650918584855, 0.6982955925650892, 0.1225188059279557, 0.05104950246998154, 0.6840633330977527, 0.04083960197598524, 0.030629701481988927, 0.05104950246998154, 0.12635909576409388, 0.7581545745845634, 0.042119698588031294, 0.021059849294015647, 0.021059849294015647, 0.11806262016945324, 0.05903131008472662, 0.31483365378520867, 0.5116046874009641, 0.1526075384558588, 0.006043862909142923, 0.274995762366003, 0.08914697790985811, 0.006043862909142923, 0.03777414318214327, 0.43062523227643323, 0.15766080466649374, 0.060638771025574516, 0.7549526992684028, 0.02122356985895108, 0.08884687417473633, 0.823852833256646, 0.072692897052057, 0.008076988561339666, 0.15955704274092197, 0.7499181008823332, 0.06382281709636879, 0.21560318973631862, 0.04560836705960586, 0.1160940252426331, 0.09536294930644862, 0.07048565818302724, 0.27779641754487205, 0.17414103786394963, 0.20448068604245548, 0.00929457663829343, 0.6041474814890729, 0.03253101823402701, 0.027883729914880293, 0.0604147481489073, 0.055767459829760585, 0.13882997682556755, 0.1561837239287635, 0.057845823677319816, 0.07519957078051576, 0.1503991415610315, 0.057845823677319816, 0.35864410679938286, 0.024916916148845815, 0.946842813656141, 0.10901912957733334, 0.8503492107032, 0.8227823341826018, 0.015822737195819267, 0.0949364231749156, 0.0474682115874578, 0.2439042614948288, 0.18527342940472571, 0.13367829716543503, 0.12664259731462266, 0.17823772955391334, 0.09615456462776904, 0.0304880326868536, 0.002345233283604123, 0.5534009682388318, 0.12577294732700722, 0.07965619997377123, 0.03773188419810216, 0.07546376839620432, 0.07965619997377123, 0.05030917893080288, 0.1665639065866866, 0.03919150743216156, 0.00979787685804039, 0.04898938429020194, 0.4311065817537771, 0.029393630574121164, 0.2645426751670905, 0.04068561530483224, 0.02034280765241612, 0.9255977481849335, 0.015420864529816778, 0.051402881766055925, 0.005140288176605593, 0.9201115836124011, 0.008910095315680402, 0.011880127087573869, 0.2747279389001457, 0.7038975299387517, 0.21077538602933463, 0.009580699364969756, 0.047903496824848776, 0.01916139872993951, 0.6898103542778224, 0.07343076939551631, 0.12850384644215354, 0.02447692313183877, 0.29984230836502496, 0.1896961542717505, 0.0061192307829596925, 0.27536538523318616, 0.06798340430598457, 0.7523496743195627, 0.08611231212091379, 0.040790042583590744, 0.03172558867612613, 0.013596680861196916, 0.9879984165907484, 0.05633665066082721, 0.037557767107218136, 0.070420813326034, 0.13145218487526347, 0.009389441776804534, 0.6901239705951333, 0.03109672937222721, 0.40708445723642894, 0.08198228652678083, 0.09611716351415683, 0.3660933139730385, 0.011307901589900804, 0.0042404630962128015, 0.9597680210315479, 0.015733901984123735, 0.8838883549012051, 0.03824516920245599, 0.029746242713021325, 0.025496779468303993, 0.012748389734151997, 0.008498926489434665, 0.047436958815892785, 0.047436958815892785, 0.017788859555959796, 0.011859239703973196, 0.05336657866787939, 0.13045163674370516, 0.6937655226824321, 0.20363923264246864, 0.05090980816061716, 0.7127373142486402, 0.1378463422096597, 0.5513853688386388, 0.08270780532579582, 0.1378463422096597, 0.02756926844193194, 0.02756926844193194, 0.9745310997189102, 0.010592729344770763, 0.5405041614906424, 0.10720743698987947, 0.1652781320260642, 0.07593860120116463, 0.07593860120116463, 0.02233488270622489, 0.004466976541244979, 0.22838370160312177, 0.0639474364488741, 0.009135348064124872, 0.027406044192374614, 0.6577450606169907, 0.004269520612712072, 0.005692694150282763, 0.014231735375706907, 0.4867253498491762, 0.0071158676878534536, 0.005692694150282763, 0.01850125598841898, 0.08112089164152937, 0.3757178139186623, 0.12690310088791748, 0.01730496830289784, 0.06921987321159136, 0.15574471472608054, 0.1384397464231827, 0.1384397464231827, 0.357636011593222, 0.9954129417050458, 0.24158344499025738, 0.08627980178223478, 0.08627980178223478, 0.12079172249512869, 0.41414304855472694, 0.017255960356446956, 0.44159638489301606, 0.26233448607505905, 0.08744482869168635, 0.04590853506313534, 0.11586439801648442, 0.021861207172921587, 0.021861207172921587, 0.4846743699045766, 0.19557035978605722, 0.16155812330152552, 0.04251529560566461, 0.0765275320901963, 0.025509177363398767, 0.06824547074777118, 0.025886213042258036, 0.04706584189501461, 0.04941913398976534, 0.18355678339055698, 0.22591604109607014, 0.392999779823372, 0.012351725781353181, 0.049406903125412724, 0.9140277078201354, 0.9922934679006247, 0.25589341472167115, 0.5483430315464382, 0.10966860630928763, 0.018278101051547938, 0.009139050525773969, 0.0594038284175308, 0.09533440686693667, 0.6832299158797127, 0.11122347467809278, 0.039722669527890275, 0.06355627124462444, 0.3196598933365573, 0.1167012309006479, 0.14207106370513659, 0.16236692994872753, 0.16236692994872753, 0.08118346497436377, 0.012684916402244338, 0.12834449995013925, 0.10267559996011139, 0.7187291997207798, 0.03374803446278736, 0.0472472482479023, 0.07424567581813218, 0.16199056542137932, 0.06074646203301724, 0.0944944964958046, 0.5197197307269253, 0.725176111696622, 0.021486699605825835, 0.08057512352184688, 0.03760172431019521, 0.06446009881747751, 0.010743349802912918, 0.016115024704369377, 0.03760172431019521, 0.03595822231532046, 0.9573876691454074, 0.026822050556371435, 0.10728820222548574, 0.8583056178038859, 0.2837050499848955, 0.027019528569990042, 0.5539003356847959, 0.1215878785649552, 0.10194532004564143, 0.42738614942211217, 0.07253801618632179, 0.14311554544868893, 0.0960638592737775, 0.08430093773004964, 0.07449850311027643, 0.02955857736564016, 0.8424194549207445, 0.04433786604846024, 0.02955857736564016, 0.04433786604846024, 0.15726890331077603, 0.06621848560453727, 0.05794117490397012, 0.049663864203402956, 0.00827731070056716, 0.6456302346442384, 0.9471498158947953, 0.0555722116040853, 0.0370481410693902, 0.0740962821387804, 0.6668665392490236, 0.1296684937428657, 0.1688879993062671, 0.759995996878202, 0.03377759986125342, 0.01688879993062671, 0.9178613201748357, 0.021853840956543708, 0.043707681913087416, 0.052804780967217045, 0.004061906228247465, 0.759576464682276, 0.01624762491298986, 0.04468096851072212, 0.11779528061917649, 0.31398732118343176, 0.15699366059171588, 0.16895508235108472, 0.09868172951479284, 0.13905152795266265, 0.07625406371597629, 0.03139873211834318, 0.01196142175936883, 0.16037576638053783, 0.038711391884957404, 0.42582531073453145, 0.1456285694719826, 0.0313377934306798, 0.18618336097050942, 0.0110603976814164, 0.801766748702854, 0.16446497409289315, 0.8743758971576159, 0.1013769156124772, 0.9105379466563914, 0.04335894984078054, 0.02167947492039027, 0.13586946900896246, 0.033967367252240616, 0.2038042035134437, 0.08491841813060154, 0.3906247234007671, 0.13586946900896246, 0.28241258386549306, 0.02017232741896379, 0.06051698225689137, 0.6051698225689137, 0.03788454693573382, 0.268486136979331, 0.057650397510899294, 0.25036744061876265, 0.24542597797497126, 0.11365364080720146, 0.02470731321895684, 0.0016471542145971227, 0.023196280187223417, 0.34536683834310417, 0.09793984967938775, 0.12113612986661117, 0.2293854374069871, 0.08247566288790548, 0.09793984967938775, 0.9721534419030982, 0.17850347525510038, 0.2677552128826506, 0.0939491975026844, 0.05636951850161065, 0.36170441038533496, 0.018789839500536882, 0.018789839500536882, 0.0046974598751342205, 0.7532276207405182, 0.01637451349435909, 0.1964941619323091, 0.6751465323440913, 0.06973344465525826, 0.09826076292331845, 0.05388493450633593, 0.05388493450633593, 0.022187914208491262, 0.022187914208491262, 0.0681251088816049, 0.9227855657599211, 0.12260391837943957, 0.03678117551383187, 0.1992313673665893, 0.19310117144761732, 0.3647466571788327, 0.07969254694663572, 0.057157086227730816, 0.9145133796436931, 0.08905563123208383, 0.08905563123208383, 0.0534333787392503, 0.01781112624641677, 0.5165226611460862, 0.23154464120341797, 0.8762300779875826, 0.04483037608308562, 0.024452932408955793, 0.012226466204477896, 0.03260390987860772, 0.8451380241576909, 0.034731699622918805, 0.019295388679399336, 0.011577233207639601, 0.07332247698171748, 0.011577233207639601, 0.23304636412755514, 0.12000148600597989, 0.13913215768809262, 0.14782791754359842, 0.14956706951469956, 0.14087130965919378, 0.06608777490184399, 0.2528316458467671, 0.13803241205688366, 0.14076572714711896, 0.13119912433129535, 0.16809887804947218, 0.12163252151547174, 0.042366383898647456, 0.00409997263535298, 0.0013666575451176599, 0.02943343292253447, 0.9516809978286146, 0.2809885228551985, 0.012351143861766967, 0.5805037615030474, 0.02161450175809219, 0.015438929827208708, 0.06175571930883483, 0.024702287723533934, 0.10725876368131702, 0.883307465610846, 0.04696012793631476, 0.945911148431483, 0.5582855593062492, 0.03650328657002399, 0.13098238122185077, 0.004294504302355763, 0.010736260755889408, 0.21257796296661027, 0.045092295174735515, 0.18773828304724827, 0.013409877360517733, 0.040229632081553196, 0.026819754721035465, 0.7107235001074399, 0.1400746186185853, 0.08754663663661581, 0.08754663663661581, 0.061282645645631066, 0.5252798198196948, 0.052527981981969486, 0.026263990990984743, 0.22396860939719776, 0.13864723438874146, 0.09598654688451332, 0.02133034375211407, 0.02133034375211407, 0.05332585938028518, 0.42660687504228145, 0.1370668844645994, 0.05049832585537872, 0.014428093101536777, 0.021642139652305166, 0.6636922826706918, 0.10821069826152584, 0.33458700853440826, 0.4089396770976101, 0.07435266856320183, 0.018588167140800457, 0.05576450142240137, 0.11152900284480274, 0.012860075590529476, 0.24434143622006005, 0.7201642330696507, 0.9737809135078959, 0.014320307551586704, 0.13816968184975417, 0.09805590324821264, 0.16045511440616614, 0.20948306603027245, 0.3030818827672027, 0.08468464371436546, 0.024567831359395942, 0.13512307247667768, 0.0859874097578858, 0.7370349407818783, 0.06461822558529619, 0.09692733837794429, 0.8077278198162025], \"Term\": [\"18\", \"18\", \"18\", \"18\", \"18\", \"2005\", \"2005\", \"2005\", \"2005\", \"2005\", \"2008\", \"2008\", \"2008\", \"2008\", \"2008\", \"able\", \"able\", \"able\", \"able\", \"abstract\", \"abstract\", \"abstract\", \"abstract\", \"abstract\", \"abstract\", \"abstract\", \"across\", \"across\", \"across\", \"across\", \"across\", \"across\", \"address\", \"address\", \"address\", \"algorithm\", \"algorithm\", \"algorithm\", \"algorithm\", \"algorithm\", \"anyway\", \"anyway\", \"api\", \"api\", \"api\", \"api\", \"api\", \"api\", \"api\", \"appears\", \"appears\", \"appears\", \"appears\", \"appears\", \"appears\", \"appears\", \"apps\", \"apps\", \"apps\", \"apps\", \"apps\", \"apps\", \"area\", \"area\", \"area\", \"area\", \"area\", \"around\", \"around\", \"around\", \"around\", \"ask\", \"ask\", \"ask\", \"ask\", \"asking\", \"asking\", \"asking\", \"asking\", \"asking\", \"asking\", \"asking\", \"asp\", \"asp\", \"asp\", \"asp\", \"assign\", \"assign\", \"assign\", \"assume\", \"assume\", \"assume\", \"assume\", \"assume\", \"assume\", \"attempt\", \"attempt\", \"avoid\", \"avoid\", \"back\", \"back\", \"back\", \"back\", \"back\", \"back\", \"bad\", \"bad\", \"bad\", \"bad\", \"bad\", \"bad\", \"bad\", \"basically\", \"bin\", \"bin\", \"bin\", \"bind\", \"bind\", \"bind\", \"bind\", \"bind\", \"bind\", \"binding\", \"binding\", \"binding\", \"binding\", \"binding\", \"body\", \"body\", \"body\", \"body\", \"body\", \"body\", \"boolean\", \"boolean\", \"boolean\", \"boolean\", \"boolean\", \"boost\", \"boost\", \"boost\", \"boost\", \"border\", \"border\", \"border\", \"bottom\", \"bottom\", \"bottom\", \"bound\", \"bound\", \"bound\", \"bound\", \"bound\", \"box\", \"box\", \"box\", \"box\", \"box\", \"box\", \"br\", \"br\", \"br\", \"br\", \"br\", \"br\", \"br\", \"branch\", \"branch\", \"branch\", \"browser\", \"browser\", \"browser\", \"browser\", \"browser\", \"buffer\", \"buffer\", \"buffer\", \"buffer\", \"build\", \"build\", \"build\", \"build\", \"build\", \"build\", \"bundle\", \"bundle\", \"bundle\", \"byte\", \"byte\", \"byte\", \"byte\", \"byte\", \"ca\", \"ca\", \"ca\", \"ca\", \"call\", \"call\", \"call\", \"call\", \"callback\", \"callback\", \"callback\", \"callback\", \"callback\", \"callback\", \"callback\", \"callback\", \"catch\", \"catch\", \"catch\", \"cause\", \"cause\", \"certain\", \"certain\", \"certificate\", \"certificate\", \"certificate\", \"changed\", \"changed\", \"changing\", \"changing\", \"changing\", \"changing\", \"changing\", \"changing\", \"changing\", \"checkbox\", \"checkbox\", \"checkbox\", \"checkbox\", \"checkbox\", \"checkbox\", \"chrome\", \"chrome\", \"chrome\", \"chrome\", \"chrome\", \"chrome\", \"chrome\", \"chrome\", \"clean\", \"clean\", \"clean\", \"clean\", \"clean\", \"clean\", \"clean\", \"clean\", \"click\", \"click\", \"click\", \"click\", \"click\", \"client\", \"client\", \"client\", \"client\", \"client\", \"client\", \"code\", \"code\", \"code\", \"code\", \"code\", \"code\", \"code\", \"color\", \"color\", \"color\", \"color\", \"column\", \"column\", \"column\", \"column\", \"column\", \"column\", \"command\", \"command\", \"command\", \"command\", \"command\", \"command\", \"command\", \"commit\", \"commit\", \"commit\", \"condition\", \"condition\", \"condition\", \"condition\", \"condition\", \"configure\", \"configure\", \"configure\", \"configure\", \"configure\", \"connect\", \"connect\", \"connect\", \"connect\", \"consolewriteline\", \"consolewriteline\", \"consolewriteline\", \"consolewriteline\", \"const\", \"const\", \"const\", \"const\", \"constructor\", \"constructor\", \"constructor\", \"constructor\", \"constructor\", \"contact\", \"contact\", \"contact\", \"contact\", \"contact\", \"containing\", \"containing\", \"containing\", \"containing\", \"containing\", \"containing\", \"containing\", \"content\", \"content\", \"content\", \"content\", \"content\", \"content\", \"content\", \"control\", \"control\", \"control\", \"control\", \"control\", \"control\", \"control\", \"controller\", \"controller\", \"controller\", \"controller\", \"controller\", \"conversion\", \"conversion\", \"conversion\", \"conversion\", \"conversion\", \"conversion\", \"conversion\", \"convert\", \"create\", \"create\", \"create\", \"create\", \"create\", \"create\", \"create\", \"create\", \"create\", \"cs\", \"cs\", \"cs\", \"cs\", \"cs\", \"customer\", \"customer\", \"customer\", \"customer\", \"data\", \"data\", \"data\", \"data\", \"data\", \"data\", \"data\", \"data\", \"data\", \"database\", \"database\", \"database\", \"database\", \"database\", \"database\", \"date\", \"date\", \"date\", \"date\", \"date\", \"date\", \"datetime\", \"datetime\", \"db\", \"db\", \"db\", \"db\", \"deal\", \"deal\", \"deal\", \"deal\", \"deal\", \"deal\", \"declaration\", \"declaration\", \"declaration\", \"default\", \"default\", \"default\", \"default\", \"default\", \"default\", \"definition\", \"definition\", \"definition\", \"definition\", \"definition\", \"definition\", \"definition\", \"definition\", \"delete\", \"delete\", \"delete\", \"delete\", \"delete\", \"deploy\", \"deploy\", \"deploy\", \"deploy\", \"deploy\", \"detail\", \"detail\", \"detail\", \"detail\", \"detail\", \"detail\", \"development\", \"development\", \"development\", \"development\", \"device\", \"device\", \"device\", \"device\", \"device\", \"dialog\", \"dialog\", \"dialog\", \"difference\", \"difference\", \"difference\", \"difference\", \"difference\", \"difference\", \"difference\", \"difference\", \"directory\", \"directory\", \"directory\", \"directory\", \"disable\", \"disable\", \"disable\", \"disable\", \"disable\", \"display\", \"display\", \"display\", \"display\", \"display\", \"display\", \"display\", \"dll\", \"dll\", \"dll\", \"dom\", \"dom\", \"dom\", \"dom\", \"drop\", \"drop\", \"drop\", \"drop\", \"drop\", \"drop\", \"due\", \"due\", \"due\", \"easier\", \"easier\", \"easier\", \"easier\", \"easier\", \"easier\", \"easily\", \"easily\", \"easily\", \"easily\", \"easily\", \"easily\", \"eclipse\", \"eclipse\", \"eclipse\", \"eclipse\", \"edit\", \"edit\", \"either\", \"either\", \"either\", \"either\", \"either\", \"email\", \"email\", \"email\", \"email\", \"email\", \"email\", \"email\", \"enabled\", \"enabled\", \"enabled\", \"enabled\", \"entry\", \"entry\", \"entry\", \"entry\", \"environment\", \"environment\", \"environment\", \"error\", \"error\", \"error\", \"error\", \"error\", \"error\", \"error\", \"etc\", \"etc\", \"etc\", \"etc\", \"etc\", \"etc\", \"etc\", \"ever\", \"ever\", \"ever\", \"ever\", \"ever\", \"ever\", \"excel\", \"excel\", \"excel\", \"excel\", \"excel\", \"excel\", \"excel\", \"excel\", \"except\", \"execute\", \"execute\", \"execute\", \"execute\", \"execute\", \"execute\", \"execution\", \"execution\", \"execution\", \"execution\", \"execution\", \"execution\", \"export\", \"export\", \"export\", \"export\", \"export\", \"export\", \"express\", \"express\", \"express\", \"express\", \"express\", \"expression\", \"expression\", \"expression\", \"expression\", \"expression\", \"failed\", \"failed\", \"failed\", \"failed\", \"failed\", \"feel\", \"feel\", \"feel\", \"feel\", \"feel\", \"feel\", \"figure\", \"figure\", \"figure\", \"figure\", \"figure\", \"figure\", \"figure\", \"figure\", \"file\", \"file\", \"file\", \"file\", \"find\", \"find\", \"find\", \"find\", \"find\", \"find\", \"find\", \"firefox\", \"firefox\", \"firefox\", \"firefox\", \"firefox\", \"firstname\", \"firstname\", \"firstname\", \"firstname\", \"firstname\", \"firstname\", \"firstname\", \"firstname\", \"fix\", \"fix\", \"following\", \"following\", \"following\", \"following\", \"font\", \"font\", \"font\", \"font\", \"foo\", \"foo\", \"foo\", \"force\", \"force\", \"force\", \"force\", \"force\", \"force\", \"force\", \"force\", \"form\", \"form\", \"format\", \"format\", \"format\", \"format\", \"format\", \"format\", \"format\", \"framework\", \"framework\", \"free\", \"free\", \"free\", \"free\", \"free\", \"free\", \"full\", \"full\", \"full\", \"full\", \"full\", \"full\", \"full\", \"gem_root\", \"gem_root\", \"gem_root\", \"gem_root\", \"general\", \"general\", \"general\", \"general\", \"general\", \"general\", \"general\", \"general\", \"generated\", \"generated\", \"getting\", \"getting\", \"getting\", \"getting\", \"getting\", \"getting\", \"git\", \"git\", \"git\", \"git\", \"git\", \"git\", \"git\", \"git\", \"given\", \"goal\", \"goal\", \"goal\", \"goal\", \"goal\", \"goal\", \"grid\", \"grid\", \"groupid\", \"groupid\", \"groupid\", \"groupid\", \"handling\", \"handling\", \"handling\", \"handling\", \"handling\", \"head\", \"head\", \"head\", \"head\", \"header\", \"header\", \"header\", \"header\", \"header\", \"header\", \"height\", \"height\", \"height\", \"height\", \"height\", \"height\", \"hello\", \"help\", \"help\", \"help\", \"help\", \"help\", \"help\", \"hibernate\", \"hibernate\", \"hibernate\", \"hibernate\", \"hibernate\", \"hibernate\", \"hidden\", \"hidden\", \"hidden\", \"hidden\", \"hour\", \"hour\", \"hour\", \"hour\", \"href\", \"href\", \"href\", \"html\", \"html\", \"html\", \"html\", \"html\", \"html\", \"html\", \"http\", \"http\", \"http\", \"http\", \"http\", \"http\", \"http\", \"icon\", \"icon\", \"icon\", \"id\", \"id\", \"id\", \"id\", \"id\", \"ienumerable\", \"ienumerable\", \"ienumerable\", \"ii\", \"ii\", \"image\", \"image\", \"image\", \"image\", \"image\", \"img\", \"img\", \"import\", \"import\", \"import\", \"import\", \"import\", \"import\", \"index\", \"index\", \"index\", \"index\", \"index\", \"index\", \"index\", \"input\", \"input\", \"input\", \"input\", \"input\", \"input\", \"input\", \"insert\", \"insert\", \"insert\", \"insert\", \"insert\", \"insert\", \"install\", \"install\", \"installed\", \"installed\", \"installed\", \"instance\", \"instance\", \"instance\", \"instance\", \"instance\", \"instance\", \"instance\", \"instance\", \"int\", \"int\", \"int\", \"int\", \"int\", \"int\", \"integer\", \"integer\", \"integer\", \"interested\", \"interested\", \"interested\", \"interested\", \"internal\", \"internal\", \"internal\", \"internal\", \"internal\", \"item\", \"item\", \"item\", \"java\", \"java\", \"java\", \"java\", \"java\", \"java\", \"java\", \"javascript\", \"javascript\", \"job\", \"job\", \"job\", \"job\", \"job\", \"join\", \"join\", \"join\", \"join\", \"join\", \"join\", \"join\", \"json\", \"json\", \"json\", \"json\", \"keep\", \"keep\", \"keep\", \"keep\", \"keep\", \"keep\", \"known\", \"known\", \"known\", \"known\", \"known\", \"known\", \"last\", \"last\", \"last\", \"last\", \"last\", \"last\", \"layer\", \"left\", \"left\", \"left\", \"left\", \"left\", \"left\", \"level\", \"level\", \"level\", \"level\", \"level\", \"level\", \"level\", \"li\", \"li\", \"li\", \"li\", \"li\", \"li\", \"limit\", \"line\", \"line\", \"line\", \"line\", \"link\", \"link\", \"link\", \"link\", \"link\", \"link\", \"linux\", \"linux\", \"linux\", \"linux\", \"linux\", \"linux\", \"linux\", \"linux\", \"little\", \"little\", \"little\", \"little\", \"live\", \"live\", \"live\", \"load\", \"load\", \"load\", \"load\", \"load\", \"load\", \"load\", \"load\", \"logic\", \"logic\", \"logic\", \"logic\", \"looked\", \"looked\", \"machine\", \"machine\", \"machine\", \"machine\", \"machine\", \"machine\", \"main\", \"main\", \"main\", \"main\", \"main\", \"make\", \"make\", \"make\", \"make\", \"map\", \"map\", \"map\", \"map\", \"match\", \"match\", \"match\", \"match\", \"matter\", \"matter\", \"max\", \"max\", \"max\", \"max\", \"max\", \"max\", \"maybe\", \"maybe\", \"maybe\", \"maybe\", \"menu\", \"menu\", \"menu\", \"menu\", \"message\", \"message\", \"message\", \"method\", \"method\", \"method\", \"microsoft\", \"microsoft\", \"microsoft\", \"microsoft\", \"microsoft\", \"microsoft\", \"might\", \"might\", \"might\", \"might\", \"might\", \"might\", \"might\", \"might\", \"minute\", \"minute\", \"minute\", \"minute\", \"minute\", \"minute\", \"model\", \"model\", \"model\", \"module\", \"module\", \"module\", \"module\", \"module\", \"module\", \"month\", \"month\", \"month\", \"month\", \"month\", \"month\", \"move\", \"move\", \"move\", \"mx\", \"mx\", \"mx\", \"mx\", \"mysql\", \"mysql\", \"name\", \"name\", \"name\", \"name\", \"named\", \"named\", \"named\", \"named\", \"named\", \"named\", \"named\", \"named\", \"network\", \"network\", \"network\", \"network\", \"network\", \"network\", \"next\", \"next\", \"next\", \"next\", \"next\", \"next\", \"next\", \"nil\", \"nil\", \"note\", \"note\", \"note\", \"note\", \"note\", \"note\", \"note\", \"note\", \"number\", \"number\", \"number\", \"number\", \"number\", \"number\", \"obj\", \"obj\", \"obj\", \"obj\", \"obj\", \"obj\", \"obj\", \"object\", \"object\", \"obvious\", \"obvious\", \"obvious\", \"obvious\", \"obvious\", \"obvious\", \"obvious\", \"obvious\", \"open\", \"open\", \"open\", \"open\", \"open\", \"open\", \"open\", \"oracle\", \"oracle\", \"oracle\", \"oracle\", \"oracle\", \"oracle\", \"oracle\", \"order\", \"order\", \"order\", \"original\", \"original\", \"original\", \"original\", \"original\", \"original\", \"original\", \"otherwise\", \"otherwise\", \"otherwise\", \"otherwise\", \"otherwise\", \"otherwise\", \"otherwise\", \"page\", \"page\", \"page\", \"page\", \"page\", \"param\", \"param\", \"param\", \"param\", \"param\", \"param\", \"param\", \"parameter\", \"parameter\", \"parameter\", \"parameter\", \"parameter\", \"params\", \"params\", \"params\", \"parser\", \"parser\", \"parser\", \"parser\", \"parser\", \"parser\", \"parser\", \"part\", \"part\", \"part\", \"part\", \"path\", \"path\", \"path\", \"pattern\", \"pattern\", \"pattern\", \"pattern\", \"pattern\", \"pattern\", \"pattern\", \"performance\", \"performance\", \"performance\", \"performance\", \"performance\", \"performance\", \"performance\", \"perl\", \"perl\", \"person\", \"person\", \"person\", \"person\", \"phone\", \"phone\", \"phone\", \"phone\", \"phone\", \"phone\", \"place\", \"place\", \"place\", \"place\", \"place\", \"play\", \"play\", \"play\", \"play\", \"play\", \"play\", \"play\", \"play\", \"point\", \"point\", \"point\", \"point\", \"point\", \"point\", \"point\", \"port\", \"port\", \"port\", \"port\", \"port\", \"port\", \"port\", \"position\", \"position\", \"position\", \"pretty\", \"pretty\", \"pretty\", \"pretty\", \"prevent\", \"prevent\", \"prevent\", \"prevent\", \"prevent\", \"prevent\", \"prevent\", \"previous\", \"previous\", \"previous\", \"previous\", \"previous\", \"private\", \"private\", \"private\", \"private\", \"private\", \"probably\", \"probably\", \"probably\", \"probably\", \"probably\", \"probably\", \"process\", \"process\", \"process\", \"process\", \"product\", \"product\", \"product\", \"product\", \"product\", \"product\", \"program\", \"program\", \"program\", \"program\", \"program\", \"program\", \"project\", \"project\", \"project\", \"project\", \"project\", \"project\", \"project\", \"project\", \"provide\", \"provide\", \"provide\", \"provided\", \"provided\", \"provided\", \"provided\", \"provided\", \"provided\", \"provided\", \"purpose\", \"purpose\", \"purpose\", \"purpose\", \"purpose\", \"purpose\", \"push\", \"push\", \"push\", \"push\", \"push\", \"push\", \"push\", \"quite\", \"quite\", \"quite\", \"quite\", \"quite\", \"quite\", \"rail\", \"rail\", \"rail\", \"rail\", \"rail\", \"rail\", \"read\", \"read\", \"read\", \"read\", \"reason\", \"reason\", \"reason\", \"reason\", \"reason\", \"recently\", \"recently\", \"record\", \"record\", \"record\", \"record\", \"record\", \"ref\", \"ref\", \"regex\", \"regex\", \"regex\", \"regex\", \"regex\", \"regex\", \"registrynpmjsorg\", \"registrynpmjsorg\", \"registrynpmjsorg\", \"remove\", \"remove\", \"remove\", \"remove\", \"remove\", \"remove\", \"remove\", \"removed\", \"removed\", \"removed\", \"removed\", \"removed\", \"removed\", \"removed\", \"render\", \"render\", \"render\", \"rendering\", \"rendering\", \"rendering\", \"rendering\", \"rendering\", \"requirement\", \"requirement\", \"requirement\", \"requirement\", \"requirement\", \"requirement\", \"resource\", \"resource\", \"resource\", \"resource\", \"resource\", \"resource\", \"resource\", \"response\", \"response\", \"response\", \"response\", \"response\", \"response\", \"rest\", \"rest\", \"rest\", \"rest\", \"rest\", \"rest\", \"rest\", \"rest\", \"returned\", \"returned\", \"returned\", \"returned\", \"right\", \"right\", \"right\", \"role\", \"role\", \"role\", \"role\", \"role\", \"role\", \"role\", \"row\", \"row\", \"row\", \"row\", \"row\", \"row\", \"row\", \"ruby\", \"ruby\", \"ruby\", \"ruby\", \"ruby\", \"ruby\", \"save\", \"save\", \"save\", \"save\", \"say\", \"say\", \"say\", \"say\", \"schema\", \"schema\", \"schema\", \"schema\", \"schema\", \"schemasmicrosoftcom\", \"schemasmicrosoftcom\", \"schemasmicrosoftcom\", \"schemasmicrosoftcom\", \"schemasmicrosoftcom\", \"schemasmicrosoftcom\", \"schemasmicrosoftcom\", \"screen\", \"screen\", \"second\", \"second\", \"second\", \"seems\", \"seems\", \"seems\", \"seems\", \"seems\", \"seems\", \"seems\", \"seems\", \"seen\", \"seen\", \"seen\", \"seen\", \"seen\", \"seen\", \"seen\", \"select\", \"select\", \"select\", \"selected\", \"selected\", \"selected\", \"selected\", \"selected\", \"selected\", \"self\", \"self\", \"self\", \"self\", \"self\", \"self\", \"sender\", \"sender\", \"sender\", \"sender\", \"sender\", \"sequence\", \"sequence\", \"sequence\", \"sequence\", \"server\", \"server\", \"server\", \"server\", \"server\", \"server\", \"server\", \"service\", \"service\", \"service\", \"service\", \"session\", \"session\", \"session\", \"session\", \"shared\", \"shared\", \"shared\", \"shell\", \"shell\", \"shell\", \"shell\", \"shell\", \"shell\", \"shell\", \"since\", \"since\", \"since\", \"since\", \"since\", \"since\", \"since\", \"site\", \"site\", \"site\", \"site\", \"site\", \"site\", \"site\", \"small\", \"small\", \"socket\", \"socket\", \"software\", \"software\", \"software\", \"software\", \"something\", \"something\", \"something\", \"something\", \"something\", \"something\", \"something\", \"something\", \"sound\", \"sound\", \"sound\", \"sound\", \"sound\", \"sound\", \"sound\", \"source\", \"source\", \"source\", \"source\", \"source\", \"source\", \"source\", \"space\", \"space\", \"space\", \"specify\", \"specify\", \"specify\", \"specify\", \"speed\", \"speed\", \"speed\", \"speed\", \"spring\", \"spring\", \"spring\", \"spring\", \"spring\", \"starting\", \"starting\", \"starting\", \"starting\", \"starting\", \"starting\", \"starting\", \"state\", \"state\", \"state\", \"state\", \"state\", \"state\", \"static\", \"stop\", \"stop\", \"stop\", \"stop\", \"stop\", \"stop\", \"stored\", \"stored\", \"stored\", \"stored\", \"stored\", \"stored\", \"stored\", \"stream\", \"stream\", \"struct\", \"struct\", \"struct\", \"struct\", \"struct\", \"struct\", \"studio\", \"studio\", \"studio\", \"studio\", \"studio\", \"studio\", \"studio\", \"style\", \"style\", \"style\", \"successfully\", \"successfully\", \"successfully\", \"successfully\", \"successfully\", \"successfully\", \"sure\", \"sure\", \"syntax\", \"syntax\", \"syntax\", \"syntax\", \"syntax\", \"syntax\", \"syntax\", \"system\", \"system\", \"system\", \"system\", \"system\", \"tab\", \"tab\", \"tab\", \"tab\", \"tab\", \"tab\", \"tab\", \"tab\", \"tab\", \"table\", \"table\", \"table\", \"table\", \"table\", \"table\", \"table\", \"task\", \"template\", \"template\", \"template\", \"template\", \"template\", \"template\", \"term\", \"term\", \"term\", \"term\", \"term\", \"term\", \"term\", \"test\", \"test\", \"test\", \"test\", \"test\", \"test\", \"testing\", \"testing\", \"testing\", \"testing\", \"testing\", \"testing\", \"testing\", \"text\", \"text\", \"text\", \"textbox\", \"thread\", \"thread\", \"thread\", \"thread\", \"thread\", \"thread\", \"throw\", \"throw\", \"throw\", \"throw\", \"throw\", \"time\", \"time\", \"time\", \"time\", \"time\", \"time\", \"time\", \"title\", \"title\", \"title\", \"tmp\", \"tmp\", \"tmp\", \"tmp\", \"tmp\", \"tmp\", \"tmp\", \"tool\", \"tool\", \"tool\", \"tool\", \"tool\", \"tool\", \"tool\", \"tool\", \"tr\", \"tr\", \"transaction\", \"transaction\", \"transaction\", \"tree\", \"tree\", \"tree\", \"tree\", \"type\", \"type\", \"type\", \"type\", \"type\", \"type\", \"type\", \"typeof\", \"typeof\", \"typeof\", \"typeof\", \"typeof\", \"ui\", \"ui\", \"ui\", \"ui\", \"ui\", \"ui\", \"ul\", \"unfortunately\", \"unfortunately\", \"unfortunately\", \"unfortunately\", \"unfortunately\", \"updated\", \"updated\", \"updated\", \"updated\", \"uri\", \"uri\", \"uri\", \"url\", \"url\", \"url\", \"url\", \"url\", \"url\", \"use\", \"use\", \"use\", \"use\", \"use\", \"use\", \"use\", \"use\", \"user\", \"user\", \"user\", \"user\", \"user\", \"user\", \"user\", \"username\", \"username\", \"usr\", \"usr\", \"utf8\", \"utf8\", \"utf8\", \"valid\", \"valid\", \"valid\", \"valid\", \"valid\", \"valid\", \"validate\", \"validate\", \"validate\", \"validate\", \"varchar\", \"varchar\", \"varchar\", \"varchar\", \"varchar\", \"varchar\", \"varchar\", \"varchar\", \"variable\", \"variable\", \"variable\", \"variable\", \"variable\", \"variable\", \"variable\", \"various\", \"vc\", \"vc\", \"vc\", \"vc\", \"vc\", \"vc\", \"vc\", \"vc\", \"version\", \"version\", \"version\", \"via\", \"via\", \"via\", \"via\", \"via\", \"via\", \"via\", \"view\", \"view\", \"viewmodel\", \"viewmodel\", \"viewmodel\", \"viewmodel\", \"viewmodel\", \"viewmodel\", \"virtual\", \"virtual\", \"visual\", \"visual\", \"visual\", \"visual\", \"visual\", \"visual\", \"void\", \"void\", \"void\", \"void\", \"void\", \"wait\", \"wait\", \"wait\", \"wait\", \"wait\", \"wait\", \"wanted\", \"wanted\", \"wanted\", \"wanted\", \"wanted\", \"wanted\", \"wanted\", \"wcf\", \"wcf\", \"wcf\", \"wcf\", \"wcf\", \"wcf\", \"wcf\", \"wcf\", \"wcf\", \"web\", \"web\", \"webconfig\", \"webconfig\", \"webconfig\", \"webconfig\", \"webconfig\", \"webconfig\", \"webconfig\", \"whole\", \"whole\", \"widget\", \"widget\", \"width\", \"width\", \"width\", \"width\", \"width\", \"width\", \"width\", \"window\", \"window\", \"window\", \"window\", \"window\", \"wondering\", \"wondering\", \"wondering\", \"wondering\", \"wondering\", \"wondering\", \"wondering\", \"worker\", \"worker\", \"worker\", \"worker\", \"worker\", \"worker\", \"worker\", \"working\", \"working\", \"working\", \"working\", \"working\", \"working\", \"world\", \"world\", \"world\", \"world\", \"world\", \"world\", \"written\", \"written\", \"written\", \"wrong\", \"wrong\", \"xaml\", \"xaml\", \"xaml\", \"xaml\", \"xaml\", \"xaml\", \"xml\", \"xml\", \"xml\", \"xml\", \"xmlns\", \"xmlns\", \"xmlns\"]}, \"R\": 30, \"lambda.step\": 0.01, \"plot.opts\": {\"xlab\": \"PC1\", \"ylab\": \"PC2\"}, \"topic.order\": [7, 10, 8, 2, 4, 3, 1, 6, 9, 5]};\n",
       "\n",
       "function LDAvis_load_lib(url, callback){\n",
       "  var s = document.createElement('script');\n",
       "  s.src = url;\n",
       "  s.async = true;\n",
       "  s.onreadystatechange = s.onload = callback;\n",
       "  s.onerror = function(){console.warn(\"failed to load library \" + url);};\n",
       "  document.getElementsByTagName(\"head\")[0].appendChild(s);\n",
       "}\n",
       "\n",
       "if(typeof(LDAvis) !== \"undefined\"){\n",
       "   // already loaded: just create the visualization\n",
       "   !function(LDAvis){\n",
       "       new LDAvis(\"#\" + \"ldavis_el122642167516527944971498009\", ldavis_el122642167516527944971498009_data);\n",
       "   }(LDAvis);\n",
       "}else if(typeof define === \"function\" && define.amd){\n",
       "   // require.js is available: use it to load d3/LDAvis\n",
       "   require.config({paths: {d3: \"https://cdnjs.cloudflare.com/ajax/libs/d3/3.5.5/d3.min\"}});\n",
       "   require([\"d3\"], function(d3){\n",
       "      window.d3 = d3;\n",
       "      LDAvis_load_lib(\"https://cdn.rawgit.com/bmabey/pyLDAvis/files/ldavis.v1.0.0.js\", function(){\n",
       "        new LDAvis(\"#\" + \"ldavis_el122642167516527944971498009\", ldavis_el122642167516527944971498009_data);\n",
       "      });\n",
       "    });\n",
       "}else{\n",
       "    // require.js not available: dynamically load d3 & LDAvis\n",
       "    LDAvis_load_lib(\"https://cdnjs.cloudflare.com/ajax/libs/d3/3.5.5/d3.min.js\", function(){\n",
       "         LDAvis_load_lib(\"https://cdn.rawgit.com/bmabey/pyLDAvis/files/ldavis.v1.0.0.js\", function(){\n",
       "                 new LDAvis(\"#\" + \"ldavis_el122642167516527944971498009\", ldavis_el122642167516527944971498009_data);\n",
       "            })\n",
       "         });\n",
       "}\n",
       "</script>"
      ],
      "text/plain": [
       "PreparedData(topic_coordinates=               x          y  topics  cluster       Freq\n",
       "topic                                                  \n",
       "6     -96.589386  24.950237       1        1  24.103635\n",
       "9      88.614677  17.021690       2        1  15.568372\n",
       "7     -13.801842 -33.460793       3        1  15.040158\n",
       "1     -11.249109 -95.517563       4        1  11.728240\n",
       "3      31.267065  77.249123       5        1  10.922412\n",
       "2     -77.720375 -45.640770       6        1   8.958103\n",
       "0      26.660820  12.413454       7        1   6.185290\n",
       "5     -33.339455  24.555094       8        1   2.628912\n",
       "8      54.342808 -53.057274       9        1   2.596865\n",
       "4     -41.044472  87.354141      10        1   2.268014, topic_info=    Category        Freq       Term       Total  loglift  logprob\n",
       "830  Default  673.000000      speed  673.000000  30.0000  30.0000\n",
       "225  Default  594.000000   database  594.000000  29.0000  29.0000\n",
       "871  Default  702.000000        tab  702.000000  28.0000  28.0000\n",
       "373  Default  542.000000     format  542.000000  27.0000  27.0000\n",
       "783  Default  661.000000     server  661.000000  26.0000  26.0000\n",
       "..       ...         ...        ...         ...      ...      ...\n",
       "230  Topic10    0.380729       deal   54.193637  -1.1720  -8.9804\n",
       "700  Topic10    0.380807      quite   56.472386  -1.2129  -8.9802\n",
       "882  Topic10    0.388704       test  117.604733  -1.9260  -8.9597\n",
       "249  Topic10    0.382514     detail   82.673702  -1.5896  -8.9757\n",
       "185  Topic10    0.381164  condition   78.491468  -1.5413  -8.9792\n",
       "\n",
       "[506 rows x 6 columns], token_table=      Topic      Freq   Term\n",
       "term                        \n",
       "7         1  0.439909     18\n",
       "7         2  0.135357     18\n",
       "7         3  0.033839     18\n",
       "7         4  0.304552     18\n",
       "7         7  0.033839     18\n",
       "...     ...       ...    ...\n",
       "995       4  0.085987    xml\n",
       "995       7  0.737035    xml\n",
       "996       1  0.064618  xmlns\n",
       "996       3  0.096927  xmlns\n",
       "996       4  0.807728  xmlns\n",
       "\n",
       "[1936 rows x 3 columns], R=30, lambda_step=0.01, plot_opts={'xlab': 'PC1', 'ylab': 'PC2'}, topic_order=[7, 10, 8, 2, 4, 3, 1, 6, 9, 5])"
      ]
     },
     "execution_count": 24,
     "metadata": {},
     "output_type": "execute_result"
    }
   ],
   "source": [
    "pyLDAvis.enable_notebook()\n",
    "panel = pyLDAvis.sklearn.prepare(lda_model, X_tfidf_train, tfidf_vectorizer, mds='tsne')\n",
    "panel"
   ]
  },
  {
   "cell_type": "markdown",
   "metadata": {},
   "source": [
    "#### 1.3.2 Negative Matrix Factorisation (NMF) - train dataset"
   ]
  },
  {
   "cell_type": "code",
   "execution_count": 25,
   "metadata": {},
   "outputs": [
    {
     "name": "stdout",
     "output_type": "stream",
     "text": [
      "Topics found via NMF:\n",
      "\n",
      "Topic #0:\n",
      "window application use code way one time java net app\n",
      "\n",
      "Topic #1:\n",
      "function var return value array javascript call foo code error\n",
      "\n",
      "Topic #2:\n",
      "table sql query column database select row data value server\n",
      "\n",
      "Topic #3:\n",
      "image page text html script javascript cs button jquery content\n",
      "\n",
      "Topic #4:\n",
      "file directory path line folder script xml command source error\n",
      "\n",
      "Topic #5:\n",
      "class public object method new property void type int private\n",
      "\n",
      "Topic #6:\n",
      "string list value character new array name return public convert\n",
      "\n",
      "Topic #7:\n",
      "service server web request aspnet error http client user application\n",
      "\n",
      "Topic #8:\n",
      "test unit run testing mock running code build fail output\n",
      "\n",
      "Topic #9:\n",
      "visual studio project build 2008 2010 assembly solution version error\n",
      "\n"
     ]
    }
   ],
   "source": [
    "n_topics = 10\n",
    "n_top_words = 10\n",
    "\n",
    "\n",
    "def print_top_words(model, feature_names, n_top_words):\n",
    "    for topic_idx, topic in enumerate(model.components_):\n",
    "        print(\"\\nTopic #%d:\" % topic_idx)\n",
    "        print(\" \".join([feature_names[i]\n",
    "                        for i in topic.argsort()[:-n_top_words - 1:-1]]))\n",
    "    print()\n",
    "\n",
    "\n",
    "nmf = NMF(n_components = n_topics, random_state = 0, alpha = 0.1, l1_ratio = 0.5).fit(X_tfidf_train)\n",
    "\n",
    "print(\"Topics found via NMF:\")\n",
    "print_top_words(nmf, tfidf_feature_names, n_top_words)"
   ]
  },
  {
   "cell_type": "markdown",
   "metadata": {},
   "source": [
    "### 1.4 Méthode 2: Approche purement supervisée"
   ]
  },
  {
   "cell_type": "code",
   "execution_count": 26,
   "metadata": {
    "scrolled": true
   },
   "outputs": [],
   "source": [
    "def train_classifier(X_train, y_train, X_valid=None, y_valid=None, C=1.0, model='lr'):\n",
    "    \"\"\"\n",
    "      X_train, y_train — training data\n",
    "      \n",
    "      return: trained classifier\n",
    "      \n",
    "    \"\"\"\n",
    "    \n",
    "    if model=='lr':\n",
    "        model = LogisticRegression(C=C, penalty='l1', dual=False, solver='liblinear')\n",
    "        model = OneVsRestClassifier(model)\n",
    "        model.fit(X_train, y_train)\n",
    "    \n",
    "    elif model=='svm':\n",
    "        model = LinearSVC(C=C, penalty='l1', dual=False, loss='squared_hinge')\n",
    "        model = OneVsRestClassifier(model)\n",
    "        model.fit(X_train, y_train)\n",
    "    \n",
    "    elif model=='nbayes':\n",
    "        model = MultinomialNB(alpha=0.3)\n",
    "        model = OneVsRestClassifier(model)\n",
    "        model.fit(X_train, y_train)\n",
    "        \n",
    "    elif model=='mlp':\n",
    "        model = MLPClassifier()\n",
    "        model = OneVsRestClassifier(model)\n",
    "        model.fit(X_train, y_train)\n",
    "\n",
    "    return model\n"
   ]
  },
  {
   "cell_type": "markdown",
   "metadata": {},
   "source": [
    "#### 1.4.1 Réression logistique"
   ]
  },
  {
   "cell_type": "code",
   "execution_count": 27,
   "metadata": {},
   "outputs": [
    {
     "name": "stdout",
     "output_type": "stream",
     "text": [
      "Wall time: 22.3 s\n"
     ]
    }
   ],
   "source": [
    "%time classifier_tfidf = train_classifier(X_tfidf_train, y_train, C=1.0, model='lr')"
   ]
  },
  {
   "cell_type": "code",
   "execution_count": 28,
   "metadata": {},
   "outputs": [],
   "source": [
    "y_test_predicted_labels_tfidf = classifier_tfidf.predict(X_tfidf_test)"
   ]
  },
  {
   "cell_type": "code",
   "execution_count": 29,
   "metadata": {
    "scrolled": false
   },
   "outputs": [
    {
     "name": "stdout",
     "output_type": "stream",
     "text": [
      "Title:\t['assembly', 'add', 'reference', 'dialog', 'differ', 'depending', 'net', 'framework', 'used', 'curious', 'listing', 'assembly', 'add', 'reference', 'dialog', 'vary', 'depending', 'version', 'net', 'framework', 'used', 'selected', 'project', 'differ', 'love', 'difference', 'lie', 'thanks']\n",
      "True labels:\t.net,c#,visual-studio\n",
      "Predicted labels:\t\n",
      "\n",
      "\n",
      "Title:\t['check', 'socket', 'still', 'open', 'c++', 'app', 'us', 'standard', 'socket', 'call', 'want', 'tell', 'socket', 'still', 'open', 'without', 'sending', 'receiving', 'data', 'reliable', 'select', 'ioctlsocket', 'call', 'make']\n",
      "True labels:\tc++\n",
      "Predicted labels:\t\n",
      "\n",
      "\n",
      "Title:\t['array', 'case', '5', '5', 'joel', 'point', 'stack', 'overflow', 'podcast', '#', '34', 'c', 'programming', 'language', 'aka', 'k', 'r', 'mention', 'property', 'array', 'c', '5', '5', 'joel', 'say', 'pointer', 'arithmetic', 'still', 'understand', '5', '5']\n",
      "True labels:\tarrays\n",
      "Predicted labels:\t\n",
      "\n",
      "\n",
      "Title:\t['class', 'net', 'application', 'internal', 'note', 'application', 'opposed', 'library', 'wpf', 'application', 'broken', 'main', 'application', 'project', 'associated', 'class', 'library', 'circumstance', 'class', 'main', 'application', 'public', 'opposed', 'internal', 'example', 'data', 'binding', 'wpf', 'value', 'converter', 'public', 'xaml', 'assembly']\n",
      "True labels:\t.net\n",
      "Predicted labels:\t\n",
      "\n",
      "\n",
      "Title:\t['best', 'approach', 'sql', 'server', 'query', 'distinct', 'two', 'table', 'tablea', 'tableb', 'joined', 'tableatablea_id', '1n', 'tablebtablea_id', 'simple', 'pkfk', 'extract', 'distinct', 'tablea', 'record', 'given', 'certain', 'condition', 'tableb', '1st', 'approach', 'select', 'tablea', 'inner', 'join', 'tableb', 'b', 'aida', 'bida', 'bdate', '20090110', 'order', 'aid', 'nice', 'give', 'distinct', 'record', 'record', 'table', 'b', 'may', 'duplicate', 'hence', 'get', 'record', 'decided', 'perform', 'subselect', 'performance', 'issue', 'given', 'subselect', 'probably', 'end', '20', '30', 'record', 'max', 'select', 'tablea', 'tableaid', 'select', 'distinct', 'ida', 'tableb', 'date', '20090110', 'order', 'tableaida', 'question', 'use', 'inner', 'join', 'still', 'get', 'distinct', 'value', 'possible', 'one', 'pas', 'nested', 'query', 'must', 'missing']\n",
      "True labels:\tsql,sql-server,tsql\n",
      "Predicted labels:\tjavascript\n",
      "\n",
      "\n",
      "Title:\t['inject', 'text', 'resource', 'prebuilt', 'native', 'exe', 'native', 'exe', 'namely', 'setupexe', 'type', 'file', 'inject', 'text', 'resource', 'eg', 'serverx123456', 'purpose', 'upon', 'running', 'exe', 'read', 'text', 'resource', 'act', 'accordingly', 'way', 'c', '#', 'code', 'note', 'similar', 'question', 'focused', 'injecting', 'skin', 'wpf', 'app']\n",
      "True labels:\tc#\n",
      "Predicted labels:\tpython\n",
      "\n",
      "\n",
      "Title:\t['consideration', 'store', 'document', 'file', 'server', 'db', 'design', 'decision', 'make', 'regarding', 'document', 'uploaded', 'web', 'site', 'either', 'store', 'file', 'server', 'somewhere', 'store', 'blob', 'database', 'mssql', '2005', 'make', 'difference', 'design', 'decision', 'document', 'confidential', 'must', 'certain', 'degree', 'protection', 'consideration', 'thought', 'storing', 'file', 'server', 'make', 'huuuuuuuge', 'number', 'file', 'dumped', 'single', 'directory', 'therefore', 'slower', 'access', 'unless', 'reasonable', 'semantic', 'definition', 'directory', 'tree', 'structure', 'otoh', 'guessing', 'file', 'server', 'handle', 'compression', 'somewhat', 'better', 'db', 'wrong', 'instinct', 'tell', 'db', 'security', 'stronger', 'file', 'server', 'sure', 'necessarily', 'true', 'terabyte', 'blob', 'db', 'affect', 'performance', 'much', 'appreciate', 'recommendation', 'thanks']\n",
      "True labels:\tsql-server\n",
      "Predicted labels:\t\n",
      "\n",
      "\n",
      "Title:\t['programmatically', 'click', 'checkbox', 'way', 'programmatically', 'generate', 'click', 'event', 'checkbox', 'looking', 'equivalent', 'buttonperformclick']\n",
      "True labels:\t.net,c#,winforms\n",
      "Predicted labels:\t\n",
      "\n",
      "\n",
      "Title:\t['v', '2008', 'window', 'form', 'make', 'view', 'code', 'default', 'usercontrols', 'usercontrols', 'designed', 'window', 'form', 'designer', 'v', '2008', 'pretty', 'much', 'useless', 'take', 'time', 'designer', 'throw', 'exception', 'accidentally', 'doubleclicking', 'usercontrol', 'solution', 'explorer', 'way', 'make', 'designer', 'open', 'c', '#', 'code', 'view', 'doubleclicking', 'usercontrol', 'file']\n",
      "True labels:\tvisual-studio,winforms\n",
      "Predicted labels:\tvisual-studio-2008,winforms\n",
      "\n",
      "\n",
      "Title:\t['run', 'different', 'framework', 'sidebyside', 'owin', 'impression', 'one', 'big', 'benefit', 'owin', 'make', 'easy', 'run', 'different', 'web', 'framework', 'sidebyside', 'without', 'ii', 'ihttphandler', 'huge', 'distributing', 'vertical', 'functionality', 'slice', 'nuget', 'feature', 'however', 'every', 'tutorial', 'article', 'find', 'talk', 'thing', 'selfhost', 'single', 'framework', 'interested', 'interested', 'running', 'mvc', 'nancy', 'web', 'api', 'maybe', 'even', 'webforms', 'application', 'wrong', 'owin', 'enabling', 'want', 'mvc', 'handle', 'request', 'webforms', 'handle', 'request', 'versionlegacy', 'header', 'nancy', 'handle', 'request', 'nancy', 'configure', 'startup', 'class', 'enable']\n",
      "True labels:\t.net\n",
      "Predicted labels:\t\n",
      "\n",
      "\n",
      "Title:\t['different', 'setting', 'pc', 'application', 'ran', 'creating', 'cash', 'register', 'program', 'distributed', 'via', 'clickonce', 'believe', 'right', 'term', 'v', 'builtin', 'packaging', 'pc', 'run', 'software', 'different', 'setting', 'thing', 'credit', 'card', 'processing', 'store', 'setting', 'overwritten', 'every', 'time', 'update', 'unique', 'based', 'pc', 'installed']\n",
      "True labels:\tc#,winforms\n",
      "Predicted labels:\t\n",
      "\n",
      "\n",
      "Title:\t['forcing', 'mfc', 'app', 'run', 'administrator', 'vista', 'mfc', 'app', 'built', 'visual', 'studio', '2008', 'need', 'run', 'w2k', 'xp', '2003', 'vista', 'application', 'writes', 'hklm', 'registry', 'vista', 'run', 'administrator', 'question', 'force', 'app', 'run', 'adminstrator', 'automatically', 'involve', 'creating', 'manifest', 'file', 'moment', 'following', 'stdafxh', 'guess', 'creates', 'manifest', 'file', 'fly', '#', 'pragma', 'comment', 'linker', 'manifestdependency', 'typewin32', 'namemicrosoftwindowscommoncontrols', 'version', '6000', 'processorarchitecturex86', 'publickeytoken6595b64144ccf1df', 'language', 'modify', 'line', 'force', 'elevation', 'something', 'vc', 'project', 'manifest', 'setting', 'thanks', 'advance']\n",
      "True labels:\tc++\n",
      "Predicted labels:\t\n",
      "\n",
      "\n",
      "Title:\t['java', 'applet', 'standalone', 'window', 'application', 'java', 'applet', 'meant', 'run', 'window', 'us', '3rd', 'party', 'com', 'object', 'crossplatform', 'way', 'run', 'java', 'applet', 'standalone', 'application', 'window']\n",
      "True labels:\tjava\n",
      "Predicted labels:\tc#,winforms\n",
      "\n",
      "\n",
      "Title:\t['uiview', 'animation', 'working', 'addsubview', 'ipad', 'app', 'displaying', 'note', 'subclassed', 'uilabel', 'text', 'order', 'navigate', 'next', 'note', 'slide', 'screen', 'left', 'next', 'one', 'slide', 'right', 'get', 'either', 'animation', 'time', 'code', 'controller', 'void', 'slideoutleft', 'create', 'new', 'note', 'flslidingnote', 'newnote', 'flslidingnote', 'alloc', 'init', 'newnotetext', 'blah', 'blah', 'cgrect', 'newframe', 'cgrectmake', '1000', '70', '637', '297', 'right', 'newnoteframe', 'newframe', 'selfview', 'addsubview', 'newnote', 'slide', 'current', 'one', 'cgrect', 'currentframeend', 'notelabelframe', 'notelabel', 'existing', 'note', 'currentframeendoriginx', '0', 'notelabelframesizewidth', 'left', 'uiview', 'animatewithduration10', 'animation', 'notelabelframe', 'currentframeend', 'completion', 'nil', 'notelabel', 'animate', 'comment', 'addsubview', 'newnote', 'part', 'still', 'relatively', 'new', 'probably', 'something', 'simple', 'problem', 'happens', 'whether', 'newnote', 'animated', 'animated', 'code', 'snippet']\n",
      "True labels:\tcocoa-touch,objective-c\n",
      "Predicted labels:\t\n",
      "\n",
      "\n",
      "Title:\t['aspnet', 'mvc', 'route', 'value', 'controller', 'trailing', 'slash', 'probably', 'simple', 'question', 'ca', 'get', 'route', 'specified', 'routeconfig', 'routesmaproute', 'name', 'defaultsiteroute', 'url', 'accountid', 'hostname', 'controller', 'action', 'default', 'new', 'controller', 'home', 'action', 'index', 'urlparameteroptional', 'accountid', 'urlparameteroptional', 'hostname', 'urlparameteroptional', 'url', '123456', 'wwwtestcom', '123456', 'wwwtestcom', 'controller', 'action', 'ca', 'cope', '123456', 'wwwtestcom', 'get', 'ii', '404', 'stranger', 'call', 'urlaction', 'route', 'default', 'controller', 'action', 'ie', 'home', 'index', 'creates', 'url', 'without', 'trailing', 'slash', 'recognise', 'really', 'without', 'trailing', 'slash']\n",
      "True labels:\tasp.net-mvc\n",
      "Predicted labels:\t\n",
      "\n",
      "\n",
      "Title:\t['select', 'max', 'int', 'varchar', 'column', 'trying', 'retrieve', 'largest', 'number', 'varchar', 'column', 'includes', 'number', 'string', 'example', 'data', 'working', 'boxnumber', '123', 'a5', '789', 'b1', 'return', 'largest', 'number', '789', 'case', 'column', 'ignoring', 'nonnumeric', 'value', 'a5', 'b1', 'found', 'solution', 'use', 'custom', 'function', 'solve', 'problem', 'something', 'executed', 'adhoc', 'query', 'without', 'relying', 'custom', 'function', 'procs']\n",
      "True labels:\tsql-server,tsql\n",
      "Predicted labels:\t\n",
      "\n",
      "\n",
      "Title:\t['partcover', '23', 'net', '40', 'runtime', 'successfully', 'partcover', '23', 'working', 'v', '2008', '64bit', 'machine', 'trying', 'get', 'v', '2010', 'nunit', '253', 'nunit', 'correct', 'clr', 'version', 'ca', 'get', 'partcover', 'produce', 'output', 'get', 'empty', 'report', 'xml', 'file', 'partcoverreport', 'date', '20100330t1609051009099+0100', 'get', 'partcover', '23', '22', 'guess', 'nunit', '253', 'net', '40']\n",
      "True labels:\t.net\n",
      "Predicted labels:\t\n",
      "\n",
      "\n",
      "Title:\t['take', 'photo', 'email', 'user', 'take', 'photo', 'open', 'email', 'dialog', 'photo', 'attached', 'far', 'private', 'void', 'btnsubmitphoto_click', 'object', 'sender', 'eventargs', 'e', 'cameracapturetask', 'cameracapturetask', 'new', 'cameracapturetask', 'cameracapturetaskcompleted', '+', 'cameracapturetask_completed', 'cameracapturetaskshow', 'private', 'void', 'cameracapturetask_completed', 'object', 'sender', 'photoresult', 'e', 'etaskresult', 'taskresultok', 'currentimage', 'new', 'bitmapimage', 'currentimagesetsource', 'echosenphoto', 'emailcomposetask', 'ect', 'new', 'emailcomposetask', 'see', 'add', 'attachment', 'emailcomposetask', 'missing', 'something']\n",
      "True labels:\tc#,email\n",
      "Predicted labels:\t\n",
      "\n",
      "\n",
      "Title:\t['force', 'com', 'object', 'use', 'dllsurrogate', 'see', 'question', 'question', 'turn', 'load', 'com', 'class', 'surrogate', 'process', 'must', 'specify', 'clsctx_inproc', 'flag', 'calling', 'cocreateinstance', 'allow', 'host', 'use', 'clsctx_all', 'allow', 'individual', 'com', 'class', 'opt', 'dllhost', 'reason', 'ask', 'locate', 'com', 'class', 'component', 'category', 'pas', 'clsctx_all', 'creating', 'inproc', 'able', 'outofproc']\n",
      "True labels:\tcom\n",
      "Predicted labels:\tcom,ruby-on-rails\n",
      "\n",
      "\n",
      "Title:\t['visual', 'gui', 'designer', 'apache', 'pivot', 'learned', 'apache', 'pivot', 'existence', 'question', 'java', 'gui', 'framework', 'choose', 'swing', 'swt', 'awt', 'swingx', 'jgoodies', 'javafx', 'apache', 'pivot', 'seems', 'good', 'fit', 'current', 'project', 'involves', 'letting', 'user', 'create', 'gui', 'dynamically', 'however', 'also', 'deliver', 'visual', 'gui', 'designer', 'whatever', 'technology', 'choose', 'already', 'designer', 'pivot', 'googling', 'seems', 'suggest', 'asking', 'case', 'missed', 'one']\n",
      "True labels:\tjava\n",
      "Predicted labels:\t\n",
      "\n",
      "\n"
     ]
    }
   ],
   "source": [
    "y_test_pred_inversed = mlb.inverse_transform(y_test_predicted_labels_tfidf)\n",
    "y_test_inversed = mlb.inverse_transform(y_test)\n",
    "for i in range(20):\n",
    "    print('Title:\\t{}\\nTrue labels:\\t{}\\nPredicted labels:\\t{}\\n\\n'.format(\n",
    "        X_test.iloc[i],\n",
    "        ','.join(y_test_inversed[i]),\n",
    "        ','.join(y_test_pred_inversed[i])\n",
    "    ))"
   ]
  },
  {
   "cell_type": "markdown",
   "metadata": {},
   "source": [
    "#### 1.4.2 SVM"
   ]
  },
  {
   "cell_type": "code",
   "execution_count": 30,
   "metadata": {},
   "outputs": [
    {
     "name": "stdout",
     "output_type": "stream",
     "text": [
      "Wall time: 2min 5s\n"
     ]
    }
   ],
   "source": [
    "%time classifier_tfidf = train_classifier(X_tfidf_train, y_train, C=1.0, model='svm')"
   ]
  },
  {
   "cell_type": "code",
   "execution_count": 31,
   "metadata": {},
   "outputs": [],
   "source": [
    "y_test_predicted_labels_tfidf = classifier_tfidf.predict(X_tfidf_test)"
   ]
  },
  {
   "cell_type": "code",
   "execution_count": 32,
   "metadata": {
    "scrolled": false
   },
   "outputs": [
    {
     "name": "stdout",
     "output_type": "stream",
     "text": [
      "Title:\t['assembly', 'add', 'reference', 'dialog', 'differ', 'depending', 'net', 'framework', 'used', 'curious', 'listing', 'assembly', 'add', 'reference', 'dialog', 'vary', 'depending', 'version', 'net', 'framework', 'used', 'selected', 'project', 'differ', 'love', 'difference', 'lie', 'thanks']\n",
      "True labels:\t.net,c#,visual-studio\n",
      "Predicted labels:\t\n",
      "\n",
      "\n",
      "Title:\t['check', 'socket', 'still', 'open', 'c++', 'app', 'us', 'standard', 'socket', 'call', 'want', 'tell', 'socket', 'still', 'open', 'without', 'sending', 'receiving', 'data', 'reliable', 'select', 'ioctlsocket', 'call', 'make']\n",
      "True labels:\tc++\n",
      "Predicted labels:\t\n",
      "\n",
      "\n",
      "Title:\t['array', 'case', '5', '5', 'joel', 'point', 'stack', 'overflow', 'podcast', '#', '34', 'c', 'programming', 'language', 'aka', 'k', 'r', 'mention', 'property', 'array', 'c', '5', '5', 'joel', 'say', 'pointer', 'arithmetic', 'still', 'understand', '5', '5']\n",
      "True labels:\tarrays\n",
      "Predicted labels:\t\n",
      "\n",
      "\n",
      "Title:\t['class', 'net', 'application', 'internal', 'note', 'application', 'opposed', 'library', 'wpf', 'application', 'broken', 'main', 'application', 'project', 'associated', 'class', 'library', 'circumstance', 'class', 'main', 'application', 'public', 'opposed', 'internal', 'example', 'data', 'binding', 'wpf', 'value', 'converter', 'public', 'xaml', 'assembly']\n",
      "True labels:\t.net\n",
      "Predicted labels:\tmacos\n",
      "\n",
      "\n",
      "Title:\t['best', 'approach', 'sql', 'server', 'query', 'distinct', 'two', 'table', 'tablea', 'tableb', 'joined', 'tableatablea_id', '1n', 'tablebtablea_id', 'simple', 'pkfk', 'extract', 'distinct', 'tablea', 'record', 'given', 'certain', 'condition', 'tableb', '1st', 'approach', 'select', 'tablea', 'inner', 'join', 'tableb', 'b', 'aida', 'bida', 'bdate', '20090110', 'order', 'aid', 'nice', 'give', 'distinct', 'record', 'record', 'table', 'b', 'may', 'duplicate', 'hence', 'get', 'record', 'decided', 'perform', 'subselect', 'performance', 'issue', 'given', 'subselect', 'probably', 'end', '20', '30', 'record', 'max', 'select', 'tablea', 'tableaid', 'select', 'distinct', 'ida', 'tableb', 'date', '20090110', 'order', 'tableaida', 'question', 'use', 'inner', 'join', 'still', 'get', 'distinct', 'value', 'possible', 'one', 'pas', 'nested', 'query', 'must', 'missing']\n",
      "True labels:\tsql,sql-server,tsql\n",
      "Predicted labels:\tjavascript\n",
      "\n",
      "\n",
      "Title:\t['inject', 'text', 'resource', 'prebuilt', 'native', 'exe', 'native', 'exe', 'namely', 'setupexe', 'type', 'file', 'inject', 'text', 'resource', 'eg', 'serverx123456', 'purpose', 'upon', 'running', 'exe', 'read', 'text', 'resource', 'act', 'accordingly', 'way', 'c', '#', 'code', 'note', 'similar', 'question', 'focused', 'injecting', 'skin', 'wpf', 'app']\n",
      "True labels:\tc#\n",
      "Predicted labels:\tpython\n",
      "\n",
      "\n",
      "Title:\t['consideration', 'store', 'document', 'file', 'server', 'db', 'design', 'decision', 'make', 'regarding', 'document', 'uploaded', 'web', 'site', 'either', 'store', 'file', 'server', 'somewhere', 'store', 'blob', 'database', 'mssql', '2005', 'make', 'difference', 'design', 'decision', 'document', 'confidential', 'must', 'certain', 'degree', 'protection', 'consideration', 'thought', 'storing', 'file', 'server', 'make', 'huuuuuuuge', 'number', 'file', 'dumped', 'single', 'directory', 'therefore', 'slower', 'access', 'unless', 'reasonable', 'semantic', 'definition', 'directory', 'tree', 'structure', 'otoh', 'guessing', 'file', 'server', 'handle', 'compression', 'somewhat', 'better', 'db', 'wrong', 'instinct', 'tell', 'db', 'security', 'stronger', 'file', 'server', 'sure', 'necessarily', 'true', 'terabyte', 'blob', 'db', 'affect', 'performance', 'much', 'appreciate', 'recommendation', 'thanks']\n",
      "True labels:\tsql-server\n",
      "Predicted labels:\t\n",
      "\n",
      "\n",
      "Title:\t['programmatically', 'click', 'checkbox', 'way', 'programmatically', 'generate', 'click', 'event', 'checkbox', 'looking', 'equivalent', 'buttonperformclick']\n",
      "True labels:\t.net,c#,winforms\n",
      "Predicted labels:\t\n",
      "\n",
      "\n",
      "Title:\t['v', '2008', 'window', 'form', 'make', 'view', 'code', 'default', 'usercontrols', 'usercontrols', 'designed', 'window', 'form', 'designer', 'v', '2008', 'pretty', 'much', 'useless', 'take', 'time', 'designer', 'throw', 'exception', 'accidentally', 'doubleclicking', 'usercontrol', 'solution', 'explorer', 'way', 'make', 'designer', 'open', 'c', '#', 'code', 'view', 'doubleclicking', 'usercontrol', 'file']\n",
      "True labels:\tvisual-studio,winforms\n",
      "Predicted labels:\tvisual-studio-2008,winforms\n",
      "\n",
      "\n",
      "Title:\t['run', 'different', 'framework', 'sidebyside', 'owin', 'impression', 'one', 'big', 'benefit', 'owin', 'make', 'easy', 'run', 'different', 'web', 'framework', 'sidebyside', 'without', 'ii', 'ihttphandler', 'huge', 'distributing', 'vertical', 'functionality', 'slice', 'nuget', 'feature', 'however', 'every', 'tutorial', 'article', 'find', 'talk', 'thing', 'selfhost', 'single', 'framework', 'interested', 'interested', 'running', 'mvc', 'nancy', 'web', 'api', 'maybe', 'even', 'webforms', 'application', 'wrong', 'owin', 'enabling', 'want', 'mvc', 'handle', 'request', 'webforms', 'handle', 'request', 'versionlegacy', 'header', 'nancy', 'handle', 'request', 'nancy', 'configure', 'startup', 'class', 'enable']\n",
      "True labels:\t.net\n",
      "Predicted labels:\t\n",
      "\n",
      "\n",
      "Title:\t['different', 'setting', 'pc', 'application', 'ran', 'creating', 'cash', 'register', 'program', 'distributed', 'via', 'clickonce', 'believe', 'right', 'term', 'v', 'builtin', 'packaging', 'pc', 'run', 'software', 'different', 'setting', 'thing', 'credit', 'card', 'processing', 'store', 'setting', 'overwritten', 'every', 'time', 'update', 'unique', 'based', 'pc', 'installed']\n",
      "True labels:\tc#,winforms\n",
      "Predicted labels:\tunit-testing\n",
      "\n",
      "\n",
      "Title:\t['forcing', 'mfc', 'app', 'run', 'administrator', 'vista', 'mfc', 'app', 'built', 'visual', 'studio', '2008', 'need', 'run', 'w2k', 'xp', '2003', 'vista', 'application', 'writes', 'hklm', 'registry', 'vista', 'run', 'administrator', 'question', 'force', 'app', 'run', 'adminstrator', 'automatically', 'involve', 'creating', 'manifest', 'file', 'moment', 'following', 'stdafxh', 'guess', 'creates', 'manifest', 'file', 'fly', '#', 'pragma', 'comment', 'linker', 'manifestdependency', 'typewin32', 'namemicrosoftwindowscommoncontrols', 'version', '6000', 'processorarchitecturex86', 'publickeytoken6595b64144ccf1df', 'language', 'modify', 'line', 'force', 'elevation', 'something', 'vc', 'project', 'manifest', 'setting', 'thanks', 'advance']\n",
      "True labels:\tc++\n",
      "Predicted labels:\truby-on-rails\n",
      "\n",
      "\n",
      "Title:\t['java', 'applet', 'standalone', 'window', 'application', 'java', 'applet', 'meant', 'run', 'window', 'us', '3rd', 'party', 'com', 'object', 'crossplatform', 'way', 'run', 'java', 'applet', 'standalone', 'application', 'window']\n",
      "True labels:\tjava\n",
      "Predicted labels:\tc#,winforms\n",
      "\n",
      "\n",
      "Title:\t['uiview', 'animation', 'working', 'addsubview', 'ipad', 'app', 'displaying', 'note', 'subclassed', 'uilabel', 'text', 'order', 'navigate', 'next', 'note', 'slide', 'screen', 'left', 'next', 'one', 'slide', 'right', 'get', 'either', 'animation', 'time', 'code', 'controller', 'void', 'slideoutleft', 'create', 'new', 'note', 'flslidingnote', 'newnote', 'flslidingnote', 'alloc', 'init', 'newnotetext', 'blah', 'blah', 'cgrect', 'newframe', 'cgrectmake', '1000', '70', '637', '297', 'right', 'newnoteframe', 'newframe', 'selfview', 'addsubview', 'newnote', 'slide', 'current', 'one', 'cgrect', 'currentframeend', 'notelabelframe', 'notelabel', 'existing', 'note', 'currentframeendoriginx', '0', 'notelabelframesizewidth', 'left', 'uiview', 'animatewithduration10', 'animation', 'notelabelframe', 'currentframeend', 'completion', 'nil', 'notelabel', 'animate', 'comment', 'addsubview', 'newnote', 'part', 'still', 'relatively', 'new', 'probably', 'something', 'simple', 'problem', 'happens', 'whether', 'newnote', 'animated', 'animated', 'code', 'snippet']\n",
      "True labels:\tcocoa-touch,objective-c\n",
      "Predicted labels:\t\n",
      "\n",
      "\n",
      "Title:\t['aspnet', 'mvc', 'route', 'value', 'controller', 'trailing', 'slash', 'probably', 'simple', 'question', 'ca', 'get', 'route', 'specified', 'routeconfig', 'routesmaproute', 'name', 'defaultsiteroute', 'url', 'accountid', 'hostname', 'controller', 'action', 'default', 'new', 'controller', 'home', 'action', 'index', 'urlparameteroptional', 'accountid', 'urlparameteroptional', 'hostname', 'urlparameteroptional', 'url', '123456', 'wwwtestcom', '123456', 'wwwtestcom', 'controller', 'action', 'ca', 'cope', '123456', 'wwwtestcom', 'get', 'ii', '404', 'stranger', 'call', 'urlaction', 'route', 'default', 'controller', 'action', 'ie', 'home', 'index', 'creates', 'url', 'without', 'trailing', 'slash', 'recognise', 'really', 'without', 'trailing', 'slash']\n",
      "True labels:\tasp.net-mvc\n",
      "Predicted labels:\truby-on-rails\n",
      "\n",
      "\n",
      "Title:\t['select', 'max', 'int', 'varchar', 'column', 'trying', 'retrieve', 'largest', 'number', 'varchar', 'column', 'includes', 'number', 'string', 'example', 'data', 'working', 'boxnumber', '123', 'a5', '789', 'b1', 'return', 'largest', 'number', '789', 'case', 'column', 'ignoring', 'nonnumeric', 'value', 'a5', 'b1', 'found', 'solution', 'use', 'custom', 'function', 'solve', 'problem', 'something', 'executed', 'adhoc', 'query', 'without', 'relying', 'custom', 'function', 'procs']\n",
      "True labels:\tsql-server,tsql\n",
      "Predicted labels:\t\n",
      "\n",
      "\n",
      "Title:\t['partcover', '23', 'net', '40', 'runtime', 'successfully', 'partcover', '23', 'working', 'v', '2008', '64bit', 'machine', 'trying', 'get', 'v', '2010', 'nunit', '253', 'nunit', 'correct', 'clr', 'version', 'ca', 'get', 'partcover', 'produce', 'output', 'get', 'empty', 'report', 'xml', 'file', 'partcoverreport', 'date', '20100330t1609051009099+0100', 'get', 'partcover', '23', '22', 'guess', 'nunit', '253', 'net', '40']\n",
      "True labels:\t.net\n",
      "Predicted labels:\t\n",
      "\n",
      "\n",
      "Title:\t['take', 'photo', 'email', 'user', 'take', 'photo', 'open', 'email', 'dialog', 'photo', 'attached', 'far', 'private', 'void', 'btnsubmitphoto_click', 'object', 'sender', 'eventargs', 'e', 'cameracapturetask', 'cameracapturetask', 'new', 'cameracapturetask', 'cameracapturetaskcompleted', '+', 'cameracapturetask_completed', 'cameracapturetaskshow', 'private', 'void', 'cameracapturetask_completed', 'object', 'sender', 'photoresult', 'e', 'etaskresult', 'taskresultok', 'currentimage', 'new', 'bitmapimage', 'currentimagesetsource', 'echosenphoto', 'emailcomposetask', 'ect', 'new', 'emailcomposetask', 'see', 'add', 'attachment', 'emailcomposetask', 'missing', 'something']\n",
      "True labels:\tc#,email\n",
      "Predicted labels:\t\n",
      "\n",
      "\n",
      "Title:\t['force', 'com', 'object', 'use', 'dllsurrogate', 'see', 'question', 'question', 'turn', 'load', 'com', 'class', 'surrogate', 'process', 'must', 'specify', 'clsctx_inproc', 'flag', 'calling', 'cocreateinstance', 'allow', 'host', 'use', 'clsctx_all', 'allow', 'individual', 'com', 'class', 'opt', 'dllhost', 'reason', 'ask', 'locate', 'com', 'class', 'component', 'category', 'pas', 'clsctx_all', 'creating', 'inproc', 'able', 'outofproc']\n",
      "True labels:\tcom\n",
      "Predicted labels:\tcom,ruby-on-rails\n",
      "\n",
      "\n",
      "Title:\t['visual', 'gui', 'designer', 'apache', 'pivot', 'learned', 'apache', 'pivot', 'existence', 'question', 'java', 'gui', 'framework', 'choose', 'swing', 'swt', 'awt', 'swingx', 'jgoodies', 'javafx', 'apache', 'pivot', 'seems', 'good', 'fit', 'current', 'project', 'involves', 'letting', 'user', 'create', 'gui', 'dynamically', 'however', 'also', 'deliver', 'visual', 'gui', 'designer', 'whatever', 'technology', 'choose', 'already', 'designer', 'pivot', 'googling', 'seems', 'suggest', 'asking', 'case', 'missed', 'one']\n",
      "True labels:\tjava\n",
      "Predicted labels:\tasp.net\n",
      "\n",
      "\n"
     ]
    }
   ],
   "source": [
    "y_test_pred_inversed = mlb.inverse_transform(y_test_predicted_labels_tfidf)\n",
    "y_test_inversed = mlb.inverse_transform(y_test)\n",
    "for i in range(20):\n",
    "    print('Title:\\t{}\\nTrue labels:\\t{}\\nPredicted labels:\\t{}\\n\\n'.format(\n",
    "        X_test.iloc[i],\n",
    "        ','.join(y_test_inversed[i]),\n",
    "        ','.join(y_test_pred_inversed[i])\n",
    "    ))"
   ]
  },
  {
   "cell_type": "markdown",
   "metadata": {},
   "source": [
    "#### 1.4.3 Naive Bayes"
   ]
  },
  {
   "cell_type": "code",
   "execution_count": 33,
   "metadata": {},
   "outputs": [
    {
     "name": "stdout",
     "output_type": "stream",
     "text": [
      "Wall time: 1.16 s\n"
     ]
    }
   ],
   "source": [
    "%time classifier_tfidf = train_classifier(X_tfidf_train, y_train, C=1.0, model='nbayes')"
   ]
  },
  {
   "cell_type": "code",
   "execution_count": 34,
   "metadata": {},
   "outputs": [],
   "source": [
    "y_test_predicted_labels_tfidf = classifier_tfidf.predict(X_tfidf_test)"
   ]
  },
  {
   "cell_type": "code",
   "execution_count": 35,
   "metadata": {
    "scrolled": false
   },
   "outputs": [
    {
     "name": "stdout",
     "output_type": "stream",
     "text": [
      "Title:\t['assembly', 'add', 'reference', 'dialog', 'differ', 'depending', 'net', 'framework', 'used', 'curious', 'listing', 'assembly', 'add', 'reference', 'dialog', 'vary', 'depending', 'version', 'net', 'framework', 'used', 'selected', 'project', 'differ', 'love', 'difference', 'lie', 'thanks']\n",
      "True labels:\t.net,c#,visual-studio\n",
      "Predicted labels:\t\n",
      "\n",
      "\n",
      "Title:\t['check', 'socket', 'still', 'open', 'c++', 'app', 'us', 'standard', 'socket', 'call', 'want', 'tell', 'socket', 'still', 'open', 'without', 'sending', 'receiving', 'data', 'reliable', 'select', 'ioctlsocket', 'call', 'make']\n",
      "True labels:\tc++\n",
      "Predicted labels:\t\n",
      "\n",
      "\n",
      "Title:\t['array', 'case', '5', '5', 'joel', 'point', 'stack', 'overflow', 'podcast', '#', '34', 'c', 'programming', 'language', 'aka', 'k', 'r', 'mention', 'property', 'array', 'c', '5', '5', 'joel', 'say', 'pointer', 'arithmetic', 'still', 'understand', '5', '5']\n",
      "True labels:\tarrays\n",
      "Predicted labels:\t\n",
      "\n",
      "\n",
      "Title:\t['class', 'net', 'application', 'internal', 'note', 'application', 'opposed', 'library', 'wpf', 'application', 'broken', 'main', 'application', 'project', 'associated', 'class', 'library', 'circumstance', 'class', 'main', 'application', 'public', 'opposed', 'internal', 'example', 'data', 'binding', 'wpf', 'value', 'converter', 'public', 'xaml', 'assembly']\n",
      "True labels:\t.net\n",
      "Predicted labels:\t\n",
      "\n",
      "\n",
      "Title:\t['best', 'approach', 'sql', 'server', 'query', 'distinct', 'two', 'table', 'tablea', 'tableb', 'joined', 'tableatablea_id', '1n', 'tablebtablea_id', 'simple', 'pkfk', 'extract', 'distinct', 'tablea', 'record', 'given', 'certain', 'condition', 'tableb', '1st', 'approach', 'select', 'tablea', 'inner', 'join', 'tableb', 'b', 'aida', 'bida', 'bdate', '20090110', 'order', 'aid', 'nice', 'give', 'distinct', 'record', 'record', 'table', 'b', 'may', 'duplicate', 'hence', 'get', 'record', 'decided', 'perform', 'subselect', 'performance', 'issue', 'given', 'subselect', 'probably', 'end', '20', '30', 'record', 'max', 'select', 'tablea', 'tableaid', 'select', 'distinct', 'ida', 'tableb', 'date', '20090110', 'order', 'tableaida', 'question', 'use', 'inner', 'join', 'still', 'get', 'distinct', 'value', 'possible', 'one', 'pas', 'nested', 'query', 'must', 'missing']\n",
      "True labels:\tsql,sql-server,tsql\n",
      "Predicted labels:\t\n",
      "\n",
      "\n",
      "Title:\t['inject', 'text', 'resource', 'prebuilt', 'native', 'exe', 'native', 'exe', 'namely', 'setupexe', 'type', 'file', 'inject', 'text', 'resource', 'eg', 'serverx123456', 'purpose', 'upon', 'running', 'exe', 'read', 'text', 'resource', 'act', 'accordingly', 'way', 'c', '#', 'code', 'note', 'similar', 'question', 'focused', 'injecting', 'skin', 'wpf', 'app']\n",
      "True labels:\tc#\n",
      "Predicted labels:\t\n",
      "\n",
      "\n",
      "Title:\t['consideration', 'store', 'document', 'file', 'server', 'db', 'design', 'decision', 'make', 'regarding', 'document', 'uploaded', 'web', 'site', 'either', 'store', 'file', 'server', 'somewhere', 'store', 'blob', 'database', 'mssql', '2005', 'make', 'difference', 'design', 'decision', 'document', 'confidential', 'must', 'certain', 'degree', 'protection', 'consideration', 'thought', 'storing', 'file', 'server', 'make', 'huuuuuuuge', 'number', 'file', 'dumped', 'single', 'directory', 'therefore', 'slower', 'access', 'unless', 'reasonable', 'semantic', 'definition', 'directory', 'tree', 'structure', 'otoh', 'guessing', 'file', 'server', 'handle', 'compression', 'somewhat', 'better', 'db', 'wrong', 'instinct', 'tell', 'db', 'security', 'stronger', 'file', 'server', 'sure', 'necessarily', 'true', 'terabyte', 'blob', 'db', 'affect', 'performance', 'much', 'appreciate', 'recommendation', 'thanks']\n",
      "True labels:\tsql-server\n",
      "Predicted labels:\t\n",
      "\n",
      "\n",
      "Title:\t['programmatically', 'click', 'checkbox', 'way', 'programmatically', 'generate', 'click', 'event', 'checkbox', 'looking', 'equivalent', 'buttonperformclick']\n",
      "True labels:\t.net,c#,winforms\n",
      "Predicted labels:\t\n",
      "\n",
      "\n",
      "Title:\t['v', '2008', 'window', 'form', 'make', 'view', 'code', 'default', 'usercontrols', 'usercontrols', 'designed', 'window', 'form', 'designer', 'v', '2008', 'pretty', 'much', 'useless', 'take', 'time', 'designer', 'throw', 'exception', 'accidentally', 'doubleclicking', 'usercontrol', 'solution', 'explorer', 'way', 'make', 'designer', 'open', 'c', '#', 'code', 'view', 'doubleclicking', 'usercontrol', 'file']\n",
      "True labels:\tvisual-studio,winforms\n",
      "Predicted labels:\t\n",
      "\n",
      "\n",
      "Title:\t['run', 'different', 'framework', 'sidebyside', 'owin', 'impression', 'one', 'big', 'benefit', 'owin', 'make', 'easy', 'run', 'different', 'web', 'framework', 'sidebyside', 'without', 'ii', 'ihttphandler', 'huge', 'distributing', 'vertical', 'functionality', 'slice', 'nuget', 'feature', 'however', 'every', 'tutorial', 'article', 'find', 'talk', 'thing', 'selfhost', 'single', 'framework', 'interested', 'interested', 'running', 'mvc', 'nancy', 'web', 'api', 'maybe', 'even', 'webforms', 'application', 'wrong', 'owin', 'enabling', 'want', 'mvc', 'handle', 'request', 'webforms', 'handle', 'request', 'versionlegacy', 'header', 'nancy', 'handle', 'request', 'nancy', 'configure', 'startup', 'class', 'enable']\n",
      "True labels:\t.net\n",
      "Predicted labels:\t\n",
      "\n",
      "\n",
      "Title:\t['different', 'setting', 'pc', 'application', 'ran', 'creating', 'cash', 'register', 'program', 'distributed', 'via', 'clickonce', 'believe', 'right', 'term', 'v', 'builtin', 'packaging', 'pc', 'run', 'software', 'different', 'setting', 'thing', 'credit', 'card', 'processing', 'store', 'setting', 'overwritten', 'every', 'time', 'update', 'unique', 'based', 'pc', 'installed']\n",
      "True labels:\tc#,winforms\n",
      "Predicted labels:\t\n",
      "\n",
      "\n",
      "Title:\t['forcing', 'mfc', 'app', 'run', 'administrator', 'vista', 'mfc', 'app', 'built', 'visual', 'studio', '2008', 'need', 'run', 'w2k', 'xp', '2003', 'vista', 'application', 'writes', 'hklm', 'registry', 'vista', 'run', 'administrator', 'question', 'force', 'app', 'run', 'adminstrator', 'automatically', 'involve', 'creating', 'manifest', 'file', 'moment', 'following', 'stdafxh', 'guess', 'creates', 'manifest', 'file', 'fly', '#', 'pragma', 'comment', 'linker', 'manifestdependency', 'typewin32', 'namemicrosoftwindowscommoncontrols', 'version', '6000', 'processorarchitecturex86', 'publickeytoken6595b64144ccf1df', 'language', 'modify', 'line', 'force', 'elevation', 'something', 'vc', 'project', 'manifest', 'setting', 'thanks', 'advance']\n",
      "True labels:\tc++\n",
      "Predicted labels:\t\n",
      "\n",
      "\n",
      "Title:\t['java', 'applet', 'standalone', 'window', 'application', 'java', 'applet', 'meant', 'run', 'window', 'us', '3rd', 'party', 'com', 'object', 'crossplatform', 'way', 'run', 'java', 'applet', 'standalone', 'application', 'window']\n",
      "True labels:\tjava\n",
      "Predicted labels:\t\n",
      "\n",
      "\n",
      "Title:\t['uiview', 'animation', 'working', 'addsubview', 'ipad', 'app', 'displaying', 'note', 'subclassed', 'uilabel', 'text', 'order', 'navigate', 'next', 'note', 'slide', 'screen', 'left', 'next', 'one', 'slide', 'right', 'get', 'either', 'animation', 'time', 'code', 'controller', 'void', 'slideoutleft', 'create', 'new', 'note', 'flslidingnote', 'newnote', 'flslidingnote', 'alloc', 'init', 'newnotetext', 'blah', 'blah', 'cgrect', 'newframe', 'cgrectmake', '1000', '70', '637', '297', 'right', 'newnoteframe', 'newframe', 'selfview', 'addsubview', 'newnote', 'slide', 'current', 'one', 'cgrect', 'currentframeend', 'notelabelframe', 'notelabel', 'existing', 'note', 'currentframeendoriginx', '0', 'notelabelframesizewidth', 'left', 'uiview', 'animatewithduration10', 'animation', 'notelabelframe', 'currentframeend', 'completion', 'nil', 'notelabel', 'animate', 'comment', 'addsubview', 'newnote', 'part', 'still', 'relatively', 'new', 'probably', 'something', 'simple', 'problem', 'happens', 'whether', 'newnote', 'animated', 'animated', 'code', 'snippet']\n",
      "True labels:\tcocoa-touch,objective-c\n",
      "Predicted labels:\t\n",
      "\n",
      "\n",
      "Title:\t['aspnet', 'mvc', 'route', 'value', 'controller', 'trailing', 'slash', 'probably', 'simple', 'question', 'ca', 'get', 'route', 'specified', 'routeconfig', 'routesmaproute', 'name', 'defaultsiteroute', 'url', 'accountid', 'hostname', 'controller', 'action', 'default', 'new', 'controller', 'home', 'action', 'index', 'urlparameteroptional', 'accountid', 'urlparameteroptional', 'hostname', 'urlparameteroptional', 'url', '123456', 'wwwtestcom', '123456', 'wwwtestcom', 'controller', 'action', 'ca', 'cope', '123456', 'wwwtestcom', 'get', 'ii', '404', 'stranger', 'call', 'urlaction', 'route', 'default', 'controller', 'action', 'ie', 'home', 'index', 'creates', 'url', 'without', 'trailing', 'slash', 'recognise', 'really', 'without', 'trailing', 'slash']\n",
      "True labels:\tasp.net-mvc\n",
      "Predicted labels:\t\n",
      "\n",
      "\n",
      "Title:\t['select', 'max', 'int', 'varchar', 'column', 'trying', 'retrieve', 'largest', 'number', 'varchar', 'column', 'includes', 'number', 'string', 'example', 'data', 'working', 'boxnumber', '123', 'a5', '789', 'b1', 'return', 'largest', 'number', '789', 'case', 'column', 'ignoring', 'nonnumeric', 'value', 'a5', 'b1', 'found', 'solution', 'use', 'custom', 'function', 'solve', 'problem', 'something', 'executed', 'adhoc', 'query', 'without', 'relying', 'custom', 'function', 'procs']\n",
      "True labels:\tsql-server,tsql\n",
      "Predicted labels:\t\n",
      "\n",
      "\n",
      "Title:\t['partcover', '23', 'net', '40', 'runtime', 'successfully', 'partcover', '23', 'working', 'v', '2008', '64bit', 'machine', 'trying', 'get', 'v', '2010', 'nunit', '253', 'nunit', 'correct', 'clr', 'version', 'ca', 'get', 'partcover', 'produce', 'output', 'get', 'empty', 'report', 'xml', 'file', 'partcoverreport', 'date', '20100330t1609051009099+0100', 'get', 'partcover', '23', '22', 'guess', 'nunit', '253', 'net', '40']\n",
      "True labels:\t.net\n",
      "Predicted labels:\t\n",
      "\n",
      "\n",
      "Title:\t['take', 'photo', 'email', 'user', 'take', 'photo', 'open', 'email', 'dialog', 'photo', 'attached', 'far', 'private', 'void', 'btnsubmitphoto_click', 'object', 'sender', 'eventargs', 'e', 'cameracapturetask', 'cameracapturetask', 'new', 'cameracapturetask', 'cameracapturetaskcompleted', '+', 'cameracapturetask_completed', 'cameracapturetaskshow', 'private', 'void', 'cameracapturetask_completed', 'object', 'sender', 'photoresult', 'e', 'etaskresult', 'taskresultok', 'currentimage', 'new', 'bitmapimage', 'currentimagesetsource', 'echosenphoto', 'emailcomposetask', 'ect', 'new', 'emailcomposetask', 'see', 'add', 'attachment', 'emailcomposetask', 'missing', 'something']\n",
      "True labels:\tc#,email\n",
      "Predicted labels:\t\n",
      "\n",
      "\n",
      "Title:\t['force', 'com', 'object', 'use', 'dllsurrogate', 'see', 'question', 'question', 'turn', 'load', 'com', 'class', 'surrogate', 'process', 'must', 'specify', 'clsctx_inproc', 'flag', 'calling', 'cocreateinstance', 'allow', 'host', 'use', 'clsctx_all', 'allow', 'individual', 'com', 'class', 'opt', 'dllhost', 'reason', 'ask', 'locate', 'com', 'class', 'component', 'category', 'pas', 'clsctx_all', 'creating', 'inproc', 'able', 'outofproc']\n",
      "True labels:\tcom\n",
      "Predicted labels:\t\n",
      "\n",
      "\n",
      "Title:\t['visual', 'gui', 'designer', 'apache', 'pivot', 'learned', 'apache', 'pivot', 'existence', 'question', 'java', 'gui', 'framework', 'choose', 'swing', 'swt', 'awt', 'swingx', 'jgoodies', 'javafx', 'apache', 'pivot', 'seems', 'good', 'fit', 'current', 'project', 'involves', 'letting', 'user', 'create', 'gui', 'dynamically', 'however', 'also', 'deliver', 'visual', 'gui', 'designer', 'whatever', 'technology', 'choose', 'already', 'designer', 'pivot', 'googling', 'seems', 'suggest', 'asking', 'case', 'missed', 'one']\n",
      "True labels:\tjava\n",
      "Predicted labels:\t\n",
      "\n",
      "\n"
     ]
    }
   ],
   "source": [
    "y_test_pred_inversed = mlb.inverse_transform(y_test_predicted_labels_tfidf)\n",
    "y_test_inversed = mlb.inverse_transform(y_test)\n",
    "for i in range(20):\n",
    "    print('Title:\\t{}\\nTrue labels:\\t{}\\nPredicted labels:\\t{}\\n\\n'.format(\n",
    "        X_test.iloc[i],\n",
    "        ','.join(y_test_inversed[i]),\n",
    "        ','.join(y_test_pred_inversed[i])\n",
    "    ))"
   ]
  },
  {
   "cell_type": "markdown",
   "metadata": {},
   "source": [
    "#### 1.4.4 Multi-Layered Preceptron - Neural Networks"
   ]
  },
  {
   "cell_type": "code",
   "execution_count": 36,
   "metadata": {},
   "outputs": [
    {
     "name": "stdout",
     "output_type": "stream",
     "text": [
      "Wall time: 50min 37s\n"
     ]
    }
   ],
   "source": [
    "%time classifier_tfidf = train_classifier(X_tfidf_train, y_train, C=1.0, model='mlp')"
   ]
  },
  {
   "cell_type": "code",
   "execution_count": 37,
   "metadata": {},
   "outputs": [],
   "source": [
    "y_test_predicted_labels_tfidf = classifier_tfidf.predict(X_tfidf_test)"
   ]
  },
  {
   "cell_type": "code",
   "execution_count": 38,
   "metadata": {
    "scrolled": false
   },
   "outputs": [
    {
     "name": "stdout",
     "output_type": "stream",
     "text": [
      "Title:\t['assembly', 'add', 'reference', 'dialog', 'differ', 'depending', 'net', 'framework', 'used', 'curious', 'listing', 'assembly', 'add', 'reference', 'dialog', 'vary', 'depending', 'version', 'net', 'framework', 'used', 'selected', 'project', 'differ', 'love', 'difference', 'lie', 'thanks']\n",
      "True labels:\t.net,c#,visual-studio\n",
      "Predicted labels:\t\n",
      "\n",
      "\n",
      "Title:\t['check', 'socket', 'still', 'open', 'c++', 'app', 'us', 'standard', 'socket', 'call', 'want', 'tell', 'socket', 'still', 'open', 'without', 'sending', 'receiving', 'data', 'reliable', 'select', 'ioctlsocket', 'call', 'make']\n",
      "True labels:\tc++\n",
      "Predicted labels:\t\n",
      "\n",
      "\n",
      "Title:\t['array', 'case', '5', '5', 'joel', 'point', 'stack', 'overflow', 'podcast', '#', '34', 'c', 'programming', 'language', 'aka', 'k', 'r', 'mention', 'property', 'array', 'c', '5', '5', 'joel', 'say', 'pointer', 'arithmetic', 'still', 'understand', '5', '5']\n",
      "True labels:\tarrays\n",
      "Predicted labels:\tevents,iphone\n",
      "\n",
      "\n",
      "Title:\t['class', 'net', 'application', 'internal', 'note', 'application', 'opposed', 'library', 'wpf', 'application', 'broken', 'main', 'application', 'project', 'associated', 'class', 'library', 'circumstance', 'class', 'main', 'application', 'public', 'opposed', 'internal', 'example', 'data', 'binding', 'wpf', 'value', 'converter', 'public', 'xaml', 'assembly']\n",
      "True labels:\t.net\n",
      "Predicted labels:\t\n",
      "\n",
      "\n",
      "Title:\t['best', 'approach', 'sql', 'server', 'query', 'distinct', 'two', 'table', 'tablea', 'tableb', 'joined', 'tableatablea_id', '1n', 'tablebtablea_id', 'simple', 'pkfk', 'extract', 'distinct', 'tablea', 'record', 'given', 'certain', 'condition', 'tableb', '1st', 'approach', 'select', 'tablea', 'inner', 'join', 'tableb', 'b', 'aida', 'bida', 'bdate', '20090110', 'order', 'aid', 'nice', 'give', 'distinct', 'record', 'record', 'table', 'b', 'may', 'duplicate', 'hence', 'get', 'record', 'decided', 'perform', 'subselect', 'performance', 'issue', 'given', 'subselect', 'probably', 'end', '20', '30', 'record', 'max', 'select', 'tablea', 'tableaid', 'select', 'distinct', 'ida', 'tableb', 'date', '20090110', 'order', 'tableaida', 'question', 'use', 'inner', 'join', 'still', 'get', 'distinct', 'value', 'possible', 'one', 'pas', 'nested', 'query', 'must', 'missing']\n",
      "True labels:\tsql,sql-server,tsql\n",
      "Predicted labels:\tjavascript\n",
      "\n",
      "\n",
      "Title:\t['inject', 'text', 'resource', 'prebuilt', 'native', 'exe', 'native', 'exe', 'namely', 'setupexe', 'type', 'file', 'inject', 'text', 'resource', 'eg', 'serverx123456', 'purpose', 'upon', 'running', 'exe', 'read', 'text', 'resource', 'act', 'accordingly', 'way', 'c', '#', 'code', 'note', 'similar', 'question', 'focused', 'injecting', 'skin', 'wpf', 'app']\n",
      "True labels:\tc#\n",
      "Predicted labels:\tpython\n",
      "\n",
      "\n",
      "Title:\t['consideration', 'store', 'document', 'file', 'server', 'db', 'design', 'decision', 'make', 'regarding', 'document', 'uploaded', 'web', 'site', 'either', 'store', 'file', 'server', 'somewhere', 'store', 'blob', 'database', 'mssql', '2005', 'make', 'difference', 'design', 'decision', 'document', 'confidential', 'must', 'certain', 'degree', 'protection', 'consideration', 'thought', 'storing', 'file', 'server', 'make', 'huuuuuuuge', 'number', 'file', 'dumped', 'single', 'directory', 'therefore', 'slower', 'access', 'unless', 'reasonable', 'semantic', 'definition', 'directory', 'tree', 'structure', 'otoh', 'guessing', 'file', 'server', 'handle', 'compression', 'somewhat', 'better', 'db', 'wrong', 'instinct', 'tell', 'db', 'security', 'stronger', 'file', 'server', 'sure', 'necessarily', 'true', 'terabyte', 'blob', 'db', 'affect', 'performance', 'much', 'appreciate', 'recommendation', 'thanks']\n",
      "True labels:\tsql-server\n",
      "Predicted labels:\t\n",
      "\n",
      "\n",
      "Title:\t['programmatically', 'click', 'checkbox', 'way', 'programmatically', 'generate', 'click', 'event', 'checkbox', 'looking', 'equivalent', 'buttonperformclick']\n",
      "True labels:\t.net,c#,winforms\n",
      "Predicted labels:\t\n",
      "\n",
      "\n",
      "Title:\t['v', '2008', 'window', 'form', 'make', 'view', 'code', 'default', 'usercontrols', 'usercontrols', 'designed', 'window', 'form', 'designer', 'v', '2008', 'pretty', 'much', 'useless', 'take', 'time', 'designer', 'throw', 'exception', 'accidentally', 'doubleclicking', 'usercontrol', 'solution', 'explorer', 'way', 'make', 'designer', 'open', 'c', '#', 'code', 'view', 'doubleclicking', 'usercontrol', 'file']\n",
      "True labels:\tvisual-studio,winforms\n",
      "Predicted labels:\tc#\n",
      "\n",
      "\n",
      "Title:\t['run', 'different', 'framework', 'sidebyside', 'owin', 'impression', 'one', 'big', 'benefit', 'owin', 'make', 'easy', 'run', 'different', 'web', 'framework', 'sidebyside', 'without', 'ii', 'ihttphandler', 'huge', 'distributing', 'vertical', 'functionality', 'slice', 'nuget', 'feature', 'however', 'every', 'tutorial', 'article', 'find', 'talk', 'thing', 'selfhost', 'single', 'framework', 'interested', 'interested', 'running', 'mvc', 'nancy', 'web', 'api', 'maybe', 'even', 'webforms', 'application', 'wrong', 'owin', 'enabling', 'want', 'mvc', 'handle', 'request', 'webforms', 'handle', 'request', 'versionlegacy', 'header', 'nancy', 'handle', 'request', 'nancy', 'configure', 'startup', 'class', 'enable']\n",
      "True labels:\t.net\n",
      "Predicted labels:\t\n",
      "\n",
      "\n",
      "Title:\t['different', 'setting', 'pc', 'application', 'ran', 'creating', 'cash', 'register', 'program', 'distributed', 'via', 'clickonce', 'believe', 'right', 'term', 'v', 'builtin', 'packaging', 'pc', 'run', 'software', 'different', 'setting', 'thing', 'credit', 'card', 'processing', 'store', 'setting', 'overwritten', 'every', 'time', 'update', 'unique', 'based', 'pc', 'installed']\n",
      "True labels:\tc#,winforms\n",
      "Predicted labels:\t\n",
      "\n",
      "\n",
      "Title:\t['forcing', 'mfc', 'app', 'run', 'administrator', 'vista', 'mfc', 'app', 'built', 'visual', 'studio', '2008', 'need', 'run', 'w2k', 'xp', '2003', 'vista', 'application', 'writes', 'hklm', 'registry', 'vista', 'run', 'administrator', 'question', 'force', 'app', 'run', 'adminstrator', 'automatically', 'involve', 'creating', 'manifest', 'file', 'moment', 'following', 'stdafxh', 'guess', 'creates', 'manifest', 'file', 'fly', '#', 'pragma', 'comment', 'linker', 'manifestdependency', 'typewin32', 'namemicrosoftwindowscommoncontrols', 'version', '6000', 'processorarchitecturex86', 'publickeytoken6595b64144ccf1df', 'language', 'modify', 'line', 'force', 'elevation', 'something', 'vc', 'project', 'manifest', 'setting', 'thanks', 'advance']\n",
      "True labels:\tc++\n",
      "Predicted labels:\t\n",
      "\n",
      "\n",
      "Title:\t['java', 'applet', 'standalone', 'window', 'application', 'java', 'applet', 'meant', 'run', 'window', 'us', '3rd', 'party', 'com', 'object', 'crossplatform', 'way', 'run', 'java', 'applet', 'standalone', 'application', 'window']\n",
      "True labels:\tjava\n",
      "Predicted labels:\tc#,com,winforms\n",
      "\n",
      "\n",
      "Title:\t['uiview', 'animation', 'working', 'addsubview', 'ipad', 'app', 'displaying', 'note', 'subclassed', 'uilabel', 'text', 'order', 'navigate', 'next', 'note', 'slide', 'screen', 'left', 'next', 'one', 'slide', 'right', 'get', 'either', 'animation', 'time', 'code', 'controller', 'void', 'slideoutleft', 'create', 'new', 'note', 'flslidingnote', 'newnote', 'flslidingnote', 'alloc', 'init', 'newnotetext', 'blah', 'blah', 'cgrect', 'newframe', 'cgrectmake', '1000', '70', '637', '297', 'right', 'newnoteframe', 'newframe', 'selfview', 'addsubview', 'newnote', 'slide', 'current', 'one', 'cgrect', 'currentframeend', 'notelabelframe', 'notelabel', 'existing', 'note', 'currentframeendoriginx', '0', 'notelabelframesizewidth', 'left', 'uiview', 'animatewithduration10', 'animation', 'notelabelframe', 'currentframeend', 'completion', 'nil', 'notelabel', 'animate', 'comment', 'addsubview', 'newnote', 'part', 'still', 'relatively', 'new', 'probably', 'something', 'simple', 'problem', 'happens', 'whether', 'newnote', 'animated', 'animated', 'code', 'snippet']\n",
      "True labels:\tcocoa-touch,objective-c\n",
      "Predicted labels:\t\n",
      "\n",
      "\n",
      "Title:\t['aspnet', 'mvc', 'route', 'value', 'controller', 'trailing', 'slash', 'probably', 'simple', 'question', 'ca', 'get', 'route', 'specified', 'routeconfig', 'routesmaproute', 'name', 'defaultsiteroute', 'url', 'accountid', 'hostname', 'controller', 'action', 'default', 'new', 'controller', 'home', 'action', 'index', 'urlparameteroptional', 'accountid', 'urlparameteroptional', 'hostname', 'urlparameteroptional', 'url', '123456', 'wwwtestcom', '123456', 'wwwtestcom', 'controller', 'action', 'ca', 'cope', '123456', 'wwwtestcom', 'get', 'ii', '404', 'stranger', 'call', 'urlaction', 'route', 'default', 'controller', 'action', 'ie', 'home', 'index', 'creates', 'url', 'without', 'trailing', 'slash', 'recognise', 'really', 'without', 'trailing', 'slash']\n",
      "True labels:\tasp.net-mvc\n",
      "Predicted labels:\truby-on-rails\n",
      "\n",
      "\n",
      "Title:\t['select', 'max', 'int', 'varchar', 'column', 'trying', 'retrieve', 'largest', 'number', 'varchar', 'column', 'includes', 'number', 'string', 'example', 'data', 'working', 'boxnumber', '123', 'a5', '789', 'b1', 'return', 'largest', 'number', '789', 'case', 'column', 'ignoring', 'nonnumeric', 'value', 'a5', 'b1', 'found', 'solution', 'use', 'custom', 'function', 'solve', 'problem', 'something', 'executed', 'adhoc', 'query', 'without', 'relying', 'custom', 'function', 'procs']\n",
      "True labels:\tsql-server,tsql\n",
      "Predicted labels:\t\n",
      "\n",
      "\n",
      "Title:\t['partcover', '23', 'net', '40', 'runtime', 'successfully', 'partcover', '23', 'working', 'v', '2008', '64bit', 'machine', 'trying', 'get', 'v', '2010', 'nunit', '253', 'nunit', 'correct', 'clr', 'version', 'ca', 'get', 'partcover', 'produce', 'output', 'get', 'empty', 'report', 'xml', 'file', 'partcoverreport', 'date', '20100330t1609051009099+0100', 'get', 'partcover', '23', '22', 'guess', 'nunit', '253', 'net', '40']\n",
      "True labels:\t.net\n",
      "Predicted labels:\t\n",
      "\n",
      "\n",
      "Title:\t['take', 'photo', 'email', 'user', 'take', 'photo', 'open', 'email', 'dialog', 'photo', 'attached', 'far', 'private', 'void', 'btnsubmitphoto_click', 'object', 'sender', 'eventargs', 'e', 'cameracapturetask', 'cameracapturetask', 'new', 'cameracapturetask', 'cameracapturetaskcompleted', '+', 'cameracapturetask_completed', 'cameracapturetaskshow', 'private', 'void', 'cameracapturetask_completed', 'object', 'sender', 'photoresult', 'e', 'etaskresult', 'taskresultok', 'currentimage', 'new', 'bitmapimage', 'currentimagesetsource', 'echosenphoto', 'emailcomposetask', 'ect', 'new', 'emailcomposetask', 'see', 'add', 'attachment', 'emailcomposetask', 'missing', 'something']\n",
      "True labels:\tc#,email\n",
      "Predicted labels:\t\n",
      "\n",
      "\n",
      "Title:\t['force', 'com', 'object', 'use', 'dllsurrogate', 'see', 'question', 'question', 'turn', 'load', 'com', 'class', 'surrogate', 'process', 'must', 'specify', 'clsctx_inproc', 'flag', 'calling', 'cocreateinstance', 'allow', 'host', 'use', 'clsctx_all', 'allow', 'individual', 'com', 'class', 'opt', 'dllhost', 'reason', 'ask', 'locate', 'com', 'class', 'component', 'category', 'pas', 'clsctx_all', 'creating', 'inproc', 'able', 'outofproc']\n",
      "True labels:\tcom\n",
      "Predicted labels:\tcom\n",
      "\n",
      "\n",
      "Title:\t['visual', 'gui', 'designer', 'apache', 'pivot', 'learned', 'apache', 'pivot', 'existence', 'question', 'java', 'gui', 'framework', 'choose', 'swing', 'swt', 'awt', 'swingx', 'jgoodies', 'javafx', 'apache', 'pivot', 'seems', 'good', 'fit', 'current', 'project', 'involves', 'letting', 'user', 'create', 'gui', 'dynamically', 'however', 'also', 'deliver', 'visual', 'gui', 'designer', 'whatever', 'technology', 'choose', 'already', 'designer', 'pivot', 'googling', 'seems', 'suggest', 'asking', 'case', 'missed', 'one']\n",
      "True labels:\tjava\n",
      "Predicted labels:\tasp.net\n",
      "\n",
      "\n"
     ]
    }
   ],
   "source": [
    "y_test_pred_inversed = mlb.inverse_transform(y_test_predicted_labels_tfidf)\n",
    "y_test_inversed = mlb.inverse_transform(y_test)\n",
    "for i in range(20):\n",
    "    print('Title:\\t{}\\nTrue labels:\\t{}\\nPredicted labels:\\t{}\\n\\n'.format(\n",
    "        X_test.iloc[i],\n",
    "        ','.join(y_test_inversed[i]),\n",
    "        ','.join(y_test_pred_inversed[i])\n",
    "    ))"
   ]
  },
  {
   "cell_type": "code",
   "execution_count": null,
   "metadata": {},
   "outputs": [],
   "source": []
  },
  {
   "cell_type": "code",
   "execution_count": null,
   "metadata": {},
   "outputs": [],
   "source": []
  },
  {
   "cell_type": "code",
   "execution_count": null,
   "metadata": {},
   "outputs": [],
   "source": []
  },
  {
   "cell_type": "code",
   "execution_count": null,
   "metadata": {},
   "outputs": [],
   "source": []
  },
  {
   "cell_type": "code",
   "execution_count": null,
   "metadata": {},
   "outputs": [],
   "source": []
  },
  {
   "cell_type": "code",
   "execution_count": null,
   "metadata": {},
   "outputs": [],
   "source": []
  },
  {
   "cell_type": "code",
   "execution_count": null,
   "metadata": {},
   "outputs": [],
   "source": []
  },
  {
   "cell_type": "code",
   "execution_count": null,
   "metadata": {},
   "outputs": [],
   "source": []
  },
  {
   "cell_type": "code",
   "execution_count": null,
   "metadata": {},
   "outputs": [],
   "source": []
  }
 ],
 "metadata": {
  "kernelspec": {
   "display_name": "Python 3",
   "language": "python",
   "name": "python3"
  },
  "language_info": {
   "codemirror_mode": {
    "name": "ipython",
    "version": 3
   },
   "file_extension": ".py",
   "mimetype": "text/x-python",
   "name": "python",
   "nbconvert_exporter": "python",
   "pygments_lexer": "ipython3",
   "version": "3.7.4"
  }
 },
 "nbformat": 4,
 "nbformat_minor": 2
}
