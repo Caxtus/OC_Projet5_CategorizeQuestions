{
 "cells": [
  {
   "cell_type": "markdown",
   "metadata": {},
   "source": [
    "# Projet 5: Catégorisez automatiquement des questions"
   ]
  },
  {
   "cell_type": "markdown",
   "metadata": {},
   "source": [
    "## Partie 2: Tests des modèles"
   ]
  },
  {
   "cell_type": "code",
   "execution_count": 1,
   "metadata": {},
   "outputs": [
    {
     "name": "stderr",
     "output_type": "stream",
     "text": [
      "C:\\Users\\alice\\Anaconda3\\lib\\site-packages\\past\\types\\oldstr.py:5: DeprecationWarning: Using or importing the ABCs from 'collections' instead of from 'collections.abc' is deprecated, and in 3.8 it will stop working\n",
      "  from collections import Iterable\n",
      "C:\\Users\\alice\\Anaconda3\\lib\\site-packages\\past\\builtins\\misc.py:4: DeprecationWarning: Using or importing the ABCs from 'collections' instead of from 'collections.abc' is deprecated, and in 3.8 it will stop working\n",
      "  from collections import Mapping\n"
     ]
    }
   ],
   "source": [
    "#importation des librairies\n",
    "\n",
    "import numpy as np\n",
    "import pandas as pd\n",
    "import matplotlib.pyplot as plt\n",
    "#import seaborn as sns\n",
    "import sklearn\n",
    "from sklearn.model_selection import train_test_split\n",
    "import ast\n",
    "#import re\n",
    "#Traitement des données\n",
    "import string\n",
    "\n",
    "#binarisation des tags\n",
    "from sklearn.preprocessing import MultiLabelBinarizer\n",
    "\n",
    "#librairies pour le tfidf - extraction d'information du texte\n",
    "from sklearn.feature_extraction.text import TfidfVectorizer\n",
    "\n",
    "#Pour LDA\n",
    "from sklearn.decomposition import LatentDirichletAllocation\n",
    "import pyLDAvis.sklearn\n",
    "\n",
    "#pour NMF\n",
    "from sklearn.decomposition import NMF\n",
    "\n",
    "#pour les modèles supervisés\n",
    "from sklearn.multiclass import OneVsRestClassifier\n",
    "from sklearn.linear_model import LogisticRegression\n",
    "from sklearn.svm import LinearSVC\n",
    "from sklearn.naive_bayes import MultinomialNB\n",
    "from sklearn.neural_network import MLPClassifier\n",
    "\n",
    "#Pour les metrics\n",
    "from sklearn.metrics import accuracy_score\n",
    "from sklearn.metrics import f1_score\n",
    "from functools import partial\n"
   ]
  },
  {
   "cell_type": "code",
   "execution_count": 2,
   "metadata": {},
   "outputs": [],
   "source": [
    "#importation du dataset\n",
    "df = pd.read_csv('clean_dataframe_final.csv')"
   ]
  },
  {
   "cell_type": "code",
   "execution_count": 3,
   "metadata": {},
   "outputs": [
    {
     "data": {
      "text/plain": [
       "(38393, 5)"
      ]
     },
     "execution_count": 3,
     "metadata": {},
     "output_type": "execute_result"
    }
   ],
   "source": [
    "df.shape"
   ]
  },
  {
   "cell_type": "code",
   "execution_count": 4,
   "metadata": {},
   "outputs": [
    {
     "data": {
      "text/html": [
       "<div>\n",
       "<style scoped>\n",
       "    .dataframe tbody tr th:only-of-type {\n",
       "        vertical-align: middle;\n",
       "    }\n",
       "\n",
       "    .dataframe tbody tr th {\n",
       "        vertical-align: top;\n",
       "    }\n",
       "\n",
       "    .dataframe thead th {\n",
       "        text-align: right;\n",
       "    }\n",
       "</style>\n",
       "<table border=\"1\" class=\"dataframe\">\n",
       "  <thead>\n",
       "    <tr style=\"text-align: right;\">\n",
       "      <th></th>\n",
       "      <th>Text</th>\n",
       "      <th>TagsTokens</th>\n",
       "      <th>text_lemmatized</th>\n",
       "      <th>text_stemm_porter</th>\n",
       "      <th>text_stemm_lancaster</th>\n",
       "    </tr>\n",
       "  </thead>\n",
       "  <tbody>\n",
       "    <tr>\n",
       "      <td>0</td>\n",
       "      <td>c# 50 await keyword listed operator rather mod...</td>\n",
       "      <td>['c#']</td>\n",
       "      <td>['c#', '50', 'await', 'keyword', 'listed', 'op...</td>\n",
       "      <td>['c#', '50', 'await', 'keyword', 'list', 'oper...</td>\n",
       "      <td>['c#', '50', 'await', 'keyword', 'list', 'op',...</td>\n",
       "    </tr>\n",
       "    <tr>\n",
       "      <td>1</td>\n",
       "      <td>configure mercurial use winmerge merges cygwin...</td>\n",
       "      <td>['mercurial']</td>\n",
       "      <td>['configure', 'mercurial', 'use', 'winmerge', ...</td>\n",
       "      <td>['configur', 'mercuri', 'use', 'winmerg', 'mer...</td>\n",
       "      <td>['config', 'merc', 'us', 'winmerg', 'merg', 'c...</td>\n",
       "    </tr>\n",
       "    <tr>\n",
       "      <td>2</td>\n",
       "      <td>whats best way go photoshop mockup semantic ht...</td>\n",
       "      <td>['html', 'css']</td>\n",
       "      <td>['whats', 'best', 'way', 'go', 'photoshop', 'm...</td>\n",
       "      <td>['what', 'best', 'way', 'go', 'photoshop', 'mo...</td>\n",
       "      <td>['what', 'best', 'way', 'go', 'photoshop', 'mo...</td>\n",
       "    </tr>\n",
       "    <tr>\n",
       "      <td>3</td>\n",
       "      <td>lookup data book barcode number building world...</td>\n",
       "      <td>['language-agnostic']</td>\n",
       "      <td>['lookup', 'data', 'book', 'barcode', 'number'...</td>\n",
       "      <td>['lookup', 'data', 'book', 'barcod', 'number',...</td>\n",
       "      <td>['lookup', 'dat', 'book', 'barcod', 'numb', 'b...</td>\n",
       "    </tr>\n",
       "    <tr>\n",
       "      <td>4</td>\n",
       "      <td>embeddable webkit component windows c# develop...</td>\n",
       "      <td>['.net', 'com']</td>\n",
       "      <td>['embeddable', 'webkit', 'component', 'window'...</td>\n",
       "      <td>['embedd', 'webkit', 'compon', 'window', 'c#',...</td>\n",
       "      <td>['embed', 'webkit', 'compon', 'window', 'c#', ...</td>\n",
       "    </tr>\n",
       "  </tbody>\n",
       "</table>\n",
       "</div>"
      ],
      "text/plain": [
       "                                                Text             TagsTokens  \\\n",
       "0  c# 50 await keyword listed operator rather mod...                 ['c#']   \n",
       "1  configure mercurial use winmerge merges cygwin...          ['mercurial']   \n",
       "2  whats best way go photoshop mockup semantic ht...        ['html', 'css']   \n",
       "3  lookup data book barcode number building world...  ['language-agnostic']   \n",
       "4  embeddable webkit component windows c# develop...        ['.net', 'com']   \n",
       "\n",
       "                                     text_lemmatized  \\\n",
       "0  ['c#', '50', 'await', 'keyword', 'listed', 'op...   \n",
       "1  ['configure', 'mercurial', 'use', 'winmerge', ...   \n",
       "2  ['whats', 'best', 'way', 'go', 'photoshop', 'm...   \n",
       "3  ['lookup', 'data', 'book', 'barcode', 'number'...   \n",
       "4  ['embeddable', 'webkit', 'component', 'window'...   \n",
       "\n",
       "                                   text_stemm_porter  \\\n",
       "0  ['c#', '50', 'await', 'keyword', 'list', 'oper...   \n",
       "1  ['configur', 'mercuri', 'use', 'winmerg', 'mer...   \n",
       "2  ['what', 'best', 'way', 'go', 'photoshop', 'mo...   \n",
       "3  ['lookup', 'data', 'book', 'barcod', 'number',...   \n",
       "4  ['embedd', 'webkit', 'compon', 'window', 'c#',...   \n",
       "\n",
       "                                text_stemm_lancaster  \n",
       "0  ['c#', '50', 'await', 'keyword', 'list', 'op',...  \n",
       "1  ['config', 'merc', 'us', 'winmerg', 'merg', 'c...  \n",
       "2  ['what', 'best', 'way', 'go', 'photoshop', 'mo...  \n",
       "3  ['lookup', 'dat', 'book', 'barcod', 'numb', 'b...  \n",
       "4  ['embed', 'webkit', 'compon', 'window', 'c#', ...  "
      ]
     },
     "execution_count": 4,
     "metadata": {},
     "output_type": "execute_result"
    }
   ],
   "source": [
    "df.head()"
   ]
  },
  {
   "cell_type": "code",
   "execution_count": 5,
   "metadata": {},
   "outputs": [
    {
     "data": {
      "text/plain": [
       "0                            ['c#']\n",
       "1                     ['mercurial']\n",
       "2                   ['html', 'css']\n",
       "3             ['language-agnostic']\n",
       "4                   ['.net', 'com']\n",
       "                    ...            \n",
       "38388              ['php', 'mysql']\n",
       "38389               ['html', 'css']\n",
       "38390    ['c#', '.net', 'generics']\n",
       "38391               ['html', 'xml']\n",
       "38392                    ['winapi']\n",
       "Name: TagsTokens, Length: 38393, dtype: object"
      ]
     },
     "execution_count": 5,
     "metadata": {},
     "output_type": "execute_result"
    }
   ],
   "source": [
    "df['TagsTokens']"
   ]
  },
  {
   "cell_type": "markdown",
   "metadata": {},
   "source": [
    "## 1. Tests  sur données avec lemmatisation"
   ]
  },
  {
   "cell_type": "markdown",
   "metadata": {},
   "source": [
    "### 1.1 Préparation des données"
   ]
  },
  {
   "cell_type": "markdown",
   "metadata": {},
   "source": [
    "#### 1.1.1 Construction du dataset"
   ]
  },
  {
   "cell_type": "code",
   "execution_count": 6,
   "metadata": {},
   "outputs": [],
   "source": [
    "#construction du dataset\n",
    "cols = ['TagsTokens','text_lemmatized']\n",
    "df_lemm = df[cols]"
   ]
  },
  {
   "cell_type": "code",
   "execution_count": 7,
   "metadata": {},
   "outputs": [
    {
     "data": {
      "text/plain": [
       "(38393, 2)"
      ]
     },
     "execution_count": 7,
     "metadata": {},
     "output_type": "execute_result"
    }
   ],
   "source": [
    "df_lemm.shape"
   ]
  },
  {
   "cell_type": "code",
   "execution_count": 8,
   "metadata": {},
   "outputs": [
    {
     "data": {
      "text/html": [
       "<div>\n",
       "<style scoped>\n",
       "    .dataframe tbody tr th:only-of-type {\n",
       "        vertical-align: middle;\n",
       "    }\n",
       "\n",
       "    .dataframe tbody tr th {\n",
       "        vertical-align: top;\n",
       "    }\n",
       "\n",
       "    .dataframe thead th {\n",
       "        text-align: right;\n",
       "    }\n",
       "</style>\n",
       "<table border=\"1\" class=\"dataframe\">\n",
       "  <thead>\n",
       "    <tr style=\"text-align: right;\">\n",
       "      <th></th>\n",
       "      <th>TagsTokens</th>\n",
       "      <th>text_lemmatized</th>\n",
       "    </tr>\n",
       "  </thead>\n",
       "  <tbody>\n",
       "    <tr>\n",
       "      <td>0</td>\n",
       "      <td>['c#']</td>\n",
       "      <td>['c#', '50', 'await', 'keyword', 'listed', 'op...</td>\n",
       "    </tr>\n",
       "    <tr>\n",
       "      <td>1</td>\n",
       "      <td>['mercurial']</td>\n",
       "      <td>['configure', 'mercurial', 'use', 'winmerge', ...</td>\n",
       "    </tr>\n",
       "    <tr>\n",
       "      <td>2</td>\n",
       "      <td>['html', 'css']</td>\n",
       "      <td>['whats', 'best', 'way', 'go', 'photoshop', 'm...</td>\n",
       "    </tr>\n",
       "    <tr>\n",
       "      <td>3</td>\n",
       "      <td>['language-agnostic']</td>\n",
       "      <td>['lookup', 'data', 'book', 'barcode', 'number'...</td>\n",
       "    </tr>\n",
       "    <tr>\n",
       "      <td>4</td>\n",
       "      <td>['.net', 'com']</td>\n",
       "      <td>['embeddable', 'webkit', 'component', 'window'...</td>\n",
       "    </tr>\n",
       "    <tr>\n",
       "      <td>...</td>\n",
       "      <td>...</td>\n",
       "      <td>...</td>\n",
       "    </tr>\n",
       "    <tr>\n",
       "      <td>38388</td>\n",
       "      <td>['php', 'mysql']</td>\n",
       "      <td>['php', 'date', 'issue', 'daylight', 'saving',...</td>\n",
       "    </tr>\n",
       "    <tr>\n",
       "      <td>38389</td>\n",
       "      <td>['html', 'css']</td>\n",
       "      <td>['attach', 'image', 'bottom', 'middle', 'tryin...</td>\n",
       "    </tr>\n",
       "    <tr>\n",
       "      <td>38390</td>\n",
       "      <td>['c#', '.net', 'generics']</td>\n",
       "      <td>['c#', 'cant', 'liststring', 'object', 'stored...</td>\n",
       "    </tr>\n",
       "    <tr>\n",
       "      <td>38391</td>\n",
       "      <td>['html', 'xml']</td>\n",
       "      <td>['way', 'comment', 'code', 'notepad2', 'notepa...</td>\n",
       "    </tr>\n",
       "    <tr>\n",
       "      <td>38392</td>\n",
       "      <td>['winapi']</td>\n",
       "      <td>['preregistering', 'atl', 'window', 'class', '...</td>\n",
       "    </tr>\n",
       "  </tbody>\n",
       "</table>\n",
       "<p>38393 rows × 2 columns</p>\n",
       "</div>"
      ],
      "text/plain": [
       "                       TagsTokens  \\\n",
       "0                          ['c#']   \n",
       "1                   ['mercurial']   \n",
       "2                 ['html', 'css']   \n",
       "3           ['language-agnostic']   \n",
       "4                 ['.net', 'com']   \n",
       "...                           ...   \n",
       "38388            ['php', 'mysql']   \n",
       "38389             ['html', 'css']   \n",
       "38390  ['c#', '.net', 'generics']   \n",
       "38391             ['html', 'xml']   \n",
       "38392                  ['winapi']   \n",
       "\n",
       "                                         text_lemmatized  \n",
       "0      ['c#', '50', 'await', 'keyword', 'listed', 'op...  \n",
       "1      ['configure', 'mercurial', 'use', 'winmerge', ...  \n",
       "2      ['whats', 'best', 'way', 'go', 'photoshop', 'm...  \n",
       "3      ['lookup', 'data', 'book', 'barcode', 'number'...  \n",
       "4      ['embeddable', 'webkit', 'component', 'window'...  \n",
       "...                                                  ...  \n",
       "38388  ['php', 'date', 'issue', 'daylight', 'saving',...  \n",
       "38389  ['attach', 'image', 'bottom', 'middle', 'tryin...  \n",
       "38390  ['c#', 'cant', 'liststring', 'object', 'stored...  \n",
       "38391  ['way', 'comment', 'code', 'notepad2', 'notepa...  \n",
       "38392  ['preregistering', 'atl', 'window', 'class', '...  \n",
       "\n",
       "[38393 rows x 2 columns]"
      ]
     },
     "execution_count": 8,
     "metadata": {},
     "output_type": "execute_result"
    }
   ],
   "source": [
    "df_lemm"
   ]
  },
  {
   "cell_type": "markdown",
   "metadata": {},
   "source": [
    "#### 1.1.2 Préparation Train/Tests datasets"
   ]
  },
  {
   "cell_type": "code",
   "execution_count": 9,
   "metadata": {},
   "outputs": [
    {
     "name": "stderr",
     "output_type": "stream",
     "text": [
      "C:\\Users\\alice\\Anaconda3\\lib\\site-packages\\ipykernel_launcher.py:4: SettingWithCopyWarning: \n",
      "A value is trying to be set on a copy of a slice from a DataFrame.\n",
      "Try using .loc[row_indexer,col_indexer] = value instead\n",
      "\n",
      "See the caveats in the documentation: http://pandas.pydata.org/pandas-docs/stable/user_guide/indexing.html#returning-a-view-versus-a-copy\n",
      "  after removing the cwd from sys.path.\n"
     ]
    }
   ],
   "source": [
    "def removestring(text):\n",
    "    return ast.literal_eval(text)\n",
    "\n",
    "df_lemm['TagsTokens'] = df_lemm['TagsTokens'].apply(removestring)"
   ]
  },
  {
   "cell_type": "code",
   "execution_count": 10,
   "metadata": {},
   "outputs": [],
   "source": [
    "dfnew = df_lemm.copy()"
   ]
  },
  {
   "cell_type": "code",
   "execution_count": 11,
   "metadata": {},
   "outputs": [],
   "source": [
    "mlb = MultiLabelBinarizer()\n",
    "ytags = mlb.fit_transform(dfnew['TagsTokens'])"
   ]
  },
  {
   "cell_type": "code",
   "execution_count": 12,
   "metadata": {},
   "outputs": [
    {
     "data": {
      "text/plain": [
       "array([[0, 0, 0, ..., 0, 0, 0],\n",
       "       [0, 0, 0, ..., 0, 0, 0],\n",
       "       [0, 0, 0, ..., 0, 0, 0],\n",
       "       ...,\n",
       "       [1, 0, 0, ..., 0, 0, 0],\n",
       "       [0, 0, 0, ..., 0, 0, 1],\n",
       "       [0, 0, 0, ..., 0, 0, 0]])"
      ]
     },
     "execution_count": 12,
     "metadata": {},
     "output_type": "execute_result"
    }
   ],
   "source": [
    "ytags #check de la binarisation"
   ]
  },
  {
   "cell_type": "code",
   "execution_count": 13,
   "metadata": {},
   "outputs": [],
   "source": [
    "X_train, X_test, y_train, y_test = train_test_split(dfnew['text_lemmatized'], ytags, test_size=0.2,train_size=0.8, random_state=7)"
   ]
  },
  {
   "cell_type": "markdown",
   "metadata": {},
   "source": [
    "mlb.inverse_transform(y_train)"
   ]
  },
  {
   "cell_type": "markdown",
   "metadata": {},
   "source": [
    "### 1.2 Extraction de l'information du texte: tf-idf"
   ]
  },
  {
   "cell_type": "markdown",
   "metadata": {},
   "source": [
    "#### 1.2.1 tf-idf sur les données train"
   ]
  },
  {
   "cell_type": "code",
   "execution_count": 14,
   "metadata": {},
   "outputs": [],
   "source": [
    "#initislisation du vectorizer\n",
    "tfidf_vectorizer = TfidfVectorizer(use_idf = True, max_features = 1000)\n",
    "#transformation des données\n",
    "X_tfidf_train = tfidf_vectorizer.fit_transform(X_train)"
   ]
  },
  {
   "cell_type": "code",
   "execution_count": 15,
   "metadata": {},
   "outputs": [
    {
     "data": {
      "text/plain": [
       "<30714x1000 sparse matrix of type '<class 'numpy.float64'>'\n",
       "\twith 956361 stored elements in Compressed Sparse Row format>"
      ]
     },
     "execution_count": 15,
     "metadata": {},
     "output_type": "execute_result"
    }
   ],
   "source": [
    "X_tfidf_train"
   ]
  },
  {
   "cell_type": "code",
   "execution_count": 16,
   "metadata": {},
   "outputs": [],
   "source": [
    "# récupération du premier vecteur\n",
    "first_vector_tfidfvectorizer_train = X_tfidf_train[0]"
   ]
  },
  {
   "cell_type": "code",
   "execution_count": 17,
   "metadata": {
    "scrolled": false
   },
   "outputs": [
    {
     "data": {
      "text/html": [
       "<div>\n",
       "<style scoped>\n",
       "    .dataframe tbody tr th:only-of-type {\n",
       "        vertical-align: middle;\n",
       "    }\n",
       "\n",
       "    .dataframe tbody tr th {\n",
       "        vertical-align: top;\n",
       "    }\n",
       "\n",
       "    .dataframe thead th {\n",
       "        text-align: right;\n",
       "    }\n",
       "</style>\n",
       "<table border=\"1\" class=\"dataframe\">\n",
       "  <thead>\n",
       "    <tr style=\"text-align: right;\">\n",
       "      <th></th>\n",
       "      <th>tfidf</th>\n",
       "    </tr>\n",
       "  </thead>\n",
       "  <tbody>\n",
       "    <tr>\n",
       "      <td>map</td>\n",
       "      <td>0.717726</td>\n",
       "    </tr>\n",
       "    <tr>\n",
       "      <td>collection</td>\n",
       "      <td>0.404702</td>\n",
       "    </tr>\n",
       "    <tr>\n",
       "      <td>easy</td>\n",
       "      <td>0.261893</td>\n",
       "    </tr>\n",
       "    <tr>\n",
       "      <td>value</td>\n",
       "      <td>0.171563</td>\n",
       "    </tr>\n",
       "    <tr>\n",
       "      <td>make</td>\n",
       "      <td>0.169668</td>\n",
       "    </tr>\n",
       "    <tr>\n",
       "      <td>...</td>\n",
       "      <td>...</td>\n",
       "    </tr>\n",
       "    <tr>\n",
       "      <td>failed</td>\n",
       "      <td>0.000000</td>\n",
       "    </tr>\n",
       "    <tr>\n",
       "      <td>fails</td>\n",
       "      <td>0.000000</td>\n",
       "    </tr>\n",
       "    <tr>\n",
       "      <td>failure</td>\n",
       "      <td>0.000000</td>\n",
       "    </tr>\n",
       "    <tr>\n",
       "      <td>fairly</td>\n",
       "      <td>0.000000</td>\n",
       "    </tr>\n",
       "    <tr>\n",
       "      <td>yet</td>\n",
       "      <td>0.000000</td>\n",
       "    </tr>\n",
       "  </tbody>\n",
       "</table>\n",
       "<p>1000 rows × 1 columns</p>\n",
       "</div>"
      ],
      "text/plain": [
       "               tfidf\n",
       "map         0.717726\n",
       "collection  0.404702\n",
       "easy        0.261893\n",
       "value       0.171563\n",
       "make        0.169668\n",
       "...              ...\n",
       "failed      0.000000\n",
       "fails       0.000000\n",
       "failure     0.000000\n",
       "fairly      0.000000\n",
       "yet         0.000000\n",
       "\n",
       "[1000 rows x 1 columns]"
      ]
     },
     "execution_count": 17,
     "metadata": {},
     "output_type": "execute_result"
    }
   ],
   "source": [
    "# placement des valeurs tf-idf values dans un pandas data frame\n",
    "df_lemm_tfidfd_train = pd.DataFrame(first_vector_tfidfvectorizer_train.T.todense(), \n",
    "                                    index = tfidf_vectorizer.get_feature_names(), columns = [\"tfidf\"])\n",
    "df_lemm_tfidfd_train.sort_values(by = [\"tfidf\"],ascending=False)"
   ]
  },
  {
   "cell_type": "code",
   "execution_count": 18,
   "metadata": {},
   "outputs": [],
   "source": [
    "tfidf_feature_names = tfidf_vectorizer.get_feature_names()\n"
   ]
  },
  {
   "cell_type": "markdown",
   "metadata": {},
   "source": [
    "#### 1.2.2 tf-idf sur les données test"
   ]
  },
  {
   "cell_type": "code",
   "execution_count": 19,
   "metadata": {},
   "outputs": [],
   "source": [
    "#initislisation du vectorizer\n",
    "tfidf_vectorizer = TfidfVectorizer(use_idf = True, max_features = 1000)\n",
    "#transformation des données\n",
    "X_tfidf_test= tfidf_vectorizer.fit_transform(X_test)"
   ]
  },
  {
   "cell_type": "code",
   "execution_count": 20,
   "metadata": {},
   "outputs": [
    {
     "data": {
      "text/plain": [
       "<7679x1000 sparse matrix of type '<class 'numpy.float64'>'\n",
       "\twith 239032 stored elements in Compressed Sparse Row format>"
      ]
     },
     "execution_count": 20,
     "metadata": {},
     "output_type": "execute_result"
    }
   ],
   "source": [
    "X_tfidf_test"
   ]
  },
  {
   "cell_type": "code",
   "execution_count": 21,
   "metadata": {},
   "outputs": [],
   "source": [
    "# récupération du premier vecteur\n",
    "first_vector_tfidfvectorizer_test=X_tfidf_test[0]"
   ]
  },
  {
   "cell_type": "code",
   "execution_count": 22,
   "metadata": {
    "scrolled": false
   },
   "outputs": [
    {
     "data": {
      "text/html": [
       "<div>\n",
       "<style scoped>\n",
       "    .dataframe tbody tr th:only-of-type {\n",
       "        vertical-align: middle;\n",
       "    }\n",
       "\n",
       "    .dataframe tbody tr th {\n",
       "        vertical-align: top;\n",
       "    }\n",
       "\n",
       "    .dataframe thead th {\n",
       "        text-align: right;\n",
       "    }\n",
       "</style>\n",
       "<table border=\"1\" class=\"dataframe\">\n",
       "  <thead>\n",
       "    <tr style=\"text-align: right;\">\n",
       "      <th></th>\n",
       "      <th>tfidf</th>\n",
       "    </tr>\n",
       "  </thead>\n",
       "  <tbody>\n",
       "    <tr>\n",
       "      <td>dialog</td>\n",
       "      <td>0.449423</td>\n",
       "    </tr>\n",
       "    <tr>\n",
       "      <td>assembly</td>\n",
       "      <td>0.404126</td>\n",
       "    </tr>\n",
       "    <tr>\n",
       "      <td>framework</td>\n",
       "      <td>0.351412</td>\n",
       "    </tr>\n",
       "    <tr>\n",
       "      <td>reference</td>\n",
       "      <td>0.330897</td>\n",
       "    </tr>\n",
       "    <tr>\n",
       "      <td>net</td>\n",
       "      <td>0.303273</td>\n",
       "    </tr>\n",
       "    <tr>\n",
       "      <td>...</td>\n",
       "      <td>...</td>\n",
       "    </tr>\n",
       "    <tr>\n",
       "      <td>fact</td>\n",
       "      <td>0.000000</td>\n",
       "    </tr>\n",
       "    <tr>\n",
       "      <td>factory</td>\n",
       "      <td>0.000000</td>\n",
       "    </tr>\n",
       "    <tr>\n",
       "      <td>fail</td>\n",
       "      <td>0.000000</td>\n",
       "    </tr>\n",
       "    <tr>\n",
       "      <td>failed</td>\n",
       "      <td>0.000000</td>\n",
       "    </tr>\n",
       "    <tr>\n",
       "      <td>yet</td>\n",
       "      <td>0.000000</td>\n",
       "    </tr>\n",
       "  </tbody>\n",
       "</table>\n",
       "<p>1000 rows × 1 columns</p>\n",
       "</div>"
      ],
      "text/plain": [
       "              tfidf\n",
       "dialog     0.449423\n",
       "assembly   0.404126\n",
       "framework  0.351412\n",
       "reference  0.330897\n",
       "net        0.303273\n",
       "...             ...\n",
       "fact       0.000000\n",
       "factory    0.000000\n",
       "fail       0.000000\n",
       "failed     0.000000\n",
       "yet        0.000000\n",
       "\n",
       "[1000 rows x 1 columns]"
      ]
     },
     "execution_count": 22,
     "metadata": {},
     "output_type": "execute_result"
    }
   ],
   "source": [
    "# placement des valeurs tf-idf values dans un pandas data frame\n",
    "df_lemm_tfidfd_test = pd.DataFrame(first_vector_tfidfvectorizer_test.T.todense(), \n",
    "                                   index = tfidf_vectorizer.get_feature_names(), columns = [\"tfidf\"])\n",
    "df_lemm_tfidfd_test.sort_values(by = [\"tfidf\"],ascending=False)"
   ]
  },
  {
   "cell_type": "markdown",
   "metadata": {},
   "source": [
    "### 1.3 Méthode 1: Approche non supervisée"
   ]
  },
  {
   "cell_type": "markdown",
   "metadata": {},
   "source": [
    "#### 1.3.1 Latent Dirichlet Allocation (méthode non-supervisée)  -  train dataset"
   ]
  },
  {
   "cell_type": "code",
   "execution_count": 23,
   "metadata": {},
   "outputs": [
    {
     "data": {
      "text/plain": [
       "LatentDirichletAllocation(batch_size=128, doc_topic_prior=None,\n",
       "                          evaluate_every=-1, learning_decay=0.7,\n",
       "                          learning_method='online', learning_offset=50,\n",
       "                          max_doc_update_iter=100, max_iter=5,\n",
       "                          mean_change_tol=0.001, n_components=10, n_jobs=None,\n",
       "                          perp_tol=0.1, random_state=0, topic_word_prior=None,\n",
       "                          total_samples=1000000.0, verbose=0)"
      ]
     },
     "execution_count": 23,
     "metadata": {},
     "output_type": "execute_result"
    }
   ],
   "source": [
    "n_topics = 10\n",
    "\n",
    "# Créer le modèle LDA\n",
    "lda_model = LatentDirichletAllocation(\n",
    "        n_components =n_topics, \n",
    "        max_iter = 5, \n",
    "        learning_method ='online', \n",
    "        learning_offset = 50,\n",
    "        random_state = 0)\n",
    "\n",
    "# Fitter sur les données\n",
    "lda_model.fit(X_tfidf_train)"
   ]
  },
  {
   "cell_type": "code",
   "execution_count": 24,
   "metadata": {},
   "outputs": [
    {
     "name": "stderr",
     "output_type": "stream",
     "text": [
      "C:\\Users\\alice\\Anaconda3\\lib\\site-packages\\pyLDAvis\\_prepare.py:257: FutureWarning: Sorting because non-concatenation axis is not aligned. A future version\n",
      "of pandas will change to not sort by default.\n",
      "\n",
      "To accept the future behavior, pass 'sort=False'.\n",
      "\n",
      "To retain the current behavior and silence the warning, pass 'sort=True'.\n",
      "\n",
      "  return pd.concat([default_term_info] + list(topic_dfs))\n"
     ]
    },
    {
     "data": {
      "text/html": [
       "\n",
       "<link rel=\"stylesheet\" type=\"text/css\" href=\"https://cdn.rawgit.com/bmabey/pyLDAvis/files/ldavis.v1.0.0.css\">\n",
       "\n",
       "\n",
       "<div id=\"ldavis_el828427565830313682489544926\"></div>\n",
       "<script type=\"text/javascript\">\n",
       "\n",
       "var ldavis_el828427565830313682489544926_data = {\"mdsDat\": {\"x\": [-96.58938598632812, 88.61467742919922, -13.801841735839844, -11.249109268188477, 31.267065048217773, -77.72037506103516, 26.66082000732422, -33.339454650878906, 54.34280776977539, -41.044471740722656], \"y\": [24.950237274169922, 17.021690368652344, -33.460792541503906, -95.51756286621094, 77.2491226196289, -45.640769958496094, 12.413454055786133, 24.55509376525879, -53.057273864746094, 87.35414123535156], \"topics\": [1, 2, 3, 4, 5, 6, 7, 8, 9, 10], \"cluster\": [1, 1, 1, 1, 1, 1, 1, 1, 1, 1], \"Freq\": [24.103634539227222, 15.568372454025006, 15.040157583791197, 11.728239833207633, 10.922411806878442, 8.958102761148714, 6.185289885004511, 2.6289116026283796, 2.5968654907701496, 2.2680140433187517]}, \"tinfo\": {\"Category\": [\"Default\", \"Default\", \"Default\", \"Default\", \"Default\", \"Default\", \"Default\", \"Default\", \"Default\", \"Default\", \"Default\", \"Default\", \"Default\", \"Default\", \"Default\", \"Default\", \"Default\", \"Default\", \"Default\", \"Default\", \"Default\", \"Default\", \"Default\", \"Default\", \"Default\", \"Default\", \"Default\", \"Default\", \"Default\", \"Default\", \"Topic1\", \"Topic1\", \"Topic1\", \"Topic1\", \"Topic1\", \"Topic1\", \"Topic1\", \"Topic1\", \"Topic1\", \"Topic1\", \"Topic1\", \"Topic1\", \"Topic1\", \"Topic1\", \"Topic1\", \"Topic1\", \"Topic1\", \"Topic1\", \"Topic1\", \"Topic1\", \"Topic1\", \"Topic1\", \"Topic1\", \"Topic1\", \"Topic1\", \"Topic1\", \"Topic1\", \"Topic1\", \"Topic1\", \"Topic1\", \"Topic1\", \"Topic1\", \"Topic1\", \"Topic1\", \"Topic1\", \"Topic1\", \"Topic1\", \"Topic1\", \"Topic1\", \"Topic1\", \"Topic1\", \"Topic1\", \"Topic1\", \"Topic1\", \"Topic1\", \"Topic1\", \"Topic1\", \"Topic1\", \"Topic1\", \"Topic1\", \"Topic1\", \"Topic1\", \"Topic1\", \"Topic1\", \"Topic1\", \"Topic1\", \"Topic1\", \"Topic1\", \"Topic1\", \"Topic1\", \"Topic1\", \"Topic2\", \"Topic2\", \"Topic2\", \"Topic2\", \"Topic2\", \"Topic2\", \"Topic2\", \"Topic2\", \"Topic2\", \"Topic2\", \"Topic2\", \"Topic2\", \"Topic2\", \"Topic2\", \"Topic2\", \"Topic2\", \"Topic2\", \"Topic2\", \"Topic2\", \"Topic2\", \"Topic2\", \"Topic2\", \"Topic2\", \"Topic2\", \"Topic2\", \"Topic2\", \"Topic2\", \"Topic2\", \"Topic2\", \"Topic2\", \"Topic2\", \"Topic2\", \"Topic2\", \"Topic2\", \"Topic2\", \"Topic2\", \"Topic2\", \"Topic2\", \"Topic2\", \"Topic2\", \"Topic2\", \"Topic2\", \"Topic2\", \"Topic2\", \"Topic2\", \"Topic2\", \"Topic2\", \"Topic2\", \"Topic2\", \"Topic2\", \"Topic2\", \"Topic2\", \"Topic2\", \"Topic2\", \"Topic2\", \"Topic2\", \"Topic3\", \"Topic3\", \"Topic3\", \"Topic3\", \"Topic3\", \"Topic3\", \"Topic3\", \"Topic3\", \"Topic3\", \"Topic3\", \"Topic3\", \"Topic3\", \"Topic3\", \"Topic3\", \"Topic3\", \"Topic3\", \"Topic3\", \"Topic3\", \"Topic3\", \"Topic3\", \"Topic3\", \"Topic3\", \"Topic3\", \"Topic3\", \"Topic3\", \"Topic3\", \"Topic3\", \"Topic3\", \"Topic3\", \"Topic3\", \"Topic3\", \"Topic3\", \"Topic3\", \"Topic3\", \"Topic3\", \"Topic3\", \"Topic3\", \"Topic3\", \"Topic3\", \"Topic3\", \"Topic3\", \"Topic3\", \"Topic3\", \"Topic3\", \"Topic3\", \"Topic3\", \"Topic3\", \"Topic3\", \"Topic3\", \"Topic3\", \"Topic3\", \"Topic3\", \"Topic4\", \"Topic4\", \"Topic4\", \"Topic4\", \"Topic4\", \"Topic4\", \"Topic4\", \"Topic4\", \"Topic4\", \"Topic4\", \"Topic4\", \"Topic4\", \"Topic4\", \"Topic4\", \"Topic4\", \"Topic4\", \"Topic4\", \"Topic4\", \"Topic4\", \"Topic4\", \"Topic4\", \"Topic4\", \"Topic4\", \"Topic4\", \"Topic4\", \"Topic4\", \"Topic4\", \"Topic4\", \"Topic4\", \"Topic4\", \"Topic4\", \"Topic4\", \"Topic4\", \"Topic4\", \"Topic4\", \"Topic4\", \"Topic4\", \"Topic4\", \"Topic4\", \"Topic4\", \"Topic4\", \"Topic4\", \"Topic4\", \"Topic4\", \"Topic4\", \"Topic4\", \"Topic4\", \"Topic4\", \"Topic4\", \"Topic5\", \"Topic5\", \"Topic5\", \"Topic5\", \"Topic5\", \"Topic5\", \"Topic5\", \"Topic5\", \"Topic5\", \"Topic5\", \"Topic5\", \"Topic5\", \"Topic5\", \"Topic5\", \"Topic5\", \"Topic5\", \"Topic5\", \"Topic5\", \"Topic5\", \"Topic5\", \"Topic5\", \"Topic5\", \"Topic5\", \"Topic5\", \"Topic5\", \"Topic5\", \"Topic5\", \"Topic5\", \"Topic5\", \"Topic5\", \"Topic5\", \"Topic5\", \"Topic5\", \"Topic5\", \"Topic5\", \"Topic5\", \"Topic5\", \"Topic5\", \"Topic5\", \"Topic5\", \"Topic5\", \"Topic5\", \"Topic5\", \"Topic5\", \"Topic5\", \"Topic5\", \"Topic5\", \"Topic5\", \"Topic5\", \"Topic5\", \"Topic5\", \"Topic5\", \"Topic6\", \"Topic6\", \"Topic6\", \"Topic6\", \"Topic6\", \"Topic6\", \"Topic6\", \"Topic6\", \"Topic6\", \"Topic6\", \"Topic6\", \"Topic6\", \"Topic6\", \"Topic6\", \"Topic6\", \"Topic6\", \"Topic6\", \"Topic6\", \"Topic6\", \"Topic6\", \"Topic6\", \"Topic6\", \"Topic6\", \"Topic6\", \"Topic6\", \"Topic6\", \"Topic6\", \"Topic6\", \"Topic6\", \"Topic6\", \"Topic6\", \"Topic6\", \"Topic6\", \"Topic6\", \"Topic6\", \"Topic6\", \"Topic6\", \"Topic6\", \"Topic6\", \"Topic6\", \"Topic6\", \"Topic6\", \"Topic6\", \"Topic6\", \"Topic6\", \"Topic6\", \"Topic6\", \"Topic6\", \"Topic6\", \"Topic6\", \"Topic6\", \"Topic6\", \"Topic7\", \"Topic7\", \"Topic7\", \"Topic7\", \"Topic7\", \"Topic7\", \"Topic7\", \"Topic7\", \"Topic7\", \"Topic7\", \"Topic7\", \"Topic7\", \"Topic7\", \"Topic7\", \"Topic7\", \"Topic7\", \"Topic7\", \"Topic7\", \"Topic7\", \"Topic7\", \"Topic7\", \"Topic7\", \"Topic7\", \"Topic7\", \"Topic7\", \"Topic7\", \"Topic7\", \"Topic7\", \"Topic7\", \"Topic7\", \"Topic7\", \"Topic7\", \"Topic7\", \"Topic7\", \"Topic7\", \"Topic7\", \"Topic7\", \"Topic7\", \"Topic7\", \"Topic7\", \"Topic7\", \"Topic7\", \"Topic7\", \"Topic7\", \"Topic8\", \"Topic8\", \"Topic8\", \"Topic8\", \"Topic8\", \"Topic8\", \"Topic8\", \"Topic8\", \"Topic8\", \"Topic8\", \"Topic8\", \"Topic8\", \"Topic8\", \"Topic8\", \"Topic8\", \"Topic8\", \"Topic8\", \"Topic8\", \"Topic8\", \"Topic8\", \"Topic8\", \"Topic8\", \"Topic8\", \"Topic8\", \"Topic8\", \"Topic8\", \"Topic8\", \"Topic8\", \"Topic8\", \"Topic8\", \"Topic8\", \"Topic8\", \"Topic9\", \"Topic9\", \"Topic9\", \"Topic9\", \"Topic9\", \"Topic9\", \"Topic9\", \"Topic9\", \"Topic9\", \"Topic9\", \"Topic9\", \"Topic9\", \"Topic9\", \"Topic9\", \"Topic9\", \"Topic9\", \"Topic9\", \"Topic9\", \"Topic9\", \"Topic9\", \"Topic9\", \"Topic9\", \"Topic9\", \"Topic9\", \"Topic9\", \"Topic9\", \"Topic9\", \"Topic9\", \"Topic9\", \"Topic9\", \"Topic9\", \"Topic9\", \"Topic9\", \"Topic9\", \"Topic9\", \"Topic9\", \"Topic10\", \"Topic10\", \"Topic10\", \"Topic10\", \"Topic10\", \"Topic10\", \"Topic10\", \"Topic10\", \"Topic10\", \"Topic10\", \"Topic10\", \"Topic10\", \"Topic10\", \"Topic10\", \"Topic10\", \"Topic10\", \"Topic10\", \"Topic10\", \"Topic10\", \"Topic10\", \"Topic10\", \"Topic10\", \"Topic10\", \"Topic10\", \"Topic10\", \"Topic10\", \"Topic10\", \"Topic10\", \"Topic10\", \"Topic10\", \"Topic10\", \"Topic10\", \"Topic10\", \"Topic10\", \"Topic10\", \"Topic10\", \"Topic10\", \"Topic10\", \"Topic10\", \"Topic10\", \"Topic10\", \"Topic10\"], \"Freq\": [673.0, 594.0, 702.0, 542.0, 661.0, 496.0, 379.0, 438.0, 326.0, 382.0, 411.0, 311.0, 346.0, 277.0, 246.0, 222.0, 382.0, 247.0, 825.0, 249.0, 373.0, 231.0, 194.0, 196.0, 213.0, 174.0, 187.0, 180.0, 161.0, 158.0, 92.47494638229102, 67.55580260224932, 67.54420669878162, 51.84723957156768, 44.703889714935116, 62.0531451885402, 96.15339501579783, 52.12621891512494, 42.29682642782764, 91.0554279657174, 74.17660014000211, 208.477022150915, 80.9301958420403, 37.482867874924445, 215.41847490492978, 68.47631823289059, 92.03344143427037, 92.1837605587114, 75.4342113255572, 42.872246098026196, 40.24068038965841, 116.91286494914766, 52.36057282121646, 191.84999980561716, 119.94095107499838, 54.37369888090262, 87.40826845899883, 36.64593217954998, 317.37945558455135, 73.70616477852346, 147.64842125365627, 547.269066241052, 134.64320796569834, 90.99006784036808, 213.29989959990326, 82.88464458882898, 179.8733481226033, 260.21037618770185, 148.40936760892268, 202.7166975049915, 137.88128369803695, 272.821087626392, 198.14786166343424, 190.7983851547915, 164.85860750859314, 202.4149415452029, 116.25750544669779, 136.92493649617003, 132.05066683638915, 210.05105360511308, 100.40427045085815, 207.1192013696047, 184.7236080520566, 120.5536594728582, 116.89456053739441, 148.25748424962327, 152.10758784145995, 165.0258612143887, 126.02463724024258, 133.98541306217822, 125.52074723563358, 120.99932806191575, 61.338159295163166, 45.28659574653388, 95.8494122838407, 35.329843118056026, 43.93786371852084, 49.709027666175345, 34.603885902219346, 90.32594318199104, 219.03573182723156, 56.84029625744221, 161.04972643994, 47.6817463631455, 54.131502764332886, 65.62124958040857, 436.89366314668325, 43.06321771153591, 48.37082185081516, 46.075218211870755, 165.91164733796566, 95.74251707523017, 78.75911449296628, 32.45097044967056, 49.08753416366056, 38.10140795422081, 34.20999383741124, 34.421017249614074, 45.26049981622293, 66.55957165609803, 51.86261630565039, 255.22057823974413, 127.61437835079197, 86.00697271516407, 420.6540272711874, 264.6149779303997, 155.28190506745656, 290.2313367573484, 247.96218942562777, 287.7149364862967, 119.66119727372889, 217.9336171241685, 146.50169193372096, 242.2371522346998, 149.13338557483178, 186.3723735852747, 134.4491437249659, 166.06033202862167, 163.358769867516, 124.75623892885626, 149.54773992438956, 123.17525751037518, 120.45818114401384, 101.96693192904294, 105.02415000779965, 103.01580218311088, 100.56686567133927, 49.12056055637023, 82.34548488468006, 73.85154349096014, 97.26517803835416, 38.1348733395186, 42.369366895533915, 107.30771939517018, 65.72557172511267, 44.25483544325122, 114.74463969371077, 58.122982033357275, 69.0787292931096, 80.85749222926113, 39.02486598134442, 47.38534856691637, 207.20133939532425, 101.90917847318659, 41.28473103703962, 39.48717311495875, 45.11205567302084, 187.14128856913072, 35.876498485050625, 139.80867265697228, 248.7041203572261, 63.10763522879872, 47.08571966789538, 90.471638066801, 36.06085021680936, 54.40294226671955, 128.63080529666377, 149.85265732431174, 184.39706718210425, 187.77009961807306, 129.78779269451658, 67.17909778997871, 188.57290692381116, 231.41536680977967, 81.96024622005409, 182.36444390763043, 144.12269312481575, 158.9061086960307, 103.60400620101146, 127.96575618807239, 112.25416835063042, 80.62274194597717, 128.72993520568204, 133.96512120272587, 112.38304023016964, 113.29414156495328, 102.81019280170185, 84.28688571271357, 85.96370151304946, 54.080886909336286, 34.35499193807856, 42.19270472555847, 39.906330911879174, 89.90998377729902, 53.23138593692509, 47.79411913504036, 46.878283932208525, 90.52975981628967, 46.133096818685374, 53.476339980208785, 119.91451974249638, 24.648874208355785, 113.2943458057394, 108.25437536012029, 92.21208876408173, 87.53214695857503, 28.318938515159708, 36.44865715196635, 251.45794680754673, 34.95258501104127, 220.67854595305832, 36.828600975250396, 40.21044319026025, 24.61762923988864, 54.676025468681836, 95.51891469743673, 158.7602756878817, 52.771496576973256, 40.7247228500553, 116.58166829403505, 341.54091364951717, 182.4742976902629, 104.91934595587472, 96.59500501549138, 122.15760698535549, 184.9948651789791, 162.65323234208202, 151.56047231552827, 138.30198448955093, 101.42146547898952, 142.23642460071895, 125.42956249641544, 92.60864360027342, 93.73182013771812, 100.4799352826288, 96.21778605508827, 86.42782552364599, 84.54802100905005, 96.725813210268, 78.84275067010894, 145.65053830051363, 39.30073232828668, 58.884486397440426, 40.640309330154466, 54.940060437115996, 176.3917792143697, 86.32915945360956, 47.19860079788291, 89.97076829025215, 29.667429725314932, 29.15554947670542, 29.732953130383915, 60.05595462712561, 81.53679965869173, 25.609291167105045, 51.89569418137031, 46.37588473476262, 40.406005553896115, 20.342855134372133, 70.99181866331972, 112.4343265527106, 50.1540010748195, 43.68592317025867, 125.95692575362087, 67.21883919694544, 24.275588178722007, 22.569053491236552, 259.04816447132055, 76.84605367760453, 186.23473095357505, 111.47980305328687, 102.36000308190391, 126.08190242187409, 148.5762736782836, 101.01264468499302, 71.14935191729157, 68.06744552882148, 123.39963186544102, 89.21408717411758, 87.2934933609533, 96.07703603257485, 101.05458188435276, 88.75493472139911, 102.763237322192, 92.55762265621895, 86.46275439655435, 77.99566836479066, 75.92535630359806, 77.67704498552494, 71.61583876445172, 74.36237213557447, 50.64383378226561, 39.224434478882145, 46.41498428002766, 47.04490314731958, 181.51458670268883, 38.90386700044629, 52.3170859197979, 42.47350146708851, 69.1938331859365, 40.32349106491341, 52.72290292129874, 42.421776416068454, 118.85005974555709, 91.50911762414403, 53.04335436953012, 78.29174900330119, 209.1147721196, 154.7010865709362, 197.193719925266, 95.19057518926337, 39.4861552691409, 170.3553825561477, 32.18698794956127, 40.0626171984441, 28.5911525723093, 31.72751737612852, 49.92275365219623, 30.693868792265594, 32.46992142459226, 48.63384751888933, 80.58091684874307, 118.65798933360452, 144.1689593598283, 49.96126694155155, 86.98715080422117, 96.4910937342327, 99.33511820367848, 71.57662925973422, 100.84737650343995, 81.51287886729152, 72.33306318126553, 80.74374067332312, 67.11476676093106, 88.5796977495347, 81.43459818584608, 80.88359941166819, 69.04466917225636, 59.2423744839631, 62.42309773435415, 65.60858025299984, 61.80488597052074, 116.31419778736725, 81.32341451755653, 76.19576450246414, 51.542020523830274, 34.45088230961096, 140.54191902773874, 46.18526305214441, 91.09307289971474, 57.91959094138633, 33.186493120775935, 130.62928764638966, 39.59777287714751, 167.1092458704312, 62.49292467976327, 60.369773755195354, 283.312455183531, 55.96890600838293, 73.71382050615028, 36.20368331215862, 116.65559271484857, 72.01211614737811, 85.01109375985543, 47.28933947531783, 72.0151447710152, 38.95371848536425, 51.75811596346489, 47.72667667642435, 46.37689518003065, 46.69466927638124, 185.13067447511773, 76.95698165188053, 167.49081511846936, 71.19880342157947, 93.62046532970653, 102.2939099506937, 57.87518676163914, 83.39877731788432, 84.37703952002447, 85.08574996275286, 62.23264857942848, 61.7917932002183, 77.05010219553897, 61.4516371881874, 64.91024505170031, 149.0812527318015, 127.89057231845022, 168.22881382428582, 138.05274064346798, 90.48284914628854, 96.90803228125698, 100.94028723206044, 474.2579217742644, 192.71449267609285, 147.21989256170116, 157.47823829565618, 378.2686751150879, 110.0804949709038, 56.86271034806875, 50.065433115402676, 285.33485585278004, 66.53137690327853, 44.57579445587727, 21.1826700488328, 16.73585198039242, 75.45949438501543, 11.018389818396683, 30.349287042494808, 18.41073341214227, 8.068237183148696, 21.787957216435327, 57.059149758925265, 9.7421625359951, 21.485192507005536, 34.30416593941091, 14.84770058236835, 10.462767753306327, 140.9783234128492, 146.45754490700003, 179.11117454083922, 204.24048930815928, 141.98876897057679, 274.9901301191654, 298.1123124644798, 391.05627252309694, 65.22005787992495, 131.2115715525934, 167.62307442977706, 160.05090827132662, 65.35316425930645, 58.37108443089451, 211.6666311088029, 40.01990925520524, 38.61344620001641, 31.258876862921376, 9.7519282653527, 30.26752469004339, 19.568654686781343, 21.4532901247766, 21.221216526107263, 11.782338060482124, 15.216858589963403, 13.251986669039292, 22.669648944922717, 5.506564401382804, 5.273683591858764, 5.394956346940721, 71.69830308001109, 10.229932146219747, 26.28046249063843, 15.029471403606204, 14.418946642614783, 12.72010547067102, 325.30641718636616, 310.3930378977264, 377.47175776903066, 121.75623463112395, 213.2638003397489, 140.44701189071708, 97.1226609412406, 340.2633875414527, 105.87815950445098, 212.4187831434817, 45.66595629076003, 264.46092528092856, 48.9813532125726, 21.782960669128247, 14.66306143218736, 4.039108318869499, 10.920066188830221, 4.216757106203522, 1.483396741889696, 1.0310736469441553, 0.3703227909837964, 0.37031201443856665, 0.4537560566224839, 0.3703868868484839, 0.37031842802848275, 0.37179586636462264, 0.37031736242970503, 0.3764428631859626, 0.37031788122816756, 0.3703788821175274, 0.5380243091623774, 0.4302072915415951, 0.3752585646232083, 0.3910545210194643, 0.391330732431532, 0.3816116584751687, 0.37983972478359995, 0.38072924496987126, 0.3808068478324668, 0.388704395512426, 0.38251397492935396, 0.38116371792187176], \"Term\": [\"speed\", \"database\", \"tab\", \"format\", \"server\", \"role\", \"certain\", \"column\", \"task\", \"bad\", \"purpose\", \"except\", \"import\", \"connect\", \"default\", \"tr\", \"image\", \"month\", \"clean\", \"prevent\", \"push\", \"name\", \"specify\", \"private\", \"stop\", \"position\", \"selected\", \"call\", \"view\", \"whole\", \"sure\", \"given\", \"wrong\", \"generated\", \"javascript\", \"branch\", \"edit\", \"screen\", \"utf8\", \"install\", \"line\", \"struct\", \"dll\", \"bundle\", \"void\", \"live\", \"installed\", \"render\", \"main\", \"commit\", \"bin\", \"foo\", \"software\", \"build\", \"asp\", \"place\", \"development\", \"method\", \"program\", \"device\", \"directory\", \"figure\", \"tool\", \"page\", \"via\", \"item\", \"link\", \"width\", \"probably\", \"row\", \"command\", \"appears\", \"network\", \"api\", \"job\", \"term\", \"product\", \"ruby\", \"sound\", \"use\", \"make\", \"code\", \"wcf\", \"syntax\", \"pattern\", \"etc\", \"open\", \"git\", \"find\", \"wanted\", \"time\", \"static\", \"stream\", \"mysql\", \"const\", \"object\", \"gem_root\", \"model\", \"integer\", \"contact\", \"wait\", \"typeof\", \"previous\", \"consolewriteline\", \"delete\", \"boolean\", \"provided\", \"buffer\", \"border\", \"version\", \"state\", \"ca\", \"getting\", \"assign\", \"catch\", \"expression\", \"read\", \"able\", \"ienumerable\", \"menu\", \"boost\", \"int\", \"internal\", \"throw\", \"clean\", \"might\", \"execute\", \"obvious\", \"rest\", \"stored\", \"thread\", \"type\", \"number\", \"next\", \"project\", \"code\", \"variable\", \"general\", \"varchar\", \"callback\", \"git\", \"etc\", \"term\", \"load\", \"use\", \"format\", \"wcf\", \"convert\", \"attempt\", \"looked\", \"web\", \"small\", \"uri\", \"path\", \"right\", \"recently\", \"enabled\", \"avoid\", \"usr\", \"ii\", \"socket\", \"changed\", \"rendering\", \"session\", \"returned\", \"provide\", \"updated\", \"url\", \"sender\", \"mx\", \"service\", \"second\", \"shared\", \"requirement\", \"address\", \"anyway\", \"controller\", \"client\", \"asking\", \"webconfig\", \"since\", \"self\", \"http\", \"user\", \"port\", \"server\", \"param\", \"appears\", \"microsoft\", \"etc\", \"api\", \"across\", \"git\", \"figure\", \"data\", \"use\", \"wcf\", \"abstract\", \"next\", \"various\", \"layer\", \"framework\", \"fix\", \"json\", \"nil\", \"virtual\", \"registrynpmjsorg\", \"datetime\", \"cause\", \"pretty\", \"entry\", \"xmlns\", \"reason\", \"little\", \"insert\", \"customer\", \"title\", \"unfortunately\", \"push\", \"move\", \"seems\", \"match\", \"constructor\", \"id\", \"person\", \"index\", \"feel\", \"process\", \"tree\", \"module\", \"tab\", \"column\", \"date\", \"original\", \"known\", \"speed\", \"data\", \"varchar\", \"named\", \"number\", \"database\", \"role\", \"java\", \"load\", \"git\", \"wcf\", \"obvious\", \"wanted\", \"ref\", \"algorithm\", \"checkbox\", \"declaration\", \"perl\", \"eclipse\", \"part\", \"around\", \"express\", \"regex\", \"max\", \"validate\", \"either\", \"quite\", \"wondering\", \"conversion\", \"sequence\", \"machine\", \"remove\", \"li\", \"parameter\", \"full\", \"phone\", \"interested\", \"source\", \"obj\", \"last\", \"template\", \"valid\", \"stored\", \"vc\", \"general\", \"linux\", \"join\", \"load\", \"varchar\", \"excel\", \"date\", \"xaml\", \"wcf\", \"variable\", \"purpose\", \"rest\", \"code\", \"open\", \"figure\", \"use\", \"wanted\", \"testing\", \"something\", \"git\", \"resource\", \"text\", \"font\", \"username\", \"select\", \"params\", \"byte\", \"hidden\", \"ask\", \"style\", \"dialog\", \"dom\", \"window\", \"firefox\", \"click\", \"working\", \"seen\", \"ui\", \"control\", \"keep\", \"ever\", \"binding\", \"bind\", \"free\", \"box\", \"groupid\", \"visual\", \"disable\", \"handling\", \"hibernate\", \"drop\", \"schema\", \"input\", \"viewmodel\", \"param\", \"br\", \"join\", \"testing\", \"width\", \"oracle\", \"user\", \"java\", \"email\", \"project\", \"shell\", \"wcf\", \"wanted\", \"general\", \"varchar\", \"browser\", \"changing\", \"code\", \"git\", \"hello\", \"limit\", \"form\", \"img\", \"ul\", \"widget\", \"matter\", \"space\", \"bottom\", \"say\", \"color\", \"certificate\", \"cs\", \"href\", \"xml\", \"image\", \"written\", \"message\", \"due\", \"studio\", \"spring\", \"body\", \"icon\", \"system\", \"bound\", \"header\", \"left\", \"apps\", \"point\", \"html\", \"tmp\", \"testing\", \"back\", \"content\", \"schemasmicrosoftcom\", \"level\", \"email\", \"http\", \"param\", \"site\", \"table\", \"clean\", \"display\", \"join\", \"view\", \"transaction\", \"private\", \"order\", \"head\", \"logic\", \"2005\", \"speed\", \"connect\", \"stop\", \"name\", \"database\", \"db\", \"save\", \"configure\", \"server\", \"2008\", \"starting\", \"minute\", \"following\", \"push\", \"execution\", \"difference\", \"performance\", \"response\", \"abstract\", \"tab\", \"little\", \"seems\", \"data\", \"create\", \"instance\", \"basically\", \"grid\", \"specify\", \"default\", \"position\", \"import\", \"bad\", \"format\", \"export\", \"selected\", \"prevent\", \"month\", \"file\", \"help\", \"purpose\", \"worker\", \"parser\", \"chrome\", \"record\", \"error\", \"area\", \"note\", \"play\", \"easier\", \"deploy\", \"definition\", \"pattern\", \"world\", \"expression\", \"goal\", \"clean\", \"page\", \"named\", \"general\", \"figure\", \"force\", \"task\", \"except\", \"certain\", \"textbox\", \"tr\", \"whole\", \"environment\", \"role\", \"call\", \"column\", \"rail\", \"tab\", \"height\", \"html\", \"firstname\", \"removed\", \"data\", \"keep\", \"export\", \"bottom\", \"18\", \"xmlns\", \"map\", \"layer\", \"ul\", \"successfully\", \"say\", \"object\", \"integer\", \"failed\", \"otherwise\", \"assume\", \"id\", \"easily\", \"containing\", \"hour\", \"maybe\", \"deal\", \"quite\", \"test\", \"detail\", \"condition\"], \"Total\": [673.0, 594.0, 702.0, 542.0, 661.0, 496.0, 379.0, 438.0, 326.0, 382.0, 411.0, 311.0, 346.0, 277.0, 246.0, 222.0, 382.0, 247.0, 825.0, 249.0, 373.0, 231.0, 194.0, 196.0, 213.0, 174.0, 187.0, 180.0, 161.0, 158.0, 94.40437562899338, 69.0292371129016, 69.83090247172792, 54.30032803261843, 47.43553449218762, 66.0632521108005, 102.8952364502832, 56.836053098849575, 46.12657841908646, 101.24948021887681, 83.2831378551984, 235.32383795603778, 91.53384383322035, 42.527036161488155, 245.36934465179002, 79.1317055849253, 107.13356239763445, 107.77492179201762, 88.7430134106967, 50.45000333233459, 47.50443810787259, 141.02149553925852, 63.20019018354316, 235.5788670843984, 147.56148016712157, 67.04746425152562, 108.18686038967049, 45.504701122413984, 404.39550533087333, 94.52108934883339, 192.61509069671223, 890.5055984178674, 186.16167551928044, 119.61117695659185, 315.48706805983215, 107.70871648860587, 290.1426134996925, 465.71149059110127, 231.30015430567087, 357.950885108316, 215.2684771286648, 552.1362398898419, 359.97709172569216, 379.7578823236788, 315.5296990562531, 457.43128093980613, 182.87238037144692, 253.44473966453046, 238.52506153012845, 668.8168146678692, 144.1606093593237, 721.9606804730934, 731.7122007429497, 223.8650663970787, 220.85380306254558, 483.8284044842049, 537.0405466182985, 723.3629810398584, 341.38751810360293, 574.9928796428538, 394.1689358800466, 122.46983190269725, 63.55702488861619, 47.21351036762227, 102.25697870117676, 38.04438764345815, 47.808753801524375, 54.8124835607203, 38.435389688425325, 102.09364373851305, 259.12927088834624, 67.66225502871679, 195.73125310486802, 59.10777057046859, 68.04001329260451, 82.55197057591792, 561.7570413352742, 56.508976602888104, 63.8510718588123, 61.07051671150372, 220.64208394870792, 127.35523526469379, 105.17237965031175, 43.37295524507457, 66.12453901831145, 51.74833034441823, 46.774615236465294, 47.08494928170356, 61.961599296594, 92.3764754120101, 72.79760104561696, 370.65171216355867, 189.6674347395464, 125.87270844144489, 825.239407157103, 510.907371392137, 269.33917989708175, 605.9406949803539, 523.332916209597, 707.4698993794638, 218.84111422292676, 510.0773628129211, 300.8137876830372, 634.5749321794899, 388.1557491421742, 721.9606804730934, 387.99324406148656, 600.9601166794845, 607.1076958902661, 359.3020197930781, 723.3629810398584, 483.8284044842049, 457.43128093980613, 462.38710496858357, 668.8168146678692, 542.810816336187, 731.7122007429497, 50.58970706144254, 85.79799883872016, 77.09632678626774, 101.92490994494821, 40.133377422242575, 45.75854660919775, 116.70351233002515, 72.89168437008959, 50.04911578238741, 129.82189553025884, 66.09178479153584, 78.91342868016179, 94.05460905101066, 45.863510554385975, 55.73090958641658, 246.6306633787028, 123.8085200202559, 52.12451859808986, 50.924754265668426, 59.21083819499613, 246.18982906246367, 47.483720611626566, 185.18561698000764, 329.82198784281036, 83.77467251401856, 62.67351054028577, 121.72681452886238, 48.72378996588269, 75.89493225343132, 181.07487836035645, 231.1292736147896, 291.4936905701632, 323.85664394874567, 215.1792467620363, 97.94414750545575, 385.5052120948572, 542.4759735430812, 156.74932082874653, 661.828380314344, 442.9115258853822, 552.1362398898419, 258.34220471931815, 483.8284044842049, 379.7578823236788, 172.3693341745594, 723.3629810398584, 890.5055984178674, 559.7116908559572, 668.8168146678692, 731.7122007429497, 246.56191425037971, 634.5749321794899, 55.54678682645922, 35.82070792161854, 44.23847230617428, 42.158989669903576, 95.65802515143203, 57.34663671249107, 52.48693028274934, 52.93369348295906, 104.81911821663613, 53.83743211429075, 63.35101168112972, 150.26122363950623, 30.951020116762503, 142.61431936619877, 136.30569671272917, 124.62499333687889, 118.63873585439929, 38.95764915475504, 53.983815173183785, 373.39346062707784, 52.14553878455845, 333.20630459061294, 56.27035810974371, 66.0653866899189, 40.79364522484284, 90.80006494601339, 169.17495563835055, 281.7018577692006, 94.27429392484957, 74.02053647306612, 216.8136419408834, 702.6549985653656, 438.3130148217982, 220.44934620928595, 203.56033685989954, 299.1266081447007, 673.3934697018246, 559.7116908559572, 607.1076958902661, 532.1510345561818, 300.8137876830372, 594.7001361149108, 496.7922326343393, 340.52567776802334, 462.38710496858357, 723.3629810398584, 731.7122007429497, 605.9406949803539, 574.9928796428538, 101.16506489309467, 97.04508977615916, 181.3866562134931, 51.22685930114306, 82.0283337342415, 58.945666956944336, 80.69329106424968, 264.8853190698219, 132.96009103157763, 74.07782405589755, 143.77770783078248, 49.572861833479394, 55.373502480467415, 56.472385621558594, 114.22483357650276, 155.44957057981023, 50.82048824080224, 103.16954072750042, 92.87219646943431, 81.20039095507252, 41.92800756369447, 154.27047720566716, 248.30995795414657, 116.79380523812932, 102.06292796784585, 294.5245674815288, 157.95437428544562, 57.95099080801913, 58.880041692606376, 707.4698993794638, 212.88100943521673, 600.9601166794845, 363.59028955482626, 328.58100572925497, 462.38710496858357, 607.1076958902661, 370.56268563755975, 220.44934620928595, 224.3618106735559, 731.7122007429497, 387.99324406148656, 411.14960614448404, 523.332916209597, 721.9606804730934, 537.0405466182985, 890.5055984178674, 668.8168146678692, 574.9928796428538, 424.9366248374381, 426.3968139080874, 723.3629810398584, 301.84284507020413, 80.96034657032727, 58.32973370334617, 48.64257598995783, 59.05038036324932, 60.746930823001136, 242.6060378596551, 52.60306700756772, 71.9465885760555, 58.9277412033295, 96.98649218531824, 56.763149994906826, 74.57189749879947, 62.443605581240845, 175.7513572562535, 138.61845677908568, 80.44644540522941, 120.8121860076462, 337.5889452215016, 252.3608095714556, 322.90361243590354, 162.67716367222792, 68.9440622271909, 309.9094308676392, 61.7912489518815, 78.14338122458638, 56.14468092387922, 63.82809795657643, 100.85128809254046, 64.73377358648918, 72.7414834727311, 113.58173083444092, 204.98672216576085, 326.25384676700446, 442.9115258853822, 120.7041003953634, 328.58100572925497, 424.9366248374381, 465.71149059110127, 249.43639933338935, 542.4759735430812, 340.52567776802334, 280.85745382715857, 388.1557491421742, 241.18381580344746, 731.7122007429497, 574.9928796428538, 600.9601166794845, 607.1076958902661, 198.08113278321738, 342.18866351098916, 721.9606804730934, 723.3629810398584, 117.81114047639309, 82.76973288838784, 78.4746561304058, 53.63293729042378, 35.89717215737341, 149.06262626654444, 49.0203221974138, 98.31484592356452, 64.5501131199347, 37.180545299537656, 146.53897536754323, 46.22697089610993, 195.16073464028017, 77.88795747252578, 81.40726671160179, 382.4539820486365, 77.76004059699527, 104.303371165327, 52.19942615446337, 168.64487521320112, 104.3765138541279, 124.76149684909413, 71.76688177146465, 109.46490412632087, 59.889472081710615, 84.06529312747699, 77.85730111769283, 77.11103993376399, 86.35350617555629, 342.82380426885607, 148.156776523187, 424.9366248374381, 137.39795364841456, 245.4208874476054, 348.6160457957684, 118.02480567252134, 280.85745382715857, 385.5052120948572, 442.9115258853822, 172.87332713564246, 173.36061803115982, 825.239407157103, 197.3830425466347, 328.58100572925497, 161.46763184066208, 149.1310290237978, 196.8589419057869, 165.91492833954217, 117.4155026667134, 127.75115327296065, 141.29930094435085, 673.3934697018246, 277.6646967873806, 213.0052081414206, 231.92815204327374, 594.7001361149108, 186.40504931555174, 115.72864312012777, 103.82899254824443, 661.828380314344, 166.93820881551133, 163.41923282003253, 89.8191008205956, 75.62003325684788, 373.39346062707784, 55.530267151474625, 187.03212316765624, 143.47977316126983, 64.91832924173879, 246.56191425037971, 702.6549985653656, 136.30569671272917, 333.20630459061294, 559.7116908559572, 347.31897276449484, 218.7086799252527, 142.28297736836686, 148.85314829775396, 194.54162211200259, 246.55183971370118, 174.33608562914281, 346.72732457257274, 382.4773789875726, 542.810816336187, 91.96546548711459, 187.59963745265838, 249.06891658799148, 247.44824577559476, 105.47042176209274, 107.99486434255226, 411.14960614448404, 93.76313964943851, 137.19661499541286, 132.92616113604248, 42.93506384149004, 133.89798048884526, 88.77590458159233, 98.45463454700926, 133.15082992954297, 80.30424567470453, 118.16721509459968, 111.10102764449114, 220.85380306254558, 53.79766560227612, 51.74833034441823, 61.69686194900793, 825.239407157103, 119.61117695659185, 532.1510345561818, 600.9601166794845, 890.5055984178674, 366.86449800829143, 326.4976638170954, 311.58428294746545, 379.8561548096394, 122.94749884639768, 222.48040878793657, 158.4952074453303, 136.18575531003006, 496.7922326343393, 180.33655202870227, 438.3130148217982, 101.20683856772808, 702.6549985653656, 193.73257148867083, 342.82380426885607, 285.16808421421115, 110.95840821583145, 559.7116908559572, 252.3608095714556, 91.96546548711459, 64.5501131199347, 29.55158106241905, 30.951020116762503, 43.69371852495647, 35.82070792161854, 35.89717215737341, 36.27227186337064, 37.180545299537656, 38.04438764345815, 38.435389688425325, 38.816057874215694, 59.72669860236855, 59.866316796309, 40.79364522484284, 57.68438871261191, 66.34325011662068, 51.42636359731974, 49.84667557378727, 54.19363661867018, 56.472385621558594, 117.60473327942273, 82.67370244525604, 78.4914680722731], \"loglift\": [30.0, 29.0, 28.0, 27.0, 26.0, 25.0, 24.0, 23.0, 22.0, 21.0, 20.0, 19.0, 18.0, 17.0, 16.0, 15.0, 14.0, 13.0, 12.0, 11.0, 10.0, 9.0, 8.0, 7.0, 6.0, 5.0, 4.0, 3.0, 2.0, 1.0, 1.4022, 1.4012, 1.3895, 1.3766, 1.3635, 1.3602, 1.355, 1.3363, 1.3361, 1.3167, 1.307, 1.3017, 1.2997, 1.2966, 1.2926, 1.2782, 1.2709, 1.2665, 1.2603, 1.26, 1.2569, 1.2353, 1.2347, 1.2175, 1.2156, 1.2133, 1.2095, 1.2063, 1.1805, 1.1741, 1.1569, 0.936, 1.0988, 1.1493, 1.0314, 1.1608, 0.9447, 0.8407, 0.9791, 0.8542, 0.9773, 0.7178, 0.8258, 0.7345, 0.7736, 0.6075, 0.9698, 0.8071, 0.8315, 0.2646, 1.0611, 0.1741, 0.0463, 0.8039, 0.7866, 0.24, 0.1613, -0.055, 0.4263, -0.0338, 0.2785, 1.8478, 1.8244, 1.8183, 1.7952, 1.7859, 1.7755, 1.7622, 1.7549, 1.7375, 1.6918, 1.6856, 1.6649, 1.6451, 1.6312, 1.6304, 1.6085, 1.5882, 1.5823, 1.5782, 1.5748, 1.5746, 1.5707, 1.5698, 1.562, 1.5538, 1.5471, 1.5466, 1.5458, 1.5322, 1.5208, 1.4868, 1.4637, 1.4791, 1.1861, 1.202, 1.3092, 1.1238, 1.113, 0.9602, 1.2562, 1.0096, 1.1405, 0.8969, 0.9034, 0.5057, 0.8001, 0.5738, 0.5472, 0.8021, 0.2836, 0.4918, 0.5256, 0.3482, 0.0086, 0.1981, -0.1246, 1.865, 1.8534, 1.8514, 1.8477, 1.8434, 1.8175, 1.8105, 1.791, 1.7714, 1.771, 1.766, 1.7613, 1.7433, 1.733, 1.7322, 1.7202, 1.6998, 1.6613, 1.6401, 1.6225, 1.6202, 1.6141, 1.6134, 1.6122, 1.6112, 1.6085, 1.5977, 1.5935, 1.5615, 1.5525, 1.4611, 1.4365, 1.3494, 1.3889, 1.5174, 1.1794, 1.0425, 1.246, 0.6054, 0.7717, 0.649, 0.9807, 0.5645, 0.6757, 1.1346, 0.1683, 0.0002, 0.2889, 0.1189, -0.0681, 0.8211, -0.1046, 2.1164, 2.1014, 2.0958, 2.0883, 2.0812, 2.0687, 2.0495, 2.0217, 1.9966, 1.9887, 1.9737, 1.9176, 1.9155, 1.913, 1.9128, 1.842, 1.8391, 1.8242, 1.7504, 1.7478, 1.7431, 1.7311, 1.7193, 1.6467, 1.6381, 1.6359, 1.5716, 1.5697, 1.5629, 1.5457, 1.5227, 1.4218, 1.2668, 1.4007, 1.3977, 1.2476, 0.8512, 0.9074, 0.7554, 0.7957, 1.056, 0.7126, 0.7667, 0.8411, 0.5472, 0.1692, 0.1144, 0.1957, 0.2261, 2.1695, 2.0066, 1.9949, 1.9493, 1.8829, 1.8425, 1.8299, 1.8078, 1.7825, 1.7636, 1.7456, 1.701, 1.5729, 1.5729, 1.5715, 1.5691, 1.529, 1.5272, 1.5199, 1.5164, 1.4911, 1.4382, 1.422, 1.369, 1.3658, 1.3649, 1.36, 1.3442, 1.2554, 1.2097, 1.1954, 1.0428, 1.0322, 1.0481, 0.9149, 0.8067, 0.9146, 1.0835, 1.0216, 0.4344, 0.7444, 0.6647, 0.5193, 0.248, 0.4142, 0.055, 0.2367, 0.3197, 0.5191, 0.4887, -0.017, 0.7758, 2.3276, 2.2713, 2.1974, 2.1718, 2.157, 2.1225, 2.1109, 2.094, 2.0852, 2.075, 2.0707, 2.0659, 2.026, 2.0214, 1.9973, 1.9961, 1.9788, 1.9337, 1.9232, 1.9194, 1.8767, 1.8553, 1.8142, 1.7604, 1.7445, 1.7378, 1.7136, 1.7094, 1.6664, 1.606, 1.5644, 1.4789, 1.4012, 1.2902, 1.5305, 1.0836, 0.9301, 0.8675, 1.1642, 0.7301, 0.9829, 1.056, 0.8425, 1.1335, 0.3011, 0.4581, 0.4071, 0.2387, 1.2056, 0.7112, 0.0143, -0.0473, 2.7702, 2.7654, 2.7535, 2.7432, 2.7419, 2.7241, 2.7234, 2.7067, 2.6746, 2.6694, 2.6681, 2.6282, 2.6278, 2.5628, 2.484, 2.4829, 2.4542, 2.4359, 2.4171, 2.4144, 2.4118, 2.3994, 2.3659, 2.3643, 2.3529, 2.298, 2.2936, 2.2746, 2.1682, 2.1668, 2.128, 1.852, 2.1256, 1.8193, 1.5569, 2.0704, 1.5688, 1.2637, 1.1333, 1.7613, 1.7514, 0.4118, 1.6161, 1.1612, 3.5588, 3.4849, 3.4814, 3.4548, 3.378, 3.3623, 3.3022, 3.288, 3.2734, 3.2692, 3.2515, 3.1861, 3.1119, 2.928, 2.9092, 2.7973, 2.7187, 2.3395, 2.194, 2.1304, 2.0396, 2.0212, 1.8201, 1.5853, 1.5534, 1.2123, 1.1278, 1.0002, 0.8972, 0.8464, 0.4862, 0.5987, 3.6417, 3.6346, 3.5682, 3.4626, 3.4456, 3.4191, 3.4017, 3.323, 3.3072, 3.2934, 3.2549, 3.2152, 3.1722, 3.0356, 2.9869, 2.7995, 2.3831, 2.2034, 2.1686, 2.1639, 2.1387, 2.1271, 1.8144, 1.7316, 1.6012, 1.5246, 1.3744, 1.3716, 1.3672, 1.2141, 1.2077, 1.1919, 0.6428, -0.0377, -0.4724, 0.2891, 3.7826, 3.7824, 3.78, 3.7765, 3.744, 3.6654, 3.4482, 3.4078, 3.2537, 3.0619, 2.9905, 2.8091, 2.4112, 1.0302, 0.8185, 0.4731, -0.1506, -0.3055, -0.3408, -0.3506, -0.5933, -0.6395, -0.7811, -0.7855, -0.7878, -0.7942, -0.8229, -0.8295, -0.8561, -0.8658, -0.9234, -1.1493, -0.9024, -1.2076, -1.3468, -1.1172, -1.0907, -1.172, -1.2129, -1.926, -1.5896, -1.5413], \"logprob\": [30.0, 29.0, 28.0, 27.0, 26.0, 25.0, 24.0, 23.0, 22.0, 21.0, 20.0, 19.0, 18.0, 17.0, 16.0, 15.0, 14.0, 13.0, 12.0, 11.0, 10.0, 9.0, 8.0, 7.0, 6.0, 5.0, 4.0, 3.0, 2.0, 1.0, -5.8512, -6.1652, -6.1654, -6.4299, -6.5781, -6.2502, -5.8122, -6.4245, -6.6335, -5.8667, -6.0717, -5.0383, -5.9846, -6.7543, -5.0056, -6.1517, -5.856, -5.8544, -6.0549, -6.62, -6.6833, -5.6167, -6.42, -5.1215, -5.5912, -6.3823, -5.9076, -6.7769, -4.6181, -6.0781, -5.3833, -4.0732, -5.4755, -5.8674, -5.0155, -5.9607, -5.1859, -4.8167, -5.3782, -5.0664, -5.4518, -4.7694, -5.0892, -5.127, -5.2731, -5.0679, -5.6224, -5.4587, -5.495, -5.0308, -5.769, -5.0449, -5.1593, -5.5861, -5.6169, -5.3792, -5.3536, -5.2721, -5.5417, -5.4804, -5.5457, -5.1453, -5.8247, -6.128, -5.3783, -6.3763, -6.1583, -6.0349, -6.3971, -5.4376, -4.5518, -5.9008, -4.8593, -6.0765, -5.9496, -5.7572, -3.8614, -6.1784, -6.0622, -6.1108, -4.8296, -5.3794, -5.5747, -6.4613, -6.0475, -6.3008, -6.4085, -6.4024, -6.1286, -5.743, -5.9925, -4.3989, -5.092, -5.4866, -3.8992, -4.3628, -4.8958, -4.2704, -4.4278, -4.2791, -5.1564, -4.5569, -4.954, -4.4511, -4.9362, -4.7133, -5.0399, -4.8287, -4.8451, -5.1147, -4.9334, -5.1274, -5.1498, -5.3164, -5.2869, -5.3062, -5.3302, -6.0123, -5.4956, -5.6045, -5.3291, -6.2654, -6.1601, -5.2308, -5.7211, -6.1166, -5.1638, -5.844, -5.6713, -5.5139, -6.2423, -6.0482, -4.5728, -5.2825, -6.186, -6.2306, -6.0974, -4.6747, -6.3265, -4.9663, -4.3903, -5.7617, -6.0546, -5.4015, -6.3213, -5.9101, -5.0496, -4.8969, -4.6894, -4.6713, -5.0406, -5.6992, -4.6671, -4.4623, -5.5003, -4.7005, -4.9359, -4.8382, -5.266, -5.0548, -5.1858, -5.5168, -5.0488, -5.009, -5.1846, -5.1766, -5.2737, -5.4723, -5.4526, -5.6673, -6.1211, -5.9156, -5.9713, -5.159, -5.6832, -5.7909, -5.8103, -5.1521, -5.8263, -5.6786, -4.871, -6.4531, -4.9278, -4.9733, -5.1337, -5.1858, -6.3143, -6.0619, -4.1305, -6.1038, -4.2611, -6.0515, -5.9637, -6.4544, -5.6564, -5.0985, -4.5904, -5.6918, -5.951, -4.8992, -3.8243, -4.4512, -5.0046, -5.0873, -4.8525, -4.4375, -4.5662, -4.6368, -4.7284, -5.0385, -4.7003, -4.8261, -5.1294, -5.1174, -5.0479, -5.0912, -5.1985, -5.2205, -5.0148, -5.2192, -4.6054, -5.9154, -5.5111, -5.8819, -5.5804, -4.4139, -5.1285, -5.7323, -5.0871, -6.1966, -6.214, -6.1944, -5.4914, -5.1856, -6.3437, -5.6374, -5.7499, -5.8877, -6.5739, -5.3241, -4.8643, -5.6715, -5.8096, -4.7507, -5.3787, -6.3972, -6.4701, -4.0296, -5.2448, -4.3596, -4.8728, -4.9581, -4.7497, -4.5855, -4.9714, -5.3219, -5.3661, -4.7712, -5.0956, -5.1174, -5.0215, -4.971, -5.1008, -4.9542, -5.0588, -5.1269, -5.23, -5.2569, -5.2341, -5.3153, -5.0794, -5.4636, -5.7191, -5.5508, -5.5373, -4.187, -5.7273, -5.4311, -5.6395, -5.1515, -5.6914, -5.4233, -5.6407, -4.6105, -4.8719, -5.4173, -5.0279, -4.0455, -4.3469, -4.1042, -4.8325, -5.7124, -4.2505, -5.9168, -5.6979, -6.0353, -5.9312, -5.4779, -5.9643, -5.9081, -5.5041, -4.9991, -4.6121, -4.4174, -5.4771, -4.9226, -4.8189, -4.7899, -5.1176, -4.7748, -4.9876, -5.1071, -4.9971, -5.182, -4.9045, -4.9886, -4.9954, -5.1536, -5.3067, -5.2544, -5.2047, -5.2644, -4.2617, -4.6196, -4.6847, -5.0756, -5.4785, -4.0725, -5.1853, -4.5061, -4.9589, -5.5158, -4.1456, -5.3392, -3.8993, -4.8829, -4.9175, -3.3714, -4.9932, -4.7178, -5.4288, -4.2588, -4.7412, -4.5752, -5.1617, -4.7411, -5.3556, -5.0714, -5.1525, -5.1812, -5.1744, -3.7969, -4.6747, -3.8971, -4.7525, -4.4787, -4.3901, -4.9597, -4.5944, -4.5827, -4.5743, -4.8871, -4.8942, -4.6735, -4.8997, -4.845, -3.1579, -3.3112, -3.0371, -3.2347, -3.6572, -3.5886, -3.5479, -2.0006, -2.9012, -3.1705, -3.1031, -2.2268, -3.4612, -4.1217, -4.2491, -2.5087, -3.9647, -4.3652, -5.1092, -5.3448, -3.8388, -5.7628, -4.7496, -5.2495, -6.0744, -5.081, -4.1183, -5.8859, -5.095, -4.6271, -5.4645, -5.8146, -3.2015, -3.1634, -2.9621, -2.8308, -3.1944, -2.5334, -2.4526, -2.1813, -3.9724, -3.2733, -3.0284, -3.0746, -3.9703, -4.0833, -2.7951, -4.4607, -4.4965, -4.7078, -5.8727, -4.74, -5.1762, -5.0842, -5.0951, -5.6835, -5.4277, -5.566, -5.0291, -6.4442, -6.4874, -6.4647, -3.8777, -5.8248, -4.8813, -5.4401, -5.4816, -5.6069, -2.23, -2.2769, -2.0812, -3.2127, -2.6522, -3.0699, -3.4387, -2.185, -3.3524, -2.6562, -4.1934, -2.437, -4.1233, -4.9336, -5.3294, -6.6187, -5.6241, -6.5757, -7.6204, -7.9841, -9.0081, -9.0081, -8.8049, -9.0079, -9.0081, -9.0041, -9.0081, -8.9917, -9.0081, -9.0079, -8.6346, -8.8582, -8.9949, -8.9536, -8.9529, -8.9781, -8.9827, -8.9804, -8.9802, -8.9597, -8.9757, -8.9792]}, \"token.table\": {\"Topic\": [1, 2, 3, 4, 7, 1, 2, 3, 4, 8, 1, 2, 3, 4, 8, 1, 2, 3, 4, 1, 2, 3, 4, 5, 6, 8, 1, 2, 3, 4, 5, 6, 1, 3, 4, 1, 2, 3, 4, 5, 1, 3, 1, 2, 3, 4, 5, 6, 7, 1, 2, 3, 4, 5, 6, 7, 1, 2, 3, 4, 5, 7, 1, 2, 3, 5, 9, 2, 3, 4, 5, 1, 3, 4, 6, 1, 2, 3, 4, 5, 6, 7, 1, 2, 3, 4, 2, 3, 5, 1, 2, 3, 4, 5, 6, 1, 3, 1, 3, 1, 2, 3, 4, 6, 7, 1, 2, 3, 4, 5, 7, 9, 9, 1, 3, 5, 1, 2, 3, 4, 5, 6, 1, 2, 3, 4, 6, 2, 3, 4, 5, 6, 7, 2, 3, 4, 5, 6, 2, 3, 4, 5, 1, 2, 5, 6, 7, 10, 1, 3, 4, 6, 7, 2, 3, 4, 5, 6, 7, 1, 2, 3, 4, 5, 6, 7, 1, 2, 4, 1, 3, 5, 6, 7, 1, 2, 3, 4, 1, 2, 3, 4, 5, 6, 1, 2, 6, 1, 3, 4, 6, 7, 1, 2, 3, 4, 1, 3, 4, 10, 1, 2, 3, 4, 5, 6, 7, 9, 2, 4, 5, 3, 4, 7, 10, 3, 6, 7, 1, 3, 1, 2, 3, 4, 5, 6, 7, 2, 3, 4, 5, 6, 7, 1, 2, 3, 4, 5, 6, 7, 9, 1, 2, 3, 4, 5, 6, 7, 9, 1, 3, 4, 6, 7, 1, 2, 3, 4, 6, 8, 1, 2, 3, 4, 5, 6, 7, 2, 4, 6, 7, 2, 3, 4, 5, 7, 10, 1, 2, 3, 4, 5, 6, 9, 1, 3, 4, 1, 3, 4, 5, 9, 1, 3, 4, 6, 8, 1, 3, 4, 8, 2, 3, 4, 5, 2, 3, 4, 5, 1, 2, 3, 4, 7, 1, 2, 3, 4, 5, 1, 2, 3, 4, 5, 7, 9, 1, 2, 3, 4, 5, 6, 7, 1, 2, 3, 4, 5, 6, 7, 1, 3, 4, 5, 6, 1, 2, 3, 4, 5, 6, 7, 3, 1, 2, 3, 4, 5, 6, 7, 8, 9, 1, 3, 5, 6, 7, 1, 3, 4, 6, 1, 2, 3, 4, 5, 6, 7, 8, 10, 1, 2, 3, 4, 5, 8, 1, 2, 3, 4, 5, 6, 4, 5, 1, 3, 4, 8, 1, 2, 3, 4, 5, 7, 2, 4, 5, 1, 2, 3, 4, 5, 9, 1, 2, 3, 4, 5, 6, 7, 9, 2, 3, 4, 5, 6, 1, 2, 3, 4, 9, 1, 2, 3, 4, 5, 6, 1, 3, 4, 6, 1, 2, 3, 6, 7, 1, 3, 6, 1, 2, 3, 4, 5, 6, 7, 8, 1, 3, 4, 9, 1, 2, 3, 4, 6, 1, 2, 3, 4, 5, 6, 7, 1, 2, 3, 3, 4, 5, 6, 1, 2, 3, 4, 5, 6, 1, 4, 7, 1, 3, 4, 5, 7, 9, 1, 2, 3, 4, 5, 6, 1, 3, 4, 5, 1, 2, 1, 2, 3, 4, 5, 1, 2, 3, 4, 5, 6, 7, 1, 3, 4, 5, 1, 2, 3, 4, 2, 4, 10, 1, 2, 3, 4, 5, 6, 9, 1, 2, 3, 4, 5, 6, 7, 1, 2, 3, 4, 5, 6, 1, 2, 3, 4, 5, 6, 7, 9, 10, 1, 2, 3, 4, 5, 6, 1, 2, 3, 4, 5, 8, 1, 2, 3, 4, 9, 10, 2, 4, 5, 6, 7, 2, 3, 4, 7, 9, 1, 2, 3, 4, 5, 1, 2, 3, 4, 5, 6, 1, 2, 3, 4, 5, 6, 7, 9, 1, 2, 3, 9, 1, 2, 3, 4, 5, 6, 7, 1, 2, 3, 4, 6, 1, 2, 3, 4, 5, 6, 7, 10, 3, 4, 1, 3, 6, 8, 1, 2, 4, 6, 1, 3, 4, 1, 2, 3, 4, 5, 6, 7, 9, 1, 7, 1, 2, 3, 4, 5, 7, 9, 1, 4, 1, 2, 3, 4, 5, 6, 1, 2, 3, 4, 5, 6, 7, 2, 3, 4, 5, 1, 2, 3, 4, 5, 6, 7, 9, 1, 3, 1, 2, 3, 4, 5, 6, 1, 2, 3, 4, 5, 6, 7, 9, 1, 1, 2, 3, 4, 5, 9, 3, 9, 3, 4, 6, 7, 1, 2, 3, 6, 7, 1, 3, 4, 8, 1, 2, 3, 4, 5, 7, 1, 2, 3, 4, 7, 10, 7, 1, 2, 3, 5, 7, 9, 1, 2, 3, 5, 6, 7, 2, 3, 6, 7, 1, 3, 4, 5, 3, 6, 7, 1, 3, 4, 5, 6, 7, 10, 1, 2, 3, 4, 5, 6, 7, 1, 3, 7, 1, 2, 3, 4, 5, 2, 3, 4, 1, 3, 1, 3, 4, 6, 7, 3, 7, 1, 2, 3, 4, 5, 9, 1, 2, 3, 4, 5, 6, 7, 1, 2, 3, 4, 5, 6, 7, 1, 2, 3, 4, 5, 7, 1, 3, 1, 3, 4, 1, 2, 3, 4, 5, 6, 8, 9, 1, 2, 3, 4, 5, 7, 2, 3, 4, 2, 3, 4, 5, 1, 2, 3, 4, 6, 1, 3, 6, 1, 2, 3, 4, 5, 6, 7, 1, 3, 1, 2, 3, 4, 5, 1, 2, 3, 4, 5, 6, 7, 1, 2, 4, 5, 3, 4, 5, 6, 7, 10, 1, 2, 3, 4, 5, 6, 1, 2, 3, 4, 5, 6, 4, 1, 2, 3, 4, 6, 7, 1, 2, 3, 4, 5, 6, 7, 1, 2, 3, 4, 5, 7, 7, 1, 2, 3, 4, 1, 2, 3, 4, 5, 6, 1, 2, 3, 4, 5, 6, 7, 9, 1, 4, 5, 8, 1, 2, 3, 1, 2, 3, 4, 5, 6, 7, 9, 2, 3, 4, 8, 1, 3, 1, 2, 3, 4, 5, 6, 1, 2, 3, 6, 7, 1, 2, 3, 4, 1, 2, 3, 4, 1, 2, 3, 4, 4, 7, 1, 2, 3, 4, 5, 6, 1, 2, 4, 5, 1, 2, 3, 4, 1, 3, 7, 1, 3, 4, 1, 2, 3, 4, 5, 6, 1, 2, 3, 4, 5, 6, 7, 9, 1, 2, 3, 4, 6, 8, 2, 3, 4, 1, 2, 3, 4, 5, 6, 1, 2, 3, 4, 5, 9, 1, 3, 4, 1, 3, 4, 6, 2, 4, 1, 3, 4, 8, 1, 2, 3, 4, 5, 6, 7, 9, 1, 2, 3, 4, 5, 6, 1, 2, 3, 4, 5, 6, 7, 3, 4, 1, 2, 3, 4, 5, 6, 7, 9, 1, 2, 3, 4, 5, 6, 1, 2, 3, 4, 5, 6, 7, 2, 4, 1, 2, 3, 4, 5, 6, 7, 9, 1, 2, 3, 4, 5, 6, 7, 1, 2, 3, 4, 5, 6, 7, 1, 4, 8, 1, 2, 3, 4, 5, 6, 7, 1, 2, 3, 4, 5, 6, 10, 1, 2, 3, 4, 9, 1, 2, 3, 4, 5, 6, 7, 1, 2, 3, 4, 5, 1, 6, 7, 1, 2, 3, 4, 6, 7, 9, 1, 3, 4, 5, 1, 3, 4, 1, 3, 4, 5, 6, 7, 9, 1, 2, 3, 4, 5, 7, 8, 1, 5, 1, 2, 3, 4, 1, 2, 3, 4, 5, 8, 1, 2, 3, 4, 6, 1, 2, 3, 4, 5, 6, 7, 9, 1, 2, 3, 4, 5, 6, 7, 1, 2, 3, 4, 5, 6, 7, 1, 3, 9, 1, 2, 3, 4, 1, 2, 3, 4, 5, 6, 9, 1, 2, 3, 4, 6, 1, 2, 4, 6, 8, 1, 2, 3, 4, 5, 6, 1, 2, 3, 4, 1, 2, 3, 4, 5, 6, 1, 2, 3, 4, 5, 6, 1, 2, 3, 4, 5, 6, 7, 9, 1, 2, 3, 1, 2, 3, 4, 5, 6, 7, 1, 2, 3, 4, 5, 9, 1, 2, 3, 4, 5, 7, 8, 1, 2, 3, 4, 5, 7, 1, 2, 4, 5, 6, 10, 1, 2, 3, 4, 1, 3, 4, 5, 6, 1, 3, 1, 2, 3, 4, 9, 3, 5, 1, 3, 4, 5, 6, 7, 2, 3, 4, 1, 2, 3, 4, 5, 6, 7, 1, 2, 3, 4, 5, 6, 10, 1, 3, 4, 1, 2, 3, 4, 5, 1, 2, 3, 4, 5, 6, 1, 2, 3, 4, 5, 6, 7, 1, 2, 3, 4, 6, 8, 1, 2, 3, 4, 5, 6, 7, 9, 1, 3, 4, 7, 1, 3, 4, 3, 4, 5, 6, 7, 8, 10, 1, 2, 3, 4, 5, 6, 7, 1, 2, 3, 4, 5, 6, 1, 3, 4, 8, 1, 3, 4, 7, 1, 3, 4, 6, 7, 1, 3, 4, 5, 6, 7, 9, 1, 3, 1, 3, 4, 1, 2, 3, 4, 5, 6, 7, 8, 1, 2, 3, 4, 5, 6, 7, 2, 5, 6, 1, 2, 3, 4, 6, 9, 1, 2, 3, 4, 5, 6, 1, 3, 4, 5, 6, 2, 3, 4, 5, 1, 2, 3, 4, 5, 6, 8, 1, 2, 3, 4, 1, 3, 4, 5, 1, 3, 4, 1, 2, 3, 4, 5, 6, 7, 1, 2, 3, 4, 5, 6, 7, 1, 2, 3, 4, 5, 6, 7, 1, 3, 1, 3, 1, 2, 3, 4, 1, 2, 3, 4, 5, 6, 7, 9, 1, 2, 3, 4, 5, 6, 7, 1, 2, 3, 4, 5, 6, 7, 4, 5, 7, 1, 3, 4, 9, 1, 3, 4, 8, 1, 2, 3, 5, 7, 1, 2, 3, 4, 5, 7, 8, 1, 2, 3, 4, 5, 6, 2, 1, 2, 3, 4, 6, 8, 1, 2, 3, 4, 5, 6, 7, 2, 4, 1, 2, 3, 4, 6, 8, 1, 2, 3, 4, 5, 6, 7, 3, 4, 6, 1, 2, 3, 4, 6, 7, 1, 3, 1, 2, 3, 4, 5, 6, 7, 1, 3, 4, 5, 7, 1, 2, 3, 4, 5, 6, 7, 8, 10, 1, 2, 3, 4, 5, 6, 7, 10, 1, 2, 3, 4, 5, 6, 1, 2, 3, 4, 5, 6, 7, 1, 2, 3, 4, 5, 6, 1, 2, 3, 4, 5, 6, 7, 3, 4, 6, 10, 1, 2, 3, 4, 5, 6, 1, 2, 3, 4, 5, 1, 2, 3, 4, 5, 6, 7, 1, 3, 4, 1, 2, 3, 4, 5, 6, 7, 1, 2, 3, 4, 5, 6, 7, 8, 7, 10, 3, 4, 8, 1, 3, 4, 6, 1, 2, 3, 4, 5, 6, 7, 1, 2, 3, 4, 5, 1, 2, 3, 4, 5, 6, 7, 1, 2, 3, 4, 5, 1, 3, 4, 7, 3, 4, 7, 1, 2, 3, 4, 5, 7, 1, 2, 3, 4, 5, 6, 7, 8, 1, 2, 3, 4, 5, 6, 7, 6, 7, 3, 4, 1, 2, 4, 1, 2, 3, 4, 5, 7, 2, 3, 4, 5, 1, 2, 3, 4, 5, 6, 7, 9, 1, 2, 3, 4, 5, 6, 7, 4, 1, 2, 3, 4, 5, 6, 7, 9, 2, 4, 5, 1, 2, 3, 4, 5, 6, 7, 1, 8, 1, 2, 3, 4, 6, 7, 3, 4, 1, 2, 3, 4, 6, 7, 1, 2, 3, 4, 6, 2, 3, 4, 5, 6, 7, 1, 2, 3, 4, 5, 6, 7, 1, 2, 3, 4, 5, 6, 7, 8, 9, 1, 3, 1, 2, 3, 4, 5, 6, 7, 6, 10, 6, 7, 1, 2, 3, 4, 5, 6, 7, 1, 2, 3, 4, 6, 1, 2, 3, 4, 5, 6, 7, 1, 2, 3, 4, 6, 7, 9, 1, 2, 3, 4, 6, 7, 1, 2, 3, 4, 6, 9, 1, 6, 7, 1, 3, 1, 2, 3, 4, 5, 7, 1, 3, 4, 7, 1, 3, 4], \"Freq\": [0.4399087809393789, 0.13535654798134736, 0.03383913699533684, 0.3045522329580316, 0.03383913699533684, 0.14862069281057955, 0.007077175848122836, 0.014154351696245671, 0.10615763772184253, 0.7147947606604064, 0.46124850953142266, 0.02396096153409988, 0.029951201917624848, 0.08386336536934957, 0.40134610569617296, 0.06371462740782331, 0.7220991106219975, 0.042476418271882206, 0.12742925481564663, 0.23523503285710995, 0.17034260999997616, 0.3406852199999523, 0.08517130499998808, 0.03650198785713775, 0.03650198785713775, 0.08922708142855895, 0.06381645582537458, 0.17404487952374886, 0.4699211747141219, 0.058014959841249616, 0.017404487952374887, 0.20885385542849863, 0.16419083994906286, 0.738858779770783, 0.08209541997453143, 0.061826930284050355, 0.04121795352270023, 0.04121795352270023, 0.030913465142025177, 0.8140545820733297, 0.2635222063736116, 0.7115099572087513, 0.5029520357320855, 0.036865594242142384, 0.2949247539371391, 0.03423233751056079, 0.013166283657907996, 0.09216398560535596, 0.026332567315815993, 0.49444318317969294, 0.0561455629251666, 0.2879724033903706, 0.04346753258722575, 0.012678030337940845, 0.09417965393898914, 0.009055735955672032, 0.11671480513984409, 0.025936623364409796, 0.14265142850425389, 0.03890493504661469, 0.05187324672881959, 0.5965423373814254, 0.045057271101345664, 0.59700884209283, 0.045057271101345664, 0.07885022442735491, 0.22528635550672832, 0.22273790109314445, 0.022651311975574014, 0.08683002923970039, 0.6644384846168377, 0.055596798669217753, 0.1806895956749577, 0.027798399334608877, 0.7227583826998308, 0.13722423947413678, 0.010291817960560258, 0.6312315015810291, 0.034306059868534196, 0.006861211973706839, 0.16809969335581754, 0.006861211973706839, 0.8132203598397992, 0.1287598903079682, 0.04743785432398829, 0.006776836331998327, 0.7377869416364917, 0.20750257733526328, 0.023055841926140366, 0.2672621409872081, 0.15033495430530455, 0.2839660247989086, 0.10022330287020303, 0.13363107049360404, 0.05011165143510152, 0.023310566995385574, 0.9557332468108085, 0.10591331467411766, 0.8775674644426892, 0.18923134813587536, 0.06550315897011069, 0.07278128774456745, 0.021834386323370234, 0.13100631794022138, 0.5167471429864289, 0.018301735957638017, 0.07320694383055207, 0.01045813483293601, 0.005229067416468005, 0.02091626966587202, 0.08889414607995608, 0.7791310450537327, 0.9909829173377132, 0.8420265893718901, 0.06315199420289176, 0.06315199420289176, 0.04351353696151701, 0.18855866016657372, 0.058018049282022685, 0.11603609856404537, 0.014504512320505671, 0.5656759804997211, 0.03688286582183824, 0.12909003037643382, 0.1967086177164706, 0.04917715442911765, 0.5839787088457721, 0.06412234705452788, 0.18435174778176766, 0.008015293381815985, 0.03206117352726394, 0.024045880145447954, 0.6812999374543587, 0.7994963601662773, 0.036340743643921695, 0.04845432485856226, 0.04845432485856226, 0.060567906073202823, 0.7143092526828649, 0.10989373118197923, 0.06868358198873702, 0.09615701478423183, 0.18793733058286696, 0.7517493223314679, 0.03132288843047783, 0.07745919810721252, 0.8985266980436654, 0.015491839621442505, 0.066789702112294, 0.0166974255280735, 0.066789702112294, 0.1836716808088085, 0.6511995955948665, 0.2103857782535428, 0.04855056421235603, 0.1294681712329494, 0.016183521404118675, 0.5178726849317976, 0.03236704280823735, 0.21540279008614968, 0.016569445391242284, 0.13255556312993827, 0.016569445391242284, 0.03313889078248457, 0.4142361347810571, 0.15740973121680168, 0.9384945187986558, 0.030274016735440508, 0.015137008367720254, 0.1262109098869115, 0.3130030565195405, 0.06058123674571752, 0.29785774733311116, 0.19688901942358195, 0.1592667314300649, 0.7609410501658656, 0.053088910476688296, 0.01769630349222943, 0.8150136825779629, 0.04244862930093557, 0.04244862930093557, 0.03820376637084201, 0.03820376637084201, 0.01697945172037423, 0.8700347670479478, 0.07054335949037414, 0.02351445316345805, 0.05358481641549398, 0.02885336268526599, 0.008243817910075998, 0.7501874298169158, 0.16075444924648194, 0.10207668316878325, 0.7537970449387071, 0.10992873572022811, 0.03140821020577946, 0.09981337558863347, 0.23844306390617995, 0.07208743792512416, 0.5877898784663971, 0.16699043338123726, 0.34789673621091094, 0.21708756339560845, 0.05566347779374575, 0.10019426002874235, 0.09741108613905507, 0.008349521669061864, 0.008349521669061864, 0.7410259599152856, 0.1512297877378134, 0.0756148938689067, 0.11144662299759546, 0.8544241096482319, 0.002632575482424758, 0.9924809568741337, 0.021632392964864404, 0.08652957185945762, 0.8652957185945761, 0.12560354840693513, 0.8433381107322787, 0.301003542733356, 0.1022827572394899, 0.11104985071716046, 0.14904058912039958, 0.058447289851137084, 0.18118659853852498, 0.09351566376181934, 0.03307850822795899, 0.03859159293261882, 0.05513084704659832, 0.8049103668803355, 0.016539254113979496, 0.044104677637278655, 0.04513784155595478, 0.09779865670456869, 0.02256892077797739, 0.2633040757430696, 0.007522973592659131, 0.24073515496509218, 0.09027568311190956, 0.23321218137243305, 0.10178864372143186, 0.5101549881752716, 0.04483547402015451, 0.09572979588087044, 0.033929547907143955, 0.031506008770919386, 0.09330625674464588, 0.08724740890408446, 0.08534784728933453, 0.06258842134551199, 0.01137971297191127, 0.6770929218287206, 0.15931598160675778, 0.17738990547918407, 0.05624557978608275, 0.6489874590701856, 0.05624557978608275, 0.025959498362807424, 0.030286081423275327, 0.2867192156009868, 0.25763175894581425, 0.11219447566995136, 0.07202608314614162, 0.13989681534154427, 0.09141772091625666, 0.04016839252380974, 0.00682412305321393, 0.01364824610642786, 0.08188947663856716, 0.8939601199710249, 0.004562949153615997, 0.006844423730423995, 0.4152283729790557, 0.018251796614463987, 0.06616276272743195, 0.48367261028329567, 0.6410599537874658, 0.06968042975950715, 0.0743257917434743, 0.051098981823638576, 0.09755260166331, 0.041808257855704294, 0.023226809919835716, 0.8523289823539079, 0.03964320848157711, 0.07928641696315422, 0.560570480851318, 0.35672666963265687, 0.025480476402332634, 0.025480476402332634, 0.012740238201166317, 0.17336198260458177, 0.3081990801859231, 0.028893663767430293, 0.009631221255810098, 0.48156106279050487, 0.05402199189724909, 0.2232908998419629, 0.02521026288538291, 0.6950829624112717, 0.8120759679604926, 0.033836498665020524, 0.016918249332510262, 0.11842774532757185, 0.9388112304837268, 0.029337850952616464, 0.009779283650872155, 0.009779283650872155, 0.060546077157985836, 0.21191127005295043, 0.060546077157985836, 0.6054607715798583, 0.04540955786848938, 0.019589858161223946, 0.8815436172550776, 0.04897464540305987, 0.019589858161223946, 0.009794929080611973, 0.18087748156603642, 0.10551186424685458, 0.10551186424685458, 0.1356581111745273, 0.24116997542138188, 0.1507312346383637, 0.045219370391509105, 0.1344628826959365, 0.02852242966277441, 0.17113457797664647, 0.04074632808967773, 0.09371655460625877, 0.1466867811228398, 0.38301548404297064, 0.19254184984449557, 0.041470552274199046, 0.0651680107165985, 0.01481091152649966, 0.01777309383179959, 0.6190961018076857, 0.04739491688479891, 0.04970319506215066, 0.7124124625574928, 0.060748349520406364, 0.011045154458255702, 0.16015473964470767, 0.12222613371739811, 0.16725681456065003, 0.038597726437073085, 0.11579317931121925, 0.5275022613066656, 0.012865908812357696, 0.019298863218536542, 0.9685764722948129, 0.25336940075447534, 0.16699346867908602, 0.11804710716969874, 0.2159398301884733, 0.0806175366036967, 0.07773833886785039, 0.04030876830184835, 0.04318796603769466, 0.0028791977358463105, 0.025619907658248925, 0.030743889189898708, 0.005123981531649785, 0.07685972297474677, 0.8557049157855141, 0.12643425346683496, 0.10114740277346797, 0.7417476203387651, 0.01685790046224466, 0.12863765609378586, 0.11255794908206262, 0.20010302059033355, 0.2912213603234319, 0.10541141263240784, 0.0714653644965477, 0.010719804674482154, 0.06074555982206554, 0.019652975236550616, 0.04708255186037103, 0.008407598546494827, 0.06389774895336069, 0.23877579872045307, 0.0033630394185979306, 0.6356144501150089, 0.07711522076305397, 0.022680947283251165, 0.04536189456650233, 0.4762998929482745, 0.3220694514221666, 0.0544342734798028, 0.8681622355563485, 0.1240231765080498, 0.042917292366138504, 0.0804699231865097, 0.2789624003799003, 0.5901127700344044, 0.23988056183558248, 0.18452350910429421, 0.14761880728343538, 0.11071410546257653, 0.2583329127460119, 0.036904701820858844, 0.05856302808579676, 0.1366470655335258, 0.7613193651153579, 0.008111884309289368, 0.016223768618578736, 0.03650347939180216, 0.03244753723715747, 0.07300695878360432, 0.8274121995475155, 0.14401306935879948, 0.3060277723874489, 0.0810073515143247, 0.11701061885402457, 0.12601143568894954, 0.0540049010095498, 0.045004084174624835, 0.11701061885402457, 0.7936506385995876, 0.07348617024070256, 0.01469723404814051, 0.01469723404814051, 0.08818340428884307, 0.6516189785665766, 0.14386393033288056, 0.04231292068614134, 0.016925168274456535, 0.12693876205842403, 0.18143617082992666, 0.10886170249795599, 0.3386808522158631, 0.10886170249795599, 0.04838297888798044, 0.19353191555192176, 0.8041641996693586, 0.12940573328012667, 0.03697306665146476, 0.00924326666286619, 0.7828940663908391, 0.03173894863746645, 0.11637614500404365, 0.05289824772911075, 0.0211592990916443, 0.195903569372274, 0.08248571341990484, 0.7114392782466792, 0.187133629278356, 0.12832020293372984, 0.05881342634462617, 0.08020012683358115, 0.31545383221208584, 0.048120076100148686, 0.01604002536671623, 0.1604002536671623, 0.768371779514606, 0.16613443881396886, 0.01557510363880958, 0.046725310916428744, 0.2976745447267768, 0.031334162602818606, 0.12533665041127443, 0.015667081301409303, 0.5013466016450977, 0.11652470092290682, 0.030397748066845257, 0.09625953554500997, 0.08612695285606156, 0.06586178747816472, 0.28877860663502997, 0.30904377201292677, 0.8849185897577558, 0.07647444602844804, 0.03277476258362059, 0.05285118955289092, 0.017617063184296972, 0.17617063184296974, 0.704682527371879, 0.1649677656697569, 0.013747313805813077, 0.054989255223252306, 0.2749462761162615, 0.027494627611626153, 0.43991404178601845, 0.01915729872280395, 0.2490448833964513, 0.6896627540209421, 0.13697905892247175, 0.08716849204157294, 0.09962113376179764, 0.07471585032134823, 0.4358424602078647, 0.14943170064269645, 0.34671425746819556, 0.10401427724045867, 0.10401427724045867, 0.12134999011386845, 0.20802855448091734, 0.10401427724045867, 0.20357730465184415, 0.0848238769382684, 0.016964775387653678, 0.6955557908938008, 0.9329877972182431, 0.04859311443845016, 0.07223671649469834, 0.07223671649469834, 0.05417753737102376, 0.2347693286077696, 0.5237161945865629, 0.010681575151807147, 0.06764997596144526, 0.035605250506023825, 0.08901312626505956, 0.2385551783903596, 0.2563578036433715, 0.2955235791999977, 0.05392002613587199, 0.8858290008036113, 0.04621716525931885, 0.015405721753106283, 0.03327538455294075, 0.07320584601646964, 0.08651599983764593, 0.7986092292705779, 0.27168773940981295, 0.007342911875940891, 0.7122624519662665, 0.1792409408445065, 0.11949396056300433, 0.06721535281668994, 0.08962047042225325, 0.2688614112667598, 0.04481023521112663, 0.22405117605563313, 0.305893574309219, 0.2542223624326617, 0.2645566048079732, 0.07647339357730475, 0.06407230272693101, 0.031002727125934357, 0.0020668484750622908, 0.06813178655400458, 0.17032946638501145, 0.08051938410927814, 0.05574418899873102, 0.01238759755527356, 0.6100891795972229, 0.15651872745959286, 0.1700117212061095, 0.11064254872143633, 0.12413554246795296, 0.2725584736796358, 0.08095796247909975, 0.059369172484673154, 0.0215887899944266, 0.9949153951782203, 0.1633627904295729, 0.5754825571950863, 0.1819267438874789, 0.037127906915812026, 0.029702325532649617, 0.007425581383162404, 0.30613935196147457, 0.19809016891624825, 0.09004098587102193, 0.10804918304522632, 0.07203278869681755, 0.19809016891624825, 0.1957256444542436, 0.010873646914124645, 0.032620940742373934, 0.032620940742373934, 0.7067870494181019, 0.010873646914124645, 0.19554739921037717, 0.10529475342097232, 0.6468106281574014, 0.02256316144735121, 0.015042107631567474, 0.7343232090211549, 0.01932429497424092, 0.057972884922722755, 0.057972884922722755, 0.0966214748712046, 0.3864380058533465, 0.2576253372355643, 0.28338787095912077, 0.02576253372355643, 0.02576253372355643, 0.021299114061632575, 0.1348943890570063, 0.07809675155931943, 0.5644265226332632, 0.05679763749768686, 0.14199409374421715, 0.6142577890266353, 0.03930351483717045, 0.150476313948024, 0.025828024035854866, 0.11566462937795874, 0.02133619376874967, 0.016844363501644477, 0.01572140593486818, 0.20858928628942913, 0.08533198075476646, 0.06636931836481837, 0.6162865276733134, 0.3690820352774644, 0.10252278757707345, 0.11131045508367975, 0.11131045508367975, 0.1962579076475406, 0.08787667506606296, 0.02050455751541469, 0.09608670005760374, 0.11210115006720436, 0.08007225004800311, 0.016014450009600622, 0.6726069004032262, 0.17182848541771745, 0.14377485514543703, 0.11572122487315664, 0.14377485514543703, 0.2174156346101731, 0.1122145210891216, 0.0420804454084206, 0.052600556760525746, 0.023719733509502936, 0.9487893403801174, 0.2909281978926895, 0.17191211693658925, 0.30415220688781175, 0.22480815291707826, 0.08571957529292076, 0.017143915058584154, 0.017143915058584154, 0.8743396679877918, 0.8296607517357433, 0.1489134682602616, 0.014182235072405869, 0.16082232083047335, 0.24532218431767122, 0.11720948806288736, 0.13901590444668036, 0.16082232083047335, 0.06269344710340487, 0.07632245734327549, 0.03543542662366362, 0.012742967593744445, 0.9684655371245778, 0.00921131239378855, 0.18975303531204413, 0.00736904991503084, 0.01473809983006168, 0.04605656196894275, 0.00921131239378855, 0.7203246291942647, 0.022604758886767252, 0.9493998732442246, 0.07421523099703019, 0.04194773925919098, 0.20651194712217097, 0.06776173264946235, 0.05485473595432666, 0.5485473595432666, 0.2074278927480006, 0.05833909483537517, 0.11667818967075035, 0.11019606802237532, 0.46023063703462636, 0.019446364945125055, 0.019446364945125055, 0.9203335477570441, 0.020916671539932822, 0.020916671539932822, 0.020916671539932822, 0.07321617321814206, 0.2762246535048087, 0.06489615353426229, 0.04992011810327868, 0.3095047322403278, 0.13478431887885242, 0.06656015747103823, 0.02496005905163934, 0.9576369404023376, 0.018416095007737263, 0.06655739865613329, 0.7511477848335043, 0.03803279923207617, 0.06655739865613329, 0.03803279923207617, 0.028524599424057124, 0.22810124975265808, 0.20736477250241642, 0.17833370435207813, 0.13824318166827762, 0.10782968170125655, 0.08571077263433212, 0.05114997721726272, 0.004147295450048329, 0.985089837930293, 0.24312419669573154, 0.22691591691601612, 0.21070763713630067, 0.032416559559430874, 0.19449935735658525, 0.08104139889857719, 0.006718030565263422, 0.9808324625284596, 0.01279698912856062, 0.05118795651424248, 0.5118795651424248, 0.4223006412425005, 0.05949353859015108, 0.21814297483055398, 0.2082273850655288, 0.495779488251259, 0.009915589765025181, 0.0425838146278913, 0.10220115510693913, 0.07665086633020435, 0.7665086633020435, 0.1308506708389103, 0.05947757765405014, 0.0832686087156702, 0.011895515530810027, 0.0832686087156702, 0.6185668076021215, 0.11872035674365167, 0.07226456497439666, 0.32002878774375665, 0.015485263923085, 0.22195544956421834, 0.2529259774103883, 0.9846267469352272, 0.04629849790023667, 0.15741489286080468, 0.07407759664037868, 0.13889549370071, 0.03703879832018934, 0.5370625756427454, 0.13903098029617145, 0.061791546798298416, 0.061791546798298416, 0.030895773399149208, 0.47888448768681274, 0.23171830049361905, 0.09505149194591025, 0.05703089516754615, 0.7414016371780999, 0.0760411935567282, 0.23334335077554308, 0.13611695461906678, 0.4277961430884956, 0.1750075130816573, 0.05135582097413404, 0.12838955243533512, 0.7960152250990776, 0.02916950303765255, 0.11376106184684494, 0.00583390060753051, 0.09334240972048816, 0.15459836609955852, 0.5396358061965721, 0.06417290668283561, 0.13488792983479794, 0.033721982458699486, 0.4902657449764772, 0.033721982458699486, 0.05447397166405302, 0.033721982458699486, 0.21789588665621207, 0.3065480825829534, 0.013934003753770609, 0.6548981764272186, 0.07354086607031224, 0.09805448809374966, 0.07354086607031224, 0.6128405505859353, 0.12256811011718707, 0.7262562701875519, 0.016139028226390042, 0.24208542339585062, 0.12758545403651386, 0.8612018147464685, 0.09674366521642003, 0.0888995842529265, 0.007844080963493516, 0.06275264770794813, 0.7399583042228882, 0.018645258874877082, 0.9695534614936082, 0.08652332214365403, 0.06056632550055782, 0.008652332214365403, 0.020188775166852607, 0.025956996643096208, 0.7931304529834953, 0.023644161660375418, 0.07684352539622011, 0.09457664664150167, 0.56745987984901, 0.16550913162262793, 0.0650214445660324, 0.0059110404150938545, 0.05366201226977491, 0.08781056553235894, 0.05854037702157263, 0.048783647517977195, 0.2536749670934814, 0.39514754489561527, 0.09268893028415667, 0.048144435873959536, 0.024072217936979768, 0.03209629058263969, 0.7382146834007128, 0.12036108968489884, 0.024072217936979768, 0.8987700460612744, 0.08888934521485131, 0.858741163283033, 0.12134386002912421, 0.009334143079163401, 0.1828916895921582, 0.3840725481435322, 0.1325964749543147, 0.0914458447960791, 0.06858438359705933, 0.06858438359705933, 0.04572292239803955, 0.01828916895921582, 0.01079180230047044, 0.6879773966549906, 0.01348975287558805, 0.16457498508217422, 0.11601187473005724, 0.00539590115023522, 0.9106191008787956, 0.026017688596537015, 0.026017688596537015, 0.3082355260760627, 0.008562097946557297, 0.23973874250360433, 0.4281048973278649, 0.18453352336452708, 0.6748654568759848, 0.07381340934581083, 0.015817159145530894, 0.04217909105474905, 0.7705968718769411, 0.09284299661167966, 0.12998019525635152, 0.0381762693644971, 0.14095853303814312, 0.026429724944651838, 0.2731071577614023, 0.14683180524806577, 0.24080416060682786, 0.12921198861829786, 0.9486559070481488, 0.021081242378847752, 0.5229301726383087, 0.20917206905532346, 0.07923184433913767, 0.02218491641495855, 0.16480223622540635, 0.05782440149828889, 0.027390505972873683, 0.13695252986436843, 0.0030433895525415204, 0.3104257343592351, 0.26477489107111224, 0.19782032091519883, 0.010453905967815496, 0.010453905967815496, 0.9408515371033945, 0.03136171790344648, 0.07132644736148433, 0.003962580408971352, 0.0990645102242838, 0.6141999633905595, 0.1902038596306249, 0.015850321635885407, 0.10029198066354458, 0.14375183895108057, 0.12369344281837165, 0.4078540546984146, 0.12369344281837165, 0.09360584861930828, 0.34187087406908057, 0.08230224746107495, 0.05697847901151343, 0.05697847901151343, 0.4241731215301555, 0.025323768449561523, 0.9491716376571188, 0.11559609530254804, 0.025688021178344008, 0.03853203176751601, 0.051376042356688016, 0.14128411648089204, 0.6165125082802562, 0.05930956598583705, 0.06778236112667092, 0.01694559028166773, 0.21181987852084663, 0.05083677084500319, 0.09320074654917251, 0.4914221181683642, 0.012315211641693836, 0.19704338626710138, 0.09852169313355069, 0.1354673280586322, 0.49260846566775346, 0.03694563492508151, 0.9786185985307666, 0.8885352053936935, 0.036021697515960543, 0.048028930021280725, 0.012007232505320181, 0.6203845682261035, 0.09305768523391554, 0.08961110429932607, 0.017232904672947323, 0.14820298018734698, 0.027572647476715714, 0.3052886812128743, 0.14576846940794896, 0.06600836350548633, 0.04125522719092895, 0.3052886812128743, 0.03300418175274317, 0.08526080286125318, 0.013751742396976319, 0.022009351570409008, 0.7923366565347243, 0.10271030732857538, 0.0733645052346967, 0.859326858903874, 0.03791147906928856, 0.07582295813857712, 0.10813450345549147, 0.22059438704920262, 0.06920608221151454, 0.20329286649632397, 0.27249894870783853, 0.09083298290261284, 0.03244035103664744, 0.0021626900691098295, 0.18786523162511248, 0.03131087193751875, 0.007827717984379687, 0.7592886444848297, 0.025941573138037445, 0.9598382061073855, 0.058156699716708796, 0.22293401558071704, 0.03877113314447253, 0.11631339943341759, 0.5040247308781429, 0.058156699716708796, 0.8451369535188651, 0.011268492713584868, 0.0338054781407546, 0.0338054781407546, 0.056342463567924335, 0.6936707637711745, 0.04162024582627047, 0.23584805968219932, 0.01387341527542349, 0.5263914534274103, 0.06865975479487961, 0.18309267945301227, 0.18309267945301227, 0.05331403781275249, 0.10662807562550498, 0.15994211343825748, 0.657539799690614, 0.020399702718656505, 0.9383863250581992, 0.06955181127083612, 0.06955181127083612, 0.08346217352500335, 0.10432771690625418, 0.6259663014375251, 0.041731086762501673, 0.060184555248005374, 0.12036911049601075, 0.5416609972320483, 0.2407382209920215, 0.054126334412515784, 0.7252928811277115, 0.10825266882503157, 0.09742740194252841, 0.24927286347042865, 0.028762253477357152, 0.709468919108143, 0.8131028022899183, 0.021975751413241033, 0.13185450847944621, 0.2128959147799951, 0.2167667495941768, 0.4025668206748998, 0.042579182955999016, 0.03483751332763556, 0.08902920072617976, 0.1135235137476285, 0.5186850197089923, 0.1350538353204546, 0.06067636079614626, 0.0939504941359684, 0.06654826667964428, 0.005871905883498025, 0.0019573019611660086, 0.4564730622486778, 0.07793442526196938, 0.11133489323138483, 0.055667446615692416, 0.055667446615692416, 0.23380327578590815, 0.9122009577364047, 0.05473205746418428, 0.018244019154728095, 0.08302060626290247, 0.08302060626290247, 0.1798779802362887, 0.5396339407088662, 0.023061279517472912, 0.09224511806989165, 0.23439244767408413, 0.032329992782632294, 0.04849498917394844, 0.004041249097829037, 0.032329992782632294, 0.6465998556526459, 0.23012515125365796, 0.07670838375121931, 0.6711983578231691, 0.07019983631560037, 0.755998237244927, 0.05399987408892336, 0.11339973558673905, 0.9531170135330536, 0.0211803780785123, 0.012935040328524898, 0.021558400547541497, 0.2802592071180395, 0.676933777192803, 0.12214577399856136, 0.180399912367106, 0.13905826578297756, 0.25932487402771487, 0.12778327126003342, 0.07328746439913682, 0.04697914384560052, 0.04885830959942455, 0.5500350009796704, 0.14167568207052117, 0.14445363662092356, 0.030557500054426135, 0.10000636381448554, 0.030557500054426135, 0.1560099445781413, 0.3813576423021232, 0.1355237902395975, 0.12764450010938835, 0.08194461735417523, 0.07091361117188241, 0.04569988275521311, 0.052313442809917204, 0.9242041563085374, 0.15235443277012958, 0.08125569747740244, 0.10156962184675306, 0.05078481092337653, 0.04062784873870122, 0.12188354621610366, 0.2132962058781814, 0.2132962058781814, 0.0299188413846348, 0.4886744092823684, 0.05318905135046187, 0.33575588664979056, 0.05318905135046187, 0.03656747280344253, 0.16636982245317467, 0.0882778649751539, 0.06790604998088762, 0.18674163744744093, 0.42780811487959197, 0.03734832748948819, 0.023767117493310664, 0.9199780090564385, 0.0262850859730411, 0.0808659996034574, 0.47859469153066625, 0.08746730569353556, 0.14192808093668033, 0.1105718770088091, 0.07756534655841832, 0.004950979567558617, 0.01485293870267585, 0.2830326331170558, 0.13220603257441424, 0.12848191898076874, 0.14896454374581886, 0.16572305491722347, 0.09682695343478225, 0.04282730632692292, 0.3207230388740272, 0.06414460777480543, 0.1403163295073869, 0.07617172173258145, 0.06815364576073078, 0.28865073498662447, 0.03608134187332806, 0.006027185196702231, 0.15067962991755576, 0.8317515571449079, 0.14246390258215802, 0.09333841893313802, 0.07368822547353002, 0.4765171913954941, 0.11790116075764802, 0.06386312874372602, 0.029475290189412005, 0.4520591399125026, 0.1004575866472228, 0.11720051775509327, 0.1004575866472228, 0.1506863799708342, 0.06697172443148187, 0.01674293110787047, 0.7607984664595756, 0.05016253625008191, 0.06688338166677588, 0.025081268125040954, 0.08360422708346985, 0.07224919228740288, 0.011288936294906701, 0.325121365293313, 0.03612459614370144, 0.03612459614370144, 0.325121365293313, 0.19191191701341392, 0.023850405924509075, 0.23850405924509077, 0.07155121777352723, 0.14310243554705446, 0.47700811849018154, 0.06584694808129213, 0.7737016399551825, 0.13169389616258426, 0.05102166697213371, 0.08746571480937207, 0.014577619134895345, 0.19679785832108715, 0.25510833486066853, 0.10933214351171508, 0.2842635731304592, 0.13631864377971115, 0.09914083183978992, 0.07435562387984244, 0.6815932188985557, 0.04284361198881942, 0.9168532965607356, 0.02570616719329165, 0.5297622154455982, 0.1992268160650113, 0.02263941091647856, 0.09508552584920994, 0.03169517528306998, 0.013583646549887135, 0.10414129021580136, 0.31363305787653045, 0.13242284665897952, 0.10454435262551015, 0.17424058770918358, 0.12545322315061216, 0.013939247016734687, 0.12545322315061216, 0.2682000108800995, 0.7192636655420849, 0.09911887183507073, 0.19823774367014146, 0.0881056638533962, 0.6057264389920989, 0.2335790335509235, 0.01610889886558093, 0.2617696065656901, 0.024163348298371395, 0.451049168236266, 0.012081674149185697, 0.8053995867378573, 0.04474442148543652, 0.07457403580906086, 0.029829614323624343, 0.029829614323624343, 0.4355962334646417, 0.007510279887321409, 0.06759251898589268, 0.007510279887321409, 0.022530839661964227, 0.24783923628160648, 0.05257195921124986, 0.15771587763374958, 0.046321222810200874, 0.034740917107650655, 0.011580305702550218, 0.046321222810200874, 0.17370458553825327, 0.13896366843060262, 0.5442743680198603, 0.11483303343729033, 0.04465729078116846, 0.5231282634365448, 0.10845342046855197, 0.05103690374990681, 0.14035148531224373, 0.012759225937476703, 0.16060931905723247, 0.017208141327560624, 0.8145186895045361, 0.07892533784885622, 0.015785067569771244, 0.03157013513954249, 0.836608581197876, 0.06022429536967442, 0.03613457722180465, 0.012044859073934884, 0.016059812098579845, 0.18468783913366824, 0.016059812098579845, 0.6745121081403536, 0.030654276743353536, 0.8225564259466532, 0.06130855348670707, 0.056199507362814816, 0.02554523061946128, 0.015239338233544631, 0.030478676467089263, 0.0812764705789047, 0.005079779411181544, 0.8534029410784995, 0.6398612246683288, 0.08646773306328769, 0.14699514620758905, 0.04323386653164384, 0.05188063983797261, 0.025940319918986304, 0.297005671793417, 0.010607345421193464, 0.11668079963312811, 0.5621893073232537, 0.6343221418367443, 0.1640488297853649, 0.06561953191414596, 0.02734147163089415, 0.09296100354504011, 0.01093658865235766, 0.7838860615936694, 0.04451088046904116, 0.07171197408901075, 0.05934784062538821, 0.017309786849071564, 0.02225544023452058, 0.08501741909769502, 0.383866528653229, 0.05152570854405759, 0.1623059819137814, 0.04894942311685471, 0.20867911960343324, 0.030915425126434554, 0.028339139699231675, 0.058910446270380695, 0.13745770796422163, 0.765835801514949, 0.014241031996651644, 0.7779163728170961, 0.05696412798660658, 0.10502761097530589, 0.01246090299707019, 0.0160211609962331, 0.017801289995814557, 0.22862724077854768, 0.01216102344566743, 0.02432204689133486, 0.007296614067400458, 0.21160180795461328, 0.515627394096299, 0.01874698070031592, 0.010712560400180525, 0.07230978270121854, 0.6722131651113279, 0.01874698070031592, 0.0026781401000451313, 0.20086050750338483, 0.1239543880244315, 0.10624661830665556, 0.10624661830665556, 0.10624661830665556, 0.5312330915332778, 0.017707769717775927, 0.019761510470081435, 0.07904604188032574, 0.10868830758544788, 0.2964226570512215, 0.02964226570512215, 0.454514740811873, 0.10689558801762244, 0.7268899985198327, 0.08551647041409796, 0.06413735281057346, 0.06310726748896929, 0.07713110470874025, 0.792346802917059, 0.035059593049427386, 0.021035755829656434, 0.07992149186794674, 0.8791364105474141, 0.02329098667913604, 0.5589836802992649, 0.02329098667913604, 0.13974592007481623, 0.2329098667913604, 0.029654505764121486, 0.9588290197065947, 0.10799453280327687, 0.12149384940368647, 0.026998633200819216, 0.6344678802192516, 0.06749658300204804, 0.026998633200819216, 0.03778311824478789, 0.056674677367181826, 0.8879032787525153, 0.1292098222738749, 0.07537239632642703, 0.06460491113693745, 0.07537239632642703, 0.4953043187165205, 0.0861398815159166, 0.05383742594744788, 0.36049543827443653, 0.0720990876548873, 0.21629726296466192, 0.20728487700780102, 0.045061929784304566, 0.05407431574116548, 0.03604954382744365, 0.8536308676478576, 0.064950174712337, 0.064950174712337, 0.052710396273955705, 0.04460110453950098, 0.8393116945160639, 0.04054645867227362, 0.016218583468909448, 0.07393605127049496, 0.0657209344626622, 0.7393605127049496, 0.04107558403916387, 0.04107558403916387, 0.0328604672313311, 0.11926736243036319, 0.22859577799152944, 0.11264139785089856, 0.24184770715045867, 0.23853472486072638, 0.04306876976652004, 0.019877893738393864, 0.107827790421621, 0.107827790421621, 0.2772714610841683, 0.33888734132509457, 0.04621191018069471, 0.12323176048185257, 0.03439493187313852, 0.4738857280299086, 0.11082811381344636, 0.131847238847031, 0.1834396366567388, 0.03821659097015392, 0.011464977291046174, 0.015286636388061567, 0.0383696589204239, 0.7865780078686899, 0.1151089767612717, 0.0383696589204239, 0.054875944143243885, 0.9054530783635242, 0.013718986035810971, 0.0020129139191595283, 0.251614239894941, 0.008051655676638113, 0.024154967029914338, 0.018116225272435754, 0.008051655676638113, 0.6843907325142395, 0.5671169102950315, 0.10615981572025221, 0.13130292996978563, 0.08660406019283733, 0.058667266582244644, 0.036317831693770494, 0.011174717444237075, 0.5405517596511912, 0.08680393220676064, 0.22490109708115255, 0.0710213990782587, 0.03551069953912935, 0.03551069953912935, 0.034563612707771495, 0.06048632223860011, 0.406122449316315, 0.49253148108574374, 0.026895786275959625, 0.026895786275959625, 0.026895786275959625, 0.8875609471066676, 0.15847619038520527, 0.07923809519260264, 0.017608465598356143, 0.4314074071597255, 0.30814814797123247, 0.34134974977518506, 0.1061339558124525, 0.04302727938342669, 0.10900244110468095, 0.07458061759793959, 0.2925854998073015, 0.03155333821451291, 0.9149122285032938, 0.05278339779826695, 0.19098851144207835, 0.7520172638031835, 0.047747127860519586, 0.027010293250776467, 0.027010293250776467, 0.01800686216718431, 0.6632527564912888, 0.05702173019608365, 0.11704460408669802, 0.027010293250776467, 0.06302401758514509, 0.09944504023393383, 0.024861260058483457, 0.012430630029241729, 0.0870144102046921, 0.03729189008772518, 0.6588233915498116, 0.06215315014620864, 0.10160815160022524, 0.10160815160022524, 0.7789958289350601, 0.02132200282641494, 0.14925401978490457, 0.03198300423962241, 0.026652503533018675, 0.06929650918584855, 0.6982955925650892, 0.1225188059279557, 0.05104950246998154, 0.6840633330977527, 0.04083960197598524, 0.030629701481988927, 0.05104950246998154, 0.12635909576409388, 0.7581545745845634, 0.042119698588031294, 0.021059849294015647, 0.021059849294015647, 0.11806262016945324, 0.05903131008472662, 0.31483365378520867, 0.5116046874009641, 0.1526075384558588, 0.006043862909142923, 0.274995762366003, 0.08914697790985811, 0.006043862909142923, 0.03777414318214327, 0.43062523227643323, 0.15766080466649374, 0.060638771025574516, 0.7549526992684028, 0.02122356985895108, 0.08884687417473633, 0.823852833256646, 0.072692897052057, 0.008076988561339666, 0.15955704274092197, 0.7499181008823332, 0.06382281709636879, 0.21560318973631862, 0.04560836705960586, 0.1160940252426331, 0.09536294930644862, 0.07048565818302724, 0.27779641754487205, 0.17414103786394963, 0.20448068604245548, 0.00929457663829343, 0.6041474814890729, 0.03253101823402701, 0.027883729914880293, 0.0604147481489073, 0.055767459829760585, 0.13882997682556755, 0.1561837239287635, 0.057845823677319816, 0.07519957078051576, 0.1503991415610315, 0.057845823677319816, 0.35864410679938286, 0.024916916148845815, 0.946842813656141, 0.10901912957733334, 0.8503492107032, 0.8227823341826018, 0.015822737195819267, 0.0949364231749156, 0.0474682115874578, 0.2439042614948288, 0.18527342940472571, 0.13367829716543503, 0.12664259731462266, 0.17823772955391334, 0.09615456462776904, 0.0304880326868536, 0.002345233283604123, 0.5534009682388318, 0.12577294732700722, 0.07965619997377123, 0.03773188419810216, 0.07546376839620432, 0.07965619997377123, 0.05030917893080288, 0.1665639065866866, 0.03919150743216156, 0.00979787685804039, 0.04898938429020194, 0.4311065817537771, 0.029393630574121164, 0.2645426751670905, 0.04068561530483224, 0.02034280765241612, 0.9255977481849335, 0.015420864529816778, 0.051402881766055925, 0.005140288176605593, 0.9201115836124011, 0.008910095315680402, 0.011880127087573869, 0.2747279389001457, 0.7038975299387517, 0.21077538602933463, 0.009580699364969756, 0.047903496824848776, 0.01916139872993951, 0.6898103542778224, 0.07343076939551631, 0.12850384644215354, 0.02447692313183877, 0.29984230836502496, 0.1896961542717505, 0.0061192307829596925, 0.27536538523318616, 0.06798340430598457, 0.7523496743195627, 0.08611231212091379, 0.040790042583590744, 0.03172558867612613, 0.013596680861196916, 0.9879984165907484, 0.05633665066082721, 0.037557767107218136, 0.070420813326034, 0.13145218487526347, 0.009389441776804534, 0.6901239705951333, 0.03109672937222721, 0.40708445723642894, 0.08198228652678083, 0.09611716351415683, 0.3660933139730385, 0.011307901589900804, 0.0042404630962128015, 0.9597680210315479, 0.015733901984123735, 0.8838883549012051, 0.03824516920245599, 0.029746242713021325, 0.025496779468303993, 0.012748389734151997, 0.008498926489434665, 0.047436958815892785, 0.047436958815892785, 0.017788859555959796, 0.011859239703973196, 0.05336657866787939, 0.13045163674370516, 0.6937655226824321, 0.20363923264246864, 0.05090980816061716, 0.7127373142486402, 0.1378463422096597, 0.5513853688386388, 0.08270780532579582, 0.1378463422096597, 0.02756926844193194, 0.02756926844193194, 0.9745310997189102, 0.010592729344770763, 0.5405041614906424, 0.10720743698987947, 0.1652781320260642, 0.07593860120116463, 0.07593860120116463, 0.02233488270622489, 0.004466976541244979, 0.22838370160312177, 0.0639474364488741, 0.009135348064124872, 0.027406044192374614, 0.6577450606169907, 0.004269520612712072, 0.005692694150282763, 0.014231735375706907, 0.4867253498491762, 0.0071158676878534536, 0.005692694150282763, 0.01850125598841898, 0.08112089164152937, 0.3757178139186623, 0.12690310088791748, 0.01730496830289784, 0.06921987321159136, 0.15574471472608054, 0.1384397464231827, 0.1384397464231827, 0.357636011593222, 0.9954129417050458, 0.24158344499025738, 0.08627980178223478, 0.08627980178223478, 0.12079172249512869, 0.41414304855472694, 0.017255960356446956, 0.44159638489301606, 0.26233448607505905, 0.08744482869168635, 0.04590853506313534, 0.11586439801648442, 0.021861207172921587, 0.021861207172921587, 0.4846743699045766, 0.19557035978605722, 0.16155812330152552, 0.04251529560566461, 0.0765275320901963, 0.025509177363398767, 0.06824547074777118, 0.025886213042258036, 0.04706584189501461, 0.04941913398976534, 0.18355678339055698, 0.22591604109607014, 0.392999779823372, 0.012351725781353181, 0.049406903125412724, 0.9140277078201354, 0.9922934679006247, 0.25589341472167115, 0.5483430315464382, 0.10966860630928763, 0.018278101051547938, 0.009139050525773969, 0.0594038284175308, 0.09533440686693667, 0.6832299158797127, 0.11122347467809278, 0.039722669527890275, 0.06355627124462444, 0.3196598933365573, 0.1167012309006479, 0.14207106370513659, 0.16236692994872753, 0.16236692994872753, 0.08118346497436377, 0.012684916402244338, 0.12834449995013925, 0.10267559996011139, 0.7187291997207798, 0.03374803446278736, 0.0472472482479023, 0.07424567581813218, 0.16199056542137932, 0.06074646203301724, 0.0944944964958046, 0.5197197307269253, 0.725176111696622, 0.021486699605825835, 0.08057512352184688, 0.03760172431019521, 0.06446009881747751, 0.010743349802912918, 0.016115024704369377, 0.03760172431019521, 0.03595822231532046, 0.9573876691454074, 0.026822050556371435, 0.10728820222548574, 0.8583056178038859, 0.2837050499848955, 0.027019528569990042, 0.5539003356847959, 0.1215878785649552, 0.10194532004564143, 0.42738614942211217, 0.07253801618632179, 0.14311554544868893, 0.0960638592737775, 0.08430093773004964, 0.07449850311027643, 0.02955857736564016, 0.8424194549207445, 0.04433786604846024, 0.02955857736564016, 0.04433786604846024, 0.15726890331077603, 0.06621848560453727, 0.05794117490397012, 0.049663864203402956, 0.00827731070056716, 0.6456302346442384, 0.9471498158947953, 0.0555722116040853, 0.0370481410693902, 0.0740962821387804, 0.6668665392490236, 0.1296684937428657, 0.1688879993062671, 0.759995996878202, 0.03377759986125342, 0.01688879993062671, 0.9178613201748357, 0.021853840956543708, 0.043707681913087416, 0.052804780967217045, 0.004061906228247465, 0.759576464682276, 0.01624762491298986, 0.04468096851072212, 0.11779528061917649, 0.31398732118343176, 0.15699366059171588, 0.16895508235108472, 0.09868172951479284, 0.13905152795266265, 0.07625406371597629, 0.03139873211834318, 0.01196142175936883, 0.16037576638053783, 0.038711391884957404, 0.42582531073453145, 0.1456285694719826, 0.0313377934306798, 0.18618336097050942, 0.0110603976814164, 0.801766748702854, 0.16446497409289315, 0.8743758971576159, 0.1013769156124772, 0.9105379466563914, 0.04335894984078054, 0.02167947492039027, 0.13586946900896246, 0.033967367252240616, 0.2038042035134437, 0.08491841813060154, 0.3906247234007671, 0.13586946900896246, 0.28241258386549306, 0.02017232741896379, 0.06051698225689137, 0.6051698225689137, 0.03788454693573382, 0.268486136979331, 0.057650397510899294, 0.25036744061876265, 0.24542597797497126, 0.11365364080720146, 0.02470731321895684, 0.0016471542145971227, 0.023196280187223417, 0.34536683834310417, 0.09793984967938775, 0.12113612986661117, 0.2293854374069871, 0.08247566288790548, 0.09793984967938775, 0.9721534419030982, 0.17850347525510038, 0.2677552128826506, 0.0939491975026844, 0.05636951850161065, 0.36170441038533496, 0.018789839500536882, 0.018789839500536882, 0.0046974598751342205, 0.7532276207405182, 0.01637451349435909, 0.1964941619323091, 0.6751465323440913, 0.06973344465525826, 0.09826076292331845, 0.05388493450633593, 0.05388493450633593, 0.022187914208491262, 0.022187914208491262, 0.0681251088816049, 0.9227855657599211, 0.12260391837943957, 0.03678117551383187, 0.1992313673665893, 0.19310117144761732, 0.3647466571788327, 0.07969254694663572, 0.057157086227730816, 0.9145133796436931, 0.08905563123208383, 0.08905563123208383, 0.0534333787392503, 0.01781112624641677, 0.5165226611460862, 0.23154464120341797, 0.8762300779875826, 0.04483037608308562, 0.024452932408955793, 0.012226466204477896, 0.03260390987860772, 0.8451380241576909, 0.034731699622918805, 0.019295388679399336, 0.011577233207639601, 0.07332247698171748, 0.011577233207639601, 0.23304636412755514, 0.12000148600597989, 0.13913215768809262, 0.14782791754359842, 0.14956706951469956, 0.14087130965919378, 0.06608777490184399, 0.2528316458467671, 0.13803241205688366, 0.14076572714711896, 0.13119912433129535, 0.16809887804947218, 0.12163252151547174, 0.042366383898647456, 0.00409997263535298, 0.0013666575451176599, 0.02943343292253447, 0.9516809978286146, 0.2809885228551985, 0.012351143861766967, 0.5805037615030474, 0.02161450175809219, 0.015438929827208708, 0.06175571930883483, 0.024702287723533934, 0.10725876368131702, 0.883307465610846, 0.04696012793631476, 0.945911148431483, 0.5582855593062492, 0.03650328657002399, 0.13098238122185077, 0.004294504302355763, 0.010736260755889408, 0.21257796296661027, 0.045092295174735515, 0.18773828304724827, 0.013409877360517733, 0.040229632081553196, 0.026819754721035465, 0.7107235001074399, 0.1400746186185853, 0.08754663663661581, 0.08754663663661581, 0.061282645645631066, 0.5252798198196948, 0.052527981981969486, 0.026263990990984743, 0.22396860939719776, 0.13864723438874146, 0.09598654688451332, 0.02133034375211407, 0.02133034375211407, 0.05332585938028518, 0.42660687504228145, 0.1370668844645994, 0.05049832585537872, 0.014428093101536777, 0.021642139652305166, 0.6636922826706918, 0.10821069826152584, 0.33458700853440826, 0.4089396770976101, 0.07435266856320183, 0.018588167140800457, 0.05576450142240137, 0.11152900284480274, 0.012860075590529476, 0.24434143622006005, 0.7201642330696507, 0.9737809135078959, 0.014320307551586704, 0.13816968184975417, 0.09805590324821264, 0.16045511440616614, 0.20948306603027245, 0.3030818827672027, 0.08468464371436546, 0.024567831359395942, 0.13512307247667768, 0.0859874097578858, 0.7370349407818783, 0.06461822558529619, 0.09692733837794429, 0.8077278198162025], \"Term\": [\"18\", \"18\", \"18\", \"18\", \"18\", \"2005\", \"2005\", \"2005\", \"2005\", \"2005\", \"2008\", \"2008\", \"2008\", \"2008\", \"2008\", \"able\", \"able\", \"able\", \"able\", \"abstract\", \"abstract\", \"abstract\", \"abstract\", \"abstract\", \"abstract\", \"abstract\", \"across\", \"across\", \"across\", \"across\", \"across\", \"across\", \"address\", \"address\", \"address\", \"algorithm\", \"algorithm\", \"algorithm\", \"algorithm\", \"algorithm\", \"anyway\", \"anyway\", \"api\", \"api\", \"api\", \"api\", \"api\", \"api\", \"api\", \"appears\", \"appears\", \"appears\", \"appears\", \"appears\", \"appears\", \"appears\", \"apps\", \"apps\", \"apps\", \"apps\", \"apps\", \"apps\", \"area\", \"area\", \"area\", \"area\", \"area\", \"around\", \"around\", \"around\", \"around\", \"ask\", \"ask\", \"ask\", \"ask\", \"asking\", \"asking\", \"asking\", \"asking\", \"asking\", \"asking\", \"asking\", \"asp\", \"asp\", \"asp\", \"asp\", \"assign\", \"assign\", \"assign\", \"assume\", \"assume\", \"assume\", \"assume\", \"assume\", \"assume\", \"attempt\", \"attempt\", \"avoid\", \"avoid\", \"back\", \"back\", \"back\", \"back\", \"back\", \"back\", \"bad\", \"bad\", \"bad\", \"bad\", \"bad\", \"bad\", \"bad\", \"basically\", \"bin\", \"bin\", \"bin\", \"bind\", \"bind\", \"bind\", \"bind\", \"bind\", \"bind\", \"binding\", \"binding\", \"binding\", \"binding\", \"binding\", \"body\", \"body\", \"body\", \"body\", \"body\", \"body\", \"boolean\", \"boolean\", \"boolean\", \"boolean\", \"boolean\", \"boost\", \"boost\", \"boost\", \"boost\", \"border\", \"border\", \"border\", \"bottom\", \"bottom\", \"bottom\", \"bound\", \"bound\", \"bound\", \"bound\", \"bound\", \"box\", \"box\", \"box\", \"box\", \"box\", \"box\", \"br\", \"br\", \"br\", \"br\", \"br\", \"br\", \"br\", \"branch\", \"branch\", \"branch\", \"browser\", \"browser\", \"browser\", \"browser\", \"browser\", \"buffer\", \"buffer\", \"buffer\", \"buffer\", \"build\", \"build\", \"build\", \"build\", \"build\", \"build\", \"bundle\", \"bundle\", \"bundle\", \"byte\", \"byte\", \"byte\", \"byte\", \"byte\", \"ca\", \"ca\", \"ca\", \"ca\", \"call\", \"call\", \"call\", \"call\", \"callback\", \"callback\", \"callback\", \"callback\", \"callback\", \"callback\", \"callback\", \"callback\", \"catch\", \"catch\", \"catch\", \"cause\", \"cause\", \"certain\", \"certain\", \"certificate\", \"certificate\", \"certificate\", \"changed\", \"changed\", \"changing\", \"changing\", \"changing\", \"changing\", \"changing\", \"changing\", \"changing\", \"checkbox\", \"checkbox\", \"checkbox\", \"checkbox\", \"checkbox\", \"checkbox\", \"chrome\", \"chrome\", \"chrome\", \"chrome\", \"chrome\", \"chrome\", \"chrome\", \"chrome\", \"clean\", \"clean\", \"clean\", \"clean\", \"clean\", \"clean\", \"clean\", \"clean\", \"click\", \"click\", \"click\", \"click\", \"click\", \"client\", \"client\", \"client\", \"client\", \"client\", \"client\", \"code\", \"code\", \"code\", \"code\", \"code\", \"code\", \"code\", \"color\", \"color\", \"color\", \"color\", \"column\", \"column\", \"column\", \"column\", \"column\", \"column\", \"command\", \"command\", \"command\", \"command\", \"command\", \"command\", \"command\", \"commit\", \"commit\", \"commit\", \"condition\", \"condition\", \"condition\", \"condition\", \"condition\", \"configure\", \"configure\", \"configure\", \"configure\", \"configure\", \"connect\", \"connect\", \"connect\", \"connect\", \"consolewriteline\", \"consolewriteline\", \"consolewriteline\", \"consolewriteline\", \"const\", \"const\", \"const\", \"const\", \"constructor\", \"constructor\", \"constructor\", \"constructor\", \"constructor\", \"contact\", \"contact\", \"contact\", \"contact\", \"contact\", \"containing\", \"containing\", \"containing\", \"containing\", \"containing\", \"containing\", \"containing\", \"content\", \"content\", \"content\", \"content\", \"content\", \"content\", \"content\", \"control\", \"control\", \"control\", \"control\", \"control\", \"control\", \"control\", \"controller\", \"controller\", \"controller\", \"controller\", \"controller\", \"conversion\", \"conversion\", \"conversion\", \"conversion\", \"conversion\", \"conversion\", \"conversion\", \"convert\", \"create\", \"create\", \"create\", \"create\", \"create\", \"create\", \"create\", \"create\", \"create\", \"cs\", \"cs\", \"cs\", \"cs\", \"cs\", \"customer\", \"customer\", \"customer\", \"customer\", \"data\", \"data\", \"data\", \"data\", \"data\", \"data\", \"data\", \"data\", \"data\", \"database\", \"database\", \"database\", \"database\", \"database\", \"database\", \"date\", \"date\", \"date\", \"date\", \"date\", \"date\", \"datetime\", \"datetime\", \"db\", \"db\", \"db\", \"db\", \"deal\", \"deal\", \"deal\", \"deal\", \"deal\", \"deal\", \"declaration\", \"declaration\", \"declaration\", \"default\", \"default\", \"default\", \"default\", \"default\", \"default\", \"definition\", \"definition\", \"definition\", \"definition\", \"definition\", \"definition\", \"definition\", \"definition\", \"delete\", \"delete\", \"delete\", \"delete\", \"delete\", \"deploy\", \"deploy\", \"deploy\", \"deploy\", \"deploy\", \"detail\", \"detail\", \"detail\", \"detail\", \"detail\", \"detail\", \"development\", \"development\", \"development\", \"development\", \"device\", \"device\", \"device\", \"device\", \"device\", \"dialog\", \"dialog\", \"dialog\", \"difference\", \"difference\", \"difference\", \"difference\", \"difference\", \"difference\", \"difference\", \"difference\", \"directory\", \"directory\", \"directory\", \"directory\", \"disable\", \"disable\", \"disable\", \"disable\", \"disable\", \"display\", \"display\", \"display\", \"display\", \"display\", \"display\", \"display\", \"dll\", \"dll\", \"dll\", \"dom\", \"dom\", \"dom\", \"dom\", \"drop\", \"drop\", \"drop\", \"drop\", \"drop\", \"drop\", \"due\", \"due\", \"due\", \"easier\", \"easier\", \"easier\", \"easier\", \"easier\", \"easier\", \"easily\", \"easily\", \"easily\", \"easily\", \"easily\", \"easily\", \"eclipse\", \"eclipse\", \"eclipse\", \"eclipse\", \"edit\", \"edit\", \"either\", \"either\", \"either\", \"either\", \"either\", \"email\", \"email\", \"email\", \"email\", \"email\", \"email\", \"email\", \"enabled\", \"enabled\", \"enabled\", \"enabled\", \"entry\", \"entry\", \"entry\", \"entry\", \"environment\", \"environment\", \"environment\", \"error\", \"error\", \"error\", \"error\", \"error\", \"error\", \"error\", \"etc\", \"etc\", \"etc\", \"etc\", \"etc\", \"etc\", \"etc\", \"ever\", \"ever\", \"ever\", \"ever\", \"ever\", \"ever\", \"excel\", \"excel\", \"excel\", \"excel\", \"excel\", \"excel\", \"excel\", \"excel\", \"except\", \"execute\", \"execute\", \"execute\", \"execute\", \"execute\", \"execute\", \"execution\", \"execution\", \"execution\", \"execution\", \"execution\", \"execution\", \"export\", \"export\", \"export\", \"export\", \"export\", \"export\", \"express\", \"express\", \"express\", \"express\", \"express\", \"expression\", \"expression\", \"expression\", \"expression\", \"expression\", \"failed\", \"failed\", \"failed\", \"failed\", \"failed\", \"feel\", \"feel\", \"feel\", \"feel\", \"feel\", \"feel\", \"figure\", \"figure\", \"figure\", \"figure\", \"figure\", \"figure\", \"figure\", \"figure\", \"file\", \"file\", \"file\", \"file\", \"find\", \"find\", \"find\", \"find\", \"find\", \"find\", \"find\", \"firefox\", \"firefox\", \"firefox\", \"firefox\", \"firefox\", \"firstname\", \"firstname\", \"firstname\", \"firstname\", \"firstname\", \"firstname\", \"firstname\", \"firstname\", \"fix\", \"fix\", \"following\", \"following\", \"following\", \"following\", \"font\", \"font\", \"font\", \"font\", \"foo\", \"foo\", \"foo\", \"force\", \"force\", \"force\", \"force\", \"force\", \"force\", \"force\", \"force\", \"form\", \"form\", \"format\", \"format\", \"format\", \"format\", \"format\", \"format\", \"format\", \"framework\", \"framework\", \"free\", \"free\", \"free\", \"free\", \"free\", \"free\", \"full\", \"full\", \"full\", \"full\", \"full\", \"full\", \"full\", \"gem_root\", \"gem_root\", \"gem_root\", \"gem_root\", \"general\", \"general\", \"general\", \"general\", \"general\", \"general\", \"general\", \"general\", \"generated\", \"generated\", \"getting\", \"getting\", \"getting\", \"getting\", \"getting\", \"getting\", \"git\", \"git\", \"git\", \"git\", \"git\", \"git\", \"git\", \"git\", \"given\", \"goal\", \"goal\", \"goal\", \"goal\", \"goal\", \"goal\", \"grid\", \"grid\", \"groupid\", \"groupid\", \"groupid\", \"groupid\", \"handling\", \"handling\", \"handling\", \"handling\", \"handling\", \"head\", \"head\", \"head\", \"head\", \"header\", \"header\", \"header\", \"header\", \"header\", \"header\", \"height\", \"height\", \"height\", \"height\", \"height\", \"height\", \"hello\", \"help\", \"help\", \"help\", \"help\", \"help\", \"help\", \"hibernate\", \"hibernate\", \"hibernate\", \"hibernate\", \"hibernate\", \"hibernate\", \"hidden\", \"hidden\", \"hidden\", \"hidden\", \"hour\", \"hour\", \"hour\", \"hour\", \"href\", \"href\", \"href\", \"html\", \"html\", \"html\", \"html\", \"html\", \"html\", \"html\", \"http\", \"http\", \"http\", \"http\", \"http\", \"http\", \"http\", \"icon\", \"icon\", \"icon\", \"id\", \"id\", \"id\", \"id\", \"id\", \"ienumerable\", \"ienumerable\", \"ienumerable\", \"ii\", \"ii\", \"image\", \"image\", \"image\", \"image\", \"image\", \"img\", \"img\", \"import\", \"import\", \"import\", \"import\", \"import\", \"import\", \"index\", \"index\", \"index\", \"index\", \"index\", \"index\", \"index\", \"input\", \"input\", \"input\", \"input\", \"input\", \"input\", \"input\", \"insert\", \"insert\", \"insert\", \"insert\", \"insert\", \"insert\", \"install\", \"install\", \"installed\", \"installed\", \"installed\", \"instance\", \"instance\", \"instance\", \"instance\", \"instance\", \"instance\", \"instance\", \"instance\", \"int\", \"int\", \"int\", \"int\", \"int\", \"int\", \"integer\", \"integer\", \"integer\", \"interested\", \"interested\", \"interested\", \"interested\", \"internal\", \"internal\", \"internal\", \"internal\", \"internal\", \"item\", \"item\", \"item\", \"java\", \"java\", \"java\", \"java\", \"java\", \"java\", \"java\", \"javascript\", \"javascript\", \"job\", \"job\", \"job\", \"job\", \"job\", \"join\", \"join\", \"join\", \"join\", \"join\", \"join\", \"join\", \"json\", \"json\", \"json\", \"json\", \"keep\", \"keep\", \"keep\", \"keep\", \"keep\", \"keep\", \"known\", \"known\", \"known\", \"known\", \"known\", \"known\", \"last\", \"last\", \"last\", \"last\", \"last\", \"last\", \"layer\", \"left\", \"left\", \"left\", \"left\", \"left\", \"left\", \"level\", \"level\", \"level\", \"level\", \"level\", \"level\", \"level\", \"li\", \"li\", \"li\", \"li\", \"li\", \"li\", \"limit\", \"line\", \"line\", \"line\", \"line\", \"link\", \"link\", \"link\", \"link\", \"link\", \"link\", \"linux\", \"linux\", \"linux\", \"linux\", \"linux\", \"linux\", \"linux\", \"linux\", \"little\", \"little\", \"little\", \"little\", \"live\", \"live\", \"live\", \"load\", \"load\", \"load\", \"load\", \"load\", \"load\", \"load\", \"load\", \"logic\", \"logic\", \"logic\", \"logic\", \"looked\", \"looked\", \"machine\", \"machine\", \"machine\", \"machine\", \"machine\", \"machine\", \"main\", \"main\", \"main\", \"main\", \"main\", \"make\", \"make\", \"make\", \"make\", \"map\", \"map\", \"map\", \"map\", \"match\", \"match\", \"match\", \"match\", \"matter\", \"matter\", \"max\", \"max\", \"max\", \"max\", \"max\", \"max\", \"maybe\", \"maybe\", \"maybe\", \"maybe\", \"menu\", \"menu\", \"menu\", \"menu\", \"message\", \"message\", \"message\", \"method\", \"method\", \"method\", \"microsoft\", \"microsoft\", \"microsoft\", \"microsoft\", \"microsoft\", \"microsoft\", \"might\", \"might\", \"might\", \"might\", \"might\", \"might\", \"might\", \"might\", \"minute\", \"minute\", \"minute\", \"minute\", \"minute\", \"minute\", \"model\", \"model\", \"model\", \"module\", \"module\", \"module\", \"module\", \"module\", \"module\", \"month\", \"month\", \"month\", \"month\", \"month\", \"month\", \"move\", \"move\", \"move\", \"mx\", \"mx\", \"mx\", \"mx\", \"mysql\", \"mysql\", \"name\", \"name\", \"name\", \"name\", \"named\", \"named\", \"named\", \"named\", \"named\", \"named\", \"named\", \"named\", \"network\", \"network\", \"network\", \"network\", \"network\", \"network\", \"next\", \"next\", \"next\", \"next\", \"next\", \"next\", \"next\", \"nil\", \"nil\", \"note\", \"note\", \"note\", \"note\", \"note\", \"note\", \"note\", \"note\", \"number\", \"number\", \"number\", \"number\", \"number\", \"number\", \"obj\", \"obj\", \"obj\", \"obj\", \"obj\", \"obj\", \"obj\", \"object\", \"object\", \"obvious\", \"obvious\", \"obvious\", \"obvious\", \"obvious\", \"obvious\", \"obvious\", \"obvious\", \"open\", \"open\", \"open\", \"open\", \"open\", \"open\", \"open\", \"oracle\", \"oracle\", \"oracle\", \"oracle\", \"oracle\", \"oracle\", \"oracle\", \"order\", \"order\", \"order\", \"original\", \"original\", \"original\", \"original\", \"original\", \"original\", \"original\", \"otherwise\", \"otherwise\", \"otherwise\", \"otherwise\", \"otherwise\", \"otherwise\", \"otherwise\", \"page\", \"page\", \"page\", \"page\", \"page\", \"param\", \"param\", \"param\", \"param\", \"param\", \"param\", \"param\", \"parameter\", \"parameter\", \"parameter\", \"parameter\", \"parameter\", \"params\", \"params\", \"params\", \"parser\", \"parser\", \"parser\", \"parser\", \"parser\", \"parser\", \"parser\", \"part\", \"part\", \"part\", \"part\", \"path\", \"path\", \"path\", \"pattern\", \"pattern\", \"pattern\", \"pattern\", \"pattern\", \"pattern\", \"pattern\", \"performance\", \"performance\", \"performance\", \"performance\", \"performance\", \"performance\", \"performance\", \"perl\", \"perl\", \"person\", \"person\", \"person\", \"person\", \"phone\", \"phone\", \"phone\", \"phone\", \"phone\", \"phone\", \"place\", \"place\", \"place\", \"place\", \"place\", \"play\", \"play\", \"play\", \"play\", \"play\", \"play\", \"play\", \"play\", \"point\", \"point\", \"point\", \"point\", \"point\", \"point\", \"point\", \"port\", \"port\", \"port\", \"port\", \"port\", \"port\", \"port\", \"position\", \"position\", \"position\", \"pretty\", \"pretty\", \"pretty\", \"pretty\", \"prevent\", \"prevent\", \"prevent\", \"prevent\", \"prevent\", \"prevent\", \"prevent\", \"previous\", \"previous\", \"previous\", \"previous\", \"previous\", \"private\", \"private\", \"private\", \"private\", \"private\", \"probably\", \"probably\", \"probably\", \"probably\", \"probably\", \"probably\", \"process\", \"process\", \"process\", \"process\", \"product\", \"product\", \"product\", \"product\", \"product\", \"product\", \"program\", \"program\", \"program\", \"program\", \"program\", \"program\", \"project\", \"project\", \"project\", \"project\", \"project\", \"project\", \"project\", \"project\", \"provide\", \"provide\", \"provide\", \"provided\", \"provided\", \"provided\", \"provided\", \"provided\", \"provided\", \"provided\", \"purpose\", \"purpose\", \"purpose\", \"purpose\", \"purpose\", \"purpose\", \"push\", \"push\", \"push\", \"push\", \"push\", \"push\", \"push\", \"quite\", \"quite\", \"quite\", \"quite\", \"quite\", \"quite\", \"rail\", \"rail\", \"rail\", \"rail\", \"rail\", \"rail\", \"read\", \"read\", \"read\", \"read\", \"reason\", \"reason\", \"reason\", \"reason\", \"reason\", \"recently\", \"recently\", \"record\", \"record\", \"record\", \"record\", \"record\", \"ref\", \"ref\", \"regex\", \"regex\", \"regex\", \"regex\", \"regex\", \"regex\", \"registrynpmjsorg\", \"registrynpmjsorg\", \"registrynpmjsorg\", \"remove\", \"remove\", \"remove\", \"remove\", \"remove\", \"remove\", \"remove\", \"removed\", \"removed\", \"removed\", \"removed\", \"removed\", \"removed\", \"removed\", \"render\", \"render\", \"render\", \"rendering\", \"rendering\", \"rendering\", \"rendering\", \"rendering\", \"requirement\", \"requirement\", \"requirement\", \"requirement\", \"requirement\", \"requirement\", \"resource\", \"resource\", \"resource\", \"resource\", \"resource\", \"resource\", \"resource\", \"response\", \"response\", \"response\", \"response\", \"response\", \"response\", \"rest\", \"rest\", \"rest\", \"rest\", \"rest\", \"rest\", \"rest\", \"rest\", \"returned\", \"returned\", \"returned\", \"returned\", \"right\", \"right\", \"right\", \"role\", \"role\", \"role\", \"role\", \"role\", \"role\", \"role\", \"row\", \"row\", \"row\", \"row\", \"row\", \"row\", \"row\", \"ruby\", \"ruby\", \"ruby\", \"ruby\", \"ruby\", \"ruby\", \"save\", \"save\", \"save\", \"save\", \"say\", \"say\", \"say\", \"say\", \"schema\", \"schema\", \"schema\", \"schema\", \"schema\", \"schemasmicrosoftcom\", \"schemasmicrosoftcom\", \"schemasmicrosoftcom\", \"schemasmicrosoftcom\", \"schemasmicrosoftcom\", \"schemasmicrosoftcom\", \"schemasmicrosoftcom\", \"screen\", \"screen\", \"second\", \"second\", \"second\", \"seems\", \"seems\", \"seems\", \"seems\", \"seems\", \"seems\", \"seems\", \"seems\", \"seen\", \"seen\", \"seen\", \"seen\", \"seen\", \"seen\", \"seen\", \"select\", \"select\", \"select\", \"selected\", \"selected\", \"selected\", \"selected\", \"selected\", \"selected\", \"self\", \"self\", \"self\", \"self\", \"self\", \"self\", \"sender\", \"sender\", \"sender\", \"sender\", \"sender\", \"sequence\", \"sequence\", \"sequence\", \"sequence\", \"server\", \"server\", \"server\", \"server\", \"server\", \"server\", \"server\", \"service\", \"service\", \"service\", \"service\", \"session\", \"session\", \"session\", \"session\", \"shared\", \"shared\", \"shared\", \"shell\", \"shell\", \"shell\", \"shell\", \"shell\", \"shell\", \"shell\", \"since\", \"since\", \"since\", \"since\", \"since\", \"since\", \"since\", \"site\", \"site\", \"site\", \"site\", \"site\", \"site\", \"site\", \"small\", \"small\", \"socket\", \"socket\", \"software\", \"software\", \"software\", \"software\", \"something\", \"something\", \"something\", \"something\", \"something\", \"something\", \"something\", \"something\", \"sound\", \"sound\", \"sound\", \"sound\", \"sound\", \"sound\", \"sound\", \"source\", \"source\", \"source\", \"source\", \"source\", \"source\", \"source\", \"space\", \"space\", \"space\", \"specify\", \"specify\", \"specify\", \"specify\", \"speed\", \"speed\", \"speed\", \"speed\", \"spring\", \"spring\", \"spring\", \"spring\", \"spring\", \"starting\", \"starting\", \"starting\", \"starting\", \"starting\", \"starting\", \"starting\", \"state\", \"state\", \"state\", \"state\", \"state\", \"state\", \"static\", \"stop\", \"stop\", \"stop\", \"stop\", \"stop\", \"stop\", \"stored\", \"stored\", \"stored\", \"stored\", \"stored\", \"stored\", \"stored\", \"stream\", \"stream\", \"struct\", \"struct\", \"struct\", \"struct\", \"struct\", \"struct\", \"studio\", \"studio\", \"studio\", \"studio\", \"studio\", \"studio\", \"studio\", \"style\", \"style\", \"style\", \"successfully\", \"successfully\", \"successfully\", \"successfully\", \"successfully\", \"successfully\", \"sure\", \"sure\", \"syntax\", \"syntax\", \"syntax\", \"syntax\", \"syntax\", \"syntax\", \"syntax\", \"system\", \"system\", \"system\", \"system\", \"system\", \"tab\", \"tab\", \"tab\", \"tab\", \"tab\", \"tab\", \"tab\", \"tab\", \"tab\", \"table\", \"table\", \"table\", \"table\", \"table\", \"table\", \"table\", \"task\", \"template\", \"template\", \"template\", \"template\", \"template\", \"template\", \"term\", \"term\", \"term\", \"term\", \"term\", \"term\", \"term\", \"test\", \"test\", \"test\", \"test\", \"test\", \"test\", \"testing\", \"testing\", \"testing\", \"testing\", \"testing\", \"testing\", \"testing\", \"text\", \"text\", \"text\", \"textbox\", \"thread\", \"thread\", \"thread\", \"thread\", \"thread\", \"thread\", \"throw\", \"throw\", \"throw\", \"throw\", \"throw\", \"time\", \"time\", \"time\", \"time\", \"time\", \"time\", \"time\", \"title\", \"title\", \"title\", \"tmp\", \"tmp\", \"tmp\", \"tmp\", \"tmp\", \"tmp\", \"tmp\", \"tool\", \"tool\", \"tool\", \"tool\", \"tool\", \"tool\", \"tool\", \"tool\", \"tr\", \"tr\", \"transaction\", \"transaction\", \"transaction\", \"tree\", \"tree\", \"tree\", \"tree\", \"type\", \"type\", \"type\", \"type\", \"type\", \"type\", \"type\", \"typeof\", \"typeof\", \"typeof\", \"typeof\", \"typeof\", \"ui\", \"ui\", \"ui\", \"ui\", \"ui\", \"ui\", \"ul\", \"unfortunately\", \"unfortunately\", \"unfortunately\", \"unfortunately\", \"unfortunately\", \"updated\", \"updated\", \"updated\", \"updated\", \"uri\", \"uri\", \"uri\", \"url\", \"url\", \"url\", \"url\", \"url\", \"url\", \"use\", \"use\", \"use\", \"use\", \"use\", \"use\", \"use\", \"use\", \"user\", \"user\", \"user\", \"user\", \"user\", \"user\", \"user\", \"username\", \"username\", \"usr\", \"usr\", \"utf8\", \"utf8\", \"utf8\", \"valid\", \"valid\", \"valid\", \"valid\", \"valid\", \"valid\", \"validate\", \"validate\", \"validate\", \"validate\", \"varchar\", \"varchar\", \"varchar\", \"varchar\", \"varchar\", \"varchar\", \"varchar\", \"varchar\", \"variable\", \"variable\", \"variable\", \"variable\", \"variable\", \"variable\", \"variable\", \"various\", \"vc\", \"vc\", \"vc\", \"vc\", \"vc\", \"vc\", \"vc\", \"vc\", \"version\", \"version\", \"version\", \"via\", \"via\", \"via\", \"via\", \"via\", \"via\", \"via\", \"view\", \"view\", \"viewmodel\", \"viewmodel\", \"viewmodel\", \"viewmodel\", \"viewmodel\", \"viewmodel\", \"virtual\", \"virtual\", \"visual\", \"visual\", \"visual\", \"visual\", \"visual\", \"visual\", \"void\", \"void\", \"void\", \"void\", \"void\", \"wait\", \"wait\", \"wait\", \"wait\", \"wait\", \"wait\", \"wanted\", \"wanted\", \"wanted\", \"wanted\", \"wanted\", \"wanted\", \"wanted\", \"wcf\", \"wcf\", \"wcf\", \"wcf\", \"wcf\", \"wcf\", \"wcf\", \"wcf\", \"wcf\", \"web\", \"web\", \"webconfig\", \"webconfig\", \"webconfig\", \"webconfig\", \"webconfig\", \"webconfig\", \"webconfig\", \"whole\", \"whole\", \"widget\", \"widget\", \"width\", \"width\", \"width\", \"width\", \"width\", \"width\", \"width\", \"window\", \"window\", \"window\", \"window\", \"window\", \"wondering\", \"wondering\", \"wondering\", \"wondering\", \"wondering\", \"wondering\", \"wondering\", \"worker\", \"worker\", \"worker\", \"worker\", \"worker\", \"worker\", \"worker\", \"working\", \"working\", \"working\", \"working\", \"working\", \"working\", \"world\", \"world\", \"world\", \"world\", \"world\", \"world\", \"written\", \"written\", \"written\", \"wrong\", \"wrong\", \"xaml\", \"xaml\", \"xaml\", \"xaml\", \"xaml\", \"xaml\", \"xml\", \"xml\", \"xml\", \"xml\", \"xmlns\", \"xmlns\", \"xmlns\"]}, \"R\": 30, \"lambda.step\": 0.01, \"plot.opts\": {\"xlab\": \"PC1\", \"ylab\": \"PC2\"}, \"topic.order\": [7, 10, 8, 2, 4, 3, 1, 6, 9, 5]};\n",
       "\n",
       "function LDAvis_load_lib(url, callback){\n",
       "  var s = document.createElement('script');\n",
       "  s.src = url;\n",
       "  s.async = true;\n",
       "  s.onreadystatechange = s.onload = callback;\n",
       "  s.onerror = function(){console.warn(\"failed to load library \" + url);};\n",
       "  document.getElementsByTagName(\"head\")[0].appendChild(s);\n",
       "}\n",
       "\n",
       "if(typeof(LDAvis) !== \"undefined\"){\n",
       "   // already loaded: just create the visualization\n",
       "   !function(LDAvis){\n",
       "       new LDAvis(\"#\" + \"ldavis_el828427565830313682489544926\", ldavis_el828427565830313682489544926_data);\n",
       "   }(LDAvis);\n",
       "}else if(typeof define === \"function\" && define.amd){\n",
       "   // require.js is available: use it to load d3/LDAvis\n",
       "   require.config({paths: {d3: \"https://cdnjs.cloudflare.com/ajax/libs/d3/3.5.5/d3.min\"}});\n",
       "   require([\"d3\"], function(d3){\n",
       "      window.d3 = d3;\n",
       "      LDAvis_load_lib(\"https://cdn.rawgit.com/bmabey/pyLDAvis/files/ldavis.v1.0.0.js\", function(){\n",
       "        new LDAvis(\"#\" + \"ldavis_el828427565830313682489544926\", ldavis_el828427565830313682489544926_data);\n",
       "      });\n",
       "    });\n",
       "}else{\n",
       "    // require.js not available: dynamically load d3 & LDAvis\n",
       "    LDAvis_load_lib(\"https://cdnjs.cloudflare.com/ajax/libs/d3/3.5.5/d3.min.js\", function(){\n",
       "         LDAvis_load_lib(\"https://cdn.rawgit.com/bmabey/pyLDAvis/files/ldavis.v1.0.0.js\", function(){\n",
       "                 new LDAvis(\"#\" + \"ldavis_el828427565830313682489544926\", ldavis_el828427565830313682489544926_data);\n",
       "            })\n",
       "         });\n",
       "}\n",
       "</script>"
      ],
      "text/plain": [
       "PreparedData(topic_coordinates=               x          y  topics  cluster       Freq\n",
       "topic                                                  \n",
       "6     -96.589386  24.950237       1        1  24.103635\n",
       "9      88.614677  17.021690       2        1  15.568372\n",
       "7     -13.801842 -33.460793       3        1  15.040158\n",
       "1     -11.249109 -95.517563       4        1  11.728240\n",
       "3      31.267065  77.249123       5        1  10.922412\n",
       "2     -77.720375 -45.640770       6        1   8.958103\n",
       "0      26.660820  12.413454       7        1   6.185290\n",
       "5     -33.339455  24.555094       8        1   2.628912\n",
       "8      54.342808 -53.057274       9        1   2.596865\n",
       "4     -41.044472  87.354141      10        1   2.268014, topic_info=    Category        Freq       Term       Total  loglift  logprob\n",
       "830  Default  673.000000      speed  673.000000  30.0000  30.0000\n",
       "225  Default  594.000000   database  594.000000  29.0000  29.0000\n",
       "871  Default  702.000000        tab  702.000000  28.0000  28.0000\n",
       "373  Default  542.000000     format  542.000000  27.0000  27.0000\n",
       "783  Default  661.000000     server  661.000000  26.0000  26.0000\n",
       "..       ...         ...        ...         ...      ...      ...\n",
       "230  Topic10    0.380729       deal   54.193637  -1.1720  -8.9804\n",
       "700  Topic10    0.380807      quite   56.472386  -1.2129  -8.9802\n",
       "882  Topic10    0.388704       test  117.604733  -1.9260  -8.9597\n",
       "249  Topic10    0.382514     detail   82.673702  -1.5896  -8.9757\n",
       "185  Topic10    0.381164  condition   78.491468  -1.5413  -8.9792\n",
       "\n",
       "[506 rows x 6 columns], token_table=      Topic      Freq   Term\n",
       "term                        \n",
       "7         1  0.439909     18\n",
       "7         2  0.135357     18\n",
       "7         3  0.033839     18\n",
       "7         4  0.304552     18\n",
       "7         7  0.033839     18\n",
       "...     ...       ...    ...\n",
       "995       4  0.085987    xml\n",
       "995       7  0.737035    xml\n",
       "996       1  0.064618  xmlns\n",
       "996       3  0.096927  xmlns\n",
       "996       4  0.807728  xmlns\n",
       "\n",
       "[1936 rows x 3 columns], R=30, lambda_step=0.01, plot_opts={'xlab': 'PC1', 'ylab': 'PC2'}, topic_order=[7, 10, 8, 2, 4, 3, 1, 6, 9, 5])"
      ]
     },
     "execution_count": 24,
     "metadata": {},
     "output_type": "execute_result"
    }
   ],
   "source": [
    "pyLDAvis.enable_notebook()\n",
    "panel = pyLDAvis.sklearn.prepare(lda_model, X_tfidf_train, tfidf_vectorizer, mds='tsne')\n",
    "panel"
   ]
  },
  {
   "cell_type": "markdown",
   "metadata": {},
   "source": [
    "#### 1.3.2 Negative Matrix Factorisation (NMF) - train dataset"
   ]
  },
  {
   "cell_type": "code",
   "execution_count": 25,
   "metadata": {},
   "outputs": [
    {
     "name": "stdout",
     "output_type": "stream",
     "text": [
      "Topics found via NMF:\n",
      "\n",
      "Topic #0:\n",
      "window application use code way one time java net app\n",
      "\n",
      "Topic #1:\n",
      "function var return value array javascript call foo code error\n",
      "\n",
      "Topic #2:\n",
      "table sql query column database select row data value server\n",
      "\n",
      "Topic #3:\n",
      "image page text html script javascript cs button jquery content\n",
      "\n",
      "Topic #4:\n",
      "file directory path line folder script xml command source error\n",
      "\n",
      "Topic #5:\n",
      "class public object method new property void type int private\n",
      "\n",
      "Topic #6:\n",
      "string list value character new array name return public convert\n",
      "\n",
      "Topic #7:\n",
      "service server web request aspnet error http client user application\n",
      "\n",
      "Topic #8:\n",
      "test unit run testing mock running code build fail output\n",
      "\n",
      "Topic #9:\n",
      "visual studio project build 2008 2010 assembly solution version error\n",
      "\n"
     ]
    }
   ],
   "source": [
    "n_topics = 10\n",
    "n_top_words = 10\n",
    "\n",
    "\n",
    "def print_top_words(model, feature_names, n_top_words):\n",
    "    for topic_idx, topic in enumerate(model.components_):\n",
    "        print(\"\\nTopic #%d:\" % topic_idx)\n",
    "        print(\" \".join([feature_names[i]\n",
    "                        for i in topic.argsort()[:-n_top_words - 1:-1]]))\n",
    "    print()\n",
    "\n",
    "\n",
    "nmf = NMF(n_components = n_topics, random_state = 0, alpha = 0.1, l1_ratio = 0.5).fit(X_tfidf_train)\n",
    "\n",
    "print(\"Topics found via NMF:\")\n",
    "print_top_words(nmf, tfidf_feature_names, n_top_words)"
   ]
  },
  {
   "cell_type": "markdown",
   "metadata": {},
   "source": [
    "### 1.4 Méthode 2: Approche purement supervisée"
   ]
  },
  {
   "cell_type": "code",
   "execution_count": 26,
   "metadata": {
    "scrolled": true
   },
   "outputs": [],
   "source": [
    "def train_classifier(X_train, y_train, X_valid=None, y_valid=None, C=1.0, model='lr'):\n",
    "    \"\"\"\n",
    "      X_train, y_train — training data\n",
    "      \n",
    "      return: trained classifier\n",
    "      \n",
    "    \"\"\"\n",
    "    \n",
    "    if model=='lr':\n",
    "        model = LogisticRegression(C=C, penalty='l1', dual=False, solver='liblinear')\n",
    "        model = OneVsRestClassifier(model)\n",
    "        model.fit(X_train, y_train)\n",
    "    \n",
    "    elif model=='svm':\n",
    "        model = LinearSVC(C=C, penalty='l1', dual=False, loss='squared_hinge')\n",
    "        model = OneVsRestClassifier(model)\n",
    "        model.fit(X_train, y_train)\n",
    "    \n",
    "    elif model=='nbayes':\n",
    "        model = MultinomialNB(alpha=1)\n",
    "        model = OneVsRestClassifier(model)\n",
    "        model.fit(X_train, y_train)\n",
    "        \n",
    "    elif model=='mlp':\n",
    "        model = MLPClassifier()\n",
    "        model = OneVsRestClassifier(model)\n",
    "        model.fit(X_train, y_train)\n",
    "\n",
    "    return model\n"
   ]
  },
  {
   "cell_type": "markdown",
   "metadata": {},
   "source": [
    "#### 1.4.1 Réression logistique"
   ]
  },
  {
   "cell_type": "code",
   "execution_count": 27,
   "metadata": {},
   "outputs": [
    {
     "name": "stdout",
     "output_type": "stream",
     "text": [
      "Wall time: 27.2 s\n"
     ]
    }
   ],
   "source": [
    "%time classifier_tfidf = train_classifier(X_tfidf_train, y_train, C=1.5, model='lr')"
   ]
  },
  {
   "cell_type": "code",
   "execution_count": 28,
   "metadata": {},
   "outputs": [],
   "source": [
    "y_test_predicted_labels_tfidf = classifier_tfidf.predict(X_tfidf_test)"
   ]
  },
  {
   "cell_type": "code",
   "execution_count": 29,
   "metadata": {
    "scrolled": true
   },
   "outputs": [
    {
     "name": "stdout",
     "output_type": "stream",
     "text": [
      "Title:\t['assembly', 'add', 'reference', 'dialog', 'differ', 'depending', 'net', 'framework', 'used', 'curious', 'listing', 'assembly', 'add', 'reference', 'dialog', 'vary', 'depending', 'version', 'net', 'framework', 'used', 'selected', 'project', 'differ', 'love', 'difference', 'lie', 'thanks']\n",
      "True labels:\t.net,c#,visual-studio\n",
      "Predicted labels:\t\n",
      "\n",
      "\n",
      "Title:\t['check', 'socket', 'still', 'open', 'c++', 'app', 'us', 'standard', 'socket', 'call', 'want', 'tell', 'socket', 'still', 'open', 'without', 'sending', 'receiving', 'data', 'reliable', 'select', 'ioctlsocket', 'call', 'make']\n",
      "True labels:\tc++\n",
      "Predicted labels:\t\n",
      "\n",
      "\n",
      "Title:\t['array', 'case', '5', '5', 'joel', 'point', 'stack', 'overflow', 'podcast', '#', '34', 'c', 'programming', 'language', 'aka', 'k', 'r', 'mention', 'property', 'array', 'c', '5', '5', 'joel', 'say', 'pointer', 'arithmetic', 'still', 'understand', '5', '5']\n",
      "True labels:\tarrays\n",
      "Predicted labels:\t\n",
      "\n",
      "\n",
      "Title:\t['class', 'net', 'application', 'internal', 'note', 'application', 'opposed', 'library', 'wpf', 'application', 'broken', 'main', 'application', 'project', 'associated', 'class', 'library', 'circumstance', 'class', 'main', 'application', 'public', 'opposed', 'internal', 'example', 'data', 'binding', 'wpf', 'value', 'converter', 'public', 'xaml', 'assembly']\n",
      "True labels:\t.net\n",
      "Predicted labels:\t\n",
      "\n",
      "\n",
      "Title:\t['best', 'approach', 'sql', 'server', 'query', 'distinct', 'two', 'table', 'tablea', 'tableb', 'joined', 'tableatablea_id', '1n', 'tablebtablea_id', 'simple', 'pkfk', 'extract', 'distinct', 'tablea', 'record', 'given', 'certain', 'condition', 'tableb', '1st', 'approach', 'select', 'tablea', 'inner', 'join', 'tableb', 'b', 'aida', 'bida', 'bdate', '20090110', 'order', 'aid', 'nice', 'give', 'distinct', 'record', 'record', 'table', 'b', 'may', 'duplicate', 'hence', 'get', 'record', 'decided', 'perform', 'subselect', 'performance', 'issue', 'given', 'subselect', 'probably', 'end', '20', '30', 'record', 'max', 'select', 'tablea', 'tableaid', 'select', 'distinct', 'ida', 'tableb', 'date', '20090110', 'order', 'tableaida', 'question', 'use', 'inner', 'join', 'still', 'get', 'distinct', 'value', 'possible', 'one', 'pas', 'nested', 'query', 'must', 'missing']\n",
      "True labels:\tsql,sql-server,tsql\n",
      "Predicted labels:\tjavascript\n",
      "\n",
      "\n",
      "Title:\t['inject', 'text', 'resource', 'prebuilt', 'native', 'exe', 'native', 'exe', 'namely', 'setupexe', 'type', 'file', 'inject', 'text', 'resource', 'eg', 'serverx123456', 'purpose', 'upon', 'running', 'exe', 'read', 'text', 'resource', 'act', 'accordingly', 'way', 'c', '#', 'code', 'note', 'similar', 'question', 'focused', 'injecting', 'skin', 'wpf', 'app']\n",
      "True labels:\tc#\n",
      "Predicted labels:\tpython\n",
      "\n",
      "\n",
      "Title:\t['consideration', 'store', 'document', 'file', 'server', 'db', 'design', 'decision', 'make', 'regarding', 'document', 'uploaded', 'web', 'site', 'either', 'store', 'file', 'server', 'somewhere', 'store', 'blob', 'database', 'mssql', '2005', 'make', 'difference', 'design', 'decision', 'document', 'confidential', 'must', 'certain', 'degree', 'protection', 'consideration', 'thought', 'storing', 'file', 'server', 'make', 'huuuuuuuge', 'number', 'file', 'dumped', 'single', 'directory', 'therefore', 'slower', 'access', 'unless', 'reasonable', 'semantic', 'definition', 'directory', 'tree', 'structure', 'otoh', 'guessing', 'file', 'server', 'handle', 'compression', 'somewhat', 'better', 'db', 'wrong', 'instinct', 'tell', 'db', 'security', 'stronger', 'file', 'server', 'sure', 'necessarily', 'true', 'terabyte', 'blob', 'db', 'affect', 'performance', 'much', 'appreciate', 'recommendation', 'thanks']\n",
      "True labels:\tsql-server\n",
      "Predicted labels:\t\n",
      "\n",
      "\n",
      "Title:\t['programmatically', 'click', 'checkbox', 'way', 'programmatically', 'generate', 'click', 'event', 'checkbox', 'looking', 'equivalent', 'buttonperformclick']\n",
      "True labels:\t.net,c#,winforms\n",
      "Predicted labels:\t\n",
      "\n",
      "\n",
      "Title:\t['v', '2008', 'window', 'form', 'make', 'view', 'code', 'default', 'usercontrols', 'usercontrols', 'designed', 'window', 'form', 'designer', 'v', '2008', 'pretty', 'much', 'useless', 'take', 'time', 'designer', 'throw', 'exception', 'accidentally', 'doubleclicking', 'usercontrol', 'solution', 'explorer', 'way', 'make', 'designer', 'open', 'c', '#', 'code', 'view', 'doubleclicking', 'usercontrol', 'file']\n",
      "True labels:\tvisual-studio,winforms\n",
      "Predicted labels:\tvisual-studio-2008,winforms\n",
      "\n",
      "\n",
      "Title:\t['run', 'different', 'framework', 'sidebyside', 'owin', 'impression', 'one', 'big', 'benefit', 'owin', 'make', 'easy', 'run', 'different', 'web', 'framework', 'sidebyside', 'without', 'ii', 'ihttphandler', 'huge', 'distributing', 'vertical', 'functionality', 'slice', 'nuget', 'feature', 'however', 'every', 'tutorial', 'article', 'find', 'talk', 'thing', 'selfhost', 'single', 'framework', 'interested', 'interested', 'running', 'mvc', 'nancy', 'web', 'api', 'maybe', 'even', 'webforms', 'application', 'wrong', 'owin', 'enabling', 'want', 'mvc', 'handle', 'request', 'webforms', 'handle', 'request', 'versionlegacy', 'header', 'nancy', 'handle', 'request', 'nancy', 'configure', 'startup', 'class', 'enable']\n",
      "True labels:\t.net\n",
      "Predicted labels:\t\n",
      "\n",
      "\n",
      "Title:\t['different', 'setting', 'pc', 'application', 'ran', 'creating', 'cash', 'register', 'program', 'distributed', 'via', 'clickonce', 'believe', 'right', 'term', 'v', 'builtin', 'packaging', 'pc', 'run', 'software', 'different', 'setting', 'thing', 'credit', 'card', 'processing', 'store', 'setting', 'overwritten', 'every', 'time', 'update', 'unique', 'based', 'pc', 'installed']\n",
      "True labels:\tc#,winforms\n",
      "Predicted labels:\t\n",
      "\n",
      "\n",
      "Title:\t['forcing', 'mfc', 'app', 'run', 'administrator', 'vista', 'mfc', 'app', 'built', 'visual', 'studio', '2008', 'need', 'run', 'w2k', 'xp', '2003', 'vista', 'application', 'writes', 'hklm', 'registry', 'vista', 'run', 'administrator', 'question', 'force', 'app', 'run', 'adminstrator', 'automatically', 'involve', 'creating', 'manifest', 'file', 'moment', 'following', 'stdafxh', 'guess', 'creates', 'manifest', 'file', 'fly', '#', 'pragma', 'comment', 'linker', 'manifestdependency', 'typewin32', 'namemicrosoftwindowscommoncontrols', 'version', '6000', 'processorarchitecturex86', 'publickeytoken6595b64144ccf1df', 'language', 'modify', 'line', 'force', 'elevation', 'something', 'vc', 'project', 'manifest', 'setting', 'thanks', 'advance']\n",
      "True labels:\tc++\n",
      "Predicted labels:\t\n",
      "\n",
      "\n",
      "Title:\t['java', 'applet', 'standalone', 'window', 'application', 'java', 'applet', 'meant', 'run', 'window', 'us', '3rd', 'party', 'com', 'object', 'crossplatform', 'way', 'run', 'java', 'applet', 'standalone', 'application', 'window']\n",
      "True labels:\tjava\n",
      "Predicted labels:\tc#,winforms\n",
      "\n",
      "\n",
      "Title:\t['uiview', 'animation', 'working', 'addsubview', 'ipad', 'app', 'displaying', 'note', 'subclassed', 'uilabel', 'text', 'order', 'navigate', 'next', 'note', 'slide', 'screen', 'left', 'next', 'one', 'slide', 'right', 'get', 'either', 'animation', 'time', 'code', 'controller', 'void', 'slideoutleft', 'create', 'new', 'note', 'flslidingnote', 'newnote', 'flslidingnote', 'alloc', 'init', 'newnotetext', 'blah', 'blah', 'cgrect', 'newframe', 'cgrectmake', '1000', '70', '637', '297', 'right', 'newnoteframe', 'newframe', 'selfview', 'addsubview', 'newnote', 'slide', 'current', 'one', 'cgrect', 'currentframeend', 'notelabelframe', 'notelabel', 'existing', 'note', 'currentframeendoriginx', '0', 'notelabelframesizewidth', 'left', 'uiview', 'animatewithduration10', 'animation', 'notelabelframe', 'currentframeend', 'completion', 'nil', 'notelabel', 'animate', 'comment', 'addsubview', 'newnote', 'part', 'still', 'relatively', 'new', 'probably', 'something', 'simple', 'problem', 'happens', 'whether', 'newnote', 'animated', 'animated', 'code', 'snippet']\n",
      "True labels:\tcocoa-touch,objective-c\n",
      "Predicted labels:\t\n",
      "\n",
      "\n",
      "Title:\t['aspnet', 'mvc', 'route', 'value', 'controller', 'trailing', 'slash', 'probably', 'simple', 'question', 'ca', 'get', 'route', 'specified', 'routeconfig', 'routesmaproute', 'name', 'defaultsiteroute', 'url', 'accountid', 'hostname', 'controller', 'action', 'default', 'new', 'controller', 'home', 'action', 'index', 'urlparameteroptional', 'accountid', 'urlparameteroptional', 'hostname', 'urlparameteroptional', 'url', '123456', 'wwwtestcom', '123456', 'wwwtestcom', 'controller', 'action', 'ca', 'cope', '123456', 'wwwtestcom', 'get', 'ii', '404', 'stranger', 'call', 'urlaction', 'route', 'default', 'controller', 'action', 'ie', 'home', 'index', 'creates', 'url', 'without', 'trailing', 'slash', 'recognise', 'really', 'without', 'trailing', 'slash']\n",
      "True labels:\tasp.net-mvc\n",
      "Predicted labels:\t\n",
      "\n",
      "\n",
      "Title:\t['select', 'max', 'int', 'varchar', 'column', 'trying', 'retrieve', 'largest', 'number', 'varchar', 'column', 'includes', 'number', 'string', 'example', 'data', 'working', 'boxnumber', '123', 'a5', '789', 'b1', 'return', 'largest', 'number', '789', 'case', 'column', 'ignoring', 'nonnumeric', 'value', 'a5', 'b1', 'found', 'solution', 'use', 'custom', 'function', 'solve', 'problem', 'something', 'executed', 'adhoc', 'query', 'without', 'relying', 'custom', 'function', 'procs']\n",
      "True labels:\tsql-server,tsql\n",
      "Predicted labels:\t\n",
      "\n",
      "\n",
      "Title:\t['partcover', '23', 'net', '40', 'runtime', 'successfully', 'partcover', '23', 'working', 'v', '2008', '64bit', 'machine', 'trying', 'get', 'v', '2010', 'nunit', '253', 'nunit', 'correct', 'clr', 'version', 'ca', 'get', 'partcover', 'produce', 'output', 'get', 'empty', 'report', 'xml', 'file', 'partcoverreport', 'date', '20100330t1609051009099+0100', 'get', 'partcover', '23', '22', 'guess', 'nunit', '253', 'net', '40']\n",
      "True labels:\t.net\n",
      "Predicted labels:\t\n",
      "\n",
      "\n",
      "Title:\t['take', 'photo', 'email', 'user', 'take', 'photo', 'open', 'email', 'dialog', 'photo', 'attached', 'far', 'private', 'void', 'btnsubmitphoto_click', 'object', 'sender', 'eventargs', 'e', 'cameracapturetask', 'cameracapturetask', 'new', 'cameracapturetask', 'cameracapturetaskcompleted', '+', 'cameracapturetask_completed', 'cameracapturetaskshow', 'private', 'void', 'cameracapturetask_completed', 'object', 'sender', 'photoresult', 'e', 'etaskresult', 'taskresultok', 'currentimage', 'new', 'bitmapimage', 'currentimagesetsource', 'echosenphoto', 'emailcomposetask', 'ect', 'new', 'emailcomposetask', 'see', 'add', 'attachment', 'emailcomposetask', 'missing', 'something']\n",
      "True labels:\tc#,email\n",
      "Predicted labels:\t\n",
      "\n",
      "\n",
      "Title:\t['force', 'com', 'object', 'use', 'dllsurrogate', 'see', 'question', 'question', 'turn', 'load', 'com', 'class', 'surrogate', 'process', 'must', 'specify', 'clsctx_inproc', 'flag', 'calling', 'cocreateinstance', 'allow', 'host', 'use', 'clsctx_all', 'allow', 'individual', 'com', 'class', 'opt', 'dllhost', 'reason', 'ask', 'locate', 'com', 'class', 'component', 'category', 'pas', 'clsctx_all', 'creating', 'inproc', 'able', 'outofproc']\n",
      "True labels:\tcom\n",
      "Predicted labels:\tcom,ruby-on-rails\n",
      "\n",
      "\n",
      "Title:\t['visual', 'gui', 'designer', 'apache', 'pivot', 'learned', 'apache', 'pivot', 'existence', 'question', 'java', 'gui', 'framework', 'choose', 'swing', 'swt', 'awt', 'swingx', 'jgoodies', 'javafx', 'apache', 'pivot', 'seems', 'good', 'fit', 'current', 'project', 'involves', 'letting', 'user', 'create', 'gui', 'dynamically', 'however', 'also', 'deliver', 'visual', 'gui', 'designer', 'whatever', 'technology', 'choose', 'already', 'designer', 'pivot', 'googling', 'seems', 'suggest', 'asking', 'case', 'missed', 'one']\n",
      "True labels:\tjava\n",
      "Predicted labels:\t\n",
      "\n",
      "\n"
     ]
    }
   ],
   "source": [
    "y_test_pred_inversed = mlb.inverse_transform(y_test_predicted_labels_tfidf)\n",
    "y_test_inversed = mlb.inverse_transform(y_test)\n",
    "for i in range(20):\n",
    "    print('Title:\\t{}\\nTrue labels:\\t{}\\nPredicted labels:\\t{}\\n\\n'.format(\n",
    "        X_test.iloc[i],\n",
    "        ','.join(y_test_inversed[i]),\n",
    "        ','.join(y_test_pred_inversed[i])\n",
    "    ))"
   ]
  },
  {
   "cell_type": "code",
   "execution_count": 30,
   "metadata": {},
   "outputs": [
    {
     "name": "stdout",
     "output_type": "stream",
     "text": [
      "Tfidf\n",
      "<function accuracy_score at 0x00000281C4BE1B88> 0.023831228024482353\n",
      "functools.partial(<function f1_score at 0x00000281C4BE7048>, average='weighted') 0.0646448370159206\n"
     ]
    },
    {
     "name": "stderr",
     "output_type": "stream",
     "text": [
      "C:\\Users\\alice\\Anaconda3\\lib\\site-packages\\sklearn\\metrics\\classification.py:1437: UndefinedMetricWarning: F-score is ill-defined and being set to 0.0 in labels with no predicted samples.\n",
      "  'precision', 'predicted', average, warn_for)\n"
     ]
    }
   ],
   "source": [
    "def print_evaluation_scores(y_val, predicted):\n",
    "    f1_score_weighted = partial(f1_score,average=\"weighted\")\n",
    "    scores = [accuracy_score, f1_score_weighted]\n",
    "    for score in scores:\n",
    "        print(score,score(y_val,predicted))\n",
    "\n",
    "print('Tfidf')\n",
    "print_evaluation_scores(y_test, y_test_predicted_labels_tfidf)"
   ]
  },
  {
   "cell_type": "code",
   "execution_count": 31,
   "metadata": {},
   "outputs": [
    {
     "name": "stderr",
     "output_type": "stream",
     "text": [
      "C:\\Users\\alice\\Anaconda3\\lib\\site-packages\\sklearn\\metrics\\classification.py:1437: UndefinedMetricWarning: F-score is ill-defined and being set to 0.0 in labels with no predicted samples.\n",
      "  'precision', 'predicted', average, warn_for)\n",
      "C:\\Users\\alice\\Anaconda3\\lib\\site-packages\\sklearn\\metrics\\classification.py:1437: UndefinedMetricWarning: F-score is ill-defined and being set to 0.0 in labels with no predicted samples.\n",
      "  'precision', 'predicted', average, warn_for)\n",
      "C:\\Users\\alice\\Anaconda3\\lib\\site-packages\\sklearn\\metrics\\classification.py:1437: UndefinedMetricWarning: F-score is ill-defined and being set to 0.0 in labels with no predicted samples.\n",
      "  'precision', 'predicted', average, warn_for)\n",
      "C:\\Users\\alice\\Anaconda3\\lib\\site-packages\\sklearn\\metrics\\classification.py:1437: UndefinedMetricWarning: F-score is ill-defined and being set to 0.0 in labels with no predicted samples.\n",
      "  'precision', 'predicted', average, warn_for)\n",
      "C:\\Users\\alice\\Anaconda3\\lib\\site-packages\\sklearn\\metrics\\classification.py:1437: UndefinedMetricWarning: F-score is ill-defined and being set to 0.0 in labels with no predicted samples.\n",
      "  'precision', 'predicted', average, warn_for)\n",
      "C:\\Users\\alice\\Anaconda3\\lib\\site-packages\\sklearn\\metrics\\classification.py:1437: UndefinedMetricWarning: F-score is ill-defined and being set to 0.0 in labels with no predicted samples.\n",
      "  'precision', 'predicted', average, warn_for)\n",
      "C:\\Users\\alice\\Anaconda3\\lib\\site-packages\\sklearn\\metrics\\classification.py:1437: UndefinedMetricWarning: F-score is ill-defined and being set to 0.0 in labels with no predicted samples.\n",
      "  'precision', 'predicted', average, warn_for)\n",
      "C:\\Users\\alice\\Anaconda3\\lib\\site-packages\\sklearn\\metrics\\classification.py:1437: UndefinedMetricWarning: F-score is ill-defined and being set to 0.0 in labels with no predicted samples.\n",
      "  'precision', 'predicted', average, warn_for)\n",
      "C:\\Users\\alice\\Anaconda3\\lib\\site-packages\\sklearn\\metrics\\classification.py:1437: UndefinedMetricWarning: F-score is ill-defined and being set to 0.0 in labels with no predicted samples.\n",
      "  'precision', 'predicted', average, warn_for)\n",
      "C:\\Users\\alice\\Anaconda3\\lib\\site-packages\\sklearn\\metrics\\classification.py:1437: UndefinedMetricWarning: F-score is ill-defined and being set to 0.0 in labels with no predicted samples.\n",
      "  'precision', 'predicted', average, warn_for)\n",
      "C:\\Users\\alice\\Anaconda3\\lib\\site-packages\\sklearn\\metrics\\classification.py:1437: UndefinedMetricWarning: F-score is ill-defined and being set to 0.0 in labels with no predicted samples.\n",
      "  'precision', 'predicted', average, warn_for)\n",
      "C:\\Users\\alice\\Anaconda3\\lib\\site-packages\\sklearn\\metrics\\classification.py:1437: UndefinedMetricWarning: F-score is ill-defined and being set to 0.0 in labels with no predicted samples.\n",
      "  'precision', 'predicted', average, warn_for)\n",
      "C:\\Users\\alice\\Anaconda3\\lib\\site-packages\\sklearn\\metrics\\classification.py:1437: UndefinedMetricWarning: F-score is ill-defined and being set to 0.0 in labels with no predicted samples.\n",
      "  'precision', 'predicted', average, warn_for)\n",
      "C:\\Users\\alice\\Anaconda3\\lib\\site-packages\\sklearn\\metrics\\classification.py:1437: UndefinedMetricWarning: F-score is ill-defined and being set to 0.0 in labels with no predicted samples.\n",
      "  'precision', 'predicted', average, warn_for)\n",
      "C:\\Users\\alice\\Anaconda3\\lib\\site-packages\\sklearn\\metrics\\classification.py:1437: UndefinedMetricWarning: F-score is ill-defined and being set to 0.0 in labels with no predicted samples.\n",
      "  'precision', 'predicted', average, warn_for)\n",
      "C:\\Users\\alice\\Anaconda3\\lib\\site-packages\\sklearn\\metrics\\classification.py:1437: UndefinedMetricWarning: F-score is ill-defined and being set to 0.0 in labels with no predicted samples.\n",
      "  'precision', 'predicted', average, warn_for)\n",
      "C:\\Users\\alice\\Anaconda3\\lib\\site-packages\\sklearn\\metrics\\classification.py:1437: UndefinedMetricWarning: F-score is ill-defined and being set to 0.0 in labels with no predicted samples.\n",
      "  'precision', 'predicted', average, warn_for)\n",
      "C:\\Users\\alice\\Anaconda3\\lib\\site-packages\\sklearn\\metrics\\classification.py:1437: UndefinedMetricWarning: F-score is ill-defined and being set to 0.0 in labels with no predicted samples.\n",
      "  'precision', 'predicted', average, warn_for)\n",
      "C:\\Users\\alice\\Anaconda3\\lib\\site-packages\\sklearn\\metrics\\classification.py:1437: UndefinedMetricWarning: F-score is ill-defined and being set to 0.0 in labels with no predicted samples.\n",
      "  'precision', 'predicted', average, warn_for)\n"
     ]
    },
    {
     "data": {
      "image/png": "[encoded data removed]",
      "text/plain": [
       "<Figure size 504x360 with 1 Axes>"
      ]
     },
     "metadata": {
      "needs_background": "light"
     },
     "output_type": "display_data"
    }
   ],
   "source": [
    "hypers = np.arange(0.1, 2, 0.1) #Différentes valeurs de C\n",
    "res = []\n",
    "\n",
    "for h in hypers:\n",
    "    temp_model = train_classifier(X_tfidf_train, y_train, C=h, model='lr')\n",
    "    temp_pred = f1_score(y_test, temp_model.predict(X_tfidf_test), average='weighted')\n",
    "    res.append(temp_pred)\n",
    "\n",
    "plt.figure(figsize=(7,5))\n",
    "plt.plot(hypers, res, color='blue', marker='o')\n",
    "plt.grid(True)\n",
    "plt.xlabel('Parameter $C$')\n",
    "plt.ylabel('Weighted F1 score')\n",
    "plt.show()"
   ]
  },
  {
   "cell_type": "markdown",
   "metadata": {},
   "source": [
    "#### 1.4.2 SVM"
   ]
  },
  {
   "cell_type": "code",
   "execution_count": 32,
   "metadata": {},
   "outputs": [
    {
     "name": "stdout",
     "output_type": "stream",
     "text": [
      "Wall time: 2min 3s\n"
     ]
    }
   ],
   "source": [
    "%time classifier_tfidf = train_classifier(X_tfidf_train, y_train, C=1.0, model='svm')"
   ]
  },
  {
   "cell_type": "code",
   "execution_count": 33,
   "metadata": {},
   "outputs": [],
   "source": [
    "y_test_predicted_labels_tfidf = classifier_tfidf.predict(X_tfidf_test)"
   ]
  },
  {
   "cell_type": "code",
   "execution_count": 34,
   "metadata": {
    "scrolled": true
   },
   "outputs": [
    {
     "name": "stdout",
     "output_type": "stream",
     "text": [
      "Title:\t['assembly', 'add', 'reference', 'dialog', 'differ', 'depending', 'net', 'framework', 'used', 'curious', 'listing', 'assembly', 'add', 'reference', 'dialog', 'vary', 'depending', 'version', 'net', 'framework', 'used', 'selected', 'project', 'differ', 'love', 'difference', 'lie', 'thanks']\n",
      "True labels:\t.net,c#,visual-studio\n",
      "Predicted labels:\t\n",
      "\n",
      "\n",
      "Title:\t['check', 'socket', 'still', 'open', 'c++', 'app', 'us', 'standard', 'socket', 'call', 'want', 'tell', 'socket', 'still', 'open', 'without', 'sending', 'receiving', 'data', 'reliable', 'select', 'ioctlsocket', 'call', 'make']\n",
      "True labels:\tc++\n",
      "Predicted labels:\t\n",
      "\n",
      "\n",
      "Title:\t['array', 'case', '5', '5', 'joel', 'point', 'stack', 'overflow', 'podcast', '#', '34', 'c', 'programming', 'language', 'aka', 'k', 'r', 'mention', 'property', 'array', 'c', '5', '5', 'joel', 'say', 'pointer', 'arithmetic', 'still', 'understand', '5', '5']\n",
      "True labels:\tarrays\n",
      "Predicted labels:\t\n",
      "\n",
      "\n",
      "Title:\t['class', 'net', 'application', 'internal', 'note', 'application', 'opposed', 'library', 'wpf', 'application', 'broken', 'main', 'application', 'project', 'associated', 'class', 'library', 'circumstance', 'class', 'main', 'application', 'public', 'opposed', 'internal', 'example', 'data', 'binding', 'wpf', 'value', 'converter', 'public', 'xaml', 'assembly']\n",
      "True labels:\t.net\n",
      "Predicted labels:\tmacos\n",
      "\n",
      "\n",
      "Title:\t['best', 'approach', 'sql', 'server', 'query', 'distinct', 'two', 'table', 'tablea', 'tableb', 'joined', 'tableatablea_id', '1n', 'tablebtablea_id', 'simple', 'pkfk', 'extract', 'distinct', 'tablea', 'record', 'given', 'certain', 'condition', 'tableb', '1st', 'approach', 'select', 'tablea', 'inner', 'join', 'tableb', 'b', 'aida', 'bida', 'bdate', '20090110', 'order', 'aid', 'nice', 'give', 'distinct', 'record', 'record', 'table', 'b', 'may', 'duplicate', 'hence', 'get', 'record', 'decided', 'perform', 'subselect', 'performance', 'issue', 'given', 'subselect', 'probably', 'end', '20', '30', 'record', 'max', 'select', 'tablea', 'tableaid', 'select', 'distinct', 'ida', 'tableb', 'date', '20090110', 'order', 'tableaida', 'question', 'use', 'inner', 'join', 'still', 'get', 'distinct', 'value', 'possible', 'one', 'pas', 'nested', 'query', 'must', 'missing']\n",
      "True labels:\tsql,sql-server,tsql\n",
      "Predicted labels:\tjavascript\n",
      "\n",
      "\n",
      "Title:\t['inject', 'text', 'resource', 'prebuilt', 'native', 'exe', 'native', 'exe', 'namely', 'setupexe', 'type', 'file', 'inject', 'text', 'resource', 'eg', 'serverx123456', 'purpose', 'upon', 'running', 'exe', 'read', 'text', 'resource', 'act', 'accordingly', 'way', 'c', '#', 'code', 'note', 'similar', 'question', 'focused', 'injecting', 'skin', 'wpf', 'app']\n",
      "True labels:\tc#\n",
      "Predicted labels:\tpython\n",
      "\n",
      "\n",
      "Title:\t['consideration', 'store', 'document', 'file', 'server', 'db', 'design', 'decision', 'make', 'regarding', 'document', 'uploaded', 'web', 'site', 'either', 'store', 'file', 'server', 'somewhere', 'store', 'blob', 'database', 'mssql', '2005', 'make', 'difference', 'design', 'decision', 'document', 'confidential', 'must', 'certain', 'degree', 'protection', 'consideration', 'thought', 'storing', 'file', 'server', 'make', 'huuuuuuuge', 'number', 'file', 'dumped', 'single', 'directory', 'therefore', 'slower', 'access', 'unless', 'reasonable', 'semantic', 'definition', 'directory', 'tree', 'structure', 'otoh', 'guessing', 'file', 'server', 'handle', 'compression', 'somewhat', 'better', 'db', 'wrong', 'instinct', 'tell', 'db', 'security', 'stronger', 'file', 'server', 'sure', 'necessarily', 'true', 'terabyte', 'blob', 'db', 'affect', 'performance', 'much', 'appreciate', 'recommendation', 'thanks']\n",
      "True labels:\tsql-server\n",
      "Predicted labels:\t\n",
      "\n",
      "\n",
      "Title:\t['programmatically', 'click', 'checkbox', 'way', 'programmatically', 'generate', 'click', 'event', 'checkbox', 'looking', 'equivalent', 'buttonperformclick']\n",
      "True labels:\t.net,c#,winforms\n",
      "Predicted labels:\t\n",
      "\n",
      "\n",
      "Title:\t['v', '2008', 'window', 'form', 'make', 'view', 'code', 'default', 'usercontrols', 'usercontrols', 'designed', 'window', 'form', 'designer', 'v', '2008', 'pretty', 'much', 'useless', 'take', 'time', 'designer', 'throw', 'exception', 'accidentally', 'doubleclicking', 'usercontrol', 'solution', 'explorer', 'way', 'make', 'designer', 'open', 'c', '#', 'code', 'view', 'doubleclicking', 'usercontrol', 'file']\n",
      "True labels:\tvisual-studio,winforms\n",
      "Predicted labels:\tvisual-studio-2008,winforms\n",
      "\n",
      "\n",
      "Title:\t['run', 'different', 'framework', 'sidebyside', 'owin', 'impression', 'one', 'big', 'benefit', 'owin', 'make', 'easy', 'run', 'different', 'web', 'framework', 'sidebyside', 'without', 'ii', 'ihttphandler', 'huge', 'distributing', 'vertical', 'functionality', 'slice', 'nuget', 'feature', 'however', 'every', 'tutorial', 'article', 'find', 'talk', 'thing', 'selfhost', 'single', 'framework', 'interested', 'interested', 'running', 'mvc', 'nancy', 'web', 'api', 'maybe', 'even', 'webforms', 'application', 'wrong', 'owin', 'enabling', 'want', 'mvc', 'handle', 'request', 'webforms', 'handle', 'request', 'versionlegacy', 'header', 'nancy', 'handle', 'request', 'nancy', 'configure', 'startup', 'class', 'enable']\n",
      "True labels:\t.net\n",
      "Predicted labels:\t\n",
      "\n",
      "\n",
      "Title:\t['different', 'setting', 'pc', 'application', 'ran', 'creating', 'cash', 'register', 'program', 'distributed', 'via', 'clickonce', 'believe', 'right', 'term', 'v', 'builtin', 'packaging', 'pc', 'run', 'software', 'different', 'setting', 'thing', 'credit', 'card', 'processing', 'store', 'setting', 'overwritten', 'every', 'time', 'update', 'unique', 'based', 'pc', 'installed']\n",
      "True labels:\tc#,winforms\n",
      "Predicted labels:\tunit-testing\n",
      "\n",
      "\n",
      "Title:\t['forcing', 'mfc', 'app', 'run', 'administrator', 'vista', 'mfc', 'app', 'built', 'visual', 'studio', '2008', 'need', 'run', 'w2k', 'xp', '2003', 'vista', 'application', 'writes', 'hklm', 'registry', 'vista', 'run', 'administrator', 'question', 'force', 'app', 'run', 'adminstrator', 'automatically', 'involve', 'creating', 'manifest', 'file', 'moment', 'following', 'stdafxh', 'guess', 'creates', 'manifest', 'file', 'fly', '#', 'pragma', 'comment', 'linker', 'manifestdependency', 'typewin32', 'namemicrosoftwindowscommoncontrols', 'version', '6000', 'processorarchitecturex86', 'publickeytoken6595b64144ccf1df', 'language', 'modify', 'line', 'force', 'elevation', 'something', 'vc', 'project', 'manifest', 'setting', 'thanks', 'advance']\n",
      "True labels:\tc++\n",
      "Predicted labels:\truby-on-rails\n",
      "\n",
      "\n",
      "Title:\t['java', 'applet', 'standalone', 'window', 'application', 'java', 'applet', 'meant', 'run', 'window', 'us', '3rd', 'party', 'com', 'object', 'crossplatform', 'way', 'run', 'java', 'applet', 'standalone', 'application', 'window']\n",
      "True labels:\tjava\n",
      "Predicted labels:\tc#,winforms\n",
      "\n",
      "\n",
      "Title:\t['uiview', 'animation', 'working', 'addsubview', 'ipad', 'app', 'displaying', 'note', 'subclassed', 'uilabel', 'text', 'order', 'navigate', 'next', 'note', 'slide', 'screen', 'left', 'next', 'one', 'slide', 'right', 'get', 'either', 'animation', 'time', 'code', 'controller', 'void', 'slideoutleft', 'create', 'new', 'note', 'flslidingnote', 'newnote', 'flslidingnote', 'alloc', 'init', 'newnotetext', 'blah', 'blah', 'cgrect', 'newframe', 'cgrectmake', '1000', '70', '637', '297', 'right', 'newnoteframe', 'newframe', 'selfview', 'addsubview', 'newnote', 'slide', 'current', 'one', 'cgrect', 'currentframeend', 'notelabelframe', 'notelabel', 'existing', 'note', 'currentframeendoriginx', '0', 'notelabelframesizewidth', 'left', 'uiview', 'animatewithduration10', 'animation', 'notelabelframe', 'currentframeend', 'completion', 'nil', 'notelabel', 'animate', 'comment', 'addsubview', 'newnote', 'part', 'still', 'relatively', 'new', 'probably', 'something', 'simple', 'problem', 'happens', 'whether', 'newnote', 'animated', 'animated', 'code', 'snippet']\n",
      "True labels:\tcocoa-touch,objective-c\n",
      "Predicted labels:\t\n",
      "\n",
      "\n",
      "Title:\t['aspnet', 'mvc', 'route', 'value', 'controller', 'trailing', 'slash', 'probably', 'simple', 'question', 'ca', 'get', 'route', 'specified', 'routeconfig', 'routesmaproute', 'name', 'defaultsiteroute', 'url', 'accountid', 'hostname', 'controller', 'action', 'default', 'new', 'controller', 'home', 'action', 'index', 'urlparameteroptional', 'accountid', 'urlparameteroptional', 'hostname', 'urlparameteroptional', 'url', '123456', 'wwwtestcom', '123456', 'wwwtestcom', 'controller', 'action', 'ca', 'cope', '123456', 'wwwtestcom', 'get', 'ii', '404', 'stranger', 'call', 'urlaction', 'route', 'default', 'controller', 'action', 'ie', 'home', 'index', 'creates', 'url', 'without', 'trailing', 'slash', 'recognise', 'really', 'without', 'trailing', 'slash']\n",
      "True labels:\tasp.net-mvc\n",
      "Predicted labels:\truby-on-rails\n",
      "\n",
      "\n",
      "Title:\t['select', 'max', 'int', 'varchar', 'column', 'trying', 'retrieve', 'largest', 'number', 'varchar', 'column', 'includes', 'number', 'string', 'example', 'data', 'working', 'boxnumber', '123', 'a5', '789', 'b1', 'return', 'largest', 'number', '789', 'case', 'column', 'ignoring', 'nonnumeric', 'value', 'a5', 'b1', 'found', 'solution', 'use', 'custom', 'function', 'solve', 'problem', 'something', 'executed', 'adhoc', 'query', 'without', 'relying', 'custom', 'function', 'procs']\n",
      "True labels:\tsql-server,tsql\n",
      "Predicted labels:\t\n",
      "\n",
      "\n",
      "Title:\t['partcover', '23', 'net', '40', 'runtime', 'successfully', 'partcover', '23', 'working', 'v', '2008', '64bit', 'machine', 'trying', 'get', 'v', '2010', 'nunit', '253', 'nunit', 'correct', 'clr', 'version', 'ca', 'get', 'partcover', 'produce', 'output', 'get', 'empty', 'report', 'xml', 'file', 'partcoverreport', 'date', '20100330t1609051009099+0100', 'get', 'partcover', '23', '22', 'guess', 'nunit', '253', 'net', '40']\n",
      "True labels:\t.net\n",
      "Predicted labels:\t\n",
      "\n",
      "\n",
      "Title:\t['take', 'photo', 'email', 'user', 'take', 'photo', 'open', 'email', 'dialog', 'photo', 'attached', 'far', 'private', 'void', 'btnsubmitphoto_click', 'object', 'sender', 'eventargs', 'e', 'cameracapturetask', 'cameracapturetask', 'new', 'cameracapturetask', 'cameracapturetaskcompleted', '+', 'cameracapturetask_completed', 'cameracapturetaskshow', 'private', 'void', 'cameracapturetask_completed', 'object', 'sender', 'photoresult', 'e', 'etaskresult', 'taskresultok', 'currentimage', 'new', 'bitmapimage', 'currentimagesetsource', 'echosenphoto', 'emailcomposetask', 'ect', 'new', 'emailcomposetask', 'see', 'add', 'attachment', 'emailcomposetask', 'missing', 'something']\n",
      "True labels:\tc#,email\n",
      "Predicted labels:\t\n",
      "\n",
      "\n",
      "Title:\t['force', 'com', 'object', 'use', 'dllsurrogate', 'see', 'question', 'question', 'turn', 'load', 'com', 'class', 'surrogate', 'process', 'must', 'specify', 'clsctx_inproc', 'flag', 'calling', 'cocreateinstance', 'allow', 'host', 'use', 'clsctx_all', 'allow', 'individual', 'com', 'class', 'opt', 'dllhost', 'reason', 'ask', 'locate', 'com', 'class', 'component', 'category', 'pas', 'clsctx_all', 'creating', 'inproc', 'able', 'outofproc']\n",
      "True labels:\tcom\n",
      "Predicted labels:\tcom,ruby-on-rails\n",
      "\n",
      "\n",
      "Title:\t['visual', 'gui', 'designer', 'apache', 'pivot', 'learned', 'apache', 'pivot', 'existence', 'question', 'java', 'gui', 'framework', 'choose', 'swing', 'swt', 'awt', 'swingx', 'jgoodies', 'javafx', 'apache', 'pivot', 'seems', 'good', 'fit', 'current', 'project', 'involves', 'letting', 'user', 'create', 'gui', 'dynamically', 'however', 'also', 'deliver', 'visual', 'gui', 'designer', 'whatever', 'technology', 'choose', 'already', 'designer', 'pivot', 'googling', 'seems', 'suggest', 'asking', 'case', 'missed', 'one']\n",
      "True labels:\tjava\n",
      "Predicted labels:\tasp.net\n",
      "\n",
      "\n"
     ]
    }
   ],
   "source": [
    "y_test_pred_inversed = mlb.inverse_transform(y_test_predicted_labels_tfidf)\n",
    "y_test_inversed = mlb.inverse_transform(y_test)\n",
    "for i in range(20):\n",
    "    print('Title:\\t{}\\nTrue labels:\\t{}\\nPredicted labels:\\t{}\\n\\n'.format(\n",
    "        X_test.iloc[i],\n",
    "        ','.join(y_test_inversed[i]),\n",
    "        ','.join(y_test_pred_inversed[i])\n",
    "    ))"
   ]
  },
  {
   "cell_type": "code",
   "execution_count": 35,
   "metadata": {},
   "outputs": [
    {
     "name": "stdout",
     "output_type": "stream",
     "text": [
      "Tfidf\n",
      "<function accuracy_score at 0x00000281C4BE1B88> 0.023310326865477276\n",
      "functools.partial(<function f1_score at 0x00000281C4BE7048>, average='weighted') 0.06594580816210109\n"
     ]
    },
    {
     "name": "stderr",
     "output_type": "stream",
     "text": [
      "C:\\Users\\alice\\Anaconda3\\lib\\site-packages\\sklearn\\metrics\\classification.py:1437: UndefinedMetricWarning: F-score is ill-defined and being set to 0.0 in labels with no predicted samples.\n",
      "  'precision', 'predicted', average, warn_for)\n"
     ]
    }
   ],
   "source": [
    "def print_evaluation_scores(y_val, predicted):\n",
    "    f1_score_weighted = partial(f1_score,average=\"weighted\")\n",
    "    scores = [accuracy_score, f1_score_weighted]\n",
    "    for score in scores:\n",
    "        print(score,score(y_val,predicted))\n",
    "\n",
    "print('Tfidf')\n",
    "print_evaluation_scores(y_test, y_test_predicted_labels_tfidf)"
   ]
  },
  {
   "cell_type": "markdown",
   "metadata": {},
   "source": [
    "#### 1.4.3 Naive Bayes"
   ]
  },
  {
   "cell_type": "code",
   "execution_count": 36,
   "metadata": {},
   "outputs": [
    {
     "name": "stdout",
     "output_type": "stream",
     "text": [
      "Wall time: 1.14 s\n"
     ]
    }
   ],
   "source": [
    "%time classifier_tfidf = train_classifier(X_tfidf_train, y_train, C=1.0, model='nbayes')"
   ]
  },
  {
   "cell_type": "code",
   "execution_count": 37,
   "metadata": {},
   "outputs": [],
   "source": [
    "y_test_predicted_labels_tfidf = classifier_tfidf.predict(X_tfidf_test)"
   ]
  },
  {
   "cell_type": "code",
   "execution_count": 38,
   "metadata": {
    "scrolled": true
   },
   "outputs": [
    {
     "name": "stdout",
     "output_type": "stream",
     "text": [
      "Title:\t['assembly', 'add', 'reference', 'dialog', 'differ', 'depending', 'net', 'framework', 'used', 'curious', 'listing', 'assembly', 'add', 'reference', 'dialog', 'vary', 'depending', 'version', 'net', 'framework', 'used', 'selected', 'project', 'differ', 'love', 'difference', 'lie', 'thanks']\n",
      "True labels:\t.net,c#,visual-studio\n",
      "Predicted labels:\t\n",
      "\n",
      "\n",
      "Title:\t['check', 'socket', 'still', 'open', 'c++', 'app', 'us', 'standard', 'socket', 'call', 'want', 'tell', 'socket', 'still', 'open', 'without', 'sending', 'receiving', 'data', 'reliable', 'select', 'ioctlsocket', 'call', 'make']\n",
      "True labels:\tc++\n",
      "Predicted labels:\t\n",
      "\n",
      "\n",
      "Title:\t['array', 'case', '5', '5', 'joel', 'point', 'stack', 'overflow', 'podcast', '#', '34', 'c', 'programming', 'language', 'aka', 'k', 'r', 'mention', 'property', 'array', 'c', '5', '5', 'joel', 'say', 'pointer', 'arithmetic', 'still', 'understand', '5', '5']\n",
      "True labels:\tarrays\n",
      "Predicted labels:\t\n",
      "\n",
      "\n",
      "Title:\t['class', 'net', 'application', 'internal', 'note', 'application', 'opposed', 'library', 'wpf', 'application', 'broken', 'main', 'application', 'project', 'associated', 'class', 'library', 'circumstance', 'class', 'main', 'application', 'public', 'opposed', 'internal', 'example', 'data', 'binding', 'wpf', 'value', 'converter', 'public', 'xaml', 'assembly']\n",
      "True labels:\t.net\n",
      "Predicted labels:\t\n",
      "\n",
      "\n",
      "Title:\t['best', 'approach', 'sql', 'server', 'query', 'distinct', 'two', 'table', 'tablea', 'tableb', 'joined', 'tableatablea_id', '1n', 'tablebtablea_id', 'simple', 'pkfk', 'extract', 'distinct', 'tablea', 'record', 'given', 'certain', 'condition', 'tableb', '1st', 'approach', 'select', 'tablea', 'inner', 'join', 'tableb', 'b', 'aida', 'bida', 'bdate', '20090110', 'order', 'aid', 'nice', 'give', 'distinct', 'record', 'record', 'table', 'b', 'may', 'duplicate', 'hence', 'get', 'record', 'decided', 'perform', 'subselect', 'performance', 'issue', 'given', 'subselect', 'probably', 'end', '20', '30', 'record', 'max', 'select', 'tablea', 'tableaid', 'select', 'distinct', 'ida', 'tableb', 'date', '20090110', 'order', 'tableaida', 'question', 'use', 'inner', 'join', 'still', 'get', 'distinct', 'value', 'possible', 'one', 'pas', 'nested', 'query', 'must', 'missing']\n",
      "True labels:\tsql,sql-server,tsql\n",
      "Predicted labels:\t\n",
      "\n",
      "\n",
      "Title:\t['inject', 'text', 'resource', 'prebuilt', 'native', 'exe', 'native', 'exe', 'namely', 'setupexe', 'type', 'file', 'inject', 'text', 'resource', 'eg', 'serverx123456', 'purpose', 'upon', 'running', 'exe', 'read', 'text', 'resource', 'act', 'accordingly', 'way', 'c', '#', 'code', 'note', 'similar', 'question', 'focused', 'injecting', 'skin', 'wpf', 'app']\n",
      "True labels:\tc#\n",
      "Predicted labels:\t\n",
      "\n",
      "\n",
      "Title:\t['consideration', 'store', 'document', 'file', 'server', 'db', 'design', 'decision', 'make', 'regarding', 'document', 'uploaded', 'web', 'site', 'either', 'store', 'file', 'server', 'somewhere', 'store', 'blob', 'database', 'mssql', '2005', 'make', 'difference', 'design', 'decision', 'document', 'confidential', 'must', 'certain', 'degree', 'protection', 'consideration', 'thought', 'storing', 'file', 'server', 'make', 'huuuuuuuge', 'number', 'file', 'dumped', 'single', 'directory', 'therefore', 'slower', 'access', 'unless', 'reasonable', 'semantic', 'definition', 'directory', 'tree', 'structure', 'otoh', 'guessing', 'file', 'server', 'handle', 'compression', 'somewhat', 'better', 'db', 'wrong', 'instinct', 'tell', 'db', 'security', 'stronger', 'file', 'server', 'sure', 'necessarily', 'true', 'terabyte', 'blob', 'db', 'affect', 'performance', 'much', 'appreciate', 'recommendation', 'thanks']\n",
      "True labels:\tsql-server\n",
      "Predicted labels:\t\n",
      "\n",
      "\n",
      "Title:\t['programmatically', 'click', 'checkbox', 'way', 'programmatically', 'generate', 'click', 'event', 'checkbox', 'looking', 'equivalent', 'buttonperformclick']\n",
      "True labels:\t.net,c#,winforms\n",
      "Predicted labels:\t\n",
      "\n",
      "\n",
      "Title:\t['v', '2008', 'window', 'form', 'make', 'view', 'code', 'default', 'usercontrols', 'usercontrols', 'designed', 'window', 'form', 'designer', 'v', '2008', 'pretty', 'much', 'useless', 'take', 'time', 'designer', 'throw', 'exception', 'accidentally', 'doubleclicking', 'usercontrol', 'solution', 'explorer', 'way', 'make', 'designer', 'open', 'c', '#', 'code', 'view', 'doubleclicking', 'usercontrol', 'file']\n",
      "True labels:\tvisual-studio,winforms\n",
      "Predicted labels:\t\n",
      "\n",
      "\n",
      "Title:\t['run', 'different', 'framework', 'sidebyside', 'owin', 'impression', 'one', 'big', 'benefit', 'owin', 'make', 'easy', 'run', 'different', 'web', 'framework', 'sidebyside', 'without', 'ii', 'ihttphandler', 'huge', 'distributing', 'vertical', 'functionality', 'slice', 'nuget', 'feature', 'however', 'every', 'tutorial', 'article', 'find', 'talk', 'thing', 'selfhost', 'single', 'framework', 'interested', 'interested', 'running', 'mvc', 'nancy', 'web', 'api', 'maybe', 'even', 'webforms', 'application', 'wrong', 'owin', 'enabling', 'want', 'mvc', 'handle', 'request', 'webforms', 'handle', 'request', 'versionlegacy', 'header', 'nancy', 'handle', 'request', 'nancy', 'configure', 'startup', 'class', 'enable']\n",
      "True labels:\t.net\n",
      "Predicted labels:\t\n",
      "\n",
      "\n",
      "Title:\t['different', 'setting', 'pc', 'application', 'ran', 'creating', 'cash', 'register', 'program', 'distributed', 'via', 'clickonce', 'believe', 'right', 'term', 'v', 'builtin', 'packaging', 'pc', 'run', 'software', 'different', 'setting', 'thing', 'credit', 'card', 'processing', 'store', 'setting', 'overwritten', 'every', 'time', 'update', 'unique', 'based', 'pc', 'installed']\n",
      "True labels:\tc#,winforms\n",
      "Predicted labels:\t\n",
      "\n",
      "\n",
      "Title:\t['forcing', 'mfc', 'app', 'run', 'administrator', 'vista', 'mfc', 'app', 'built', 'visual', 'studio', '2008', 'need', 'run', 'w2k', 'xp', '2003', 'vista', 'application', 'writes', 'hklm', 'registry', 'vista', 'run', 'administrator', 'question', 'force', 'app', 'run', 'adminstrator', 'automatically', 'involve', 'creating', 'manifest', 'file', 'moment', 'following', 'stdafxh', 'guess', 'creates', 'manifest', 'file', 'fly', '#', 'pragma', 'comment', 'linker', 'manifestdependency', 'typewin32', 'namemicrosoftwindowscommoncontrols', 'version', '6000', 'processorarchitecturex86', 'publickeytoken6595b64144ccf1df', 'language', 'modify', 'line', 'force', 'elevation', 'something', 'vc', 'project', 'manifest', 'setting', 'thanks', 'advance']\n",
      "True labels:\tc++\n",
      "Predicted labels:\t\n",
      "\n",
      "\n",
      "Title:\t['java', 'applet', 'standalone', 'window', 'application', 'java', 'applet', 'meant', 'run', 'window', 'us', '3rd', 'party', 'com', 'object', 'crossplatform', 'way', 'run', 'java', 'applet', 'standalone', 'application', 'window']\n",
      "True labels:\tjava\n",
      "Predicted labels:\t\n",
      "\n",
      "\n",
      "Title:\t['uiview', 'animation', 'working', 'addsubview', 'ipad', 'app', 'displaying', 'note', 'subclassed', 'uilabel', 'text', 'order', 'navigate', 'next', 'note', 'slide', 'screen', 'left', 'next', 'one', 'slide', 'right', 'get', 'either', 'animation', 'time', 'code', 'controller', 'void', 'slideoutleft', 'create', 'new', 'note', 'flslidingnote', 'newnote', 'flslidingnote', 'alloc', 'init', 'newnotetext', 'blah', 'blah', 'cgrect', 'newframe', 'cgrectmake', '1000', '70', '637', '297', 'right', 'newnoteframe', 'newframe', 'selfview', 'addsubview', 'newnote', 'slide', 'current', 'one', 'cgrect', 'currentframeend', 'notelabelframe', 'notelabel', 'existing', 'note', 'currentframeendoriginx', '0', 'notelabelframesizewidth', 'left', 'uiview', 'animatewithduration10', 'animation', 'notelabelframe', 'currentframeend', 'completion', 'nil', 'notelabel', 'animate', 'comment', 'addsubview', 'newnote', 'part', 'still', 'relatively', 'new', 'probably', 'something', 'simple', 'problem', 'happens', 'whether', 'newnote', 'animated', 'animated', 'code', 'snippet']\n",
      "True labels:\tcocoa-touch,objective-c\n",
      "Predicted labels:\t\n",
      "\n",
      "\n",
      "Title:\t['aspnet', 'mvc', 'route', 'value', 'controller', 'trailing', 'slash', 'probably', 'simple', 'question', 'ca', 'get', 'route', 'specified', 'routeconfig', 'routesmaproute', 'name', 'defaultsiteroute', 'url', 'accountid', 'hostname', 'controller', 'action', 'default', 'new', 'controller', 'home', 'action', 'index', 'urlparameteroptional', 'accountid', 'urlparameteroptional', 'hostname', 'urlparameteroptional', 'url', '123456', 'wwwtestcom', '123456', 'wwwtestcom', 'controller', 'action', 'ca', 'cope', '123456', 'wwwtestcom', 'get', 'ii', '404', 'stranger', 'call', 'urlaction', 'route', 'default', 'controller', 'action', 'ie', 'home', 'index', 'creates', 'url', 'without', 'trailing', 'slash', 'recognise', 'really', 'without', 'trailing', 'slash']\n",
      "True labels:\tasp.net-mvc\n",
      "Predicted labels:\t\n",
      "\n",
      "\n",
      "Title:\t['select', 'max', 'int', 'varchar', 'column', 'trying', 'retrieve', 'largest', 'number', 'varchar', 'column', 'includes', 'number', 'string', 'example', 'data', 'working', 'boxnumber', '123', 'a5', '789', 'b1', 'return', 'largest', 'number', '789', 'case', 'column', 'ignoring', 'nonnumeric', 'value', 'a5', 'b1', 'found', 'solution', 'use', 'custom', 'function', 'solve', 'problem', 'something', 'executed', 'adhoc', 'query', 'without', 'relying', 'custom', 'function', 'procs']\n",
      "True labels:\tsql-server,tsql\n",
      "Predicted labels:\t\n",
      "\n",
      "\n",
      "Title:\t['partcover', '23', 'net', '40', 'runtime', 'successfully', 'partcover', '23', 'working', 'v', '2008', '64bit', 'machine', 'trying', 'get', 'v', '2010', 'nunit', '253', 'nunit', 'correct', 'clr', 'version', 'ca', 'get', 'partcover', 'produce', 'output', 'get', 'empty', 'report', 'xml', 'file', 'partcoverreport', 'date', '20100330t1609051009099+0100', 'get', 'partcover', '23', '22', 'guess', 'nunit', '253', 'net', '40']\n",
      "True labels:\t.net\n",
      "Predicted labels:\t\n",
      "\n",
      "\n",
      "Title:\t['take', 'photo', 'email', 'user', 'take', 'photo', 'open', 'email', 'dialog', 'photo', 'attached', 'far', 'private', 'void', 'btnsubmitphoto_click', 'object', 'sender', 'eventargs', 'e', 'cameracapturetask', 'cameracapturetask', 'new', 'cameracapturetask', 'cameracapturetaskcompleted', '+', 'cameracapturetask_completed', 'cameracapturetaskshow', 'private', 'void', 'cameracapturetask_completed', 'object', 'sender', 'photoresult', 'e', 'etaskresult', 'taskresultok', 'currentimage', 'new', 'bitmapimage', 'currentimagesetsource', 'echosenphoto', 'emailcomposetask', 'ect', 'new', 'emailcomposetask', 'see', 'add', 'attachment', 'emailcomposetask', 'missing', 'something']\n",
      "True labels:\tc#,email\n",
      "Predicted labels:\t\n",
      "\n",
      "\n",
      "Title:\t['force', 'com', 'object', 'use', 'dllsurrogate', 'see', 'question', 'question', 'turn', 'load', 'com', 'class', 'surrogate', 'process', 'must', 'specify', 'clsctx_inproc', 'flag', 'calling', 'cocreateinstance', 'allow', 'host', 'use', 'clsctx_all', 'allow', 'individual', 'com', 'class', 'opt', 'dllhost', 'reason', 'ask', 'locate', 'com', 'class', 'component', 'category', 'pas', 'clsctx_all', 'creating', 'inproc', 'able', 'outofproc']\n",
      "True labels:\tcom\n",
      "Predicted labels:\t\n",
      "\n",
      "\n",
      "Title:\t['visual', 'gui', 'designer', 'apache', 'pivot', 'learned', 'apache', 'pivot', 'existence', 'question', 'java', 'gui', 'framework', 'choose', 'swing', 'swt', 'awt', 'swingx', 'jgoodies', 'javafx', 'apache', 'pivot', 'seems', 'good', 'fit', 'current', 'project', 'involves', 'letting', 'user', 'create', 'gui', 'dynamically', 'however', 'also', 'deliver', 'visual', 'gui', 'designer', 'whatever', 'technology', 'choose', 'already', 'designer', 'pivot', 'googling', 'seems', 'suggest', 'asking', 'case', 'missed', 'one']\n",
      "True labels:\tjava\n",
      "Predicted labels:\t\n",
      "\n",
      "\n"
     ]
    }
   ],
   "source": [
    "y_test_pred_inversed = mlb.inverse_transform(y_test_predicted_labels_tfidf)\n",
    "y_test_inversed = mlb.inverse_transform(y_test)\n",
    "for i in range(20):\n",
    "    print('Title:\\t{}\\nTrue labels:\\t{}\\nPredicted labels:\\t{}\\n\\n'.format(\n",
    "        X_test.iloc[i],\n",
    "        ','.join(y_test_inversed[i]),\n",
    "        ','.join(y_test_pred_inversed[i])\n",
    "    ))"
   ]
  },
  {
   "cell_type": "code",
   "execution_count": 39,
   "metadata": {},
   "outputs": [
    {
     "name": "stdout",
     "output_type": "stream",
     "text": [
      "Tfidf\n",
      "<function accuracy_score at 0x00000281C4BE1B88> 0.0024742805052741243\n",
      "functools.partial(<function f1_score at 0x00000281C4BE7048>, average='weighted') 0.004598291732908466\n"
     ]
    },
    {
     "name": "stderr",
     "output_type": "stream",
     "text": [
      "C:\\Users\\alice\\Anaconda3\\lib\\site-packages\\sklearn\\metrics\\classification.py:1437: UndefinedMetricWarning: F-score is ill-defined and being set to 0.0 in labels with no predicted samples.\n",
      "  'precision', 'predicted', average, warn_for)\n"
     ]
    }
   ],
   "source": [
    "def print_evaluation_scores(y_val, predicted):\n",
    "    f1_score_weighted = partial(f1_score,average=\"weighted\")\n",
    "    scores = [accuracy_score, f1_score_weighted]\n",
    "    for score in scores:\n",
    "        print(score,score(y_val,predicted))\n",
    "\n",
    "print('Tfidf')\n",
    "print_evaluation_scores(y_test, y_test_predicted_labels_tfidf)"
   ]
  },
  {
   "cell_type": "markdown",
   "metadata": {},
   "source": [
    "#### 1.4.4 Multi-Layered Preceptron - Neural Networks"
   ]
  },
  {
   "cell_type": "code",
   "execution_count": 40,
   "metadata": {},
   "outputs": [
    {
     "name": "stdout",
     "output_type": "stream",
     "text": [
      "Wall time: 51min 50s\n"
     ]
    }
   ],
   "source": [
    "%time classifier_tfidf = train_classifier(X_tfidf_train, y_train, C=1.0, model='mlp')"
   ]
  },
  {
   "cell_type": "code",
   "execution_count": 41,
   "metadata": {},
   "outputs": [],
   "source": [
    "y_test_predicted_labels_tfidf = classifier_tfidf.predict(X_tfidf_test)"
   ]
  },
  {
   "cell_type": "code",
   "execution_count": 42,
   "metadata": {
    "scrolled": true
   },
   "outputs": [
    {
     "name": "stdout",
     "output_type": "stream",
     "text": [
      "Title:\t['assembly', 'add', 'reference', 'dialog', 'differ', 'depending', 'net', 'framework', 'used', 'curious', 'listing', 'assembly', 'add', 'reference', 'dialog', 'vary', 'depending', 'version', 'net', 'framework', 'used', 'selected', 'project', 'differ', 'love', 'difference', 'lie', 'thanks']\n",
      "True labels:\t.net,c#,visual-studio\n",
      "Predicted labels:\t\n",
      "\n",
      "\n",
      "Title:\t['check', 'socket', 'still', 'open', 'c++', 'app', 'us', 'standard', 'socket', 'call', 'want', 'tell', 'socket', 'still', 'open', 'without', 'sending', 'receiving', 'data', 'reliable', 'select', 'ioctlsocket', 'call', 'make']\n",
      "True labels:\tc++\n",
      "Predicted labels:\t\n",
      "\n",
      "\n",
      "Title:\t['array', 'case', '5', '5', 'joel', 'point', 'stack', 'overflow', 'podcast', '#', '34', 'c', 'programming', 'language', 'aka', 'k', 'r', 'mention', 'property', 'array', 'c', '5', '5', 'joel', 'say', 'pointer', 'arithmetic', 'still', 'understand', '5', '5']\n",
      "True labels:\tarrays\n",
      "Predicted labels:\tc#,events,iphone\n",
      "\n",
      "\n",
      "Title:\t['class', 'net', 'application', 'internal', 'note', 'application', 'opposed', 'library', 'wpf', 'application', 'broken', 'main', 'application', 'project', 'associated', 'class', 'library', 'circumstance', 'class', 'main', 'application', 'public', 'opposed', 'internal', 'example', 'data', 'binding', 'wpf', 'value', 'converter', 'public', 'xaml', 'assembly']\n",
      "True labels:\t.net\n",
      "Predicted labels:\t\n",
      "\n",
      "\n",
      "Title:\t['best', 'approach', 'sql', 'server', 'query', 'distinct', 'two', 'table', 'tablea', 'tableb', 'joined', 'tableatablea_id', '1n', 'tablebtablea_id', 'simple', 'pkfk', 'extract', 'distinct', 'tablea', 'record', 'given', 'certain', 'condition', 'tableb', '1st', 'approach', 'select', 'tablea', 'inner', 'join', 'tableb', 'b', 'aida', 'bida', 'bdate', '20090110', 'order', 'aid', 'nice', 'give', 'distinct', 'record', 'record', 'table', 'b', 'may', 'duplicate', 'hence', 'get', 'record', 'decided', 'perform', 'subselect', 'performance', 'issue', 'given', 'subselect', 'probably', 'end', '20', '30', 'record', 'max', 'select', 'tablea', 'tableaid', 'select', 'distinct', 'ida', 'tableb', 'date', '20090110', 'order', 'tableaida', 'question', 'use', 'inner', 'join', 'still', 'get', 'distinct', 'value', 'possible', 'one', 'pas', 'nested', 'query', 'must', 'missing']\n",
      "True labels:\tsql,sql-server,tsql\n",
      "Predicted labels:\tjavascript\n",
      "\n",
      "\n",
      "Title:\t['inject', 'text', 'resource', 'prebuilt', 'native', 'exe', 'native', 'exe', 'namely', 'setupexe', 'type', 'file', 'inject', 'text', 'resource', 'eg', 'serverx123456', 'purpose', 'upon', 'running', 'exe', 'read', 'text', 'resource', 'act', 'accordingly', 'way', 'c', '#', 'code', 'note', 'similar', 'question', 'focused', 'injecting', 'skin', 'wpf', 'app']\n",
      "True labels:\tc#\n",
      "Predicted labels:\tpython\n",
      "\n",
      "\n",
      "Title:\t['consideration', 'store', 'document', 'file', 'server', 'db', 'design', 'decision', 'make', 'regarding', 'document', 'uploaded', 'web', 'site', 'either', 'store', 'file', 'server', 'somewhere', 'store', 'blob', 'database', 'mssql', '2005', 'make', 'difference', 'design', 'decision', 'document', 'confidential', 'must', 'certain', 'degree', 'protection', 'consideration', 'thought', 'storing', 'file', 'server', 'make', 'huuuuuuuge', 'number', 'file', 'dumped', 'single', 'directory', 'therefore', 'slower', 'access', 'unless', 'reasonable', 'semantic', 'definition', 'directory', 'tree', 'structure', 'otoh', 'guessing', 'file', 'server', 'handle', 'compression', 'somewhat', 'better', 'db', 'wrong', 'instinct', 'tell', 'db', 'security', 'stronger', 'file', 'server', 'sure', 'necessarily', 'true', 'terabyte', 'blob', 'db', 'affect', 'performance', 'much', 'appreciate', 'recommendation', 'thanks']\n",
      "True labels:\tsql-server\n",
      "Predicted labels:\t\n",
      "\n",
      "\n",
      "Title:\t['programmatically', 'click', 'checkbox', 'way', 'programmatically', 'generate', 'click', 'event', 'checkbox', 'looking', 'equivalent', 'buttonperformclick']\n",
      "True labels:\t.net,c#,winforms\n",
      "Predicted labels:\tc#\n",
      "\n",
      "\n",
      "Title:\t['v', '2008', 'window', 'form', 'make', 'view', 'code', 'default', 'usercontrols', 'usercontrols', 'designed', 'window', 'form', 'designer', 'v', '2008', 'pretty', 'much', 'useless', 'take', 'time', 'designer', 'throw', 'exception', 'accidentally', 'doubleclicking', 'usercontrol', 'solution', 'explorer', 'way', 'make', 'designer', 'open', 'c', '#', 'code', 'view', 'doubleclicking', 'usercontrol', 'file']\n",
      "True labels:\tvisual-studio,winforms\n",
      "Predicted labels:\tvisual-studio-2008\n",
      "\n",
      "\n",
      "Title:\t['run', 'different', 'framework', 'sidebyside', 'owin', 'impression', 'one', 'big', 'benefit', 'owin', 'make', 'easy', 'run', 'different', 'web', 'framework', 'sidebyside', 'without', 'ii', 'ihttphandler', 'huge', 'distributing', 'vertical', 'functionality', 'slice', 'nuget', 'feature', 'however', 'every', 'tutorial', 'article', 'find', 'talk', 'thing', 'selfhost', 'single', 'framework', 'interested', 'interested', 'running', 'mvc', 'nancy', 'web', 'api', 'maybe', 'even', 'webforms', 'application', 'wrong', 'owin', 'enabling', 'want', 'mvc', 'handle', 'request', 'webforms', 'handle', 'request', 'versionlegacy', 'header', 'nancy', 'handle', 'request', 'nancy', 'configure', 'startup', 'class', 'enable']\n",
      "True labels:\t.net\n",
      "Predicted labels:\t\n",
      "\n",
      "\n",
      "Title:\t['different', 'setting', 'pc', 'application', 'ran', 'creating', 'cash', 'register', 'program', 'distributed', 'via', 'clickonce', 'believe', 'right', 'term', 'v', 'builtin', 'packaging', 'pc', 'run', 'software', 'different', 'setting', 'thing', 'credit', 'card', 'processing', 'store', 'setting', 'overwritten', 'every', 'time', 'update', 'unique', 'based', 'pc', 'installed']\n",
      "True labels:\tc#,winforms\n",
      "Predicted labels:\t\n",
      "\n",
      "\n",
      "Title:\t['forcing', 'mfc', 'app', 'run', 'administrator', 'vista', 'mfc', 'app', 'built', 'visual', 'studio', '2008', 'need', 'run', 'w2k', 'xp', '2003', 'vista', 'application', 'writes', 'hklm', 'registry', 'vista', 'run', 'administrator', 'question', 'force', 'app', 'run', 'adminstrator', 'automatically', 'involve', 'creating', 'manifest', 'file', 'moment', 'following', 'stdafxh', 'guess', 'creates', 'manifest', 'file', 'fly', '#', 'pragma', 'comment', 'linker', 'manifestdependency', 'typewin32', 'namemicrosoftwindowscommoncontrols', 'version', '6000', 'processorarchitecturex86', 'publickeytoken6595b64144ccf1df', 'language', 'modify', 'line', 'force', 'elevation', 'something', 'vc', 'project', 'manifest', 'setting', 'thanks', 'advance']\n",
      "True labels:\tc++\n",
      "Predicted labels:\t\n",
      "\n",
      "\n",
      "Title:\t['java', 'applet', 'standalone', 'window', 'application', 'java', 'applet', 'meant', 'run', 'window', 'us', '3rd', 'party', 'com', 'object', 'crossplatform', 'way', 'run', 'java', 'applet', 'standalone', 'application', 'window']\n",
      "True labels:\tjava\n",
      "Predicted labels:\tc#,com,winforms\n",
      "\n",
      "\n",
      "Title:\t['uiview', 'animation', 'working', 'addsubview', 'ipad', 'app', 'displaying', 'note', 'subclassed', 'uilabel', 'text', 'order', 'navigate', 'next', 'note', 'slide', 'screen', 'left', 'next', 'one', 'slide', 'right', 'get', 'either', 'animation', 'time', 'code', 'controller', 'void', 'slideoutleft', 'create', 'new', 'note', 'flslidingnote', 'newnote', 'flslidingnote', 'alloc', 'init', 'newnotetext', 'blah', 'blah', 'cgrect', 'newframe', 'cgrectmake', '1000', '70', '637', '297', 'right', 'newnoteframe', 'newframe', 'selfview', 'addsubview', 'newnote', 'slide', 'current', 'one', 'cgrect', 'currentframeend', 'notelabelframe', 'notelabel', 'existing', 'note', 'currentframeendoriginx', '0', 'notelabelframesizewidth', 'left', 'uiview', 'animatewithduration10', 'animation', 'notelabelframe', 'currentframeend', 'completion', 'nil', 'notelabel', 'animate', 'comment', 'addsubview', 'newnote', 'part', 'still', 'relatively', 'new', 'probably', 'something', 'simple', 'problem', 'happens', 'whether', 'newnote', 'animated', 'animated', 'code', 'snippet']\n",
      "True labels:\tcocoa-touch,objective-c\n",
      "Predicted labels:\t\n",
      "\n",
      "\n",
      "Title:\t['aspnet', 'mvc', 'route', 'value', 'controller', 'trailing', 'slash', 'probably', 'simple', 'question', 'ca', 'get', 'route', 'specified', 'routeconfig', 'routesmaproute', 'name', 'defaultsiteroute', 'url', 'accountid', 'hostname', 'controller', 'action', 'default', 'new', 'controller', 'home', 'action', 'index', 'urlparameteroptional', 'accountid', 'urlparameteroptional', 'hostname', 'urlparameteroptional', 'url', '123456', 'wwwtestcom', '123456', 'wwwtestcom', 'controller', 'action', 'ca', 'cope', '123456', 'wwwtestcom', 'get', 'ii', '404', 'stranger', 'call', 'urlaction', 'route', 'default', 'controller', 'action', 'ie', 'home', 'index', 'creates', 'url', 'without', 'trailing', 'slash', 'recognise', 'really', 'without', 'trailing', 'slash']\n",
      "True labels:\tasp.net-mvc\n",
      "Predicted labels:\truby-on-rails\n",
      "\n",
      "\n",
      "Title:\t['select', 'max', 'int', 'varchar', 'column', 'trying', 'retrieve', 'largest', 'number', 'varchar', 'column', 'includes', 'number', 'string', 'example', 'data', 'working', 'boxnumber', '123', 'a5', '789', 'b1', 'return', 'largest', 'number', '789', 'case', 'column', 'ignoring', 'nonnumeric', 'value', 'a5', 'b1', 'found', 'solution', 'use', 'custom', 'function', 'solve', 'problem', 'something', 'executed', 'adhoc', 'query', 'without', 'relying', 'custom', 'function', 'procs']\n",
      "True labels:\tsql-server,tsql\n",
      "Predicted labels:\t\n",
      "\n",
      "\n",
      "Title:\t['partcover', '23', 'net', '40', 'runtime', 'successfully', 'partcover', '23', 'working', 'v', '2008', '64bit', 'machine', 'trying', 'get', 'v', '2010', 'nunit', '253', 'nunit', 'correct', 'clr', 'version', 'ca', 'get', 'partcover', 'produce', 'output', 'get', 'empty', 'report', 'xml', 'file', 'partcoverreport', 'date', '20100330t1609051009099+0100', 'get', 'partcover', '23', '22', 'guess', 'nunit', '253', 'net', '40']\n",
      "True labels:\t.net\n",
      "Predicted labels:\tc#\n",
      "\n",
      "\n",
      "Title:\t['take', 'photo', 'email', 'user', 'take', 'photo', 'open', 'email', 'dialog', 'photo', 'attached', 'far', 'private', 'void', 'btnsubmitphoto_click', 'object', 'sender', 'eventargs', 'e', 'cameracapturetask', 'cameracapturetask', 'new', 'cameracapturetask', 'cameracapturetaskcompleted', '+', 'cameracapturetask_completed', 'cameracapturetaskshow', 'private', 'void', 'cameracapturetask_completed', 'object', 'sender', 'photoresult', 'e', 'etaskresult', 'taskresultok', 'currentimage', 'new', 'bitmapimage', 'currentimagesetsource', 'echosenphoto', 'emailcomposetask', 'ect', 'new', 'emailcomposetask', 'see', 'add', 'attachment', 'emailcomposetask', 'missing', 'something']\n",
      "True labels:\tc#,email\n",
      "Predicted labels:\t\n",
      "\n",
      "\n",
      "Title:\t['force', 'com', 'object', 'use', 'dllsurrogate', 'see', 'question', 'question', 'turn', 'load', 'com', 'class', 'surrogate', 'process', 'must', 'specify', 'clsctx_inproc', 'flag', 'calling', 'cocreateinstance', 'allow', 'host', 'use', 'clsctx_all', 'allow', 'individual', 'com', 'class', 'opt', 'dllhost', 'reason', 'ask', 'locate', 'com', 'class', 'component', 'category', 'pas', 'clsctx_all', 'creating', 'inproc', 'able', 'outofproc']\n",
      "True labels:\tcom\n",
      "Predicted labels:\tcom\n",
      "\n",
      "\n",
      "Title:\t['visual', 'gui', 'designer', 'apache', 'pivot', 'learned', 'apache', 'pivot', 'existence', 'question', 'java', 'gui', 'framework', 'choose', 'swing', 'swt', 'awt', 'swingx', 'jgoodies', 'javafx', 'apache', 'pivot', 'seems', 'good', 'fit', 'current', 'project', 'involves', 'letting', 'user', 'create', 'gui', 'dynamically', 'however', 'also', 'deliver', 'visual', 'gui', 'designer', 'whatever', 'technology', 'choose', 'already', 'designer', 'pivot', 'googling', 'seems', 'suggest', 'asking', 'case', 'missed', 'one']\n",
      "True labels:\tjava\n",
      "Predicted labels:\tasp.net\n",
      "\n",
      "\n"
     ]
    }
   ],
   "source": [
    "y_test_pred_inversed = mlb.inverse_transform(y_test_predicted_labels_tfidf)\n",
    "y_test_inversed = mlb.inverse_transform(y_test)\n",
    "for i in range(20):\n",
    "    print('Title:\\t{}\\nTrue labels:\\t{}\\nPredicted labels:\\t{}\\n\\n'.format(\n",
    "        X_test.iloc[i],\n",
    "        ','.join(y_test_inversed[i]),\n",
    "        ','.join(y_test_pred_inversed[i])\n",
    "    ))"
   ]
  },
  {
   "cell_type": "code",
   "execution_count": 43,
   "metadata": {},
   "outputs": [
    {
     "name": "stdout",
     "output_type": "stream",
     "text": [
      "Tfidf\n",
      "<function accuracy_score at 0x00000281C4BE1B88> 0.023180101575726007\n",
      "functools.partial(<function f1_score at 0x00000281C4BE7048>, average='weighted') 0.07167811197212086\n"
     ]
    },
    {
     "name": "stderr",
     "output_type": "stream",
     "text": [
      "C:\\Users\\alice\\Anaconda3\\lib\\site-packages\\sklearn\\metrics\\classification.py:1437: UndefinedMetricWarning: F-score is ill-defined and being set to 0.0 in labels with no predicted samples.\n",
      "  'precision', 'predicted', average, warn_for)\n"
     ]
    }
   ],
   "source": [
    "def print_evaluation_scores(y_val, predicted):\n",
    "    f1_score_weighted = partial(f1_score,average=\"weighted\")\n",
    "    scores = [accuracy_score, f1_score_weighted]\n",
    "    for score in scores:\n",
    "        print(score,score(y_val,predicted))\n",
    "\n",
    "print('Tfidf')\n",
    "print_evaluation_scores(y_test, y_test_predicted_labels_tfidf)"
   ]
  },
  {
   "cell_type": "markdown",
   "metadata": {},
   "source": [
    "## 2. Tests  sur données avec Stemming Porter"
   ]
  },
  {
   "cell_type": "markdown",
   "metadata": {},
   "source": [
    "### 2.1 Préparation des données"
   ]
  },
  {
   "cell_type": "markdown",
   "metadata": {},
   "source": [
    "#### 2.1.1 Construction du dataset"
   ]
  },
  {
   "cell_type": "code",
   "execution_count": 44,
   "metadata": {},
   "outputs": [],
   "source": [
    "#construction du dataset\n",
    "cols = ['TagsTokens','text_stemm_porter']\n",
    "df_lemm = df[cols]"
   ]
  },
  {
   "cell_type": "code",
   "execution_count": 45,
   "metadata": {},
   "outputs": [
    {
     "data": {
      "text/plain": [
       "(38393, 2)"
      ]
     },
     "execution_count": 45,
     "metadata": {},
     "output_type": "execute_result"
    }
   ],
   "source": [
    "df_lemm.shape"
   ]
  },
  {
   "cell_type": "code",
   "execution_count": 46,
   "metadata": {},
   "outputs": [
    {
     "data": {
      "text/html": [
       "<div>\n",
       "<style scoped>\n",
       "    .dataframe tbody tr th:only-of-type {\n",
       "        vertical-align: middle;\n",
       "    }\n",
       "\n",
       "    .dataframe tbody tr th {\n",
       "        vertical-align: top;\n",
       "    }\n",
       "\n",
       "    .dataframe thead th {\n",
       "        text-align: right;\n",
       "    }\n",
       "</style>\n",
       "<table border=\"1\" class=\"dataframe\">\n",
       "  <thead>\n",
       "    <tr style=\"text-align: right;\">\n",
       "      <th></th>\n",
       "      <th>TagsTokens</th>\n",
       "      <th>text_stemm_porter</th>\n",
       "    </tr>\n",
       "  </thead>\n",
       "  <tbody>\n",
       "    <tr>\n",
       "      <td>0</td>\n",
       "      <td>['c#']</td>\n",
       "      <td>['c#', '50', 'await', 'keyword', 'list', 'oper...</td>\n",
       "    </tr>\n",
       "    <tr>\n",
       "      <td>1</td>\n",
       "      <td>['mercurial']</td>\n",
       "      <td>['configur', 'mercuri', 'use', 'winmerg', 'mer...</td>\n",
       "    </tr>\n",
       "    <tr>\n",
       "      <td>2</td>\n",
       "      <td>['html', 'css']</td>\n",
       "      <td>['what', 'best', 'way', 'go', 'photoshop', 'mo...</td>\n",
       "    </tr>\n",
       "    <tr>\n",
       "      <td>3</td>\n",
       "      <td>['language-agnostic']</td>\n",
       "      <td>['lookup', 'data', 'book', 'barcod', 'number',...</td>\n",
       "    </tr>\n",
       "    <tr>\n",
       "      <td>4</td>\n",
       "      <td>['.net', 'com']</td>\n",
       "      <td>['embedd', 'webkit', 'compon', 'window', 'c#',...</td>\n",
       "    </tr>\n",
       "    <tr>\n",
       "      <td>...</td>\n",
       "      <td>...</td>\n",
       "      <td>...</td>\n",
       "    </tr>\n",
       "    <tr>\n",
       "      <td>38388</td>\n",
       "      <td>['php', 'mysql']</td>\n",
       "      <td>['php', 'date', 'issu', 'daylight', 'save', 's...</td>\n",
       "    </tr>\n",
       "    <tr>\n",
       "      <td>38389</td>\n",
       "      <td>['html', 'css']</td>\n",
       "      <td>['attach', 'imag', 'bottom', 'middl', 'tri', '...</td>\n",
       "    </tr>\n",
       "    <tr>\n",
       "      <td>38390</td>\n",
       "      <td>['c#', '.net', 'generics']</td>\n",
       "      <td>['c#', 'cant', 'liststr', 'object', 'store', '...</td>\n",
       "    </tr>\n",
       "    <tr>\n",
       "      <td>38391</td>\n",
       "      <td>['html', 'xml']</td>\n",
       "      <td>['way', 'comment', 'code', 'notepad2', 'notepa...</td>\n",
       "    </tr>\n",
       "    <tr>\n",
       "      <td>38392</td>\n",
       "      <td>['winapi']</td>\n",
       "      <td>['preregist', 'atl', 'window', 'class', 'combi...</td>\n",
       "    </tr>\n",
       "  </tbody>\n",
       "</table>\n",
       "<p>38393 rows × 2 columns</p>\n",
       "</div>"
      ],
      "text/plain": [
       "                       TagsTokens  \\\n",
       "0                          ['c#']   \n",
       "1                   ['mercurial']   \n",
       "2                 ['html', 'css']   \n",
       "3           ['language-agnostic']   \n",
       "4                 ['.net', 'com']   \n",
       "...                           ...   \n",
       "38388            ['php', 'mysql']   \n",
       "38389             ['html', 'css']   \n",
       "38390  ['c#', '.net', 'generics']   \n",
       "38391             ['html', 'xml']   \n",
       "38392                  ['winapi']   \n",
       "\n",
       "                                       text_stemm_porter  \n",
       "0      ['c#', '50', 'await', 'keyword', 'list', 'oper...  \n",
       "1      ['configur', 'mercuri', 'use', 'winmerg', 'mer...  \n",
       "2      ['what', 'best', 'way', 'go', 'photoshop', 'mo...  \n",
       "3      ['lookup', 'data', 'book', 'barcod', 'number',...  \n",
       "4      ['embedd', 'webkit', 'compon', 'window', 'c#',...  \n",
       "...                                                  ...  \n",
       "38388  ['php', 'date', 'issu', 'daylight', 'save', 's...  \n",
       "38389  ['attach', 'imag', 'bottom', 'middl', 'tri', '...  \n",
       "38390  ['c#', 'cant', 'liststr', 'object', 'store', '...  \n",
       "38391  ['way', 'comment', 'code', 'notepad2', 'notepa...  \n",
       "38392  ['preregist', 'atl', 'window', 'class', 'combi...  \n",
       "\n",
       "[38393 rows x 2 columns]"
      ]
     },
     "execution_count": 46,
     "metadata": {},
     "output_type": "execute_result"
    }
   ],
   "source": [
    "df_lemm"
   ]
  },
  {
   "cell_type": "markdown",
   "metadata": {},
   "source": [
    "#### 2.1.2 Préparation Train/Tests datasets"
   ]
  },
  {
   "cell_type": "code",
   "execution_count": 47,
   "metadata": {},
   "outputs": [
    {
     "name": "stderr",
     "output_type": "stream",
     "text": [
      "C:\\Users\\alice\\Anaconda3\\lib\\site-packages\\ipykernel_launcher.py:4: SettingWithCopyWarning: \n",
      "A value is trying to be set on a copy of a slice from a DataFrame.\n",
      "Try using .loc[row_indexer,col_indexer] = value instead\n",
      "\n",
      "See the caveats in the documentation: http://pandas.pydata.org/pandas-docs/stable/user_guide/indexing.html#returning-a-view-versus-a-copy\n",
      "  after removing the cwd from sys.path.\n"
     ]
    }
   ],
   "source": [
    "def removestring(text):\n",
    "    return ast.literal_eval(text)\n",
    "\n",
    "df_lemm['TagsTokens'] = df_lemm['TagsTokens'].apply(removestring)"
   ]
  },
  {
   "cell_type": "code",
   "execution_count": 48,
   "metadata": {},
   "outputs": [],
   "source": [
    "dfnew = df_lemm.copy()"
   ]
  },
  {
   "cell_type": "code",
   "execution_count": 49,
   "metadata": {},
   "outputs": [],
   "source": [
    "mlb = MultiLabelBinarizer()\n",
    "ytags = mlb.fit_transform(dfnew['TagsTokens'])"
   ]
  },
  {
   "cell_type": "code",
   "execution_count": 50,
   "metadata": {},
   "outputs": [
    {
     "data": {
      "text/plain": [
       "array([[0, 0, 0, ..., 0, 0, 0],\n",
       "       [0, 0, 0, ..., 0, 0, 0],\n",
       "       [0, 0, 0, ..., 0, 0, 0],\n",
       "       ...,\n",
       "       [1, 0, 0, ..., 0, 0, 0],\n",
       "       [0, 0, 0, ..., 0, 0, 1],\n",
       "       [0, 0, 0, ..., 0, 0, 0]])"
      ]
     },
     "execution_count": 50,
     "metadata": {},
     "output_type": "execute_result"
    }
   ],
   "source": [
    "ytags #check de la binarisation"
   ]
  },
  {
   "cell_type": "code",
   "execution_count": 51,
   "metadata": {},
   "outputs": [],
   "source": [
    "X_train, X_test, y_train, y_test = train_test_split(dfnew['text_stemm_porter'], ytags, test_size=0.2,train_size=0.8, random_state=7)"
   ]
  },
  {
   "cell_type": "markdown",
   "metadata": {},
   "source": [
    "### 2.2 Extraction de l'information du texte: tf-idf"
   ]
  },
  {
   "cell_type": "markdown",
   "metadata": {},
   "source": [
    "#### 2.2.1 tf-idf sur les données train"
   ]
  },
  {
   "cell_type": "code",
   "execution_count": 52,
   "metadata": {},
   "outputs": [],
   "source": [
    "#initislisation du vectorizer\n",
    "tfidf_vectorizer = TfidfVectorizer(use_idf = True, max_features = 1000)\n",
    "#transformation des données\n",
    "X_tfidf_train = tfidf_vectorizer.fit_transform(X_train)"
   ]
  },
  {
   "cell_type": "code",
   "execution_count": 53,
   "metadata": {},
   "outputs": [
    {
     "data": {
      "text/plain": [
       "<30714x1000 sparse matrix of type '<class 'numpy.float64'>'\n",
       "\twith 1031793 stored elements in Compressed Sparse Row format>"
      ]
     },
     "execution_count": 53,
     "metadata": {},
     "output_type": "execute_result"
    }
   ],
   "source": [
    "X_tfidf_train"
   ]
  },
  {
   "cell_type": "code",
   "execution_count": 54,
   "metadata": {},
   "outputs": [],
   "source": [
    "# récupération du premier vecteur\n",
    "first_vector_tfidfvectorizer_train = X_tfidf_train[0]"
   ]
  },
  {
   "cell_type": "code",
   "execution_count": 55,
   "metadata": {
    "scrolled": false
   },
   "outputs": [
    {
     "data": {
      "text/html": [
       "<div>\n",
       "<style scoped>\n",
       "    .dataframe tbody tr th:only-of-type {\n",
       "        vertical-align: middle;\n",
       "    }\n",
       "\n",
       "    .dataframe tbody tr th {\n",
       "        vertical-align: top;\n",
       "    }\n",
       "\n",
       "    .dataframe thead th {\n",
       "        text-align: right;\n",
       "    }\n",
       "</style>\n",
       "<table border=\"1\" class=\"dataframe\">\n",
       "  <thead>\n",
       "    <tr style=\"text-align: right;\">\n",
       "      <th></th>\n",
       "      <th>tfidf</th>\n",
       "    </tr>\n",
       "  </thead>\n",
       "  <tbody>\n",
       "    <tr>\n",
       "      <td>map</td>\n",
       "      <td>0.697316</td>\n",
       "    </tr>\n",
       "    <tr>\n",
       "      <td>collect</td>\n",
       "      <td>0.416331</td>\n",
       "    </tr>\n",
       "    <tr>\n",
       "      <td>easi</td>\n",
       "      <td>0.277748</td>\n",
       "    </tr>\n",
       "    <tr>\n",
       "      <td>valu</td>\n",
       "      <td>0.181880</td>\n",
       "    </tr>\n",
       "    <tr>\n",
       "      <td>make</td>\n",
       "      <td>0.173360</td>\n",
       "    </tr>\n",
       "    <tr>\n",
       "      <td>...</td>\n",
       "      <td>...</td>\n",
       "    </tr>\n",
       "    <tr>\n",
       "      <td>fals</td>\n",
       "      <td>0.000000</td>\n",
       "    </tr>\n",
       "    <tr>\n",
       "      <td>far</td>\n",
       "      <td>0.000000</td>\n",
       "    </tr>\n",
       "    <tr>\n",
       "      <td>featur</td>\n",
       "      <td>0.000000</td>\n",
       "    </tr>\n",
       "    <tr>\n",
       "      <td>feel</td>\n",
       "      <td>0.000000</td>\n",
       "    </tr>\n",
       "    <tr>\n",
       "      <td>yet</td>\n",
       "      <td>0.000000</td>\n",
       "    </tr>\n",
       "  </tbody>\n",
       "</table>\n",
       "<p>1000 rows × 1 columns</p>\n",
       "</div>"
      ],
      "text/plain": [
       "            tfidf\n",
       "map      0.697316\n",
       "collect  0.416331\n",
       "easi     0.277748\n",
       "valu     0.181880\n",
       "make     0.173360\n",
       "...           ...\n",
       "fals     0.000000\n",
       "far      0.000000\n",
       "featur   0.000000\n",
       "feel     0.000000\n",
       "yet      0.000000\n",
       "\n",
       "[1000 rows x 1 columns]"
      ]
     },
     "execution_count": 55,
     "metadata": {},
     "output_type": "execute_result"
    }
   ],
   "source": [
    "# placement des valeurs tf-idf values dans un pandas data frame\n",
    "df_lemm_tfidfd_train = pd.DataFrame(first_vector_tfidfvectorizer_train.T.todense(), \n",
    "                                    index = tfidf_vectorizer.get_feature_names(), columns = [\"tfidf\"])\n",
    "df_lemm_tfidfd_train.sort_values(by = [\"tfidf\"],ascending=False)"
   ]
  },
  {
   "cell_type": "code",
   "execution_count": 56,
   "metadata": {},
   "outputs": [],
   "source": [
    "tfidf_feature_names = tfidf_vectorizer.get_feature_names()\n"
   ]
  },
  {
   "cell_type": "markdown",
   "metadata": {},
   "source": [
    "#### 2.2.2 tf-idf sur les données test"
   ]
  },
  {
   "cell_type": "code",
   "execution_count": 57,
   "metadata": {},
   "outputs": [],
   "source": [
    "#initislisation du vectorizer\n",
    "tfidf_vectorizer = TfidfVectorizer(use_idf = True, max_features = 1000)\n",
    "#transformation des données\n",
    "X_tfidf_test= tfidf_vectorizer.fit_transform(X_test)"
   ]
  },
  {
   "cell_type": "code",
   "execution_count": 58,
   "metadata": {},
   "outputs": [
    {
     "data": {
      "text/plain": [
       "<7679x1000 sparse matrix of type '<class 'numpy.float64'>'\n",
       "\twith 258091 stored elements in Compressed Sparse Row format>"
      ]
     },
     "execution_count": 58,
     "metadata": {},
     "output_type": "execute_result"
    }
   ],
   "source": [
    "X_tfidf_test"
   ]
  },
  {
   "cell_type": "code",
   "execution_count": 59,
   "metadata": {},
   "outputs": [],
   "source": [
    "# récupération du premier vecteur\n",
    "first_vector_tfidfvectorizer_test=X_tfidf_test[0]"
   ]
  },
  {
   "cell_type": "code",
   "execution_count": 60,
   "metadata": {
    "scrolled": false
   },
   "outputs": [
    {
     "data": {
      "text/html": [
       "<div>\n",
       "<style scoped>\n",
       "    .dataframe tbody tr th:only-of-type {\n",
       "        vertical-align: middle;\n",
       "    }\n",
       "\n",
       "    .dataframe tbody tr th {\n",
       "        vertical-align: top;\n",
       "    }\n",
       "\n",
       "    .dataframe thead th {\n",
       "        text-align: right;\n",
       "    }\n",
       "</style>\n",
       "<table border=\"1\" class=\"dataframe\">\n",
       "  <thead>\n",
       "    <tr style=\"text-align: right;\">\n",
       "      <th></th>\n",
       "      <th>tfidf</th>\n",
       "    </tr>\n",
       "  </thead>\n",
       "  <tbody>\n",
       "    <tr>\n",
       "      <td>dialog</td>\n",
       "      <td>0.415007</td>\n",
       "    </tr>\n",
       "    <tr>\n",
       "      <td>assembl</td>\n",
       "      <td>0.370170</td>\n",
       "    </tr>\n",
       "    <tr>\n",
       "      <td>differ</td>\n",
       "      <td>0.366964</td>\n",
       "    </tr>\n",
       "    <tr>\n",
       "      <td>framework</td>\n",
       "      <td>0.324501</td>\n",
       "    </tr>\n",
       "    <tr>\n",
       "      <td>depend</td>\n",
       "      <td>0.321953</td>\n",
       "    </tr>\n",
       "    <tr>\n",
       "      <td>...</td>\n",
       "      <td>...</td>\n",
       "    </tr>\n",
       "    <tr>\n",
       "      <td>feel</td>\n",
       "      <td>0.000000</td>\n",
       "    </tr>\n",
       "    <tr>\n",
       "      <td>field</td>\n",
       "      <td>0.000000</td>\n",
       "    </tr>\n",
       "    <tr>\n",
       "      <td>figur</td>\n",
       "      <td>0.000000</td>\n",
       "    </tr>\n",
       "    <tr>\n",
       "      <td>file</td>\n",
       "      <td>0.000000</td>\n",
       "    </tr>\n",
       "    <tr>\n",
       "      <td>yet</td>\n",
       "      <td>0.000000</td>\n",
       "    </tr>\n",
       "  </tbody>\n",
       "</table>\n",
       "<p>1000 rows × 1 columns</p>\n",
       "</div>"
      ],
      "text/plain": [
       "              tfidf\n",
       "dialog     0.415007\n",
       "assembl    0.370170\n",
       "differ     0.366964\n",
       "framework  0.324501\n",
       "depend     0.321953\n",
       "...             ...\n",
       "feel       0.000000\n",
       "field      0.000000\n",
       "figur      0.000000\n",
       "file       0.000000\n",
       "yet        0.000000\n",
       "\n",
       "[1000 rows x 1 columns]"
      ]
     },
     "execution_count": 60,
     "metadata": {},
     "output_type": "execute_result"
    }
   ],
   "source": [
    "# placement des valeurs tf-idf values dans un pandas data frame\n",
    "df_lemm_tfidfd_test = pd.DataFrame(first_vector_tfidfvectorizer_test.T.todense(), \n",
    "                                   index = tfidf_vectorizer.get_feature_names(), columns = [\"tfidf\"])\n",
    "df_lemm_tfidfd_test.sort_values(by = [\"tfidf\"],ascending=False)"
   ]
  },
  {
   "cell_type": "markdown",
   "metadata": {},
   "source": [
    "### 2.3 Méthode 1: Approche non supervisée"
   ]
  },
  {
   "cell_type": "markdown",
   "metadata": {},
   "source": [
    "#### 2.3.1 Latent Dirichlet Allocation (méthode non-supervisée)  -  train dataset"
   ]
  },
  {
   "cell_type": "code",
   "execution_count": 61,
   "metadata": {},
   "outputs": [
    {
     "data": {
      "text/plain": [
       "LatentDirichletAllocation(batch_size=128, doc_topic_prior=None,\n",
       "                          evaluate_every=-1, learning_decay=0.7,\n",
       "                          learning_method='online', learning_offset=50,\n",
       "                          max_doc_update_iter=100, max_iter=5,\n",
       "                          mean_change_tol=0.001, n_components=10, n_jobs=None,\n",
       "                          perp_tol=0.1, random_state=0, topic_word_prior=None,\n",
       "                          total_samples=1000000.0, verbose=0)"
      ]
     },
     "execution_count": 61,
     "metadata": {},
     "output_type": "execute_result"
    }
   ],
   "source": [
    "n_topics = 10\n",
    "\n",
    "# Créer le modèle LDA\n",
    "lda_model = LatentDirichletAllocation(\n",
    "        n_components =n_topics, \n",
    "        max_iter = 5, \n",
    "        learning_method ='online', \n",
    "        learning_offset = 50,\n",
    "        random_state = 0)\n",
    "\n",
    "# Fitter sur les données\n",
    "lda_model.fit(X_tfidf_train)"
   ]
  },
  {
   "cell_type": "code",
   "execution_count": 62,
   "metadata": {},
   "outputs": [
    {
     "name": "stderr",
     "output_type": "stream",
     "text": [
      "C:\\Users\\alice\\Anaconda3\\lib\\site-packages\\pyLDAvis\\_prepare.py:257: FutureWarning: Sorting because non-concatenation axis is not aligned. A future version\n",
      "of pandas will change to not sort by default.\n",
      "\n",
      "To accept the future behavior, pass 'sort=False'.\n",
      "\n",
      "To retain the current behavior and silence the warning, pass 'sort=True'.\n",
      "\n",
      "  return pd.concat([default_term_info] + list(topic_dfs))\n"
     ]
    },
    {
     "data": {
      "text/html": [
       "\n",
       "<link rel=\"stylesheet\" type=\"text/css\" href=\"https://cdn.rawgit.com/bmabey/pyLDAvis/files/ldavis.v1.0.0.css\">\n",
       "\n",
       "\n",
       "<div id=\"ldavis_el828427565884611287850554656\"></div>\n",
       "<script type=\"text/javascript\">\n",
       "\n",
       "var ldavis_el828427565884611287850554656_data = {\"mdsDat\": {\"x\": [-31.15667724609375, 89.14458465576172, 144.23443603515625, -87.51577758789062, -91.9834976196289, 25.14387321472168, 28.302696228027344, 84.6608657836914, -147.08624267578125, -27.987613677978516], \"y\": [99.48070526123047, -105.97016143798828, -16.16023063659668, -176.81617736816406, 13.456774711608887, -5.964596271514893, -191.9873046875, 84.3142318725586, -76.34165954589844, -86.545166015625], \"topics\": [1, 2, 3, 4, 5, 6, 7, 8, 9, 10], \"cluster\": [1, 1, 1, 1, 1, 1, 1, 1, 1, 1], \"Freq\": [16.303563905316505, 15.10230136592221, 13.18408920559012, 13.07189225614913, 11.473478505946522, 10.59389145941751, 9.394845438009694, 5.80066247887413, 2.7737170023163364, 2.3015583824578507]}, \"tinfo\": {\"Category\": [\"Default\", \"Default\", \"Default\", \"Default\", \"Default\", \"Default\", \"Default\", \"Default\", \"Default\", \"Default\", \"Default\", \"Default\", \"Default\", \"Default\", \"Default\", \"Default\", \"Default\", \"Default\", \"Default\", \"Default\", \"Default\", \"Default\", \"Default\", \"Default\", \"Default\", \"Default\", \"Default\", \"Default\", \"Default\", \"Default\", \"Topic1\", \"Topic1\", \"Topic1\", \"Topic1\", \"Topic1\", \"Topic1\", \"Topic1\", \"Topic1\", \"Topic1\", \"Topic1\", \"Topic1\", \"Topic1\", \"Topic1\", \"Topic1\", \"Topic1\", \"Topic1\", \"Topic1\", \"Topic1\", \"Topic1\", \"Topic1\", \"Topic1\", \"Topic1\", \"Topic1\", \"Topic1\", \"Topic1\", \"Topic1\", \"Topic1\", \"Topic1\", \"Topic1\", \"Topic1\", \"Topic1\", \"Topic1\", \"Topic1\", \"Topic1\", \"Topic1\", \"Topic1\", \"Topic1\", \"Topic1\", \"Topic1\", \"Topic1\", \"Topic1\", \"Topic1\", \"Topic1\", \"Topic1\", \"Topic1\", \"Topic1\", \"Topic1\", \"Topic1\", \"Topic1\", \"Topic1\", \"Topic1\", \"Topic1\", \"Topic1\", \"Topic1\", \"Topic1\", \"Topic1\", \"Topic1\", \"Topic1\", \"Topic1\", \"Topic1\", \"Topic1\", \"Topic1\", \"Topic1\", \"Topic2\", \"Topic2\", \"Topic2\", \"Topic2\", \"Topic2\", \"Topic2\", \"Topic2\", \"Topic2\", \"Topic2\", \"Topic2\", \"Topic2\", \"Topic2\", \"Topic2\", \"Topic2\", \"Topic2\", \"Topic2\", \"Topic2\", \"Topic2\", \"Topic2\", \"Topic2\", \"Topic2\", \"Topic2\", \"Topic2\", \"Topic2\", \"Topic2\", \"Topic2\", \"Topic2\", \"Topic2\", \"Topic2\", \"Topic2\", \"Topic2\", \"Topic2\", \"Topic2\", \"Topic2\", \"Topic2\", \"Topic2\", \"Topic2\", \"Topic2\", \"Topic2\", \"Topic2\", \"Topic2\", \"Topic2\", \"Topic2\", \"Topic2\", \"Topic2\", \"Topic2\", \"Topic2\", \"Topic2\", \"Topic2\", \"Topic2\", \"Topic2\", \"Topic2\", \"Topic2\", \"Topic2\", \"Topic2\", \"Topic2\", \"Topic2\", \"Topic3\", \"Topic3\", \"Topic3\", \"Topic3\", \"Topic3\", \"Topic3\", \"Topic3\", \"Topic3\", \"Topic3\", \"Topic3\", \"Topic3\", \"Topic3\", \"Topic3\", \"Topic3\", \"Topic3\", \"Topic3\", \"Topic3\", \"Topic3\", \"Topic3\", \"Topic3\", \"Topic3\", \"Topic3\", \"Topic3\", \"Topic3\", \"Topic3\", \"Topic3\", \"Topic3\", \"Topic3\", \"Topic3\", \"Topic3\", \"Topic3\", \"Topic3\", \"Topic3\", \"Topic3\", \"Topic3\", \"Topic3\", \"Topic3\", \"Topic3\", \"Topic3\", \"Topic3\", \"Topic3\", \"Topic3\", \"Topic3\", \"Topic3\", \"Topic3\", \"Topic3\", \"Topic3\", \"Topic3\", \"Topic4\", \"Topic4\", \"Topic4\", \"Topic4\", \"Topic4\", \"Topic4\", \"Topic4\", \"Topic4\", \"Topic4\", \"Topic4\", \"Topic4\", \"Topic4\", \"Topic4\", \"Topic4\", \"Topic4\", \"Topic4\", \"Topic4\", \"Topic4\", \"Topic4\", \"Topic4\", \"Topic4\", \"Topic4\", \"Topic4\", \"Topic4\", \"Topic4\", \"Topic4\", \"Topic4\", \"Topic4\", \"Topic4\", \"Topic4\", \"Topic4\", \"Topic4\", \"Topic4\", \"Topic4\", \"Topic4\", \"Topic4\", \"Topic4\", \"Topic4\", \"Topic4\", \"Topic4\", \"Topic4\", \"Topic4\", \"Topic4\", \"Topic4\", \"Topic4\", \"Topic4\", \"Topic4\", \"Topic4\", \"Topic4\", \"Topic4\", \"Topic4\", \"Topic4\", \"Topic4\", \"Topic4\", \"Topic4\", \"Topic4\", \"Topic4\", \"Topic4\", \"Topic4\", \"Topic5\", \"Topic5\", \"Topic5\", \"Topic5\", \"Topic5\", \"Topic5\", \"Topic5\", \"Topic5\", \"Topic5\", \"Topic5\", \"Topic5\", \"Topic5\", \"Topic5\", \"Topic5\", \"Topic5\", \"Topic5\", \"Topic5\", \"Topic5\", \"Topic5\", \"Topic5\", \"Topic5\", \"Topic5\", \"Topic5\", \"Topic5\", \"Topic5\", \"Topic5\", \"Topic5\", \"Topic5\", \"Topic5\", \"Topic5\", \"Topic5\", \"Topic5\", \"Topic5\", \"Topic5\", \"Topic5\", \"Topic5\", \"Topic5\", \"Topic5\", \"Topic5\", \"Topic5\", \"Topic5\", \"Topic5\", \"Topic5\", \"Topic5\", \"Topic5\", \"Topic5\", \"Topic5\", \"Topic5\", \"Topic5\", \"Topic6\", \"Topic6\", \"Topic6\", \"Topic6\", \"Topic6\", \"Topic6\", \"Topic6\", \"Topic6\", \"Topic6\", \"Topic6\", \"Topic6\", \"Topic6\", \"Topic6\", \"Topic6\", \"Topic6\", \"Topic6\", \"Topic6\", \"Topic6\", \"Topic6\", \"Topic6\", \"Topic6\", \"Topic6\", \"Topic6\", \"Topic6\", \"Topic6\", \"Topic6\", \"Topic6\", \"Topic6\", \"Topic6\", \"Topic6\", \"Topic6\", \"Topic6\", \"Topic6\", \"Topic6\", \"Topic6\", \"Topic6\", \"Topic6\", \"Topic6\", \"Topic6\", \"Topic6\", \"Topic6\", \"Topic6\", \"Topic6\", \"Topic6\", \"Topic6\", \"Topic6\", \"Topic6\", \"Topic6\", \"Topic6\", \"Topic6\", \"Topic6\", \"Topic6\", \"Topic6\", \"Topic6\", \"Topic6\", \"Topic6\", \"Topic6\", \"Topic6\", \"Topic7\", \"Topic7\", \"Topic7\", \"Topic7\", \"Topic7\", \"Topic7\", \"Topic7\", \"Topic7\", \"Topic7\", \"Topic7\", \"Topic7\", \"Topic7\", \"Topic7\", \"Topic7\", \"Topic7\", \"Topic7\", \"Topic7\", \"Topic7\", \"Topic7\", \"Topic7\", \"Topic7\", \"Topic7\", \"Topic7\", \"Topic7\", \"Topic7\", \"Topic7\", \"Topic7\", \"Topic7\", \"Topic7\", \"Topic7\", \"Topic7\", \"Topic7\", \"Topic7\", \"Topic7\", \"Topic7\", \"Topic7\", \"Topic7\", \"Topic7\", \"Topic7\", \"Topic7\", \"Topic7\", \"Topic7\", \"Topic7\", \"Topic7\", \"Topic7\", \"Topic7\", \"Topic7\", \"Topic7\", \"Topic7\", \"Topic8\", \"Topic8\", \"Topic8\", \"Topic8\", \"Topic8\", \"Topic8\", \"Topic8\", \"Topic8\", \"Topic8\", \"Topic8\", \"Topic8\", \"Topic8\", \"Topic8\", \"Topic8\", \"Topic8\", \"Topic8\", \"Topic8\", \"Topic8\", \"Topic8\", \"Topic8\", \"Topic8\", \"Topic8\", \"Topic8\", \"Topic8\", \"Topic8\", \"Topic8\", \"Topic8\", \"Topic8\", \"Topic8\", \"Topic8\", \"Topic8\", \"Topic8\", \"Topic8\", \"Topic8\", \"Topic8\", \"Topic8\", \"Topic8\", \"Topic8\", \"Topic8\", \"Topic8\", \"Topic8\", \"Topic8\", \"Topic8\", \"Topic8\", \"Topic9\", \"Topic9\", \"Topic9\", \"Topic9\", \"Topic9\", \"Topic9\", \"Topic9\", \"Topic9\", \"Topic9\", \"Topic9\", \"Topic9\", \"Topic9\", \"Topic9\", \"Topic9\", \"Topic9\", \"Topic9\", \"Topic9\", \"Topic9\", \"Topic9\", \"Topic9\", \"Topic9\", \"Topic9\", \"Topic9\", \"Topic9\", \"Topic9\", \"Topic9\", \"Topic9\", \"Topic9\", \"Topic9\", \"Topic9\", \"Topic9\", \"Topic9\", \"Topic9\", \"Topic9\", \"Topic9\", \"Topic9\", \"Topic9\", \"Topic9\", \"Topic9\", \"Topic9\", \"Topic10\", \"Topic10\", \"Topic10\", \"Topic10\", \"Topic10\", \"Topic10\", \"Topic10\", \"Topic10\", \"Topic10\", \"Topic10\", \"Topic10\", \"Topic10\", \"Topic10\", \"Topic10\", \"Topic10\", \"Topic10\", \"Topic10\", \"Topic10\", \"Topic10\", \"Topic10\", \"Topic10\", \"Topic10\", \"Topic10\", \"Topic10\", \"Topic10\", \"Topic10\", \"Topic10\", \"Topic10\", \"Topic10\", \"Topic10\", \"Topic10\", \"Topic10\"], \"Freq\": [883.0, 373.0, 360.0, 333.0, 378.0, 279.0, 346.0, 933.0, 422.0, 526.0, 462.0, 399.0, 228.0, 204.0, 183.0, 175.0, 262.0, 243.0, 189.0, 209.0, 512.0, 355.0, 548.0, 180.0, 139.0, 316.0, 144.0, 121.0, 400.0, 277.0, 56.73390651975692, 45.38939338181725, 65.8847594941333, 73.86887228495702, 60.71783279521439, 46.079809563137836, 97.64241091833784, 38.76685190979116, 44.34900697940268, 40.22318284970012, 34.34043774003995, 42.37851860769125, 95.66134099829917, 33.33198603466575, 33.06945170981916, 44.106913915115825, 46.38724778820447, 46.37442033057063, 50.984286739365864, 53.81085306028783, 29.058384460829263, 39.042128071429545, 28.85178730802947, 26.91800222296264, 46.96364593642738, 47.19336372091308, 49.77384730385093, 42.01542305072218, 34.22773791658082, 138.98163227206277, 157.4578502352843, 102.47423559279612, 94.3680413285246, 85.61999613366989, 156.35208171285058, 184.96265506798846, 117.50269590074163, 196.93238435415017, 96.51007653673808, 104.62069809448954, 139.04460133198242, 210.3786493879557, 84.96792959429214, 87.24014638248428, 100.55917014803867, 113.69581440629038, 147.75239460621324, 95.53513370129672, 120.08305788302776, 117.85787715624794, 129.6026925869394, 142.33660254056025, 77.05904046872749, 84.42379787826415, 84.46962496208434, 82.16432642996989, 96.98891796305743, 96.94090896942365, 87.56038533715795, 92.39256654457094, 86.5146110015652, 85.74743060523485, 85.65894349678825, 44.74979451546055, 66.97802696961773, 63.50938624369872, 70.6002593927699, 112.85563982033011, 43.3211195815313, 76.7522103219423, 52.924747290535976, 90.55310589537179, 40.40868960590514, 32.45205159029413, 79.03979262415503, 38.89632537717065, 50.54552654511608, 77.33364944029293, 50.83272967246825, 215.70735731661756, 268.4007223988785, 64.91540801607987, 30.43147721459741, 38.70220356922085, 55.54585527300774, 370.8108727113793, 50.10361294587487, 41.22606486182985, 22.912963388892226, 32.293440958959344, 36.42767223277615, 52.228460909170245, 40.80214249193544, 131.42568600908888, 112.5606924159255, 392.9434198181444, 154.90698497588724, 101.20331360537917, 238.26405203616125, 266.7230729630118, 242.71714146635412, 127.87774201705558, 210.0693603750439, 309.9309777312098, 161.15985729808813, 217.65459946514662, 207.92674351887914, 98.67918070712496, 166.65958597807338, 103.41777761325417, 175.26965974697777, 129.30946378805504, 150.68671699922703, 154.1005744535417, 157.55216339019313, 125.04585775817057, 97.28378939773187, 134.58921353771217, 117.50430292631924, 97.44527671980325, 94.74074421279143, 68.59349543933283, 55.21078834382754, 42.70466050288146, 65.74784094236244, 79.57904381456491, 43.68390291796915, 43.192810949227585, 42.34411082062667, 42.094459730856244, 59.46417684937019, 87.50685374442665, 90.69910399482536, 193.96984065202423, 115.39974903003097, 74.3794530636802, 148.20281342794894, 198.49092854089415, 87.29641056259055, 54.021654771469535, 48.08801490796467, 88.9456021547384, 107.24968555777652, 184.38283657979264, 257.4595192731922, 174.71726495734228, 121.75171024821961, 74.03572239950694, 49.885886043840834, 119.27996880219408, 439.1974646819523, 162.84765291489518, 90.0089528605459, 168.17934154769745, 78.65931875281757, 110.84990567549542, 126.40106335224235, 90.3974288763294, 110.1692900176141, 110.52924138704941, 118.18492221445588, 113.76198700574365, 102.16775623431384, 91.45199800036931, 91.17615590562328, 93.7576903300014, 88.42734347207201, 87.65606939834996, 116.82326315273227, 91.20469534973748, 50.289767652549884, 47.441908689814326, 38.74027627390157, 64.21457365628723, 62.06681680062523, 72.58729006941178, 25.338488737518446, 117.68027101455522, 48.89392459829414, 36.05171064500064, 42.874213089559895, 56.8699498010031, 71.8684479637892, 39.112980524079454, 72.64049803788305, 42.195936733302915, 49.123725782592004, 43.52087268193937, 60.90963865045742, 26.098693318979358, 58.112063352583284, 135.71651212176909, 84.07674608055014, 45.9815558687921, 179.2154815908545, 52.27976706222669, 42.38665529997162, 114.6752120986808, 169.422503327747, 137.16226693461337, 195.0889284556322, 180.5259208156516, 71.51663824903324, 141.20640189592027, 210.9118849612588, 115.33637054147063, 65.1043512723928, 120.99285635139363, 162.16104972902662, 79.87576177644817, 121.8681473856229, 140.6520056641671, 111.73752671925988, 115.8107513981743, 78.86009709537176, 100.87096544869208, 108.25111979280985, 96.89689223609976, 99.81426224922652, 112.29939735682672, 91.2041654419253, 84.29348791729615, 97.62367825491184, 99.25035105780552, 91.17861632587834, 91.58187531928077, 92.54354892103584, 65.70428873312684, 29.268415201455102, 56.798753247748174, 71.1944490573304, 97.71406026942185, 76.44984642818898, 65.95723692908454, 154.1692225809527, 102.23119490914509, 89.25949563589971, 179.83973044371604, 38.45499552223414, 87.65448000123659, 38.036406682173656, 64.7753684846685, 55.932833723761085, 188.72001816974168, 130.8727815564895, 77.8335447310273, 157.45899679582774, 46.357535213648, 34.62047025123041, 52.38168219995846, 41.464431577234635, 59.23473254311342, 94.2278320854173, 43.992987176792774, 75.75412973281203, 74.29820486566837, 52.24646631714644, 206.27988920010208, 81.7059555034472, 85.19875163891632, 203.94120647760633, 149.0208063870519, 130.35978393653886, 109.32790313395348, 115.71379657336576, 64.86677939259238, 91.24525171141978, 112.09678013805284, 114.14550634499666, 95.14667514177309, 101.29330997549866, 100.18065195682752, 79.14124916134028, 84.30139003101078, 76.39244975233181, 76.54989910574137, 51.56380828679531, 39.46142739694435, 63.131711972369025, 27.698430043539354, 40.387987499565355, 90.66766487072313, 64.87959534173247, 44.887264612759864, 55.020325961202595, 42.09964622773088, 39.13459571793993, 35.365657242046666, 28.156558199699255, 34.91795972763708, 37.87040967940703, 39.11519928764556, 66.23426556511208, 29.619824813453466, 35.96986698525353, 32.41356295871775, 43.7859110492992, 34.38853285260201, 25.83311681325856, 39.88586804911005, 29.917594733946867, 188.42183259347775, 42.525634582798006, 23.88867210069903, 37.35220712786586, 77.94014271942181, 124.38231622003926, 173.5237557948356, 117.76141734967699, 93.67901359794133, 152.3407487993182, 100.89409706653302, 132.53934703739384, 131.06070001835914, 131.22453696683144, 59.646640590317936, 74.52234778089446, 105.13361636426515, 107.1139093286102, 105.1784831195568, 98.73103442897192, 75.7681252275697, 107.48766495862007, 82.17208800003434, 104.39653969337581, 67.71464974508858, 63.747143305857115, 82.28119001808919, 91.29554964477272, 86.82931590979572, 67.0325618274255, 72.40830710968179, 66.50493509928579, 64.89955304015577, 52.25904445296355, 96.07733668467839, 39.78699834939039, 92.58248213256536, 39.68339508522233, 53.230540017710105, 42.68446414100145, 163.27707995247167, 41.99655729113506, 196.8467291491545, 166.4737294264732, 31.444018079034322, 52.95494779554873, 93.22292925189619, 109.9132141554871, 215.7682303886661, 65.92512969181313, 95.5758885088404, 41.223283525127606, 31.367504264559546, 22.850279159957147, 293.7758757927011, 222.96049765459128, 36.794135892548574, 70.02671002835291, 50.48533567606539, 25.22918330455791, 37.33803308146859, 16.893617631696323, 98.79751990768027, 118.86453208897439, 116.12441483046436, 75.41235027505058, 132.70499603240313, 102.96112764611549, 165.19346021942465, 103.12251154269077, 99.12824009822566, 95.89158503829, 100.02160279891115, 94.81519896331754, 76.22900231921084, 59.28860881446539, 82.1533264480842, 82.48764833479068, 74.93714151108428, 78.89797406630574, 74.85742940402544, 70.61766148258928, 70.2806777082413, 47.375199121716314, 74.61209046252058, 50.97251672009182, 62.681565484792785, 274.0458218183842, 256.25675771221665, 55.51902887269535, 35.36172966511245, 106.03521041140496, 77.11385089082503, 50.79532193339987, 87.8524419300233, 38.41415191979985, 22.248639921862047, 112.97048895884504, 23.384675363504655, 27.277843911909645, 31.340095938436964, 20.59113055553239, 25.348716841489072, 34.04509717908174, 181.44010206919944, 16.061183750293942, 83.46681612681321, 13.847160146652367, 20.36098697270387, 16.243641545690103, 37.90540365389212, 40.198223455819864, 88.0365056212989, 55.78547382149299, 111.83623435583323, 36.46064375567789, 99.51840225371508, 66.56841340617761, 43.588795091987684, 34.24897254014415, 46.546373609525496, 46.66751945517624, 47.37105456710219, 43.75930800975951, 43.822009374489994, 38.011142367760534, 100.25699012200657, 178.73699418384192, 310.62360898260954, 71.57765061342502, 180.42799190299667, 67.55793766758941, 98.47418745361193, 232.42031746005904, 74.47502109271042, 60.97208431447414, 47.684897289704395, 97.87927535569139, 73.85197955053934, 47.484693511889525, 38.33369043391637, 111.45234930166265, 26.421318959386504, 101.67670305616562, 25.458575389016996, 23.82395658332422, 17.691872550468045, 63.11126754345528, 249.6503941795736, 57.55152696087111, 28.481100115950717, 15.747878571095168, 12.865437628688266, 10.142439499913351, 10.38202134502182, 27.235004173814243, 75.14982622358036, 45.111588917417194, 48.322152553098356, 58.61094230367271, 95.64390713484035, 33.394983122752585, 36.484027204071076, 33.86369093116783, 33.54654502575632, 38.15245892426959, 106.99568297926967, 275.7168733417226, 320.6322833845548, 171.6367776627641, 147.91353196081582, 99.53347104316965, 277.85365390030523, 285.71919962121774, 100.50890107989143, 63.646377432729444, 40.294434309774, 95.61399433043188, 37.10366013211261, 97.41763266806375, 45.91708407676053, 23.322806703463506, 34.019300268487676, 50.77481970877868, 52.281898754973575, 16.304034594376045, 32.833896564206746, 26.887096335966138, 63.521562665757536, 46.72523605325407, 52.22938535758025, 82.38244783346313, 5.171534285975578, 25.602450776959124, 19.945268018096, 19.251190397513646, 22.327613911497586, 18.52482645784733], \"Term\": [\"string\", \"may\", \"extern\", \"reflect\", \"certain\", \"team\", \"wrong\", \"final\", \"sql\", \"tag\", \"test\", \"date\", \"bunch\", \"ensur\", \"tr\", \"regist\", \"cooki\", \"function\", \"per\", \"render\", \"server\", \"question\", \"publish\", \"partial\", \"hidden\", \"id\", \"center\", \"whatev\", \"seen\", \"array\", \"version\", \"foo\", \"dictionari\", \"java\", \"deploy\", \"gener\", \"merg\", \"handler\", \"collect\", \"solut\", \"us\", \"pleas\", \"lastnam\", \"detect\", \"comment\", \"length\", \"jar\", \"live\", \"export\", \"algorithm\", \"simpli\", \"plugin\", \"end\", \"pass\", \"long\", \"otherwis\", \"invok\", \"maintain\", \"necessari\", \"linq\", \"js\", \"programmat\", \"group\", \"tool\", \"never\", \"whether\", \"produc\", \"applic\", \"dialog\", \"machin\", \"app\", \"usag\", \"suppos\", \"thread\", \"world\", \"time\", \"click\", \"quit\", \"rule\", \"oper\", \"want\", \"final\", \"tab\", \"index\", \"queri\", \"start\", \"termin\", \"vs\", \"first\", \"go\", \"see\", \"sometim\", \"databas\", \"name\", \"etc\", \"struct\", \"callback\", \"std\", \"def\", \"dim\", \"variou\", \"consolewritelin\", \"descript\", \"obviou\", \"due\", \"git\", \"imag\", \"constructor\", \"typeof\", \"frame\", \"interact\", \"menu\", \"submit\", \"abl\", \"book\", \"publish\", \"free\", \"boolean\", \"ref\", \"referenc\", \"consol\", \"join\", \"even\", \"static\", \"probabl\", \"child\", \"array\", \"bad\", \"type\", \"obvious\", \"retriev\", \"visibl\", \"minut\", \"string\", \"protect\", \"give\", \"valid\", \"involv\", \"load\", \"varchar\", \"nice\", \"valu\", \"nativ\", \"click\", \"go\", \"byte\", \"part\", \"usag\", \"want\", \"index\", \"switch\", \"goal\", \"given\", \"microsoft\", \"box\", \"practic\", \"bin\", \"usernam\", \"jqueri\", \"build\", \"written\", \"effici\", \"replac\", \"studio\", \"form\", \"link\", \"display\", \"virtual\", \"domain\", \"come\", \"might\", \"page\", \"aspnet\", \"int\", \"proper\", \"browser\", \"peopl\", \"describ\", \"2010\", \"com\", \"final\", \"vector\", \"debugg\", \"rule\", \"mous\", \"screen\", \"ever\", \"commun\", \"whether\", \"termin\", \"usag\", \"go\", \"applic\", \"list\", \"app\", \"click\", \"want\", \"cell\", \"whenev\", \"hibern\", \"boost\", \"user\", \"matter\", \"line\", \"write\", \"script\", \"xml\", \"close\", \"chang\", \"param\", \"catch\", \"found\", \"text\", \"import\", \"span\", \"easi\", \"video\", \"request\", \"anim\", \"schema\", \"guid\", \"current\", \"last\", \"pars\", \"builtin\", \"icon\", \"select\", \"style\", \"keyword\", \"class\", \"implement\", \"id\", \"cast\", \"empti\", \"test\", \"bind\", \"method\", \"dll\", \"convers\", \"tmp\", \"exactli\", \"paramet\", \"func\", \"via\", \"remot\", \"shell\", \"job\", \"context\", \"json\", \"give\", \"screen\", \"instanc\", \"vs\", \"child\", \"cell\", \"valid\", \"go\", \"copi\", \"ui\", \"share\", \"loop\", \"attribut\", \"root\", \"redirect\", \"mysql\", \"encod\", \"pattern\", \"uri\", \"right\", \"ajax\", \"address\", \"upgrad\", \"usercontrol\", \"asp\", \"site\", \"session\", \"repositori\", \"success\", \"authent\", \"immedi\", \"apach\", \"section\", \"powershel\", \"draw\", \"random\", \"busi\", \"wcf\", \"paramet\", \"across\", \"branch\", \"use\", \"idea\", \"way\", \"json\", \"convers\", \"send\", \"func\", \"server\", \"final\", \"applic\", \"go\", \"usag\", \"via\", \"want\", \"app\", \"vs\", \"basic\", \"socket\", \"away\", \"xmln\", \"assum\", \"warn\", \"spring\", \"guess\", \"modul\", \"caus\", \"thrown\", \"doc\", \"interest\", \"upload\", \"normal\", \"timeout\", \"captur\", \"softwar\", \"local\", \"rang\", \"ca\", \"public\", \"assembl\", \"trace\", \"inner\", \"expect\", \"delphi\", \"faster\", \"sender\", \"throw\", \"thread\", \"servic\", \"migrat\", \"visibl\", \"termin\", \"exactli\", \"ever\", \"byte\", \"nice\", \"td\", \"clean\", \"minut\", \"publish\", \"retriev\", \"obvious\", \"obj\", \"child\", \"valu\", \"click\", \"configur\", \"far\", \"rule\", \"go\", \"string\", \"idea\", \"usag\", \"applic\", \"give\", \"var\", \"key\", \"full\", \"day\", \"titl\", \"print\", \"care\", \"datetim\", \"unfortun\", \"code\", \"rout\", \"mean\", \"exit\", \"red\", \"inherit\", \"question\", \"coupl\", \"instanti\", \"read\", \"rel\", \"ident\", \"tag\", \"seen\", \"constraint\", \"littl\", \"db\", \"html\", \"button\", \"charact\", \"os\", \"fill\", \"label\", \"hand\", \"sql\", \"obj\", \"valid\", \"job\", \"object\", \"load\", \"databas\", \"nativ\", \"rest\", \"namespac\", \"retriev\", \"want\", \"oper\", \"go\", \"vs\", \"time\", \"transact\", \"node\", \"process\", \"dom\", \"origin\", \"sql\", \"date\", \"2005\", \"ms\", \"equival\", \"deal\", \"scenario\", \"namespac\", \"mode\", \"contain\", \"configur\", \"leav\", \"techniqu\", \"year\", \"built\", \"multipl\", \"program\", \"server\", \"php\", \"store\", \"commit\", \"phone\", \"rel\", \"2008\", \"repeat\", \"question\", \"monitor\", \"tag\", \"littl\", \"databas\", \"usag\", \"abstract\", \"margin\", \"css\", \"rule\", \"want\", \"use\", \"applic\", \"cell\", \"usual\", \"ensur\", \"certain\", \"enter\", \"bunch\", \"transform\", \"center\", \"wrong\", \"li\", \"token\", \"speed\", \"partial\", \"space\", \"find\", \"binari\", \"cooki\", \"sequenc\", \"function\", \"append\", \"special\", \"30\", \"privat\", \"string\", \"overrid\", \"note\", \"els\", \"issu\", \"sharepoint\", \"download\", \"within\", \"test\", \"array\", \"queri\", \"list\", \"final\", \"context\", \"js\", \"real\", \"doubl\", \"want\", \"textbox\", \"team\", \"reflect\", \"tr\", \"regist\", \"whatev\", \"extern\", \"may\", \"hidden\", \"cach\", \"fail\", \"per\", \"small\", \"render\", \"wonder\", \"syntax\", \"person\", \"within\", \"hand\", \"2010\", \"take\", \"sdk\", \"test\", \"certain\", \"tag\", \"string\", \"bean\", \"id\", \"call\", \"flash\", \"format\", \"exist\"], \"Total\": [883.0, 373.0, 360.0, 333.0, 378.0, 279.0, 346.0, 933.0, 422.0, 526.0, 462.0, 399.0, 228.0, 204.0, 183.0, 175.0, 262.0, 243.0, 189.0, 209.0, 512.0, 355.0, 548.0, 180.0, 139.0, 316.0, 144.0, 121.0, 400.0, 277.0, 64.45726693769836, 62.85762624329269, 93.01479263648291, 106.48351705903423, 87.66991887827955, 66.54918000747348, 142.08387005923592, 57.45396512381491, 67.93764021855569, 62.974187894402064, 53.9042956285334, 66.674928578848, 150.9976335071211, 53.35722516503245, 53.22852676295419, 73.13751886667826, 77.4863891178163, 79.63104549231811, 87.75824756185544, 92.72861616696235, 50.802545408217405, 72.9634643091213, 53.942450630485425, 50.69088331562738, 91.84121778112798, 95.87445605376769, 101.93708294033743, 86.9304248162361, 71.0501024366285, 289.2271457281909, 331.1683406281961, 216.29040228653238, 205.08663186512368, 184.6832081708616, 364.56960597067643, 452.9517932491118, 270.6597564965619, 553.7936012983882, 237.1594151443796, 270.08910899905584, 412.65439392693503, 832.9405650121263, 215.05912213200662, 230.66514526447406, 306.3622273089159, 394.6383512415231, 712.3149435428463, 327.8739538094003, 527.9325117049713, 523.201902072449, 730.5943999213675, 933.4099275827602, 222.98345939051075, 287.9448414983195, 299.7217449386004, 273.81654170464043, 535.5789555081012, 584.1866340070945, 365.79990117055735, 777.2074809366295, 394.9743676285842, 416.0565300232924, 552.1369769157659, 45.9933745958606, 69.29050990598527, 66.17622684435234, 74.6770725938715, 119.69491903918176, 47.15936460542562, 83.80220792314127, 58.67938521755218, 100.51625023900462, 45.77826885362839, 37.07579491061807, 97.24536368965255, 48.497853116896614, 64.18095262297504, 98.83518215456515, 65.72968534327191, 289.3835869282342, 364.6719187780406, 90.21100218670406, 43.57407680525142, 55.664646392143325, 80.33156811358089, 548.9472306768586, 76.77752281253895, 63.53220975904055, 35.86900269441998, 51.09701616273533, 58.13559651860189, 84.73407185597782, 67.6019567037804, 220.95981786671882, 191.50885146946408, 746.8799308485084, 277.5175898683857, 180.5741049868003, 508.3588799624347, 588.3639763920877, 561.9467077201911, 252.81858203992547, 497.8627382479985, 883.879626543401, 364.15554198060266, 597.8444135046603, 601.0665756109048, 185.24732487169402, 462.2085088311143, 206.07389477261114, 624.6542087274481, 372.1695925316994, 543.7206968757265, 712.3149435428463, 777.2074809366295, 511.9395784824593, 217.1865005639759, 832.9405650121263, 730.5943999213675, 287.9448414983195, 95.98280980048249, 69.83565104381978, 56.48105314077564, 43.9467679041466, 69.41498910059272, 84.5894233097787, 47.79563616669091, 47.25991334197243, 48.9883191588845, 48.70748191671853, 70.40117838531164, 105.1275291848518, 109.8592999818529, 238.73884211166762, 143.3525367481958, 94.49436090723921, 190.17188113184523, 255.11206792009136, 113.99694437250093, 73.27654869458505, 66.6370497652859, 125.94737079929715, 151.93636268896654, 263.6630633502526, 415.65250591853516, 283.8681560228209, 205.70018389463434, 125.6282418423866, 87.66476701258394, 214.81600750495332, 933.4099275827602, 324.807121451974, 172.36835639843383, 527.9325117049713, 145.90070753922194, 333.1870143855184, 489.97997838425084, 241.63002168333588, 452.9517932491118, 535.5789555081012, 832.9405650121263, 777.2074809366295, 553.7936012983882, 381.27074478814376, 412.65439392693503, 712.3149435428463, 730.5943999213675, 407.6388278074785, 118.80690427520435, 93.01037151979557, 51.53146237792905, 48.68362413173895, 39.982666718620386, 66.42443735813116, 64.22489301704226, 75.66154243889612, 26.580735477634413, 125.68864827175562, 52.26420345443619, 38.752907875844436, 46.63141011702369, 62.39182770213913, 79.22328479757786, 43.118483393651104, 81.02580432545221, 47.501202598006856, 55.429517342985285, 49.52702589672454, 69.76528486610484, 30.10930584555687, 67.63102493083666, 158.37534247712853, 98.50546597003131, 54.517464105422434, 215.7681389989449, 64.78661353157153, 53.8902420245523, 147.46914595239656, 224.10786230971152, 190.43407204656873, 329.1449781006876, 316.3887653670755, 97.01802598342037, 261.55062399197493, 462.3093117752074, 199.33812214727175, 89.69812482948988, 227.86017227913194, 423.52269375763916, 131.37278098083715, 301.0190532825208, 416.679973005535, 291.43184387410105, 322.4558671060242, 138.27966166564096, 256.62338710557884, 319.8516799328782, 240.13007187614986, 313.47185349066, 597.8444135046603, 333.1870143855184, 208.34969088618402, 584.1866340070945, 746.8799308485084, 407.6388278074785, 601.0665756109048, 777.2074809366295, 67.0571375040548, 30.51023071851294, 62.773819767596216, 81.72803296058082, 113.51821747540798, 91.08513616749175, 78.72710924528083, 186.05136456675456, 131.35497229559988, 117.87163682309574, 242.52760073746018, 51.980119324647774, 120.79732161477641, 52.42742187706564, 93.83996158292948, 83.4445259779346, 290.3990301442653, 211.9093135771287, 126.26355999265628, 259.2140084302647, 77.28560788171376, 62.60616809432876, 94.9589826195473, 75.96141469676903, 109.70681213599707, 178.00143668816403, 85.31494878780603, 149.32615691107193, 149.01538441322768, 105.10638938563794, 416.679973005535, 170.28367839543938, 181.97602843438813, 534.9593131977532, 366.77929746029724, 323.0729400001847, 313.47185349066, 423.52269375763916, 143.05054438641423, 291.43184387410105, 512.9912688212693, 933.4099275827602, 553.7936012983882, 777.2074809366295, 832.9405650121263, 322.4558671060242, 730.5943999213675, 412.65439392693503, 584.1866340070945, 52.80168340229376, 40.69908907987046, 66.7479214299602, 30.415697264398105, 44.54976262748928, 103.28288915142683, 79.98846935924117, 56.03091616066716, 70.23315435988243, 55.7541626187713, 52.56895589700841, 47.832398001034846, 39.038976333861086, 49.64101093265606, 54.792660423080484, 57.50333311113543, 101.48098964996369, 45.78214937268197, 55.65019068466555, 50.288743574132866, 68.12697141103929, 53.73820303838679, 40.48810325860628, 63.44311447323435, 48.43678146239655, 308.757661522713, 70.41477659639628, 39.74917859633023, 62.70012889152255, 139.97052595327742, 230.66514526447406, 334.6218464431936, 259.8624297865192, 252.81858203992547, 535.5789555081012, 301.0190532825208, 489.97997838425084, 511.9395784824593, 624.6542087274481, 145.54788028112603, 231.45801199784643, 497.8627382479985, 548.9472306768586, 561.9467077201911, 588.3639763920877, 302.1519278187385, 746.8799308485084, 372.1695925316994, 712.3149435428463, 260.85758080952314, 211.91861780930205, 527.9325117049713, 777.2074809366295, 883.879626543401, 366.77929746029724, 832.9405650121263, 553.7936012983882, 597.8444135046603, 58.68832833618918, 108.66133887367397, 45.497583963276874, 109.00175761139643, 47.15315241814507, 64.69602609172672, 55.029314007211894, 223.26050285062388, 58.90162163929611, 281.3817098492143, 242.62110690154168, 50.5175733300104, 85.12069966639399, 150.7927275575053, 180.50398427852204, 355.80422091425595, 111.54339575549994, 164.12101174987882, 72.00772632312474, 55.65640117469101, 40.89855036242082, 526.8974388082873, 400.6224591512955, 67.26676718432847, 136.11804712411896, 103.3189255843155, 52.164633858142125, 78.42502902592075, 36.33559875846986, 215.84825892433267, 278.86821958495364, 296.63132460401016, 181.91470505688417, 422.7299958518011, 302.1519278187385, 601.0665756109048, 319.8516799328782, 304.37760722851294, 462.2085088311143, 552.1369769157659, 543.7206968757265, 316.33383537859845, 152.99088184894904, 561.9467077201911, 730.5943999213675, 523.201902072449, 777.2074809366295, 584.1866340070945, 394.6383512415231, 85.98416708846287, 65.40795743949293, 107.37744042153197, 73.56712332112238, 91.16666905131808, 422.7299958518011, 399.66595641501056, 87.70817979694209, 57.18994355854842, 173.76207027111255, 130.33287005701877, 86.22371836866425, 152.99088184894904, 71.90613834675027, 44.66689256016503, 260.85758080952314, 54.01856065642596, 63.59908376871395, 76.96396011761563, 50.98142832810735, 65.19560102368685, 93.90187517217721, 512.9912688212693, 47.948713150534765, 250.99489787957228, 42.2695408761952, 69.23321072304695, 55.65640117469101, 131.3238679696867, 144.5374133561421, 355.80422091425595, 222.70581574502944, 526.8974388082873, 136.11804712411896, 552.1369769157659, 832.9405650121263, 277.6144500248918, 149.78016491984798, 500.0581589937642, 527.9325117049713, 730.5943999213675, 534.9593131977532, 553.7936012983882, 407.6388278074785, 111.98709871743611, 204.59687379004887, 378.3692099512095, 88.7414891589941, 228.66048534171452, 95.79211134708909, 144.15208966893718, 346.4098990280475, 119.64845594707441, 98.1660247743604, 81.80269274093848, 180.30774425492007, 138.76029998120848, 90.37612526210675, 80.71102365384196, 262.541360621677, 62.83628553123483, 243.0408580908435, 61.7199256737541, 67.51301208083656, 50.938102167540784, 194.60839653722627, 883.879626543401, 230.1235216716755, 128.50914741545037, 75.80260359007464, 69.51670056085071, 55.88213205461563, 57.619514296548004, 161.222171509865, 462.3093117752074, 277.5175898683857, 299.7217449386004, 381.27074478814376, 933.4099275827602, 240.13007187614986, 331.1683406281961, 260.5065089483381, 259.5693979897808, 730.5943999213675, 108.00130047560697, 279.7269609841327, 333.95307674675126, 183.15287338896917, 175.85138645446082, 121.20909366667235, 360.33827774474753, 373.6245751477778, 139.79920680684896, 99.05175362583749, 78.67351770377793, 189.51993178750047, 78.97644038407023, 209.42427061123144, 98.95724365213223, 67.30544312044415, 102.61387250901683, 161.222171509865, 181.91470505688417, 87.66476701258394, 187.0076666100496, 190.7003974298361, 462.3093117752074, 378.3692099512095, 526.8974388082873, 883.879626543401, 55.92707358091885, 316.3887653670755, 261.0416410238168, 280.3554839497926, 411.27264614825515, 368.3492184435167], \"loglift\": [30.0, 29.0, 28.0, 27.0, 26.0, 25.0, 24.0, 23.0, 22.0, 21.0, 20.0, 19.0, 18.0, 17.0, 16.0, 15.0, 14.0, 13.0, 12.0, 11.0, 10.0, 9.0, 8.0, 7.0, 6.0, 5.0, 4.0, 3.0, 2.0, 1.0, 1.6862, 1.4882, 1.4689, 1.4481, 1.4464, 1.4462, 1.4387, 1.4204, 1.3873, 1.3655, 1.3629, 1.3606, 1.3573, 1.3433, 1.3378, 1.3081, 1.3007, 1.2731, 1.2707, 1.2696, 1.2551, 1.1885, 1.188, 1.1808, 1.1431, 1.105, 1.0969, 1.0867, 1.0834, 1.0809, 1.0703, 1.0668, 1.0376, 1.0451, 0.9672, 0.9182, 0.9794, 0.7799, 0.9147, 0.8654, 0.726, 0.4377, 0.8851, 0.8415, 0.6998, 0.5693, 0.2408, 0.5807, 0.333, 0.3233, 0.0844, -0.0669, 0.7513, 0.5869, 0.5473, 0.61, 0.105, 0.0177, 0.384, -0.3159, 0.2953, 0.2344, -0.0496, 1.8629, 1.8564, 1.8492, 1.8342, 1.8315, 1.8054, 1.8024, 1.7871, 1.7859, 1.7656, 1.7571, 1.683, 1.6697, 1.6515, 1.645, 1.6333, 1.5965, 1.5838, 1.5613, 1.5313, 1.5269, 1.5214, 1.498, 1.4635, 1.4578, 1.4422, 1.4315, 1.4229, 1.4064, 1.3854, 1.3708, 1.3589, 1.2481, 1.3073, 1.3113, 1.1325, 1.0992, 1.0508, 1.2087, 1.0274, 0.8424, 1.0751, 0.8799, 0.8288, 1.2605, 0.8703, 1.2009, 0.6195, 0.8332, 0.6071, 0.3594, 0.2944, 0.4808, 1.0872, 0.0676, 0.0629, 0.8068, 2.0131, 2.0082, 2.0034, 1.9975, 1.9719, 1.9651, 1.9362, 1.9362, 1.8804, 1.8802, 1.8573, 1.8427, 1.8345, 1.8185, 1.8093, 1.7868, 1.7768, 1.7752, 1.7593, 1.7213, 1.6999, 1.6783, 1.6779, 1.6685, 1.5472, 1.5408, 1.5017, 1.4974, 1.4624, 1.4379, 1.2723, 1.3357, 1.3764, 0.8822, 1.4084, 0.9256, 0.6713, 1.043, 0.6124, 0.4481, 0.0734, 0.1046, 0.336, 0.5985, 0.5163, -0.0016, -0.0855, 0.4892, 2.0179, 2.0151, 2.0103, 2.0089, 2.0031, 2.0009, 2.0005, 1.9932, 1.9868, 1.9689, 1.968, 1.9625, 1.9507, 1.942, 1.9373, 1.9372, 1.9255, 1.9163, 1.9139, 1.9054, 1.899, 1.8918, 1.883, 1.8803, 1.8763, 1.8644, 1.8491, 1.8202, 1.7946, 1.7832, 1.755, 1.7066, 1.5117, 1.4736, 1.7297, 1.4183, 1.2499, 1.4876, 1.7142, 1.4017, 1.0747, 1.5371, 1.1305, 0.9487, 1.0761, 1.0107, 1.4731, 1.1009, 0.9513, 1.1272, 0.8903, 0.3625, 0.7391, 1.1298, 0.2456, 0.0164, 0.5371, 0.1532, -0.0933, 2.1448, 2.1236, 2.0651, 2.0271, 2.0152, 1.99, 1.9882, 1.9772, 1.9145, 1.8871, 1.8661, 1.8638, 1.8444, 1.8442, 1.7945, 1.7651, 1.7341, 1.6832, 1.6813, 1.6666, 1.654, 1.5727, 1.5702, 1.5597, 1.5488, 1.5291, 1.5028, 1.4865, 1.4692, 1.4661, 1.462, 1.4308, 1.4062, 1.2008, 1.2645, 1.2576, 1.1118, 0.8676, 1.3743, 1.0039, 0.6442, 0.0638, 0.4038, 0.1274, 0.0471, 0.7604, 0.0057, 0.4784, 0.1329, 2.2212, 2.214, 2.1892, 2.1513, 2.1468, 2.1146, 2.0355, 2.0231, 2.0008, 1.964, 1.9498, 1.9429, 1.9181, 1.8931, 1.8755, 1.8596, 1.8182, 1.8094, 1.8085, 1.8057, 1.8028, 1.7985, 1.7955, 1.7808, 1.7631, 1.751, 1.7406, 1.7357, 1.7269, 1.6594, 1.6273, 1.5882, 1.4534, 1.2521, 0.9877, 1.1518, 0.9374, 0.8823, 0.6846, 1.3528, 1.1116, 0.6898, 0.6108, 0.5691, 0.4599, 0.8616, 0.3064, 0.7344, 0.3246, 0.8962, 1.0436, 0.3861, 0.1033, -0.0755, 0.5453, -0.1977, 0.1254, 0.0244, 2.249, 2.2419, 2.2309, 2.2017, 2.1925, 2.1699, 2.111, 2.0521, 2.0267, 2.0077, 1.9883, 1.8909, 1.8904, 1.8841, 1.8689, 1.8648, 1.8391, 1.8243, 1.8072, 1.7916, 1.7829, 1.7808, 1.779, 1.7617, 1.7004, 1.6489, 1.6386, 1.6229, 1.5991, 1.5835, 1.5123, 1.4272, 1.4844, 1.2064, 1.2884, 1.0734, 1.2331, 1.2432, 0.7922, 0.6566, 0.6185, 0.942, 1.417, 0.4422, 0.1838, 0.4217, 0.0775, 0.3104, 0.6443, 2.6455, 2.5247, 2.4832, 2.4803, 2.4726, 2.4138, 2.4027, 2.3899, 2.3665, 2.3533, 2.3224, 2.3181, 2.2925, 2.2203, 2.1502, 2.0104, 2.01, 2.0007, 1.9488, 1.9406, 1.9025, 1.8326, 1.8079, 1.7535, 1.7462, 1.7312, 1.6233, 1.6157, 1.6046, 1.5675, 1.4506, 1.4629, 1.2972, 1.5299, 1.1337, 0.3205, 0.9958, 1.3717, 0.4729, 0.4213, 0.1114, 0.3437, 0.3105, 0.4747, 3.4743, 3.4499, 3.3877, 3.37, 3.3481, 3.2358, 3.2039, 3.1859, 3.1109, 3.1087, 3.0453, 2.9741, 2.9543, 2.9414, 2.8404, 2.7282, 2.7186, 2.7136, 2.6994, 2.5434, 2.5275, 2.4589, 2.3207, 2.199, 2.0782, 2.0136, 1.898, 1.8785, 1.8712, 1.8067, 1.7682, 1.7682, 1.76, 1.7124, 1.3068, 1.6122, 1.3792, 1.5447, 1.5389, 0.6327, 3.7622, 3.7571, 3.7309, 3.7066, 3.5986, 3.5746, 3.5116, 3.5033, 3.4416, 3.3293, 3.1025, 3.0874, 3.0161, 3.0062, 3.0037, 2.7118, 2.6675, 2.6162, 2.5247, 2.0895, 2.0319, 1.8125, 1.7867, 1.68, 1.4602, 1.3986, 1.3907, 1.2573, 1.1999, 1.0931, 0.8582, 0.7817], \"logprob\": [30.0, 29.0, 28.0, 27.0, 26.0, 25.0, 24.0, 23.0, 22.0, 21.0, 20.0, 19.0, 18.0, 17.0, 16.0, 15.0, 14.0, 13.0, 12.0, 11.0, 10.0, 9.0, 8.0, 7.0, 6.0, 5.0, 4.0, 3.0, 2.0, 1.0, -5.9779, -6.201, -5.8284, -5.714, -5.9101, -6.1859, -5.435, -6.3588, -6.2242, -6.3219, -6.48, -6.2697, -5.4555, -6.5098, -6.5177, -6.2297, -6.1793, -6.1796, -6.0848, -6.0308, -6.647, -6.3517, -6.6541, -6.7235, -6.1669, -6.1621, -6.1088, -6.2783, -6.4833, -5.082, -4.9572, -5.3867, -5.4691, -5.5664, -4.9642, -4.7962, -5.2499, -4.7335, -5.4467, -5.366, -5.0815, -4.6674, -5.574, -5.5477, -5.4056, -5.2828, -5.0208, -5.4568, -5.2281, -5.2468, -5.1518, -5.0581, -5.6717, -5.5805, -5.5799, -5.6076, -5.4417, -5.4422, -5.544, -5.4903, -5.556, -5.5649, -5.5659, -6.1387, -5.7354, -5.7886, -5.6827, -5.2137, -6.1711, -5.5992, -5.9709, -5.4338, -6.2407, -6.46, -5.5698, -6.2789, -6.0169, -5.5917, -6.0112, -4.5659, -4.3473, -5.7667, -6.5243, -6.2839, -5.9226, -4.0241, -6.0257, -6.2207, -6.8081, -6.4649, -6.3445, -5.9842, -6.231, -5.0613, -5.2163, -3.9661, -4.897, -5.3227, -4.4664, -4.3536, -4.4479, -5.0887, -4.5923, -4.2034, -4.8574, -4.5569, -4.6026, -5.3479, -4.8238, -5.301, -4.7735, -5.0776, -4.9246, -4.9022, -4.88, -5.1111, -5.3621, -5.0376, -5.1733, -5.3605, -5.2528, -5.5757, -5.7928, -6.0496, -5.6181, -5.4272, -6.027, -6.0383, -6.0581, -6.064, -5.7186, -5.3322, -5.2964, -4.5362, -5.0555, -5.4948, -4.8054, -4.5132, -5.3346, -5.8146, -5.9309, -5.3159, -5.1288, -4.5869, -4.2531, -4.6408, -5.002, -5.4994, -5.8942, -5.0225, -3.719, -4.7111, -5.304, -4.6789, -5.4388, -5.0958, -4.9645, -5.2997, -5.1019, -5.0987, -5.0317, -5.0698, -5.1773, -5.2881, -5.2912, -5.2632, -5.3218, -5.3305, -5.0347, -5.2823, -5.8776, -5.9359, -6.1385, -5.6332, -5.6672, -5.5106, -6.5631, -5.0274, -5.9057, -6.2104, -6.0371, -5.7546, -5.5206, -6.1289, -5.5099, -6.0531, -5.9011, -6.0222, -5.686, -6.5335, -5.733, -4.8848, -5.3637, -5.9672, -4.6068, -5.8388, -6.0486, -5.0533, -4.663, -4.8742, -4.5219, -4.5995, -5.5255, -4.8452, -4.444, -5.0475, -5.6194, -4.9997, -4.7068, -5.4149, -4.9925, -4.8491, -5.0792, -5.0434, -5.4277, -5.1816, -5.1109, -5.2218, -5.1921, -5.0742, -5.2823, -5.3611, -5.2143, -5.1978, -5.2826, -5.2782, -5.2677, -5.4798, -6.2885, -5.6255, -5.3996, -5.0829, -5.3283, -5.476, -4.6269, -5.0377, -5.1734, -4.4729, -6.0155, -5.1916, -6.0264, -5.494, -5.6408, -4.4247, -4.7907, -5.3104, -4.6058, -5.8286, -6.1205, -5.7064, -5.9401, -5.5835, -5.1193, -5.8809, -5.3375, -5.3569, -5.709, -4.3357, -5.2618, -5.22, -4.3471, -4.6609, -4.7947, -4.9706, -4.9139, -5.4926, -5.1514, -4.9456, -4.9275, -5.1096, -5.047, -5.058, -5.2937, -5.2306, -5.3291, -5.327, -5.6424, -5.9099, -5.44, -6.2638, -5.8867, -5.078, -5.4127, -5.7811, -5.5775, -5.8452, -5.9182, -6.0195, -6.2474, -6.0322, -5.951, -5.9187, -5.392, -6.1968, -6.0025, -6.1066, -5.8059, -6.0475, -6.3336, -5.8992, -6.1868, -4.3465, -5.8351, -6.4118, -5.9648, -5.2293, -4.7619, -4.4289, -4.8166, -5.0453, -4.5591, -4.9711, -4.6983, -4.7096, -4.7083, -5.4968, -5.2741, -4.93, -4.9113, -4.9296, -4.9928, -5.2575, -4.9078, -5.1764, -4.937, -5.3699, -5.4303, -5.1751, -5.0711, -5.1213, -5.38, -5.3029, -5.3879, -5.4124, -5.5089, -4.8999, -5.7816, -4.937, -5.7842, -5.4905, -5.7113, -4.3696, -5.7275, -4.1827, -4.3503, -6.0169, -5.4957, -4.9301, -4.7654, -4.0909, -5.2766, -4.9052, -5.7461, -6.0193, -6.3361, -3.7823, -4.0581, -5.8598, -5.2162, -5.5434, -6.2371, -5.8451, -6.6382, -4.872, -4.6871, -4.7104, -5.1421, -4.577, -4.8307, -4.358, -4.8292, -4.8687, -4.9019, -4.8597, -4.9132, -5.1314, -5.3827, -5.0565, -5.0524, -5.1484, -5.0969, -5.1495, -5.2078, -4.7304, -5.1248, -4.6706, -5.0516, -4.8448, -3.3696, -3.4367, -4.9662, -5.4173, -4.3191, -4.6376, -5.0551, -4.5072, -5.3345, -5.8806, -4.2558, -5.8308, -5.6768, -5.538, -5.958, -5.7502, -5.4552, -3.782, -6.2065, -4.5585, -6.3548, -5.9693, -6.1952, -5.3478, -5.2891, -4.5052, -4.9614, -4.2659, -5.3867, -4.3826, -4.7847, -5.2081, -5.4493, -5.1425, -5.1399, -5.1249, -5.2042, -5.2028, -5.345, -3.6374, -3.0592, -2.5065, -3.9743, -3.0498, -4.0321, -3.6553, -2.7966, -3.9347, -4.1347, -4.3805, -3.6614, -3.9431, -4.3847, -4.5988, -3.5315, -4.971, -3.6233, -5.0081, -5.0744, -5.372, -4.1002, -2.7251, -4.1924, -4.8959, -5.4884, -5.6906, -5.9284, -5.905, -4.9406, -3.9256, -4.436, -4.3672, -4.1742, -3.6845, -4.7367, -4.6482, -4.7228, -4.7322, -4.6035, -3.3857, -2.4391, -2.2882, -2.9131, -3.0619, -3.458, -2.4314, -2.4035, -3.4483, -3.9052, -4.3623, -3.4982, -4.4448, -3.4795, -4.2317, -4.9091, -4.5316, -4.1311, -4.1019, -5.2671, -4.5671, -4.7669, -3.9071, -4.2142, -4.1029, -3.6471, -6.4154, -4.8158, -5.0655, -5.1009, -4.9527, -5.1394]}, \"token.table\": {\"Topic\": [2, 3, 6, 7, 8, 1, 2, 3, 4, 5, 6, 7, 8, 1, 2, 3, 5, 6, 8, 10, 1, 2, 3, 5, 6, 7, 9, 1, 2, 3, 6, 8, 1, 2, 3, 4, 5, 6, 7, 8, 1, 2, 3, 4, 5, 6, 8, 1, 3, 5, 6, 7, 4, 5, 6, 1, 2, 4, 5, 6, 7, 9, 1, 4, 6, 1, 3, 5, 6, 8, 1, 2, 3, 4, 5, 6, 7, 8, 1, 2, 3, 4, 5, 6, 9, 1, 2, 3, 4, 5, 6, 7, 8, 1, 2, 4, 5, 6, 7, 9, 1, 2, 3, 4, 5, 6, 7, 8, 1, 2, 3, 5, 6, 8, 1, 2, 6, 5, 6, 1, 3, 5, 6, 8, 1, 2, 3, 4, 5, 6, 7, 1, 6, 1, 2, 3, 4, 5, 6, 7, 6, 1, 2, 3, 4, 5, 6, 7, 8, 10, 1, 3, 6, 1, 2, 3, 5, 6, 7, 9, 1, 2, 3, 4, 6, 7, 8, 1, 2, 4, 6, 1, 2, 3, 10, 4, 2, 3, 1, 3, 4, 5, 6, 8, 1, 2, 3, 4, 5, 6, 7, 8, 2, 3, 6, 1, 2, 5, 6, 8, 1, 4, 5, 6, 8, 1, 2, 3, 6, 7, 9, 1, 2, 3, 4, 5, 6, 7, 8, 1, 2, 4, 6, 7, 1, 2, 3, 4, 5, 6, 7, 8, 1, 2, 4, 5, 6, 1, 3, 4, 5, 6, 7, 10, 1, 2, 3, 4, 5, 6, 7, 8, 10, 2, 6, 1, 2, 3, 4, 5, 6, 8, 1, 4, 6, 7, 2, 4, 7, 10, 2, 4, 5, 1, 3, 6, 1, 2, 3, 4, 5, 6, 7, 8, 2, 6, 9, 2, 4, 5, 6, 9, 10, 1, 4, 5, 1, 2, 4, 7, 1, 2, 3, 4, 5, 6, 7, 8, 1, 3, 4, 5, 6, 7, 8, 1, 2, 3, 4, 5, 6, 7, 8, 1, 2, 3, 4, 5, 6, 7, 8, 1, 4, 9, 2, 4, 5, 6, 7, 8, 9, 1, 2, 6, 1, 2, 3, 4, 5, 6, 7, 8, 3, 4, 6, 8, 1, 2, 3, 4, 5, 6, 8, 1, 2, 3, 5, 6, 8, 1, 2, 3, 4, 5, 6, 7, 1, 2, 3, 4, 5, 6, 7, 8, 2, 6, 2, 6, 1, 2, 4, 6, 7, 8, 1, 2, 4, 5, 6, 3, 4, 5, 6, 7, 8, 1, 2, 3, 4, 5, 6, 7, 8, 9, 1, 2, 3, 4, 5, 6, 7, 8, 1, 2, 3, 4, 5, 6, 7, 8, 9, 5, 1, 2, 4, 6, 7, 8, 1, 2, 3, 4, 5, 6, 7, 8, 4, 5, 1, 2, 3, 4, 5, 6, 7, 8, 9, 1, 2, 3, 4, 5, 6, 7, 8, 1, 2, 3, 4, 5, 6, 7, 8, 2, 6, 7, 8, 1, 2, 3, 4, 5, 6, 7, 8, 1, 2, 3, 5, 6, 7, 8, 1, 2, 3, 4, 5, 6, 8, 1, 2, 4, 1, 2, 4, 5, 6, 1, 2, 4, 6, 8, 1, 3, 5, 6, 8, 1, 2, 6, 1, 3, 4, 5, 6, 8, 1, 2, 3, 4, 5, 6, 7, 8, 1, 3, 4, 5, 6, 1, 2, 6, 1, 3, 5, 6, 8, 1, 2, 3, 4, 5, 6, 7, 8, 1, 2, 6, 5, 6, 8, 1, 2, 3, 6, 1, 2, 3, 4, 5, 6, 7, 8, 9, 4, 5, 7, 9, 1, 2, 3, 5, 6, 7, 8, 1, 2, 3, 4, 5, 6, 4, 7, 8, 1, 2, 3, 6, 1, 2, 5, 6, 7, 8, 9, 1, 2, 4, 5, 6, 7, 9, 1, 2, 3, 4, 5, 6, 8, 1, 2, 3, 4, 5, 6, 1, 2, 3, 4, 5, 6, 9, 5, 6, 9, 2, 6, 7, 8, 9, 2, 6, 1, 2, 3, 4, 5, 6, 7, 1, 2, 3, 4, 5, 6, 7, 8, 1, 2, 3, 4, 5, 6, 7, 8, 1, 2, 3, 4, 5, 6, 7, 8, 9, 10, 1, 2, 4, 5, 7, 1, 2, 3, 4, 5, 6, 7, 8, 1, 2, 3, 4, 5, 6, 7, 8, 1, 2, 4, 5, 6, 7, 8, 10, 1, 2, 3, 4, 5, 6, 7, 10, 1, 2, 3, 4, 5, 6, 7, 8, 1, 2, 3, 6, 8, 1, 2, 3, 4, 5, 6, 7, 8, 1, 2, 3, 4, 5, 6, 7, 8, 9, 1, 2, 3, 5, 6, 8, 9, 1, 2, 3, 4, 5, 6, 7, 8, 9, 10, 1, 2, 3, 4, 5, 6, 7, 8, 9, 10, 1, 5, 6, 1, 3, 5, 6, 8, 1, 2, 3, 4, 5, 6, 7, 8, 9, 10, 1, 4, 1, 2, 3, 4, 5, 6, 7, 2, 4, 5, 6, 7, 7, 8, 1, 2, 3, 4, 5, 6, 7, 8, 1, 2, 3, 4, 5, 6, 7, 8, 9, 1, 2, 3, 5, 6, 7, 8, 2, 6, 1, 2, 3, 4, 5, 6, 7, 8, 3, 1, 2, 3, 4, 5, 6, 7, 8, 9, 3, 1, 2, 3, 4, 5, 6, 7, 8, 5, 6, 7, 1, 2, 4, 5, 7, 2, 3, 4, 5, 6, 7, 8, 10, 1, 3, 4, 6, 8, 4, 5, 1, 2, 3, 4, 6, 10, 1, 2, 3, 4, 5, 6, 7, 8, 4, 5, 1, 3, 4, 5, 6, 7, 9, 10, 1, 2, 3, 4, 5, 6, 7, 8, 2, 4, 5, 6, 7, 2, 6, 7, 1, 2, 3, 5, 6, 8, 1, 3, 4, 5, 6, 9, 4, 5, 1, 2, 3, 4, 5, 6, 7, 8, 1, 2, 3, 4, 5, 6, 7, 8, 1, 2, 3, 4, 6, 1, 2, 3, 4, 5, 6, 7, 9, 10, 1, 2, 3, 4, 5, 6, 7, 8, 9, 1, 2, 3, 5, 6, 8, 1, 2, 4, 5, 6, 7, 8, 2, 6, 1, 2, 3, 4, 5, 6, 7, 8, 1, 2, 3, 4, 5, 6, 8, 1, 2, 3, 4, 5, 6, 7, 8, 9, 1, 2, 3, 4, 5, 6, 1, 3, 4, 5, 6, 1, 2, 3, 4, 5, 6, 7, 8, 1, 2, 3, 4, 6, 7, 1, 3, 6, 1, 2, 3, 4, 5, 6, 7, 8, 9, 1, 2, 4, 5, 6, 7, 10, 1, 2, 6, 7, 8, 2, 4, 5, 6, 7, 1, 2, 3, 4, 5, 6, 7, 8, 9, 1, 2, 3, 4, 5, 6, 1, 2, 3, 4, 5, 6, 7, 1, 2, 4, 5, 6, 8, 1, 2, 3, 4, 5, 6, 7, 8, 1, 2, 4, 6, 7, 9, 4, 5, 1, 2, 3, 4, 5, 6, 1, 2, 3, 4, 5, 6, 8, 9, 1, 2, 3, 4, 5, 6, 7, 8, 9, 2, 7, 8, 1, 2, 3, 5, 6, 8, 1, 2, 3, 4, 5, 6, 7, 8, 9, 1, 4, 5, 6, 1, 2, 5, 6, 7, 8, 5, 6, 8, 1, 2, 3, 4, 5, 6, 7, 8, 1, 2, 3, 4, 5, 1, 2, 3, 4, 5, 6, 7, 8, 4, 1, 2, 3, 4, 5, 6, 7, 8, 9, 10, 1, 2, 4, 6, 7, 8, 2, 3, 4, 5, 6, 7, 8, 1, 2, 3, 4, 5, 6, 7, 8, 1, 3, 4, 5, 3, 1, 2, 3, 4, 5, 6, 7, 1, 2, 3, 4, 5, 6, 7, 8, 1, 2, 3, 4, 5, 6, 7, 8, 1, 2, 3, 5, 7, 8, 1, 2, 6, 1, 2, 3, 4, 5, 6, 7, 8, 1, 2, 3, 4, 5, 6, 7, 1, 2, 3, 4, 5, 6, 8, 1, 2, 3, 4, 5, 6, 7, 8, 1, 2, 4, 5, 6, 8, 2, 5, 7, 8, 1, 2, 3, 4, 5, 6, 7, 8, 9, 1, 2, 3, 4, 6, 7, 8, 1, 2, 3, 4, 5, 6, 7, 8, 10, 1, 2, 3, 4, 5, 6, 7, 8, 9, 2, 6, 7, 8, 2, 4, 6, 1, 2, 3, 4, 6, 7, 9, 1, 2, 3, 4, 5, 6, 7, 8, 1, 2, 3, 4, 5, 6, 7, 8, 9, 2, 6, 1, 2, 3, 4, 5, 6, 7, 8, 1, 2, 3, 4, 5, 6, 7, 8, 3, 7, 8, 1, 2, 3, 4, 5, 6, 7, 8, 1, 2, 3, 4, 5, 6, 1, 2, 3, 4, 5, 6, 7, 8, 9, 1, 2, 3, 5, 6, 8, 4, 6, 1, 2, 3, 4, 5, 6, 7, 8, 1, 3, 4, 5, 6, 1, 2, 3, 4, 5, 6, 7, 8, 1, 2, 3, 4, 5, 6, 7, 9, 1, 2, 3, 4, 5, 6, 8, 2, 3, 5, 6, 7, 8, 1, 2, 3, 4, 5, 6, 7, 8, 1, 2, 3, 4, 5, 6, 8, 10, 1, 2, 3, 6, 10, 3, 5, 6, 8, 1, 2, 3, 5, 6, 7, 8, 1, 2, 3, 5, 6, 7, 1, 2, 3, 4, 5, 6, 8, 1, 2, 3, 4, 5, 6, 7, 8, 3, 6, 8, 1, 3, 5, 6, 7, 8, 1, 2, 3, 4, 5, 6, 7, 9, 1, 2, 3, 4, 5, 6, 1, 2, 3, 4, 6, 7, 8, 1, 2, 3, 4, 5, 6, 7, 8, 1, 2, 3, 5, 6, 8, 1, 2, 3, 4, 5, 6, 7, 8, 1, 2, 3, 4, 5, 6, 7, 8, 1, 2, 3, 4, 5, 6, 7, 8, 1, 3, 5, 6, 8, 1, 2, 3, 4, 5, 6, 8, 1, 2, 3, 5, 6, 7, 9, 1, 2, 3, 4, 5, 6, 7, 8, 1, 2, 3, 4, 5, 6, 7, 8, 3, 5, 6, 7, 8, 1, 3, 4, 5, 6, 7, 8, 1, 2, 4, 5, 6, 7, 9, 1, 2, 3, 4, 5, 6, 7, 8, 9, 1, 2, 4, 5, 6, 7, 8, 1, 3, 5, 6, 2, 4, 6, 7, 1, 2, 3, 4, 5, 6, 7, 9, 10, 1, 2, 4, 5, 6, 7, 9, 10, 2, 5, 6, 7, 8, 1, 2, 4, 5, 6, 7, 1, 2, 3, 4, 5, 6, 7, 8, 9, 10, 1, 2, 3, 4, 5, 6, 7, 8, 3, 5, 6, 8, 1, 2, 3, 4, 5, 6, 7, 8, 1, 2, 4, 5, 1, 2, 3, 4, 5, 6, 7, 8, 9, 1, 2, 3, 4, 5, 6, 7, 8, 9, 1, 5, 6, 7, 1, 2, 5, 6, 1, 2, 4, 5, 7, 8, 1, 2, 3, 4, 5, 6, 7, 8, 1, 2, 4, 6, 7, 8, 3, 4, 6, 1, 2, 3, 4, 5, 6, 7, 8, 1, 4, 5, 1, 2, 3, 4, 5, 6, 7, 8, 10, 1, 2, 3, 5, 6, 8, 1, 2, 3, 4, 5, 6, 7, 8, 1, 2, 3, 4, 5, 6, 7, 8, 2, 4, 6, 1, 2, 3, 4, 5, 6, 7, 8, 2, 4, 5, 6, 2, 4, 6, 7, 8, 9, 1, 2, 3, 4, 5, 6, 7, 8, 1, 2, 3, 4, 5, 6, 7, 8, 1, 3, 5, 6, 8, 1, 5, 6, 1, 2, 3, 4, 5, 6, 8, 9, 1, 2, 3, 4, 5, 6, 7, 8, 1, 2, 3, 4, 5, 6, 1, 2, 3, 4, 5, 6, 7, 8, 1, 2, 4, 5, 6, 8, 9, 10, 6, 1, 5, 6, 1, 2, 3, 5, 6, 7, 8, 1, 2, 3, 4, 5, 6, 7, 8, 1, 2, 3, 4, 5, 6, 7, 9, 4, 5, 6, 7, 1, 2, 3, 4, 5, 6, 8, 9, 1, 2, 3, 4, 5, 7, 9, 1, 3, 5, 6, 1, 2, 3, 5, 6, 7, 8, 1, 2, 3, 4, 5, 6, 7, 8, 1, 2, 3, 4, 5, 6, 7, 1, 2, 6, 1, 2, 3, 4, 5, 6, 7, 8, 1, 2, 3, 4, 5, 6, 7, 8, 9, 10, 2, 6, 1, 2, 3, 4, 5, 6, 8, 1, 2, 3, 4, 5, 6, 2, 4, 6, 7, 2, 4, 5, 6, 7, 1, 2, 3, 4, 5, 6, 7, 8, 3, 1, 2, 3, 6, 10, 1, 2, 3, 4, 5, 6, 7, 8, 1, 2, 4, 5, 6, 7, 8, 10, 1, 2, 3, 4, 5, 6, 7, 9, 10, 1, 2, 3, 4, 5, 6, 7, 8, 4, 10, 1, 2, 3, 5, 6, 8, 1, 2, 3, 4, 5, 6, 7, 8, 1, 2, 3, 4, 5, 6, 7, 8, 9, 10, 4, 5, 6, 10, 1, 2, 3, 4, 6, 7, 8, 1, 2, 3, 4, 5, 6, 7, 8, 1, 2, 3, 5, 6, 1, 2, 3, 4, 5, 6, 7, 8, 1, 4, 5, 6, 8, 2, 3, 7, 1, 2, 3, 4, 5, 6, 7, 1, 2, 5, 6, 9, 1, 2, 3, 4, 5, 6, 7, 8, 9, 4, 10, 1, 2, 3, 5, 6, 8, 6, 7, 8, 2, 4, 6, 7, 9, 1, 2, 3, 4, 5, 6, 7, 8, 2, 4, 6, 5, 1, 2, 3, 5, 6, 7, 1, 3, 4, 5, 6, 8, 4, 5, 6, 1, 2, 3, 4, 5, 6, 7, 1, 2, 3, 5, 6, 7, 8, 1, 2, 3, 4, 5, 6, 7, 8, 9, 1, 2, 3, 4, 5, 6, 7, 8, 4, 2, 3, 5, 6, 8, 2, 3, 6, 3, 4, 6, 9, 1, 2, 3, 4, 5, 6, 7, 8, 9, 1, 2, 3, 4, 5, 6, 7, 7, 8, 1, 2, 3, 4, 5, 6, 7, 8, 1, 2, 1, 2, 3, 4, 5, 6, 7, 8, 9, 1, 4, 5, 1, 2, 3, 4, 5, 6, 7, 8, 2, 4, 6, 1, 2, 3, 4, 5, 6, 8, 1, 2, 4, 5, 6, 1, 2, 3, 4, 5, 6, 7, 8, 9, 10, 1, 2, 3, 4, 5, 6, 7, 8, 9, 1, 6, 8, 1, 2, 3, 4, 5, 6, 7, 8, 1, 3, 4, 5, 6, 7, 8, 1, 4, 10, 4, 5, 1, 2, 3, 4, 5, 6, 8, 1, 2, 3, 4, 5, 6, 7, 8, 9, 10, 1, 2, 3, 4, 5, 6, 8, 10, 1, 2, 3, 4, 5, 6, 7, 8, 9, 1, 4, 1, 3, 6, 1, 2, 3, 4, 5, 6, 7, 8, 9, 4, 4, 6, 1, 2, 3, 4, 5, 6, 8], \"Freq\": [0.011401445136760946, 0.20522601246169703, 0.022802890273521892, 0.11401445136760946, 0.638480927658613, 0.05330333402619393, 0.015229524007483982, 0.49495953024322936, 0.015229524007483982, 0.015229524007483982, 0.03807381001870995, 0.06853285803367791, 0.28936095614219565, 0.04562836514954537, 0.022814182574772687, 0.5703545643693172, 0.10266382158647709, 0.022814182574772687, 0.04562836514954537, 0.1825134605981815, 0.17668502784807436, 0.1177900185653829, 0.17668502784807436, 0.019631669760897152, 0.05889500928269145, 0.09815834880448575, 0.3533700556961487, 0.12575306686917176, 0.7006242296996712, 0.017964723838453107, 0.05389417151535932, 0.08982361919226554, 0.15849319081213106, 0.14048260094711615, 0.09725718527108042, 0.03602117973002979, 0.25214825811020847, 0.11886989310909829, 0.03241906175702681, 0.15849319081213106, 0.04110787402503913, 0.08808830148222671, 0.029362767160742237, 0.14681383580371118, 0.4815493814361727, 0.17617660296445342, 0.029362767160742237, 0.019073987699506727, 0.1335179138965471, 0.7248115325812557, 0.057221963098520186, 0.038147975399013455, 0.2483498772900796, 0.7284929733842335, 0.016556658486005307, 0.5823445041255699, 0.09705741735426165, 0.010784157483806851, 0.010784157483806851, 0.010784157483806851, 0.23725146464375071, 0.053920787419034256, 0.10033643542679663, 0.8743603658620849, 0.014333776489542377, 0.11848120570064646, 0.23696241140129293, 0.5397477148585005, 0.0658228920559147, 0.01316457841118294, 0.3368436203410728, 0.009693341592548858, 0.22052352123048652, 0.07270006194411643, 0.1841734902584283, 0.11632009911058629, 0.009693341592548858, 0.048466707962744285, 0.01620222301118619, 0.09721333806711714, 0.06480889204474476, 0.24303334516779287, 0.09721333806711714, 0.06480889204474476, 0.40505557527965474, 0.3557281982639862, 0.021668722736892562, 0.18418414326358679, 0.05236607994749036, 0.17154405500039946, 0.12098370194765014, 0.012640088263187329, 0.07945198336860607, 0.0216202511806388, 0.5585231554998357, 0.036033751967731335, 0.028827001574185065, 0.025223626377411934, 0.16935863424833728, 0.16215188385479098, 0.05854014041147, 0.010330613013788825, 0.08608844178157353, 0.09297551712409942, 0.6508286198686959, 0.04476598972641824, 0.010330613013788825, 0.0413224520551553, 0.11188894942023331, 0.09214384069901567, 0.7042422110567625, 0.019745108721217642, 0.05265362325658038, 0.013163405814145095, 0.07409583948248577, 0.2716847447691145, 0.6421639421815434, 0.0673404261451409, 0.8978723486018787, 0.008809158760941916, 0.008809158760941916, 0.8632975585723078, 0.08809158760941917, 0.02642747628282575, 0.0958372023497716, 0.0479186011748858, 0.11181006940806687, 0.015972867058295266, 0.5590503470403343, 0.06389146823318106, 0.0958372023497716, 0.02996347986803808, 0.9438496158431995, 0.022151570405360137, 0.5593271527353435, 0.03876524820938024, 0.25474305966164157, 0.03876524820938024, 0.03322735560804021, 0.04984103341206031, 0.9848170863003407, 0.23244556111434603, 0.08940213889013308, 0.1072825666681597, 0.14304342222421293, 0.05364128333407985, 0.08940213889013308, 0.12516299444618634, 0.05364128333407985, 0.08940213889013308, 0.041844824348081656, 0.9205861356577965, 0.020922412174040828, 0.19823810027019, 0.0495595250675475, 0.18584821900330312, 0.03716964380066062, 0.012389881266886876, 0.03716964380066062, 0.47081548814170127, 0.025083009442147655, 0.13544825098759733, 0.020066407553718125, 0.5769092171693961, 0.21571388120246984, 0.010033203776859062, 0.015049805665288593, 0.012448406317502715, 0.6971107537801521, 0.062242031587513576, 0.22407131371504888, 0.14166042758680075, 0.6453419478954256, 0.1731405226060898, 0.031480095019289056, 0.9702810223646015, 0.04321833135567522, 0.9508032898248548, 0.1373807320397357, 0.02198091712635771, 0.3297137568953657, 0.46709448893510136, 0.03297137568953657, 0.005495229281589428, 0.14091048661613279, 0.045795908150243154, 0.6164833789455809, 0.035227621654033196, 0.06693248114266306, 0.035227621654033196, 0.03875038381943652, 0.021136572992419916, 0.020530726710730585, 0.8622905218506846, 0.08212290684292234, 0.31383977508489685, 0.09807492971403027, 0.09807492971403027, 0.03922997188561211, 0.4119147047989271, 0.060249859225339895, 0.8295942154873723, 0.07878827744852139, 0.02317302277897688, 0.004634604555795376, 0.043732960616504474, 0.06997273698640716, 0.008746592123300895, 0.0743460330480576, 0.013119888184951342, 0.7871932910970806, 0.18118934569284167, 0.06710716507142284, 0.05368573205713827, 0.02013214952142685, 0.496593021528529, 0.0402642990428537, 0.02013214952142685, 0.11408218062141882, 0.216767532140552, 0.17851443823339577, 0.08925721911669789, 0.025502062604770823, 0.47178815818826025, 0.12696810860508045, 0.24416943962515472, 0.08204093171405198, 0.09180770929905817, 0.1191546865370755, 0.2558895727271621, 0.04297382137402723, 0.037113754823023516, 0.044035422944309545, 0.10274932020338894, 0.10274932020338894, 0.08807084588861909, 0.6458528698498733, 0.17162745108195215, 0.02019146483317084, 0.06057439449951252, 0.03028719724975626, 0.06057439449951252, 0.01009573241658542, 0.6461268746614669, 0.1608938705536563, 0.23750999938873074, 0.06512370950981328, 0.10726258036910422, 0.07278532239332071, 0.09193935460208932, 0.137909031903134, 0.05363129018455211, 0.07661612883507443, 0.9507603543343334, 0.040172972718352115, 0.05912437413840442, 0.12810281063320958, 0.019708124712801475, 0.05912437413840442, 0.04927031178200369, 0.6503681155224487, 0.02956218706920221, 0.09086066381537525, 0.05451639828922515, 0.05451639828922515, 0.7814017088122271, 0.020614725765929154, 0.7421301275734495, 0.21645462054225612, 0.020614725765929154, 0.02144477290072193, 0.9221252347310429, 0.04288954580144386, 0.017935880533937392, 0.1972946858733113, 0.7533069824253704, 0.10548553539730085, 0.11529814334123582, 0.21587737476656918, 0.2232368307245204, 0.09321977546738215, 0.06132879964959352, 0.09076662348139841, 0.09321977546738215, 0.2913589396897271, 0.020811352834980507, 0.6798375259426965, 0.01850044828146203, 0.021143369464528036, 0.010571684732264018, 0.0026429211830660045, 0.8219484879335274, 0.1242172956041022, 0.03826710956656204, 0.9375441843807699, 0.01913355478328102, 0.027521219800097533, 0.0825636594002926, 0.38529707720136547, 0.46786073660165806, 0.07096187460786134, 0.5261889947337642, 0.05087832519054209, 0.13255142615430704, 0.029455872478734896, 0.14326265251021064, 0.02276135600629515, 0.021422452711807198, 0.047260450313739766, 0.0682650948976241, 0.7194090769980387, 0.12077670635733495, 0.026255805729855426, 0.01050232229194217, 0.005251161145971085, 0.18145839773475106, 0.02592262824782158, 0.06480657061955394, 0.02592262824782158, 0.2505854063956086, 0.32403285309776975, 0.021602190206517984, 0.10801095103258991, 0.20777326285461772, 0.21619650324061576, 0.13196409938063558, 0.1207331121993049, 0.08704015065531283, 0.14600283335729894, 0.05194331571365443, 0.03790458173699107, 0.04773700793588932, 0.9388278227391567, 0.007956167989314887, 0.01776945631142614, 0.17414067185197618, 0.007107782524570456, 0.010661673786855685, 0.70011657867019, 0.08173949903256024, 0.003553891262285228, 0.6476527571233238, 0.13247442759340713, 0.19135195096825475, 0.13965439702769006, 0.051206612243486355, 0.5539624415431706, 0.046551465675896686, 0.023275732837948343, 0.08379263821661403, 0.023275732837948343, 0.07913749164902437, 0.736934271086794, 0.013646930946051742, 0.013646930946051742, 0.20470396419077613, 0.619968314113988, 0.03757383721902958, 0.03757383721902958, 0.03757383721902958, 0.09393459304757394, 0.1502953488761183, 0.01878691860951479, 0.2838923667315724, 0.023657697227631037, 0.11828848613815518, 0.1892615778210483, 0.023657697227631037, 0.33120776118683454, 0.17381946046026675, 0.38902450674440653, 0.3724702724148573, 0.004138558582387304, 0.012415675747161911, 0.03310846865909843, 0.008277117164774608, 0.12650581170610653, 0.0038335094456395913, 0.057502641684593875, 0.007667018891279183, 0.0920042266953502, 0.26067864230349225, 0.015334037782558365, 0.43318656735727384, 0.6192419473752355, 0.36122446930222074, 0.9053262510651048, 0.08953776109435102, 0.05946472779104959, 0.17839418337314877, 0.04459854584328719, 0.05946472779104959, 0.5500487320672087, 0.10406327363433679, 0.020235709151345163, 0.7790748023267887, 0.030353563727017745, 0.030353563727017745, 0.13153210948374355, 0.02238794647854736, 0.17910357182837888, 0.17910357182837888, 0.04477589295709472, 0.04477589295709472, 0.4925348225280419, 0.06246614546359875, 0.033315277580586, 0.07912378425389174, 0.40394774066460526, 0.2082204848786625, 0.033315277580586, 0.02915086788301275, 0.0083288193951465, 0.13742552001991726, 0.11805742817789239, 0.03305607988980987, 0.08264019972452467, 0.3825060672963714, 0.2738932333727104, 0.08264019972452467, 0.007083445690673543, 0.018889188508462783, 0.06475170220701743, 0.24377111419112443, 0.04951600757007215, 0.04951600757007215, 0.019044618296181596, 0.015235694636945277, 0.1180766334363259, 0.011426770977708958, 0.42279052617523144, 0.9842352724347819, 0.07172096515275346, 0.18826753352597783, 0.03586048257637673, 0.08965120644094182, 0.5916979625102161, 0.008965120644094183, 0.14198348476678965, 0.15398208911327893, 0.16398092606868664, 0.11398674129164803, 0.10198813694515876, 0.10598767172732186, 0.12398557824705575, 0.09398906738083258, 0.8587195321749039, 0.13891051255770503, 0.15575845052145487, 0.1014241073162962, 0.01992259250855818, 0.0851238043547486, 0.1358358580128967, 0.07969037003423272, 0.18111447735052894, 0.18111447735052894, 0.05795663275216926, 0.06505432745190277, 0.017514626621666134, 0.015012537104285257, 0.0075062685521426285, 0.06505432745190277, 0.020016716139047007, 0.1676399976645187, 0.6405349164495042, 0.06270701633851883, 0.0358325807648679, 0.04031165336047639, 0.0358325807648679, 0.04031165336047639, 0.031353508169259414, 0.7300888330841835, 0.022395362978042437, 0.11008996793227276, 0.02752249198306819, 0.8531972514751138, 0.009174163994356062, 0.21293291500642306, 0.0483938443196416, 0.0483938443196416, 0.03871507545571328, 0.06775138204749824, 0.03871507545571328, 0.48393844319641605, 0.058072613183569925, 0.038363307719783746, 0.030690646175826997, 0.015345323087913499, 0.05370863080769724, 0.05370863080769724, 0.1994892001428755, 0.5907949388846697, 0.1450382223417613, 0.04641223114936362, 0.5221376004303406, 0.017404586681011355, 0.05801528893670452, 0.1566412801291022, 0.04641223114936362, 0.021204696211809253, 0.9118019371077978, 0.021204696211809253, 0.05680625847792172, 0.2414265985311673, 0.05680625847792172, 0.02840312923896086, 0.6106672786376585, 0.6957916783827767, 0.10265778861385229, 0.0798449466996629, 0.0798449466996629, 0.045625683828378796, 0.12735989746695353, 0.5890395257846601, 0.12735989746695353, 0.06367994873347677, 0.08755992950853056, 0.043688851721213125, 0.8737770344242626, 0.043688851721213125, 0.6184729415356944, 0.09370802144480218, 0.05622481286688131, 0.13119123002272307, 0.037483208577920875, 0.037483208577920875, 0.4090075864833266, 0.0210828652826457, 0.29937668701356895, 0.02951601139570398, 0.09276460724364109, 0.037949157508762266, 0.01264971916958742, 0.09276460724364109, 0.7095645555856781, 0.1290117373792142, 0.05375489057467259, 0.021501956229869033, 0.08600782491947613, 0.023865719645886765, 0.9188302063666405, 0.035798579468830145, 0.05258400947859925, 0.7782433402832689, 0.141976825592218, 0.010516801895719852, 0.010516801895719852, 0.1536029734811422, 0.03510925108140393, 0.0526638766221059, 0.5310274226062345, 0.11410506601456279, 0.03510925108140393, 0.0526638766221059, 0.02194328192587746, 0.0627189964411798, 0.1881569893235394, 0.7317216251470976, 0.27186056892152066, 0.027186056892152064, 0.6932444507498776, 0.16667113407807535, 0.02631649485443295, 0.7631783507785556, 0.035088659805910596, 0.2350045901882531, 0.08860828810376756, 0.11557602796143594, 0.15024883634986674, 0.12328109649219834, 0.09631335663452996, 0.04623041118457438, 0.01926267132690599, 0.13098616502296073, 0.676854022046772, 0.12148661934172832, 0.017355231334532616, 0.17355231334532617, 0.07032765166305267, 0.08204892694022811, 0.011721275277175444, 0.5157361121957196, 0.14065530332610535, 0.05860637638587722, 0.11721275277175444, 0.030849799786590925, 0.8123780610468944, 0.05141633297765154, 0.06169959957318185, 0.010283266595530308, 0.020566533191060617, 0.8841881405706203, 0.0631562957550443, 0.021052098585014768, 0.12365933167839749, 0.028536768848860958, 0.8370785528999215, 0.009512256282953654, 0.21107454417429788, 0.17149806714161703, 0.026384318021787236, 0.013192159010893618, 0.3298039752723404, 0.03957647703268085, 0.21107454417429788, 0.034410164512840714, 0.16440411933912785, 0.5390925773678378, 0.026763461287764998, 0.04970357096299214, 0.080290383863295, 0.10323049353852214, 0.06851662973021297, 0.007612958858912553, 0.015225917717825105, 0.03045183543565021, 0.7765218036090804, 0.07612958858912552, 0.015225917717825105, 0.537609983622263, 0.03707655059463883, 0.09269137648659707, 0.11122965178391649, 0.16684447767587474, 0.03707655059463883, 0.009775320428660798, 0.009775320428660798, 0.009775320428660798, 0.009775320428660798, 0.043988941928973596, 0.03910128171464319, 0.8748911783651415, 0.15776160770659184, 0.02253737252951312, 0.8113454110624724, 0.10934492188286672, 0.05179496299714739, 0.14387489721429833, 0.6100295641886249, 0.08632493832857899, 0.9669433821587822, 0.014431990778489286, 0.04437741370631415, 0.60649132065296, 0.014792471235438049, 0.059169884941752196, 0.014792471235438049, 0.059169884941752196, 0.19230212606069463, 0.04898159324620154, 0.15510837861297155, 0.2571533645425581, 0.04081799437183462, 0.13061758198987078, 0.27143966257270025, 0.03877709465324289, 0.05714519212056847, 0.10962761207353848, 0.029898439656419584, 0.013288195402853148, 0.40528995978702104, 0.04650868390998602, 0.33552693392204197, 0.043186635059272734, 0.013288195402853148, 0.17646297791715612, 0.217185203590346, 0.07330000621174178, 0.12488149206444894, 0.09230371152589704, 0.0760148212566211, 0.13574075224396626, 0.02714815044879325, 0.024433335403913924, 0.05158148585270717, 0.27020454589943294, 0.011748023734757954, 0.07048814240854773, 0.023496047469515908, 0.6226452579421715, 0.0647757205484883, 0.11983508301470337, 0.06801450657591272, 0.0421042183565174, 0.05182057643879065, 0.6088917731557901, 0.025910288219395325, 0.016193930137122076, 0.5811419600653854, 0.04557976157375572, 0.0797645827540725, 0.04557976157375572, 0.10255446354095037, 0.034184821180316786, 0.02278988078687786, 0.0797645827540725, 0.016651020362178158, 0.10268129223343198, 0.008325510181089079, 0.008325510181089079, 0.011100680241452106, 0.049953061086534474, 0.033302040724356316, 0.7714972767809214, 0.1525290892061352, 0.10168605947075679, 0.0381322723015338, 0.025421514867689197, 0.050843029735378395, 0.050843029735378395, 0.063553787169223, 0.508430297353784, 0.08493826633107598, 0.13212619207056264, 0.2500960064192793, 0.03303154801764066, 0.09437585147897332, 0.3020027247327146, 0.051906718313435324, 0.051906718313435324, 0.1257887628516081, 0.07547325771096486, 0.1257887628516081, 0.6037860616877189, 0.05031550514064324, 0.02868738507351822, 0.18646800297786842, 0.0035859231341897773, 0.15060877163597064, 0.10399177089150355, 0.02510146193932844, 0.42672485296858353, 0.07530438581798532, 0.15213037252318024, 0.03214021954715075, 0.4703185460399727, 0.027854856940863985, 0.12213283427917286, 0.05356703257858459, 0.010713406515716917, 0.027854856940863985, 0.10284870255088241, 0.022129738293157026, 0.06638921487947108, 0.21023251378499175, 0.04425947658631405, 0.12171356061236364, 0.011064869146578513, 0.5200488498891901, 0.240568681725721, 0.10934940078441863, 0.20776386149039539, 0.09294699066675584, 0.09021325564714537, 0.06560964047065118, 0.12575181090208143, 0.04920723035298838, 0.0027337350196104658, 0.021869880156883726, 0.13554220329360572, 0.16407740398699638, 0.08560560208017202, 0.13910910338027954, 0.08917250216684586, 0.1034401025135412, 0.17121120416034405, 0.04280280104008601, 0.0035669000866738344, 0.06777110164680286, 0.7159035854428528, 0.22272555991555423, 0.04772690569619019, 0.04185485751493347, 0.8022181023695583, 0.1255645725448004, 0.01395161917164449, 0.006975809585822245, 0.06078692622554826, 0.21883293441197374, 0.12643680654914038, 0.11914237540207459, 0.08996465081381143, 0.13373123769620618, 0.12400532950011844, 0.03404067868630702, 0.03890363278435088, 0.053492495078482465, 0.06411096047860862, 0.9135811868201728, 0.006911241999692231, 0.746414135966761, 0.058745556997383964, 0.04837869399784562, 0.02418934699892281, 0.058745556997383964, 0.05528993599753785, 0.6512322639280859, 0.07814787167137031, 0.013024645278561718, 0.07814787167137031, 0.16932038862130233, 0.8791675626619159, 0.10989594533273948, 0.12009669065237788, 0.05147001027959052, 0.020588004111836207, 0.3843094100876092, 0.3122513956961825, 0.05490134429822988, 0.037744674205033045, 0.017156670093196838, 0.12343603555245282, 0.08640522488671698, 0.05760348325781132, 0.08229069036830189, 0.07406162133147169, 0.024687207110490564, 0.13166510458928302, 0.004114534518415094, 0.4196825208783396, 0.6912181336394256, 0.07513240583037235, 0.09015888699644682, 0.060105924664297886, 0.015026481166074471, 0.015026481166074471, 0.04507944349822341, 0.8041593079593956, 0.16495575547885039, 0.11541464374570447, 0.36464336719657353, 0.0551983078783804, 0.18733971158723042, 0.0786157718267842, 0.10872393976044624, 0.07192506784152597, 0.01839943595946013, 0.9737778766786765, 0.11837250960210627, 0.20329191866448684, 0.14667897928956647, 0.11965916731517263, 0.1299524290197036, 0.11708585188903989, 0.10164595933224342, 0.045033019957323034, 0.018013207982929214, 0.9880340337445206, 0.45834289219698926, 0.12677569358640128, 0.082891799652647, 0.06338784679320064, 0.10239575251209335, 0.053635870363477466, 0.048759882148615874, 0.05851185857833905, 0.1427783186171758, 0.8031280422216138, 0.03569457965429395, 0.04435834002320638, 0.014786113341068791, 0.8575945737819899, 0.04435834002320638, 0.029572226682137583, 0.04947373549150811, 0.06046789893406546, 0.04947373549150811, 0.09894747098301622, 0.016491245163836037, 0.4122811290959009, 0.016491245163836037, 0.2858482495064913, 0.6788043247485862, 0.10443143457670556, 0.06962095638447037, 0.05221571728835278, 0.06962095638447037, 0.9783855124224754, 0.010751489147499729, 0.01430623281549275, 0.12875609533943475, 0.0286124656309855, 0.035765582038731876, 0.07153116407746375, 0.7224647571823839, 0.21087083693357628, 0.01917007608487057, 0.07668030433948228, 0.01917007608487057, 0.09585038042435286, 0.01917007608487057, 0.4792519021217643, 0.09585038042435286, 0.8026349451752033, 0.16978816147936993, 0.03160668485936269, 0.006321336971872538, 0.5720809959544647, 0.20544345158585747, 0.006321336971872538, 0.006321336971872538, 0.09482005457808806, 0.08217738063434299, 0.07361375134026661, 0.035443658052720955, 0.08451949227956536, 0.19085046643772824, 0.40623884998887866, 0.18267116073325418, 0.013632176174123446, 0.010905740939298756, 0.09780297747852099, 0.19560595495704197, 0.07335223310889075, 0.024450744369630246, 0.5623671205014957, 0.7946282801315633, 0.031161893338492674, 0.15580946669246337, 0.03159258784415883, 0.02106172522943922, 0.21061725229439224, 0.5476048559654197, 0.14743207660607455, 0.02106172522943922, 0.17621414227458584, 0.03038174866803204, 0.5924440990266248, 0.13975604387294738, 0.009114524600409612, 0.05164897273565447, 0.9044845024800311, 0.06957573096000239, 0.2917225381184342, 0.33687007377962047, 0.02083732415131673, 0.059039085095397396, 0.0868221839638197, 0.1493341564177699, 0.03125598622697509, 0.017364436792763942, 0.01662013174939633, 0.12188096616223974, 0.011080087832930886, 0.07202057091405076, 0.08310065874698165, 0.022160175665861773, 0.6094048308111988, 0.05540043916465443, 0.020645467551892165, 0.1858092079670295, 0.0619364026556765, 0.10322733775946083, 0.6193640265567649, 0.10559170933456304, 0.12479020194084722, 0.009599246303142094, 0.40316834473196794, 0.10559170933456304, 0.038396985212568374, 0.05759547781885256, 0.08639321672827885, 0.06719472412199466, 0.024372260183821062, 0.042651455321686856, 0.018279195137865797, 0.07311678055146319, 0.030465325229776324, 0.012186130091910531, 0.5849342444117055, 0.15232662614888162, 0.06093065045955265, 0.16308693168325353, 0.0037927193414710124, 0.6978603588306663, 0.04551263209765215, 0.034134474073239114, 0.05309807078059418, 0.013710954264738095, 0.7349071485899619, 0.021937526823580952, 0.008226572558842857, 0.06855477132369048, 0.15082049691211905, 0.002742190852947619, 0.23053883183391016, 0.7172319212610538, 0.49049863462607035, 0.09809972692521407, 0.09809972692521407, 0.049049863462607035, 0.07847978154017125, 0.058859836155128444, 0.07847978154017125, 0.049049863462607035, 0.22672392181150272, 0.5344206728413993, 0.032389131687357534, 0.021592754458238356, 0.021592754458238356, 0.1511492812076685, 0.010796377229119178, 0.02877006509032058, 0.18700542308708376, 0.05754013018064116, 0.07192516272580145, 0.18700542308708376, 0.18700542308708376, 0.07192516272580145, 0.01438503254516029, 0.18700542308708376, 0.5936526469191646, 0.02581098464865933, 0.1419604155676263, 0.10324393859463732, 0.02581098464865933, 0.10324393859463732, 0.6949432366980757, 0.12208462266317545, 0.11269349784293119, 0.03756449928097706, 0.028173374460732797, 0.04064383842763648, 0.19383984480872785, 0.02813804198836372, 0.3376565038603646, 0.025011592878545527, 0.043770287537454676, 0.3220242583112737, 0.006252898219636382, 0.05900814029683928, 0.6136846590871285, 0.03540488417810357, 0.03540488417810357, 0.023603256118735712, 0.21242930506862143, 0.08165211766149282, 0.8573472354456746, 0.04082605883074641, 0.4740791335976903, 0.1630590650590782, 0.13286294189998965, 0.0030196123159088556, 0.030196123159088553, 0.06341185863408597, 0.012078449263635422, 0.009058836947726566, 0.1087060433727188, 0.11484284665153399, 0.12760316294614887, 0.3190079073653722, 0.34771861902825574, 0.019140474441922333, 0.01595039536826861, 0.051041265178459555, 0.009202905194851008, 0.018405810389702015, 0.009202905194851008, 0.8834788987056968, 0.07362324155880806, 0.022310685347978216, 0.7541011647616637, 0.1963340310622083, 0.004462137069595643, 0.017848548278382573, 0.060681386310192334, 0.21575604021401718, 0.06742376256688037, 0.08765089133694448, 0.0741661388235684, 0.06742376256688037, 0.39105782288790614, 0.013484752513376073, 0.02022712877006411, 0.020303441847668306, 0.05075860461917077, 0.020303441847668306, 0.8527445576020689, 0.03045516277150246, 0.010151720923834153, 0.6357715533036656, 0.13907502728517684, 0.05960358312221865, 0.0397357220814791, 0.046358342428392284, 0.01986786104073955, 0.05960358312221865, 0.22214586716450208, 0.05553646679112552, 0.1480972447763347, 0.03702431119408368, 0.0925607779852092, 0.4257795787319623, 0.6016064077892389, 0.0957101103301062, 0.06836436452150442, 0.06836436452150442, 0.05469149161720354, 0.02734574580860177, 0.02734574580860177, 0.05469149161720354, 0.025073453528953415, 0.142082903330736, 0.0585047249008913, 0.03343127137193789, 0.1170094498017826, 0.6184785203808509, 0.9635008220685459, 0.01505470034482103, 0.031747926238106024, 0.031747926238106024, 0.7831155138732819, 0.06349585247621205, 0.0423305683174747, 0.031747926238106024, 0.48059112726102493, 0.08643725310450089, 0.24893928894096254, 0.027659920993440282, 0.048404861738520495, 0.062234822235240635, 0.017287450620900178, 0.020744940745080213, 0.1337632134045285, 0.1285175971925862, 0.2386755376433744, 0.12589478908661506, 0.03671931348359606, 0.10753513234481704, 0.04721054590748065, 0.023605272953740326, 0.15474567825229768, 0.2130503677705309, 0.5142595084116263, 0.2644763186116935, 0.5776641473888166, 0.012557916247582967, 0.2888320736944083, 0.025115832495165934, 0.037673748742748904, 0.037673748742748904, 0.08437750334503287, 0.36130879637488433, 0.08221397761823716, 0.12548449215415144, 0.06490577180387144, 0.034616411628731435, 0.2076984697723886, 0.030289360175140004, 0.008654102907182859, 0.1617245132365729, 0.12578573251733446, 0.053908171078857633, 0.6468980529462915, 0.5117527961356999, 0.08710685891671487, 0.021776714729178717, 0.1851020751980191, 0.021776714729178717, 0.16332536046884039, 0.8687349667921754, 0.048942815030545095, 0.07341422254581764, 0.38876058493853244, 0.10737197107826135, 0.11847941636221941, 0.08885956227166457, 0.10737197107826135, 0.044429781135832284, 0.07404963522638713, 0.07034715346506779, 0.48314499887449774, 0.011503452354154708, 0.41412428474956947, 0.05751726177077354, 0.023006904708309416, 0.28041096110740366, 0.0400587087296291, 0.18694064073826913, 0.033382257274690914, 0.0801174174592582, 0.10682322327901092, 0.0400587087296291, 0.2269993494678982, 0.9754226818952337, 0.018735384301825773, 0.05085318596209852, 0.02676483471689396, 0.02141186777351517, 0.024088351245204562, 0.016058900830136377, 0.05620615290547731, 0.002676483471689396, 0.01338241735844698, 0.7654742729031673, 0.059385275306124495, 0.1583607341496653, 0.07918036707483266, 0.03959018353741633, 0.6136478448299532, 0.019795091768708164, 0.7205329552317086, 0.044340489552720526, 0.011085122388180131, 0.09976610149362118, 0.055425611940900656, 0.044340489552720526, 0.033255367164540396, 0.689733464883403, 0.14780002818930066, 0.028152386321771552, 0.014076193160885776, 0.007038096580442888, 0.056304772643543104, 0.035190482902214444, 0.021114289741328663, 0.07803953553439974, 0.13378206091611386, 0.7246528299622833, 0.04459402030537128, 0.9784564838485593, 0.06002666705817718, 0.015006666764544294, 0.7203200046981262, 0.015006666764544294, 0.015006666764544294, 0.015006666764544294, 0.15006666764544294, 0.1308384595184902, 0.06157103977340716, 0.11929388956097638, 0.06926741974508306, 0.12314207954681432, 0.4540864183288778, 0.019240949929189736, 0.023089139915027684, 0.1064550445902206, 0.42180300686691174, 0.04619747218066177, 0.06025757240955882, 0.09239494436132353, 0.21090150343345587, 0.038163129192720587, 0.02008585746985294, 0.11125614841700858, 0.013907018552126072, 0.194698259729765, 0.06953509276063037, 0.05562807420850429, 0.5284667049807907, 0.08542973834345155, 0.11390631779126874, 0.7831059348149726, 0.06735342743439238, 0.14817754035566325, 0.013470685486878476, 0.13470685486878475, 0.21104073929442946, 0.06735342743439238, 0.10327525539940165, 0.2514527957550649, 0.13022555079037093, 0.13022555079037093, 0.5414641322336475, 0.013707952714775887, 0.09595566900343121, 0.07539373993126737, 0.006853976357387943, 0.1398847332627627, 0.01748559165784534, 0.06994236663138136, 0.03497118331569068, 0.08742795828922668, 0.01748559165784534, 0.6119957080245868, 0.16872304001006883, 0.04601537454820059, 0.10736920727913471, 0.030676916365467058, 0.030676916365467058, 0.07669229091366765, 0.1533845818273353, 0.38346145456833824, 0.016124579397662042, 0.01074971959844136, 0.07524803718908953, 0.8277284090799848, 0.032249158795324084, 0.03762401859454476, 0.9784017892883641, 0.03268168625197285, 0.38564389777327956, 0.5751976780347221, 0.04414030979123362, 0.2777161157698449, 0.12506421107516194, 0.13058174979906614, 0.09011979915710198, 0.09563733788100619, 0.17472205959029977, 0.05517538723904203, 0.009195897873173672, 0.4785355521524478, 0.07037287531653644, 0.16889490075968747, 0.014074575063307289, 0.19704405088630203, 0.028149150126614578, 0.014074575063307289, 0.427901825728576, 0.11520433769615507, 0.19475018991492882, 0.019200722949359178, 0.06308808969075158, 0.09600361474679589, 0.021943683370696205, 0.04114440632005538, 0.021943683370696205, 0.08324605721609549, 0.2801550002464752, 0.09125048579456621, 0.12967174297122566, 0.08644782864748378, 0.20971602875593287, 0.08164517150040135, 0.03201771431388288, 0.004802657147082432, 0.045865978964030725, 0.01528865965467691, 0.21404123516547674, 0.7185670037698147, 0.12775433691209065, 0.16425557602983085, 0.6935235432370636, 0.05447083060453334, 0.09337856675062857, 0.07781547229219048, 0.2101017751889143, 0.14006785012594286, 0.1945386807304762, 0.21788332241813335, 0.00992877994079755, 0.28462502496952974, 0.016547966567995915, 0.0595726796447853, 0.02978633982239265, 0.25152909183353794, 0.3408881113007159, 0.006619186627198366, 0.14784267610795704, 0.15769885451515417, 0.08870560566477421, 0.0657078560479809, 0.04928089203598568, 0.04599549923358663, 0.3252538874375055, 0.029568535221591405, 0.08542021286237518, 0.8630968014885522, 0.08091532513955177, 0.10537694775297221, 0.45380072661360615, 0.01529665370607661, 0.07988252490951119, 0.05098884568692204, 0.16826319076684274, 0.06798512758256271, 0.05778735844517831, 0.225534348274713, 0.1433481027169786, 0.13952548664452585, 0.12041240628226203, 0.10129932591999821, 0.07262970537660249, 0.1433481027169786, 0.05542793305056506, 0.021937842204964097, 0.2742230275620512, 0.6910420294563691, 0.09265768507778958, 0.1297207591089054, 0.06949326380834218, 0.07875903231612114, 0.0648603795544527, 0.06949326380834218, 0.4586555411350584, 0.037063074031115834, 0.4902244240493189, 0.03129092068399908, 0.36506074131332256, 0.03129092068399908, 0.020860613789332717, 0.0521515344733318, 0.1390557547857077, 0.13471026244865433, 0.21292912451561494, 0.052145908044640386, 0.04345492337053366, 0.08256435440401395, 0.07821886206696059, 0.0043454923370533655, 0.2520385555490952, 0.11115754073429318, 0.04763894602898279, 0.7066443660965781, 0.031759297352655196, 0.07145841904347419, 0.031759297352655196, 0.9289625468967612, 0.0516090303831534, 0.05519823723252108, 0.011999616789678496, 0.03839877372697119, 0.3383891934689336, 0.49438421173475405, 0.021599310221421295, 0.02399923357935699, 0.014399540147614196, 0.05502823818435115, 0.018342746061450383, 0.8437663188267176, 0.018342746061450383, 0.05502823818435115, 0.032230364142443714, 0.44662076025957714, 0.07366940375415706, 0.02302168867317408, 0.15654748297758375, 0.11971278110050522, 0.08287807922342669, 0.05525205281561779, 0.09982932277468627, 0.09982932277468627, 0.03327644092489542, 0.027730367437412855, 0.08319110231223856, 0.038822514412377995, 0.07209895533727342, 0.5435152017732919, 0.5326401560589146, 0.05918223956210163, 0.13809189231157046, 0.039454826374734416, 0.13809189231157046, 0.05918223956210163, 0.019727413187367208, 0.008483805154083177, 0.02545141546224953, 0.7550586587134027, 0.1102894670030813, 0.008483805154083177, 0.08483805154083177, 0.05833733238734853, 0.0437529992905114, 0.59309621260471, 0.03889155492489902, 0.14584333096837132, 0.08264455421541042, 0.01944577746244951, 0.014584333096837132, 0.14246522645583154, 0.13718873658709704, 0.010552979737469003, 0.047488408818610515, 0.05276489868734501, 0.07387085816228302, 0.031658939212407006, 0.5065430273985121, 0.17541487870870787, 0.16566960766933522, 0.30210340222055243, 0.00974527103937266, 0.33133921533867045, 0.3322105064866443, 0.2599908311634607, 0.10110754545245695, 0.2888787012927342, 0.14598931942184834, 0.10427808530132024, 0.0834224682410562, 0.18770055354237644, 0.06256685118079215, 0.06256685118079215, 0.3336898729642248, 0.629921934604428, 0.04499442390031629, 0.23997026080168687, 0.02999628260021086, 0.01499814130010543, 0.02999628260021086, 0.5345140937218976, 0.08223293749567656, 0.09593842707828933, 0.10964391666090208, 0.08223293749567656, 0.0685274479130638, 0.02741097916522552, 0.10674071149934364, 0.03932552528923187, 0.04494345747340785, 0.09550484713099168, 0.5280856253125422, 0.10112277931516767, 0.05056138965758383, 0.028089660920879906, 0.9457447145256971, 0.03546542679471364, 0.011821808931571214, 0.04637069973581635, 0.030913799823877566, 0.015456899911938783, 0.015456899911938783, 0.8192156953327555, 0.030913799823877566, 0.08221639088907137, 0.22095655051437932, 0.07193934202793746, 0.0924934397502053, 0.03596967101396873, 0.10790901304190618, 0.061662293166803536, 0.32372703912571854, 0.010443381518158696, 0.5900510557759663, 0.020886763036317393, 0.06266028910895217, 0.026108453795396742, 0.2819713009902848, 0.03725177266562871, 0.018625886332814354, 0.009312943166407177, 0.018625886332814354, 0.05587765899844306, 0.14900709066251483, 0.6984707374805383, 0.43597172157176206, 0.03694675606540356, 0.18473378032701782, 0.025862729245782496, 0.07758818773734749, 0.15517637547469498, 0.03325208045886321, 0.05172545849156499, 0.2875341940775215, 0.02129882919092752, 0.20233887731381142, 0.09584473135917383, 0.02129882919092752, 0.3620800962457678, 0.47158819310380085, 0.11558534144701, 0.23117068289402, 0.013870240973641201, 0.032363895605162805, 0.0878448594997276, 0.013870240973641201, 0.027740481947282403, 0.14675720495224334, 0.036087837283338524, 0.6183049454545334, 0.02405855818889235, 0.04571126055889547, 0.040899548921116996, 0.021652702370003114, 0.06255225129112012, 0.043937268983955946, 0.4421187691510567, 0.06315982416443668, 0.21968634491977973, 0.0356990310494642, 0.10984317245988987, 0.05217550691844768, 0.030206872426469713, 0.05582620613229309, 0.018608735377431032, 0.2419135599066034, 0.6326970028326551, 0.037217470754862064, 0.007286674886888402, 0.6758390957588993, 0.007286674886888402, 0.06922341142543982, 0.03825504315616411, 0.19491855322426477, 0.005465006165166301, 0.28025994582811414, 0.1901763918119346, 0.26024137826896315, 0.02335499548567618, 0.0533828468244027, 0.02669142341220135, 0.1601485404732081, 0.02248427514278391, 0.030915878321327875, 0.005621068785695978, 0.011242137571391956, 0.05902122224980776, 0.01686320635708793, 0.6070754288551655, 0.247327026570623, 0.2927954443609349, 0.1860471052710107, 0.09759848145364497, 0.08234871872651293, 0.11284824418077699, 0.07014890854480732, 0.10064843399907136, 0.0579490983631017, 0.2209927629735523, 0.5089530298784841, 0.03348375196568974, 0.08036100471765538, 0.14732850864903488, 0.07954066289414097, 0.09942582861767621, 0.07954066289414097, 0.019885165723535242, 0.6363253031531277, 0.019885165723535242, 0.039770331447070484, 0.09721179042077326, 0.1110991890523123, 0.05554959452615615, 0.013887398631539037, 0.04166219589461711, 0.5693833438931005, 0.09721179042077326, 0.3032553786042511, 0.1113215946775099, 0.08828954060630097, 0.038386756785348246, 0.09212821628483579, 0.11899894603457956, 0.06141881085655719, 0.057580135178022365, 0.13051497307018403, 0.09284267369367037, 0.0397897172972873, 0.01989485864864365, 0.07294781504502672, 0.0397897172972873, 0.6167406181079532, 0.11273753234231403, 0.08891473429045794, 0.0254042097972737, 0.838338923310032, 0.03810631469591055, 0.6412221771523642, 0.055758450187162106, 0.16727535056148632, 0.11151690037432421, 0.0978530719695226, 0.6262596606049446, 0.07828245757561808, 0.05871184318171356, 0.01957061439390452, 0.05871184318171356, 0.03914122878780904, 0.03593319192294801, 0.9612128839388593, 0.028433099680421455, 0.022746479744337165, 0.03411971961650575, 0.04549295948867433, 0.011373239872168582, 0.011373239872168582, 0.005686619936084291, 0.8416197505404751, 0.07186954088973588, 0.03593477044486794, 0.01796738522243397, 0.5569889418954531, 0.2874781635589435, 0.15186615115372368, 0.021695164450531955, 0.5713059971973414, 0.23141508747234085, 0.014463442967021303, 0.014463442967021303, 0.06684994035858029, 0.08117492757827606, 0.09072491905807324, 0.10027491053787044, 0.042974961659087325, 0.019099982959594367, 0.052524953138884514, 0.028649974439391553, 0.057299948878783105, 0.46317458677016343, 0.19372146871763665, 0.04151174329663642, 0.15220972542100022, 0.034593119413863685, 0.10377935824159105, 0.10377935824159105, 0.08302348659327284, 0.2767449553109095, 0.8283322396468195, 0.018205104168061967, 0.06371786458821688, 0.08192296875627884, 0.05400942674657324, 0.015431264784735213, 0.019289080980919016, 0.015431264784735213, 0.605677142800857, 0.2391846041633958, 0.015431264784735213, 0.030862529569470425, 0.04038199273605625, 0.04038199273605625, 0.8884038401932375, 0.020190996368028125, 0.08219165037746395, 0.25289738577681214, 0.07270799841083349, 0.06322434644420304, 0.08219165037746395, 0.13277112753282638, 0.24025251648797155, 0.03477339054431167, 0.03477339054431167, 0.03025197899809527, 0.43242534685512646, 0.023133866292661086, 0.06940159887798326, 0.09253546517064434, 0.18685045851764726, 0.1459213104614007, 0.01067716905815127, 0.008897640881792726, 0.038476248727109905, 0.7310487258150883, 0.1346668705448847, 0.057714373090664864, 0.0439149587770787, 0.02195747938853935, 0.8343842167644951, 0.0878299175541574, 0.00824330589181436, 0.00824330589181436, 0.23081256497080205, 0.00824330589181436, 0.6841943890205918, 0.053581488296793336, 0.227301780700069, 0.043566174634179895, 0.31822249298009664, 0.030306904093342538, 0.07766144173919025, 0.1553228834783805, 0.058719626680851164, 0.0890265307741937, 0.02319547379583722, 0.02319547379583722, 0.02319547379583722, 0.17396605346877914, 0.16236831657086054, 0.5914845817938491, 0.03321232329730267, 0.8635204057298694, 0.06642464659460534, 0.08703820601617196, 0.009003952346500548, 0.33314623682052025, 0.27311988784384994, 0.17407641203234392, 0.018007904693001096, 0.030013174488335157, 0.07203161877200438, 0.013216754083590021, 0.9648230481020715, 0.013216754083590021, 0.1678024819627011, 0.05243827561334409, 0.11012037878802258, 0.09438889610401936, 0.14682717171736345, 0.015731482684003227, 0.22548458513737957, 0.04195062049067527, 0.14158334415602905, 0.10938245097418661, 0.009115204247848884, 0.045576021239244424, 0.5377970506230841, 0.20964969770052433, 0.08203683823063995, 0.2202674581703763, 0.14178135238552955, 0.14178135238552955, 0.14178135238552955, 0.12405868333733837, 0.09367696496901061, 0.08101791564887403, 0.053168007144573586, 0.02246504107399815, 0.0449300821479963, 0.0299533880986642, 0.22215429506509282, 0.024961156748886833, 0.012480578374443416, 0.5566337955001764, 0.08486793294621524, 0.037112470177602906, 0.779361873729661, 0.14844988071041162, 0.18874447570829544, 0.041943216824065654, 0.041943216824065654, 0.041943216824065654, 0.4543848489273779, 0.202725547982984, 0.013981072274688552, 0.020971608412032827, 0.015948930531388527, 0.31897861062777055, 0.047846791594165584, 0.5901104296613755, 0.11140060143307519, 0.03182874326659291, 0.09548622979977872, 0.31828743266592907, 0.015914371633296454, 0.4137736624657078, 0.09551819490532505, 0.0038987018328704107, 0.12280910773541794, 0.03313896557939849, 0.218327302640743, 0.09746754582176026, 0.076024685740973, 0.35283251587477216, 0.1643646420119105, 0.023907584292641528, 0.062757408768184, 0.005976896073160382, 0.14643395379242935, 0.5199899583649532, 0.005976896073160382, 0.06873430484134439, 0.04751964858545863, 0.031679765723639085, 0.6177554316109621, 0.15839882861819543, 0.1346390043254661, 0.031860415813542674, 0.9080218506859661, 0.04779062372031401, 0.1789480757503425, 0.25052730605047946, 0.08947403787517125, 0.12526365302523973, 0.053684422725102744, 0.035789615150068496, 0.07157923030013699, 0.1789480757503425, 0.14418015605404516, 0.05065789266763749, 0.1324898731307442, 0.393572858417799, 0.11300606825857594, 0.06234817559093845, 0.08183198046310672, 0.02338056584660192, 0.5708375390834097, 0.039368106143683426, 0.1574724245747337, 0.09842026535920857, 0.039368106143683426, 0.07873621228736685, 0.1132559942499399, 0.004718999760414163, 0.10853699448952574, 0.06606599664579828, 0.6181889686142553, 0.028313998562484975, 0.014156999281242488, 0.0377519980833133, 0.0759720236924, 0.16460605133353334, 0.11395803553860001, 0.0379860118462, 0.06331001974366667, 0.012662003948733335, 0.06331001974366667, 0.46849414610313334, 0.9582524051942277, 0.30579604041818415, 0.021842574315584583, 0.6552772294675374, 0.6351808786652999, 0.0158795219666325, 0.1746747416329575, 0.031759043933265, 0.0158795219666325, 0.0158795219666325, 0.07939760983316249, 0.20670268051119256, 0.1994921218887091, 0.11296541841890756, 0.11296541841890756, 0.10815837933725192, 0.093737262092285, 0.11296541841890756, 0.05287742989821205, 0.1008934111694479, 0.036033361131945676, 0.04324003335833481, 0.20899349456528493, 0.007206672226389136, 0.021620016679167405, 0.057653377811113085, 0.533293744752796, 0.9009475513107482, 0.012341747278229427, 0.024683494556458855, 0.061708736391147136, 0.148119594901595, 0.1925554733720735, 0.0740597974507975, 0.0740597974507975, 0.059247837960638, 0.059247837960638, 0.059247837960638, 0.35548702776382796, 0.07334721876456368, 0.04889814584304245, 0.061122682303803064, 0.07334721876456368, 0.024449072921521226, 0.12224536460760613, 0.5867777501165095, 0.06250900961167528, 0.012501801922335057, 0.1125162173010155, 0.8126171249517787, 0.009462304637124221, 0.0047311523185621105, 0.007096728477843165, 0.007096728477843165, 0.007096728477843165, 0.3146216291843803, 0.648167867643009, 0.2994705852667276, 0.05843328493009319, 0.20086441694719534, 0.08034576677887814, 0.07669368647074731, 0.15703945324962545, 0.08034576677887814, 0.04382496369756989, 0.0543085168871668, 0.5928679760182376, 0.045257097405972335, 0.0407313876653751, 0.0678856461089585, 0.18102838962388934, 0.0135771292217917, 0.03341829404379824, 0.9440668067373003, 0.01670914702189912, 0.11554019721115703, 0.0996036182854802, 0.06773046043412653, 0.01992072365709604, 0.13944506559967226, 0.047809736777030494, 0.17530236818244516, 0.33068401270779424, 0.01583926088980009, 0.35072649113128773, 0.014707885111957227, 0.030547146001757317, 0.03507264911312877, 0.09842969267232914, 0.06561979511488608, 0.0124451335562715, 0.28284394446071587, 0.09277281378311482, 0.9671146732274285, 0.03022233353835714, 0.04188677431602271, 0.025132064589613624, 0.8126034217308405, 0.012566032294806812, 0.008377354863204541, 0.029320742021215897, 0.06283016147403406, 0.0881540332795881, 0.06781079483045238, 0.006781079483045238, 0.7798241405502023, 0.03390539741522619, 0.013562158966090476, 0.6884827447769241, 0.09179769930358987, 0.16064597378128226, 0.022949424825897468, 0.012939019662373725, 0.32347549155934313, 0.5951949044691913, 0.012939019662373725, 0.03881705898712117, 0.39524015143996394, 0.07439814615340498, 0.12089698749928308, 0.11159721923010747, 0.11159721923010747, 0.04649884134587811, 0.06044849374964154, 0.07439814615340498, 0.9897605643914215, 0.04457291804217755, 0.1634340328213177, 0.4160139017269905, 0.014857639347392516, 0.34172570499002786, 0.3453170930725851, 0.06726956358556853, 0.2421704289080467, 0.02690782543422741, 0.09417738901979594, 0.0896927514474247, 0.040361738151341114, 0.0896927514474247, 0.007591610255398125, 0.018979025638495312, 0.0854056153732289, 0.01518322051079625, 0.0018979025638495312, 0.5579833537717621, 0.2125650871511475, 0.09869093332017562, 0.03743162046183099, 0.021389497406760563, 0.1176422357371831, 0.33153720980478874, 0.16042123055070423, 0.021389497406760563, 0.12298961008887324, 0.016042123055070422, 0.17646335360577464, 0.24047069550169628, 0.02748236520019386, 0.18550596510130854, 0.02748236520019386, 0.034352956500242324, 0.4122354780029079, 0.02748236520019386, 0.04122354780029079, 0.010724743833935168, 0.9866764327220353, 0.1572349695534334, 0.031446993910686685, 0.23585245433015012, 0.09434098173206006, 0.04717049086603003, 0.42453441779427026, 0.1811124186311177, 0.15683962025787515, 0.20725235534076358, 0.044811320073678614, 0.04854559674648516, 0.28380502713329786, 0.03360849005525896, 0.044811320073678614, 0.05191329568475083, 0.023793593855510796, 0.025956647842375415, 0.4564043912284344, 0.06272856561907392, 0.023793593855510796, 0.04758718771102159, 0.008652215947458472, 0.16222904901484633, 0.13843545515933556, 0.9088237149465089, 0.05049020638591716, 0.02524510319295858, 0.9907288109384098, 0.37717011774903525, 0.03901759838783123, 0.013005866129277076, 0.008670577419518051, 0.5375758000101192, 0.013005866129277076, 0.008670577419518051, 0.050010528661845716, 0.23576392083441552, 0.050010528661845716, 0.028577444949626125, 0.04286616742443919, 0.5572601765177094, 0.021433083712219594, 0.007144361237406531, 0.07609053540718376, 0.05706790155538782, 0.05706790155538782, 0.03804526770359188, 0.7418827202200416, 0.28887207652616287, 0.09882465775895045, 0.10642655450963895, 0.06841707075619648, 0.0861548298411363, 0.10896052009320178, 0.17991155643296108, 0.06588310517263364, 0.05217088884572944, 0.017390296281909814, 0.15651266653718832, 0.6782215549944828, 0.08695148140954907, 0.02120748982235997, 0.10603744911179985, 0.8482995928943988, 0.03805963429159143, 0.09134312229981943, 0.030447707433273144, 0.6089541486654629, 0.10656697601645601, 0.03805963429159143, 0.09134312229981943, 0.0203736476504687, 0.07130776677664045, 0.21392330032992138, 0.07130776677664045, 0.6213962533392954, 0.46566225945369216, 0.027073387177540244, 0.26531919433989437, 0.027073387177540244, 0.07039080666160463, 0.021658709742032194, 0.010829354871016097, 0.10829354871016098, 0.005414677435508049, 0.06005911780940971, 0.9391062057471337, 0.14185936605929014, 0.03152430356873114, 0.09457291070619342, 0.03152430356873114, 0.6304860713746229, 0.06304860713746228, 0.09304038488585208, 0.08141033677512056, 0.8141033677512056, 0.10439272983311144, 0.12527127579973374, 0.010439272983311144, 0.041757091933244575, 0.7098705628651578, 0.06491477045200537, 0.4681731929568872, 0.062947656195884, 0.15540202623358862, 0.07475034173261225, 0.0708161132203695, 0.07475034173261225, 0.027539599585699247, 0.7759051292221096, 0.09128295637907173, 0.12171060850542897, 0.9505008424077054, 0.03395492253587979, 0.10186476760763936, 0.016977461267939895, 0.08488730633969947, 0.016977461267939895, 0.7130533732534755, 0.06393864510161379, 0.12787729020322758, 0.031969322550806895, 0.6926686552674828, 0.06393864510161379, 0.010656440850268964, 0.020144634067920556, 0.24173560881504666, 0.7050621923772195, 0.02473945225927127, 0.004123242043211879, 0.03298593634569503, 0.08246484086423757, 0.7421835677781381, 0.10720429312350885, 0.008246484086423757, 0.6307475054363317, 0.12985978053100947, 0.03710279443743127, 0.018551397218715637, 0.07420558887486255, 0.05565419165614691, 0.018551397218715637, 0.2521188291471226, 0.16207639016600736, 0.14166677066362124, 0.08403960971570752, 0.12005658530815361, 0.0864407414218706, 0.06362999021332141, 0.08043791215646291, 0.008403960971570753, 0.14767478208346815, 0.03177811766353113, 0.07103343948318722, 0.12524316961509324, 0.3813374119623735, 0.05981763324899976, 0.1009422561076871, 0.08224924571737467, 0.9654170337199419, 0.023968019190723954, 0.011984009595361977, 0.6711045373402706, 0.17976014393042966, 0.09587207676289582, 0.042319163506035505, 0.9098620153797633, 0.021159581753017753, 0.017859200058806462, 0.02678880008820969, 0.044648000147016156, 0.8929600029403231, 0.02495563820822091, 0.34605151648733, 0.02495563820822091, 0.15306124767708826, 0.05157498563032322, 0.07153949619689995, 0.27451202029043004, 0.014973382924932548, 0.03660160270539067, 0.008060841240662283, 0.34661617334847816, 0.018808629561545328, 0.21226881933744013, 0.07523451824618131, 0.2203296605781024, 0.11553872444949273, 0.8860364824522539, 0.08519581562040902, 0.03882102586951865, 0.4998207080700525, 0.16498935994545424, 0.06793679527165762, 0.08734730820641695, 0.053378910570588134, 0.053378910570588134, 0.02911576940213898, 0.0852088000149054, 0.9032132801579973, 0.16625251244063144, 0.0677325050684054, 0.5018362875522764, 0.040023752994966834, 0.06465375483802334, 0.058496254377259214, 0.03078750230382064, 0.049260003686113024, 0.021551251612674446, 0.8843068083400707, 0.0775707726614097, 0.015514154532281941, 0.06512519120359238, 0.04031559455460481, 0.06512519120359238, 0.3597391514103198, 0.2449947669087523, 0.04031559455460481, 0.07132759036583927, 0.11474438450156753, 0.07216371694613372, 0.884005532590138, 0.03608185847306686, 0.07055722666023832, 0.03135876740455037, 0.7761294932626216, 0.05095799703239434, 0.015679383702275184, 0.02743892147898157, 0.023519075553412774, 0.01186621638248978, 0.5062918989862306, 0.09492973105991824, 0.015821621843319707, 0.3718081133180131, 0.16604282664711223, 0.15063679118500903, 0.1215365019788141, 0.1677546083651237, 0.1318071922868829, 0.06675948700244719, 0.12838362885085997, 0.047929888104321056, 0.01882959889812613, 0.0017117817180114664, 0.17793730695717302, 0.1615123247765109, 0.12044986932485559, 0.12044986932485559, 0.11497487526463487, 0.07391241981297957, 0.11223737823452452, 0.06433118020759332, 0.05201244357209673, 0.06777502118223129, 0.8810752753690068, 0.038728583532703593, 0.17952602282310257, 0.006190552511141467, 0.15785908903410742, 0.052619696344702475, 0.40238591322419537, 0.14238270775625375, 0.006190552511141467, 0.05571497260027321, 0.17125505028964086, 0.18076921975017646, 0.07611335568428483, 0.4947368119478514, 0.009514169460535604, 0.019028338921071208, 0.04757084730267802, 0.008250206067459112, 0.16500412134918224, 0.8250206067459112, 0.9847912519375235, 0.00841701924732926, 0.4084319849425009, 0.01324644275489192, 0.24285145050635187, 0.15233409168125708, 0.06843995423360826, 0.09272509928424344, 0.01986966413233788, 0.16126814169854478, 0.07443145001471298, 0.0434183458419159, 0.07443145001471298, 0.049620966676475316, 0.024810483338237658, 0.0868366916838318, 0.0062026208345594145, 0.1674707625331042, 0.31633366256253015, 0.21221286310097737, 0.1212644932005585, 0.05052687216689938, 0.0404214977335195, 0.030316123300139625, 0.06063224660027925, 0.010105374433379876, 0.46484722393547423, 0.32967510677534706, 0.18279015821207362, 0.09139507910603681, 0.039169319616872915, 0.0685463093295276, 0.10445151897832777, 0.0750745292656731, 0.055489869457236635, 0.05222575948916389, 0.015570286738113321, 0.9653577777630259, 0.09943015387737411, 0.8380541541092961, 0.042612923090303186, 0.03175428886663938, 0.0606218241999479, 0.03464104239997023, 0.037527795933301085, 0.043301302999962786, 0.07794234539993301, 0.03464104239997023, 0.008660260599992557, 0.6697268197327578, 0.9405307848248038, 0.03287776016795481, 0.9205772847027346, 0.36380664348885705, 0.05197237764126529, 0.05197237764126529, 0.025986188820632646, 0.06496547205158161, 0.012993094410316323, 0.402785926719806], \"Term\": [\"2005\", \"2005\", \"2005\", \"2005\", \"2005\", \"2008\", \"2008\", \"2008\", \"2008\", \"2008\", \"2008\", \"2008\", \"2008\", \"2010\", \"2010\", \"2010\", \"2010\", \"2010\", \"2010\", \"2010\", \"30\", \"30\", \"30\", \"30\", \"30\", \"30\", \"30\", \"abl\", \"abl\", \"abl\", \"abl\", \"abl\", \"abstract\", \"abstract\", \"abstract\", \"abstract\", \"abstract\", \"abstract\", \"abstract\", \"abstract\", \"across\", \"across\", \"across\", \"across\", \"across\", \"across\", \"across\", \"address\", \"address\", \"address\", \"address\", \"address\", \"ajax\", \"ajax\", \"ajax\", \"algorithm\", \"algorithm\", \"algorithm\", \"algorithm\", \"algorithm\", \"algorithm\", \"algorithm\", \"anim\", \"anim\", \"anim\", \"apach\", \"apach\", \"apach\", \"apach\", \"apach\", \"app\", \"app\", \"app\", \"app\", \"app\", \"app\", \"app\", \"app\", \"append\", \"append\", \"append\", \"append\", \"append\", \"append\", \"append\", \"applic\", \"applic\", \"applic\", \"applic\", \"applic\", \"applic\", \"applic\", \"applic\", \"array\", \"array\", \"array\", \"array\", \"array\", \"array\", \"array\", \"asp\", \"asp\", \"asp\", \"asp\", \"asp\", \"asp\", \"asp\", \"asp\", \"aspnet\", \"aspnet\", \"aspnet\", \"aspnet\", \"aspnet\", \"aspnet\", \"assembl\", \"assembl\", \"assembl\", \"assum\", \"assum\", \"attribut\", \"attribut\", \"attribut\", \"attribut\", \"attribut\", \"authent\", \"authent\", \"authent\", \"authent\", \"authent\", \"authent\", \"authent\", \"away\", \"away\", \"bad\", \"bad\", \"bad\", \"bad\", \"bad\", \"bad\", \"bad\", \"basic\", \"bean\", \"bean\", \"bean\", \"bean\", \"bean\", \"bean\", \"bean\", \"bean\", \"bean\", \"bin\", \"bin\", \"bin\", \"binari\", \"binari\", \"binari\", \"binari\", \"binari\", \"binari\", \"binari\", \"bind\", \"bind\", \"bind\", \"bind\", \"bind\", \"bind\", \"bind\", \"book\", \"book\", \"book\", \"book\", \"boolean\", \"boolean\", \"boolean\", \"boolean\", \"boost\", \"box\", \"box\", \"branch\", \"branch\", \"branch\", \"branch\", \"branch\", \"branch\", \"browser\", \"browser\", \"browser\", \"browser\", \"browser\", \"browser\", \"browser\", \"browser\", \"build\", \"build\", \"build\", \"built\", \"built\", \"built\", \"built\", \"built\", \"builtin\", \"builtin\", \"builtin\", \"builtin\", \"builtin\", \"bunch\", \"bunch\", \"bunch\", \"bunch\", \"bunch\", \"bunch\", \"busi\", \"busi\", \"busi\", \"busi\", \"busi\", \"busi\", \"busi\", \"busi\", \"button\", \"button\", \"button\", \"button\", \"button\", \"byte\", \"byte\", \"byte\", \"byte\", \"byte\", \"byte\", \"byte\", \"byte\", \"ca\", \"ca\", \"ca\", \"ca\", \"ca\", \"cach\", \"cach\", \"cach\", \"cach\", \"cach\", \"cach\", \"cach\", \"call\", \"call\", \"call\", \"call\", \"call\", \"call\", \"call\", \"call\", \"call\", \"callback\", \"callback\", \"captur\", \"captur\", \"captur\", \"captur\", \"captur\", \"captur\", \"captur\", \"care\", \"care\", \"care\", \"care\", \"cast\", \"cast\", \"cast\", \"cast\", \"catch\", \"catch\", \"catch\", \"caus\", \"caus\", \"caus\", \"cell\", \"cell\", \"cell\", \"cell\", \"cell\", \"cell\", \"cell\", \"cell\", \"center\", \"center\", \"center\", \"certain\", \"certain\", \"certain\", \"certain\", \"certain\", \"certain\", \"chang\", \"chang\", \"chang\", \"charact\", \"charact\", \"charact\", \"charact\", \"child\", \"child\", \"child\", \"child\", \"child\", \"child\", \"child\", \"child\", \"class\", \"class\", \"class\", \"class\", \"class\", \"class\", \"class\", \"clean\", \"clean\", \"clean\", \"clean\", \"clean\", \"clean\", \"clean\", \"clean\", \"click\", \"click\", \"click\", \"click\", \"click\", \"click\", \"click\", \"click\", \"close\", \"close\", \"close\", \"code\", \"code\", \"code\", \"code\", \"code\", \"code\", \"code\", \"collect\", \"collect\", \"collect\", \"com\", \"com\", \"com\", \"com\", \"com\", \"com\", \"com\", \"com\", \"come\", \"come\", \"come\", \"come\", \"comment\", \"comment\", \"comment\", \"comment\", \"comment\", \"comment\", \"comment\", \"commit\", \"commit\", \"commit\", \"commit\", \"commit\", \"commit\", \"commun\", \"commun\", \"commun\", \"commun\", \"commun\", \"commun\", \"commun\", \"configur\", \"configur\", \"configur\", \"configur\", \"configur\", \"configur\", \"configur\", \"configur\", \"consol\", \"consol\", \"consolewritelin\", \"consolewritelin\", \"constraint\", \"constraint\", \"constraint\", \"constraint\", \"constraint\", \"constraint\", \"constructor\", \"constructor\", \"constructor\", \"constructor\", \"constructor\", \"contain\", \"contain\", \"contain\", \"contain\", \"contain\", \"contain\", \"context\", \"context\", \"context\", \"context\", \"context\", \"context\", \"context\", \"context\", \"context\", \"convers\", \"convers\", \"convers\", \"convers\", \"convers\", \"convers\", \"convers\", \"convers\", \"cooki\", \"cooki\", \"cooki\", \"cooki\", \"cooki\", \"cooki\", \"cooki\", \"cooki\", \"cooki\", \"copi\", \"coupl\", \"coupl\", \"coupl\", \"coupl\", \"coupl\", \"coupl\", \"css\", \"css\", \"css\", \"css\", \"css\", \"css\", \"css\", \"css\", \"current\", \"current\", \"databas\", \"databas\", \"databas\", \"databas\", \"databas\", \"databas\", \"databas\", \"databas\", \"databas\", \"date\", \"date\", \"date\", \"date\", \"date\", \"date\", \"date\", \"date\", \"datetim\", \"datetim\", \"datetim\", \"datetim\", \"datetim\", \"datetim\", \"datetim\", \"datetim\", \"day\", \"day\", \"day\", \"day\", \"db\", \"db\", \"db\", \"db\", \"db\", \"db\", \"db\", \"db\", \"deal\", \"deal\", \"deal\", \"deal\", \"deal\", \"deal\", \"deal\", \"debugg\", \"debugg\", \"debugg\", \"debugg\", \"debugg\", \"debugg\", \"debugg\", \"def\", \"def\", \"def\", \"delphi\", \"delphi\", \"delphi\", \"delphi\", \"delphi\", \"deploy\", \"deploy\", \"deploy\", \"deploy\", \"deploy\", \"describ\", \"describ\", \"describ\", \"describ\", \"describ\", \"descript\", \"descript\", \"descript\", \"detect\", \"detect\", \"detect\", \"detect\", \"detect\", \"detect\", \"dialog\", \"dialog\", \"dialog\", \"dialog\", \"dialog\", \"dialog\", \"dialog\", \"dialog\", \"dictionari\", \"dictionari\", \"dictionari\", \"dictionari\", \"dictionari\", \"dim\", \"dim\", \"dim\", \"display\", \"display\", \"display\", \"display\", \"display\", \"dll\", \"dll\", \"dll\", \"dll\", \"dll\", \"dll\", \"dll\", \"dll\", \"doc\", \"doc\", \"doc\", \"dom\", \"dom\", \"dom\", \"domain\", \"domain\", \"domain\", \"domain\", \"doubl\", \"doubl\", \"doubl\", \"doubl\", \"doubl\", \"doubl\", \"doubl\", \"doubl\", \"doubl\", \"download\", \"download\", \"download\", \"download\", \"draw\", \"draw\", \"draw\", \"draw\", \"draw\", \"draw\", \"draw\", \"due\", \"due\", \"due\", \"due\", \"due\", \"due\", \"easi\", \"easi\", \"easi\", \"effici\", \"effici\", \"effici\", \"effici\", \"els\", \"els\", \"els\", \"els\", \"els\", \"els\", \"els\", \"empti\", \"empti\", \"empti\", \"empti\", \"empti\", \"empti\", \"empti\", \"encod\", \"encod\", \"encod\", \"encod\", \"encod\", \"encod\", \"encod\", \"end\", \"end\", \"end\", \"end\", \"end\", \"end\", \"ensur\", \"ensur\", \"ensur\", \"ensur\", \"ensur\", \"ensur\", \"ensur\", \"enter\", \"enter\", \"enter\", \"equival\", \"equival\", \"equival\", \"equival\", \"equival\", \"etc\", \"etc\", \"even\", \"even\", \"even\", \"even\", \"even\", \"even\", \"even\", \"ever\", \"ever\", \"ever\", \"ever\", \"ever\", \"ever\", \"ever\", \"ever\", \"exactli\", \"exactli\", \"exactli\", \"exactli\", \"exactli\", \"exactli\", \"exactli\", \"exactli\", \"exist\", \"exist\", \"exist\", \"exist\", \"exist\", \"exist\", \"exist\", \"exist\", \"exist\", \"exist\", \"exit\", \"exit\", \"exit\", \"exit\", \"exit\", \"expect\", \"expect\", \"expect\", \"expect\", \"expect\", \"expect\", \"expect\", \"expect\", \"export\", \"export\", \"export\", \"export\", \"export\", \"export\", \"export\", \"export\", \"extern\", \"extern\", \"extern\", \"extern\", \"extern\", \"extern\", \"extern\", \"extern\", \"fail\", \"fail\", \"fail\", \"fail\", \"fail\", \"fail\", \"fail\", \"fail\", \"far\", \"far\", \"far\", \"far\", \"far\", \"far\", \"far\", \"far\", \"faster\", \"faster\", \"faster\", \"faster\", \"faster\", \"fill\", \"fill\", \"fill\", \"fill\", \"fill\", \"fill\", \"fill\", \"fill\", \"final\", \"final\", \"final\", \"final\", \"final\", \"final\", \"final\", \"final\", \"final\", \"find\", \"find\", \"find\", \"find\", \"find\", \"find\", \"find\", \"first\", \"first\", \"first\", \"first\", \"first\", \"first\", \"first\", \"first\", \"first\", \"first\", \"flash\", \"flash\", \"flash\", \"flash\", \"flash\", \"flash\", \"flash\", \"flash\", \"flash\", \"flash\", \"foo\", \"foo\", \"foo\", \"form\", \"form\", \"form\", \"form\", \"form\", \"format\", \"format\", \"format\", \"format\", \"format\", \"format\", \"format\", \"format\", \"format\", \"format\", \"found\", \"found\", \"frame\", \"frame\", \"frame\", \"frame\", \"frame\", \"frame\", \"frame\", \"free\", \"free\", \"free\", \"free\", \"free\", \"full\", \"full\", \"func\", \"func\", \"func\", \"func\", \"func\", \"func\", \"func\", \"func\", \"function\", \"function\", \"function\", \"function\", \"function\", \"function\", \"function\", \"function\", \"function\", \"gener\", \"gener\", \"gener\", \"gener\", \"gener\", \"gener\", \"gener\", \"git\", \"git\", \"give\", \"give\", \"give\", \"give\", \"give\", \"give\", \"give\", \"give\", \"given\", \"go\", \"go\", \"go\", \"go\", \"go\", \"go\", \"go\", \"go\", \"go\", \"goal\", \"group\", \"group\", \"group\", \"group\", \"group\", \"group\", \"group\", \"group\", \"guess\", \"guess\", \"guess\", \"guid\", \"guid\", \"guid\", \"guid\", \"guid\", \"hand\", \"hand\", \"hand\", \"hand\", \"hand\", \"hand\", \"hand\", \"hand\", \"handler\", \"handler\", \"handler\", \"handler\", \"handler\", \"hibern\", \"hibern\", \"hidden\", \"hidden\", \"hidden\", \"hidden\", \"hidden\", \"hidden\", \"html\", \"html\", \"html\", \"html\", \"html\", \"html\", \"html\", \"html\", \"icon\", \"icon\", \"id\", \"id\", \"id\", \"id\", \"id\", \"id\", \"id\", \"id\", \"idea\", \"idea\", \"idea\", \"idea\", \"idea\", \"idea\", \"idea\", \"idea\", \"ident\", \"ident\", \"ident\", \"ident\", \"ident\", \"imag\", \"imag\", \"imag\", \"immedi\", \"immedi\", \"immedi\", \"immedi\", \"immedi\", \"immedi\", \"implement\", \"implement\", \"implement\", \"implement\", \"implement\", \"implement\", \"import\", \"import\", \"index\", \"index\", \"index\", \"index\", \"index\", \"index\", \"index\", \"index\", \"inherit\", \"inherit\", \"inherit\", \"inherit\", \"inherit\", \"inherit\", \"inherit\", \"inherit\", \"inner\", \"inner\", \"inner\", \"inner\", \"inner\", \"instanc\", \"instanc\", \"instanc\", \"instanc\", \"instanc\", \"instanc\", \"instanc\", \"instanc\", \"instanc\", \"instanti\", \"instanti\", \"instanti\", \"instanti\", \"instanti\", \"instanti\", \"instanti\", \"instanti\", \"instanti\", \"int\", \"int\", \"int\", \"int\", \"int\", \"int\", \"interact\", \"interact\", \"interact\", \"interact\", \"interact\", \"interact\", \"interact\", \"interest\", \"interest\", \"invok\", \"invok\", \"invok\", \"invok\", \"invok\", \"invok\", \"invok\", \"invok\", \"involv\", \"involv\", \"involv\", \"involv\", \"involv\", \"involv\", \"involv\", \"issu\", \"issu\", \"issu\", \"issu\", \"issu\", \"issu\", \"issu\", \"issu\", \"issu\", \"jar\", \"jar\", \"jar\", \"jar\", \"jar\", \"jar\", \"java\", \"java\", \"java\", \"java\", \"java\", \"job\", \"job\", \"job\", \"job\", \"job\", \"job\", \"job\", \"job\", \"join\", \"join\", \"join\", \"join\", \"join\", \"join\", \"jqueri\", \"jqueri\", \"jqueri\", \"js\", \"js\", \"js\", \"js\", \"js\", \"js\", \"js\", \"js\", \"js\", \"json\", \"json\", \"json\", \"json\", \"json\", \"json\", \"json\", \"key\", \"key\", \"key\", \"key\", \"key\", \"keyword\", \"keyword\", \"keyword\", \"keyword\", \"keyword\", \"label\", \"label\", \"label\", \"label\", \"label\", \"label\", \"label\", \"label\", \"label\", \"last\", \"last\", \"last\", \"last\", \"last\", \"last\", \"lastnam\", \"lastnam\", \"lastnam\", \"lastnam\", \"lastnam\", \"lastnam\", \"lastnam\", \"leav\", \"leav\", \"leav\", \"leav\", \"leav\", \"leav\", \"length\", \"length\", \"length\", \"length\", \"length\", \"length\", \"length\", \"length\", \"li\", \"li\", \"li\", \"li\", \"li\", \"li\", \"line\", \"line\", \"link\", \"link\", \"link\", \"link\", \"link\", \"link\", \"linq\", \"linq\", \"linq\", \"linq\", \"linq\", \"linq\", \"linq\", \"linq\", \"list\", \"list\", \"list\", \"list\", \"list\", \"list\", \"list\", \"list\", \"list\", \"littl\", \"littl\", \"littl\", \"live\", \"live\", \"live\", \"live\", \"live\", \"live\", \"load\", \"load\", \"load\", \"load\", \"load\", \"load\", \"load\", \"load\", \"load\", \"local\", \"local\", \"local\", \"local\", \"long\", \"long\", \"long\", \"long\", \"long\", \"long\", \"loop\", \"loop\", \"loop\", \"machin\", \"machin\", \"machin\", \"machin\", \"machin\", \"machin\", \"machin\", \"machin\", \"maintain\", \"maintain\", \"maintain\", \"maintain\", \"maintain\", \"margin\", \"margin\", \"margin\", \"margin\", \"margin\", \"margin\", \"margin\", \"margin\", \"matter\", \"may\", \"may\", \"may\", \"may\", \"may\", \"may\", \"may\", \"may\", \"may\", \"may\", \"mean\", \"mean\", \"mean\", \"mean\", \"mean\", \"mean\", \"menu\", \"menu\", \"menu\", \"menu\", \"menu\", \"menu\", \"menu\", \"merg\", \"merg\", \"merg\", \"merg\", \"merg\", \"merg\", \"merg\", \"merg\", \"method\", \"method\", \"method\", \"method\", \"microsoft\", \"might\", \"might\", \"might\", \"might\", \"might\", \"might\", \"might\", \"migrat\", \"migrat\", \"migrat\", \"migrat\", \"migrat\", \"migrat\", \"migrat\", \"migrat\", \"minut\", \"minut\", \"minut\", \"minut\", \"minut\", \"minut\", \"minut\", \"minut\", \"mode\", \"mode\", \"mode\", \"mode\", \"mode\", \"mode\", \"modul\", \"modul\", \"modul\", \"monitor\", \"monitor\", \"monitor\", \"monitor\", \"monitor\", \"monitor\", \"monitor\", \"monitor\", \"mous\", \"mous\", \"mous\", \"mous\", \"mous\", \"mous\", \"mous\", \"ms\", \"ms\", \"ms\", \"ms\", \"ms\", \"ms\", \"ms\", \"multipl\", \"multipl\", \"multipl\", \"multipl\", \"multipl\", \"multipl\", \"multipl\", \"multipl\", \"mysql\", \"mysql\", \"mysql\", \"mysql\", \"mysql\", \"mysql\", \"name\", \"namespac\", \"namespac\", \"namespac\", \"nativ\", \"nativ\", \"nativ\", \"nativ\", \"nativ\", \"nativ\", \"nativ\", \"nativ\", \"nativ\", \"necessari\", \"necessari\", \"necessari\", \"necessari\", \"necessari\", \"necessari\", \"necessari\", \"never\", \"never\", \"never\", \"never\", \"never\", \"never\", \"never\", \"never\", \"never\", \"nice\", \"nice\", \"nice\", \"nice\", \"nice\", \"nice\", \"nice\", \"nice\", \"nice\", \"node\", \"node\", \"node\", \"node\", \"normal\", \"normal\", \"normal\", \"note\", \"note\", \"note\", \"note\", \"note\", \"note\", \"note\", \"obj\", \"obj\", \"obj\", \"obj\", \"obj\", \"obj\", \"obj\", \"obj\", \"object\", \"object\", \"object\", \"object\", \"object\", \"object\", \"object\", \"object\", \"object\", \"obviou\", \"obviou\", \"obvious\", \"obvious\", \"obvious\", \"obvious\", \"obvious\", \"obvious\", \"obvious\", \"obvious\", \"oper\", \"oper\", \"oper\", \"oper\", \"oper\", \"oper\", \"oper\", \"oper\", \"origin\", \"origin\", \"origin\", \"os\", \"os\", \"os\", \"os\", \"os\", \"os\", \"os\", \"os\", \"otherwis\", \"otherwis\", \"otherwis\", \"otherwis\", \"otherwis\", \"otherwis\", \"overrid\", \"overrid\", \"overrid\", \"overrid\", \"overrid\", \"overrid\", \"overrid\", \"overrid\", \"overrid\", \"page\", \"page\", \"page\", \"page\", \"page\", \"page\", \"param\", \"param\", \"paramet\", \"paramet\", \"paramet\", \"paramet\", \"paramet\", \"paramet\", \"paramet\", \"paramet\", \"pars\", \"pars\", \"pars\", \"pars\", \"pars\", \"part\", \"part\", \"part\", \"part\", \"part\", \"part\", \"part\", \"part\", \"partial\", \"partial\", \"partial\", \"partial\", \"partial\", \"partial\", \"partial\", \"partial\", \"pass\", \"pass\", \"pass\", \"pass\", \"pass\", \"pass\", \"pass\", \"pattern\", \"pattern\", \"pattern\", \"pattern\", \"pattern\", \"pattern\", \"peopl\", \"peopl\", \"peopl\", \"peopl\", \"peopl\", \"peopl\", \"peopl\", \"peopl\", \"per\", \"per\", \"per\", \"per\", \"per\", \"per\", \"per\", \"per\", \"person\", \"person\", \"person\", \"person\", \"person\", \"phone\", \"phone\", \"phone\", \"phone\", \"php\", \"php\", \"php\", \"php\", \"php\", \"php\", \"php\", \"pleas\", \"pleas\", \"pleas\", \"pleas\", \"pleas\", \"pleas\", \"plugin\", \"plugin\", \"plugin\", \"plugin\", \"plugin\", \"plugin\", \"plugin\", \"powershel\", \"powershel\", \"powershel\", \"powershel\", \"powershel\", \"powershel\", \"powershel\", \"powershel\", \"practic\", \"practic\", \"practic\", \"print\", \"print\", \"print\", \"print\", \"print\", \"print\", \"privat\", \"privat\", \"privat\", \"privat\", \"privat\", \"privat\", \"privat\", \"privat\", \"probabl\", \"probabl\", \"probabl\", \"probabl\", \"probabl\", \"probabl\", \"process\", \"process\", \"process\", \"process\", \"process\", \"process\", \"process\", \"produc\", \"produc\", \"produc\", \"produc\", \"produc\", \"produc\", \"produc\", \"produc\", \"program\", \"program\", \"program\", \"program\", \"program\", \"program\", \"programmat\", \"programmat\", \"programmat\", \"programmat\", \"programmat\", \"programmat\", \"programmat\", \"programmat\", \"proper\", \"proper\", \"proper\", \"proper\", \"proper\", \"proper\", \"proper\", \"proper\", \"protect\", \"protect\", \"protect\", \"protect\", \"protect\", \"protect\", \"protect\", \"protect\", \"public\", \"public\", \"public\", \"public\", \"public\", \"publish\", \"publish\", \"publish\", \"publish\", \"publish\", \"publish\", \"publish\", \"queri\", \"queri\", \"queri\", \"queri\", \"queri\", \"queri\", \"queri\", \"question\", \"question\", \"question\", \"question\", \"question\", \"question\", \"question\", \"question\", \"quit\", \"quit\", \"quit\", \"quit\", \"quit\", \"quit\", \"quit\", \"quit\", \"random\", \"random\", \"random\", \"random\", \"random\", \"rang\", \"rang\", \"rang\", \"rang\", \"rang\", \"rang\", \"rang\", \"read\", \"read\", \"read\", \"read\", \"read\", \"read\", \"read\", \"real\", \"real\", \"real\", \"real\", \"real\", \"real\", \"real\", \"real\", \"real\", \"red\", \"red\", \"red\", \"red\", \"red\", \"red\", \"red\", \"redirect\", \"redirect\", \"redirect\", \"redirect\", \"ref\", \"ref\", \"ref\", \"ref\", \"referenc\", \"referenc\", \"referenc\", \"referenc\", \"referenc\", \"referenc\", \"referenc\", \"reflect\", \"reflect\", \"regist\", \"regist\", \"regist\", \"regist\", \"regist\", \"regist\", \"regist\", \"regist\", \"rel\", \"rel\", \"rel\", \"rel\", \"rel\", \"remot\", \"remot\", \"remot\", \"remot\", \"remot\", \"remot\", \"render\", \"render\", \"render\", \"render\", \"render\", \"render\", \"render\", \"render\", \"render\", \"render\", \"repeat\", \"repeat\", \"repeat\", \"repeat\", \"repeat\", \"repeat\", \"repeat\", \"repeat\", \"replac\", \"replac\", \"replac\", \"replac\", \"repositori\", \"repositori\", \"repositori\", \"repositori\", \"repositori\", \"repositori\", \"repositori\", \"repositori\", \"request\", \"request\", \"request\", \"request\", \"rest\", \"rest\", \"rest\", \"rest\", \"rest\", \"rest\", \"rest\", \"rest\", \"rest\", \"retriev\", \"retriev\", \"retriev\", \"retriev\", \"retriev\", \"retriev\", \"retriev\", \"retriev\", \"retriev\", \"right\", \"right\", \"right\", \"right\", \"root\", \"root\", \"root\", \"root\", \"rout\", \"rout\", \"rout\", \"rout\", \"rout\", \"rout\", \"rule\", \"rule\", \"rule\", \"rule\", \"rule\", \"rule\", \"rule\", \"rule\", \"scenario\", \"scenario\", \"scenario\", \"scenario\", \"scenario\", \"scenario\", \"schema\", \"schema\", \"schema\", \"screen\", \"screen\", \"screen\", \"screen\", \"screen\", \"screen\", \"screen\", \"screen\", \"script\", \"script\", \"script\", \"sdk\", \"sdk\", \"sdk\", \"sdk\", \"sdk\", \"sdk\", \"sdk\", \"sdk\", \"sdk\", \"section\", \"section\", \"section\", \"section\", \"section\", \"section\", \"see\", \"see\", \"see\", \"see\", \"see\", \"see\", \"see\", \"see\", \"seen\", \"seen\", \"seen\", \"seen\", \"seen\", \"seen\", \"seen\", \"seen\", \"select\", \"select\", \"select\", \"send\", \"send\", \"send\", \"send\", \"send\", \"send\", \"send\", \"send\", \"sender\", \"sender\", \"sender\", \"sender\", \"sequenc\", \"sequenc\", \"sequenc\", \"sequenc\", \"sequenc\", \"sequenc\", \"server\", \"server\", \"server\", \"server\", \"server\", \"server\", \"server\", \"server\", \"servic\", \"servic\", \"servic\", \"servic\", \"servic\", \"servic\", \"servic\", \"servic\", \"session\", \"session\", \"session\", \"session\", \"session\", \"share\", \"share\", \"share\", \"sharepoint\", \"sharepoint\", \"sharepoint\", \"sharepoint\", \"sharepoint\", \"sharepoint\", \"sharepoint\", \"sharepoint\", \"shell\", \"shell\", \"shell\", \"shell\", \"shell\", \"shell\", \"shell\", \"shell\", \"simpli\", \"simpli\", \"simpli\", \"simpli\", \"simpli\", \"simpli\", \"site\", \"site\", \"site\", \"site\", \"site\", \"site\", \"site\", \"site\", \"small\", \"small\", \"small\", \"small\", \"small\", \"small\", \"small\", \"small\", \"socket\", \"softwar\", \"softwar\", \"softwar\", \"solut\", \"solut\", \"solut\", \"solut\", \"solut\", \"solut\", \"solut\", \"sometim\", \"sometim\", \"sometim\", \"sometim\", \"sometim\", \"sometim\", \"sometim\", \"sometim\", \"space\", \"space\", \"space\", \"space\", \"space\", \"space\", \"space\", \"space\", \"span\", \"span\", \"span\", \"span\", \"special\", \"special\", \"special\", \"special\", \"special\", \"special\", \"special\", \"special\", \"speed\", \"speed\", \"speed\", \"speed\", \"speed\", \"speed\", \"speed\", \"spring\", \"spring\", \"spring\", \"spring\", \"sql\", \"sql\", \"sql\", \"sql\", \"sql\", \"sql\", \"sql\", \"start\", \"start\", \"start\", \"start\", \"start\", \"start\", \"start\", \"start\", \"static\", \"static\", \"static\", \"static\", \"static\", \"static\", \"static\", \"std\", \"std\", \"std\", \"store\", \"store\", \"store\", \"store\", \"store\", \"store\", \"store\", \"store\", \"string\", \"string\", \"string\", \"string\", \"string\", \"string\", \"string\", \"string\", \"string\", \"string\", \"struct\", \"struct\", \"studio\", \"studio\", \"studio\", \"studio\", \"studio\", \"studio\", \"studio\", \"style\", \"style\", \"style\", \"style\", \"style\", \"style\", \"submit\", \"submit\", \"submit\", \"submit\", \"success\", \"success\", \"success\", \"success\", \"success\", \"suppos\", \"suppos\", \"suppos\", \"suppos\", \"suppos\", \"suppos\", \"suppos\", \"suppos\", \"switch\", \"syntax\", \"syntax\", \"syntax\", \"syntax\", \"syntax\", \"tab\", \"tab\", \"tab\", \"tab\", \"tab\", \"tab\", \"tab\", \"tab\", \"tag\", \"tag\", \"tag\", \"tag\", \"tag\", \"tag\", \"tag\", \"tag\", \"take\", \"take\", \"take\", \"take\", \"take\", \"take\", \"take\", \"take\", \"take\", \"td\", \"td\", \"td\", \"td\", \"td\", \"td\", \"td\", \"td\", \"team\", \"team\", \"techniqu\", \"techniqu\", \"techniqu\", \"techniqu\", \"techniqu\", \"techniqu\", \"termin\", \"termin\", \"termin\", \"termin\", \"termin\", \"termin\", \"termin\", \"termin\", \"test\", \"test\", \"test\", \"test\", \"test\", \"test\", \"test\", \"test\", \"test\", \"test\", \"text\", \"text\", \"text\", \"textbox\", \"thread\", \"thread\", \"thread\", \"thread\", \"thread\", \"thread\", \"thread\", \"throw\", \"throw\", \"throw\", \"throw\", \"throw\", \"throw\", \"throw\", \"throw\", \"thrown\", \"thrown\", \"thrown\", \"thrown\", \"thrown\", \"time\", \"time\", \"time\", \"time\", \"time\", \"time\", \"time\", \"time\", \"timeout\", \"timeout\", \"timeout\", \"timeout\", \"timeout\", \"titl\", \"titl\", \"titl\", \"tmp\", \"tmp\", \"tmp\", \"tmp\", \"tmp\", \"tmp\", \"tmp\", \"token\", \"token\", \"token\", \"token\", \"token\", \"tool\", \"tool\", \"tool\", \"tool\", \"tool\", \"tool\", \"tool\", \"tool\", \"tool\", \"tr\", \"tr\", \"trace\", \"trace\", \"trace\", \"trace\", \"trace\", \"trace\", \"transact\", \"transact\", \"transact\", \"transform\", \"transform\", \"transform\", \"transform\", \"transform\", \"type\", \"type\", \"type\", \"type\", \"type\", \"type\", \"type\", \"type\", \"typeof\", \"typeof\", \"typeof\", \"ui\", \"unfortun\", \"unfortun\", \"unfortun\", \"unfortun\", \"unfortun\", \"unfortun\", \"upgrad\", \"upgrad\", \"upgrad\", \"upgrad\", \"upgrad\", \"upgrad\", \"upload\", \"upload\", \"upload\", \"uri\", \"uri\", \"uri\", \"uri\", \"uri\", \"uri\", \"uri\", \"us\", \"us\", \"us\", \"us\", \"us\", \"us\", \"us\", \"usag\", \"usag\", \"usag\", \"usag\", \"usag\", \"usag\", \"usag\", \"usag\", \"usag\", \"use\", \"use\", \"use\", \"use\", \"use\", \"use\", \"use\", \"use\", \"user\", \"usercontrol\", \"usercontrol\", \"usercontrol\", \"usercontrol\", \"usercontrol\", \"usernam\", \"usernam\", \"usernam\", \"usual\", \"usual\", \"usual\", \"usual\", \"valid\", \"valid\", \"valid\", \"valid\", \"valid\", \"valid\", \"valid\", \"valid\", \"valid\", \"valu\", \"valu\", \"valu\", \"valu\", \"valu\", \"valu\", \"valu\", \"var\", \"var\", \"varchar\", \"varchar\", \"varchar\", \"varchar\", \"varchar\", \"varchar\", \"varchar\", \"varchar\", \"variou\", \"variou\", \"vector\", \"vector\", \"vector\", \"vector\", \"vector\", \"vector\", \"vector\", \"vector\", \"vector\", \"version\", \"version\", \"version\", \"via\", \"via\", \"via\", \"via\", \"via\", \"via\", \"via\", \"via\", \"video\", \"video\", \"video\", \"virtual\", \"virtual\", \"virtual\", \"virtual\", \"virtual\", \"virtual\", \"virtual\", \"visibl\", \"visibl\", \"visibl\", \"visibl\", \"visibl\", \"vs\", \"vs\", \"vs\", \"vs\", \"vs\", \"vs\", \"vs\", \"vs\", \"vs\", \"vs\", \"want\", \"want\", \"want\", \"want\", \"want\", \"want\", \"want\", \"want\", \"want\", \"warn\", \"warn\", \"warn\", \"way\", \"way\", \"way\", \"way\", \"way\", \"way\", \"way\", \"way\", \"wcf\", \"wcf\", \"wcf\", \"wcf\", \"wcf\", \"wcf\", \"wcf\", \"whatev\", \"whatev\", \"whatev\", \"whenev\", \"whenev\", \"whether\", \"whether\", \"whether\", \"whether\", \"whether\", \"whether\", \"whether\", \"within\", \"within\", \"within\", \"within\", \"within\", \"within\", \"within\", \"within\", \"within\", \"within\", \"wonder\", \"wonder\", \"wonder\", \"wonder\", \"wonder\", \"wonder\", \"wonder\", \"wonder\", \"world\", \"world\", \"world\", \"world\", \"world\", \"world\", \"world\", \"world\", \"world\", \"write\", \"write\", \"written\", \"written\", \"written\", \"wrong\", \"wrong\", \"wrong\", \"wrong\", \"wrong\", \"wrong\", \"wrong\", \"wrong\", \"wrong\", \"xml\", \"xmln\", \"xmln\", \"year\", \"year\", \"year\", \"year\", \"year\", \"year\", \"year\"]}, \"R\": 30, \"lambda.step\": 0.01, \"plot.opts\": {\"xlab\": \"PC1\", \"ylab\": \"PC2\"}, \"topic.order\": [6, 10, 8, 1, 3, 4, 9, 7, 2, 5]};\n",
       "\n",
       "function LDAvis_load_lib(url, callback){\n",
       "  var s = document.createElement('script');\n",
       "  s.src = url;\n",
       "  s.async = true;\n",
       "  s.onreadystatechange = s.onload = callback;\n",
       "  s.onerror = function(){console.warn(\"failed to load library \" + url);};\n",
       "  document.getElementsByTagName(\"head\")[0].appendChild(s);\n",
       "}\n",
       "\n",
       "if(typeof(LDAvis) !== \"undefined\"){\n",
       "   // already loaded: just create the visualization\n",
       "   !function(LDAvis){\n",
       "       new LDAvis(\"#\" + \"ldavis_el828427565884611287850554656\", ldavis_el828427565884611287850554656_data);\n",
       "   }(LDAvis);\n",
       "}else if(typeof define === \"function\" && define.amd){\n",
       "   // require.js is available: use it to load d3/LDAvis\n",
       "   require.config({paths: {d3: \"https://cdnjs.cloudflare.com/ajax/libs/d3/3.5.5/d3.min\"}});\n",
       "   require([\"d3\"], function(d3){\n",
       "      window.d3 = d3;\n",
       "      LDAvis_load_lib(\"https://cdn.rawgit.com/bmabey/pyLDAvis/files/ldavis.v1.0.0.js\", function(){\n",
       "        new LDAvis(\"#\" + \"ldavis_el828427565884611287850554656\", ldavis_el828427565884611287850554656_data);\n",
       "      });\n",
       "    });\n",
       "}else{\n",
       "    // require.js not available: dynamically load d3 & LDAvis\n",
       "    LDAvis_load_lib(\"https://cdnjs.cloudflare.com/ajax/libs/d3/3.5.5/d3.min.js\", function(){\n",
       "         LDAvis_load_lib(\"https://cdn.rawgit.com/bmabey/pyLDAvis/files/ldavis.v1.0.0.js\", function(){\n",
       "                 new LDAvis(\"#\" + \"ldavis_el828427565884611287850554656\", ldavis_el828427565884611287850554656_data);\n",
       "            })\n",
       "         });\n",
       "}\n",
       "</script>"
      ],
      "text/plain": [
       "PreparedData(topic_coordinates=                x           y  topics  cluster       Freq\n",
       "topic                                                    \n",
       "5      -31.156677   99.480705       1        1  16.303564\n",
       "9       89.144585 -105.970161       2        1  15.102301\n",
       "7      144.234436  -16.160231       3        1  13.184089\n",
       "0      -87.515778 -176.816177       4        1  13.071892\n",
       "2      -91.983498   13.456775       5        1  11.473479\n",
       "3       25.143873   -5.964596       6        1  10.593891\n",
       "8       28.302696 -191.987305       7        1   9.394845\n",
       "6       84.660866   84.314232       8        1   5.800662\n",
       "1     -147.086243  -76.341660       9        1   2.773717\n",
       "4      -27.987614  -86.545166      10        1   2.301558, topic_info=    Category        Freq     Term       Total  loglift  logprob\n",
       "848  Default  883.000000   string  883.000000  30.0000  30.0000\n",
       "542  Default  373.000000      may  373.000000  29.0000  29.0000\n",
       "331  Default  360.000000   extern  360.000000  28.0000  28.0000\n",
       "721  Default  333.000000  reflect  333.000000  27.0000  27.0000\n",
       "153  Default  378.000000  certain  378.000000  26.0000  26.0000\n",
       "..       ...         ...      ...         ...      ...      ...\n",
       "422  Topic10   25.602451       id  316.388765   1.2573  -4.8158\n",
       "142  Topic10   19.945268     call  261.041641   1.1999  -5.0655\n",
       "357  Topic10   19.251190    flash  280.355484   1.0931  -5.1009\n",
       "366  Topic10   22.327614   format  411.272646   0.8582  -4.9527\n",
       "319  Topic10   18.524826    exist  368.349218   0.7817  -5.1394\n",
       "\n",
       "[529 rows x 6 columns], token_table=      Topic      Freq  Term\n",
       "term                       \n",
       "10        2  0.011401  2005\n",
       "10        3  0.205226  2005\n",
       "10        6  0.022803  2005\n",
       "10        7  0.114014  2005\n",
       "10        8  0.638481  2005\n",
       "...     ...       ...   ...\n",
       "998       3  0.051972  year\n",
       "998       4  0.025986  year\n",
       "998       5  0.064965  year\n",
       "998       6  0.012993  year\n",
       "998       8  0.402786  year\n",
       "\n",
       "[2388 rows x 3 columns], R=30, lambda_step=0.01, plot_opts={'xlab': 'PC1', 'ylab': 'PC2'}, topic_order=[6, 10, 8, 1, 3, 4, 9, 7, 2, 5])"
      ]
     },
     "execution_count": 62,
     "metadata": {},
     "output_type": "execute_result"
    }
   ],
   "source": [
    "pyLDAvis.enable_notebook()\n",
    "panel = pyLDAvis.sklearn.prepare(lda_model, X_tfidf_train, tfidf_vectorizer, mds='tsne')\n",
    "panel"
   ]
  },
  {
   "cell_type": "markdown",
   "metadata": {},
   "source": [
    "#### 2.3.2 Negative Matrix Factorisation (NMF) - train dataset"
   ]
  },
  {
   "cell_type": "code",
   "execution_count": 63,
   "metadata": {},
   "outputs": [
    {
     "name": "stdout",
     "output_type": "stream",
     "text": [
      "Topics found via NMF:\n",
      "\n",
      "Topic #0:\n",
      "applic window use app user run servic server web net\n",
      "\n",
      "Topic #1:\n",
      "class public object method properti void type new privat get\n",
      "\n",
      "Topic #2:\n",
      "tabl sql queri column databas select row data server valu\n",
      "\n",
      "Topic #3:\n",
      "page imag text html control button javascript script jqueri css\n",
      "\n",
      "Topic #4:\n",
      "file directori line path folder script upload python open xml\n",
      "\n",
      "Topic #5:\n",
      "function return valu var call foo array code int javascript\n",
      "\n",
      "Topic #6:\n",
      "string valu charact new public return convert match name regex\n",
      "\n",
      "Topic #7:\n",
      "test unit run mock fail integr code assert write expect\n",
      "\n",
      "Topic #8:\n",
      "list item object select collect array new order way element\n",
      "\n",
      "Topic #9:\n",
      "project visual studio build 2008 instal compil assembl version 2010\n",
      "\n"
     ]
    }
   ],
   "source": [
    "n_topics = 10\n",
    "n_top_words = 10\n",
    "\n",
    "\n",
    "def print_top_words(model, feature_names, n_top_words):\n",
    "    for topic_idx, topic in enumerate(model.components_):\n",
    "        print(\"\\nTopic #%d:\" % topic_idx)\n",
    "        print(\" \".join([feature_names[i]\n",
    "                        for i in topic.argsort()[:-n_top_words - 1:-1]]))\n",
    "    print()\n",
    "\n",
    "\n",
    "nmf = NMF(n_components = n_topics, random_state = 0, alpha = 0.1, l1_ratio = 0.5).fit(X_tfidf_train)\n",
    "\n",
    "print(\"Topics found via NMF:\")\n",
    "print_top_words(nmf, tfidf_feature_names, n_top_words)"
   ]
  },
  {
   "cell_type": "markdown",
   "metadata": {},
   "source": [
    "### 2.4 Méthode 2: Approche purement supervisée"
   ]
  },
  {
   "cell_type": "code",
   "execution_count": 64,
   "metadata": {
    "scrolled": true
   },
   "outputs": [],
   "source": [
    "def train_classifier(X_train, y_train, X_valid=None, y_valid=None, C=1.0, model='lr'):\n",
    "    \"\"\"\n",
    "      X_train, y_train — training data\n",
    "      \n",
    "      return: trained classifier\n",
    "      \n",
    "    \"\"\"\n",
    "    \n",
    "    if model=='lr':\n",
    "        model = LogisticRegression(C=C, penalty='l1', dual=False, solver='liblinear')\n",
    "        model = OneVsRestClassifier(model)\n",
    "        model.fit(X_train, y_train)\n",
    "    \n",
    "    elif model=='svm':\n",
    "        model = LinearSVC(C=C, penalty='l1', dual=False, loss='squared_hinge')\n",
    "        model = OneVsRestClassifier(model)\n",
    "        model.fit(X_train, y_train)\n",
    "    \n",
    "    elif model=='nbayes':\n",
    "        model = MultinomialNB(alpha=1)\n",
    "        model = OneVsRestClassifier(model)\n",
    "        model.fit(X_train, y_train)\n",
    "        \n",
    "    elif model=='mlp':\n",
    "        model = MLPClassifier()\n",
    "        model = OneVsRestClassifier(model)\n",
    "        model.fit(X_train, y_train)\n",
    "\n",
    "    return model\n"
   ]
  },
  {
   "cell_type": "markdown",
   "metadata": {},
   "source": [
    "#### 1.4.1 Réression logistique"
   ]
  },
  {
   "cell_type": "code",
   "execution_count": 65,
   "metadata": {},
   "outputs": [
    {
     "name": "stdout",
     "output_type": "stream",
     "text": [
      "Wall time: 29.2 s\n"
     ]
    }
   ],
   "source": [
    "%time classifier_tfidf = train_classifier(X_tfidf_train, y_train, C=1.5, model='lr')"
   ]
  },
  {
   "cell_type": "code",
   "execution_count": 66,
   "metadata": {},
   "outputs": [],
   "source": [
    "y_test_predicted_labels_tfidf = classifier_tfidf.predict(X_tfidf_test)"
   ]
  },
  {
   "cell_type": "code",
   "execution_count": 67,
   "metadata": {
    "scrolled": true
   },
   "outputs": [
    {
     "name": "stdout",
     "output_type": "stream",
     "text": [
      "Title:\t['assembl', 'add', 'refer', 'dialog', 'differ', 'depend', 'net', 'framework', 'use', 'curiou', 'list', 'assembl', 'add', 'refer', 'dialog', 'vari', 'depend', 'version', 'net', 'framework', 'use', 'select', 'project', 'differ', 'love', 'differ', 'lie', 'thank']\n",
      "True labels:\t.net,c#,visual-studio\n",
      "Predicted labels:\t\n",
      "\n",
      "\n",
      "Title:\t['check', 'socket', 'still', 'open', 'c++', 'app', 'use', 'standard', 'socket', 'call', 'want', 'tell', 'socket', 'still', 'open', 'without', 'send', 'receiv', 'data', 'reliabl', 'select', 'ioctlsocket', 'call', 'make']\n",
      "True labels:\tc++\n",
      "Predicted labels:\t\n",
      "\n",
      "\n",
      "Title:\t['array', 'case', '5', '5', 'joel', 'point', 'stack', 'overflow', 'podcast', '#', '34', 'c', 'program', 'languag', 'aka', 'k', 'r', 'mention', 'properti', 'array', 'c', '5', '5', 'joel', 'say', 'pointer', 'arithmet', 'still', 'understand', '5', '5']\n",
      "True labels:\tarrays\n",
      "Predicted labels:\t\n",
      "\n",
      "\n",
      "Title:\t['class', 'net', 'applic', 'intern', 'note', 'applic', 'oppos', 'librari', 'wpf', 'applic', 'broken', 'main', 'applic', 'project', 'associ', 'class', 'librari', 'circumst', 'class', 'main', 'applic', 'public', 'oppos', 'intern', 'exampl', 'data', 'bind', 'wpf', 'valu', 'convert', 'public', 'xaml', 'assembl']\n",
      "True labels:\t.net\n",
      "Predicted labels:\t\n",
      "\n",
      "\n",
      "Title:\t['best', 'approach', 'sql', 'server', 'queri', 'distinct', 'two', 'tabl', 'tablea', 'tableb', 'join', 'tableatablea_id', '1n', 'tablebtablea_id', 'simpl', 'pkfk', 'extract', 'distinct', 'tablea', 'record', 'given', 'certain', 'condit', 'tableb', '1st', 'approach', 'select', 'tablea', 'inner', 'join', 'tableb', 'b', 'aida', 'bida', 'bdate', '20090110', 'order', 'aid', 'nice', 'give', 'distinct', 'record', 'record', 'tabl', 'b', 'may', 'duplic', 'henc', 'get', 'record', 'decid', 'perform', 'subselect', 'perform', 'issu', 'given', 'subselect', 'probabl', 'end', '20', '30', 'record', 'max', 'select', 'tablea', 'tableaid', 'select', 'distinct', 'ida', 'tableb', 'date', '20090110', 'order', 'tableaida', 'question', 'use', 'inner', 'join', 'still', 'get', 'distinct', 'valu', 'possibl', 'one', 'pass', 'nest', 'queri', 'must', 'miss']\n",
      "True labels:\tsql,sql-server,tsql\n",
      "Predicted labels:\tpython\n",
      "\n",
      "\n",
      "Title:\t['inject', 'text', 'resourc', 'prebuilt', 'nativ', 'exe', 'nativ', 'exe', 'name', 'setupex', 'type', 'file', 'inject', 'text', 'resourc', 'eg', 'serverx123456', 'purpos', 'upon', 'run', 'exe', 'read', 'text', 'resourc', 'act', 'accordingli', 'way', 'c', '#', 'code', 'note', 'similar', 'question', 'focus', 'inject', 'skin', 'wpf', 'app']\n",
      "True labels:\tc#\n",
      "Predicted labels:\t\n",
      "\n",
      "\n",
      "Title:\t['consider', 'store', 'document', 'file', 'server', 'db', 'design', 'decis', 'make', 'regard', 'document', 'upload', 'web', 'site', 'either', 'store', 'file', 'server', 'somewher', 'store', 'blob', 'databas', 'mssql', '2005', 'make', 'differ', 'design', 'decis', 'document', 'confidenti', 'must', 'certain', 'degre', 'protect', 'consider', 'thought', 'store', 'file', 'server', 'make', 'huuuuuuug', 'number', 'file', 'dump', 'singl', 'directori', 'therefor', 'slower', 'access', 'unless', 'reason', 'semant', 'definit', 'directori', 'tree', 'structur', 'otoh', 'guess', 'file', 'server', 'handl', 'compress', 'somewhat', 'better', 'db', 'wrong', 'instinct', 'tell', 'db', 'secur', 'stronger', 'file', 'server', 'sure', 'necessarili', 'true', 'terabyt', 'blob', 'db', 'affect', 'perform', 'much', 'appreci', 'recommend', 'thank']\n",
      "True labels:\tsql-server\n",
      "Predicted labels:\t\n",
      "\n",
      "\n",
      "Title:\t['programmat', 'click', 'checkbox', 'way', 'programmat', 'gener', 'click', 'event', 'checkbox', 'look', 'equival', 'buttonperformclick']\n",
      "True labels:\t.net,c#,winforms\n",
      "Predicted labels:\t\n",
      "\n",
      "\n",
      "Title:\t['vs', '2008', 'window', 'form', 'make', 'view', 'code', 'default', 'usercontrol', 'usercontrol', 'design', 'window', 'form', 'design', 'vs', '2008', 'pretti', 'much', 'useless', 'take', 'time', 'design', 'throw', 'except', 'accident', 'doubleclick', 'usercontrol', 'solut', 'explor', 'way', 'make', 'design', 'open', 'c', '#', 'code', 'view', 'doubleclick', 'usercontrol', 'file']\n",
      "True labels:\tvisual-studio,winforms\n",
      "Predicted labels:\t\n",
      "\n",
      "\n",
      "Title:\t['run', 'differ', 'framework', 'sidebysid', 'owin', 'impress', 'one', 'big', 'benefit', 'owin', 'make', 'easi', 'run', 'differ', 'web', 'framework', 'sidebysid', 'without', 'ii', 'ihttphandl', 'huge', 'distribut', 'vertic', 'function', 'slice', 'nuget', 'featur', 'howev', 'everi', 'tutori', 'articl', 'find', 'talk', 'thing', 'selfhost', 'singl', 'framework', 'interest', 'interest', 'run', 'mvc', 'nanci', 'web', 'api', 'mayb', 'even', 'webform', 'applic', 'wrong', 'owin', 'enabl', 'want', 'mvc', 'handl', 'request', 'webform', 'handl', 'request', 'versionlegaci', 'header', 'nanci', 'handl', 'request', 'nanci', 'configur', 'startup', 'class', 'enabl']\n",
      "True labels:\t.net\n",
      "Predicted labels:\t\n",
      "\n",
      "\n",
      "Title:\t['differ', 'set', 'pc', 'applic', 'ran', 'creat', 'cash', 'regist', 'program', 'distribut', 'via', 'clickonc', 'believ', 'right', 'term', 'vs', 'builtin', 'packag', 'pc', 'run', 'softwar', 'differ', 'set', 'thing', 'credit', 'card', 'process', 'store', 'set', 'overwritten', 'everi', 'time', 'updat', 'uniqu', 'base', 'pc', 'instal']\n",
      "True labels:\tc#,winforms\n",
      "Predicted labels:\t\n",
      "\n",
      "\n",
      "Title:\t['forc', 'mfc', 'app', 'run', 'administr', 'vista', 'mfc', 'app', 'built', 'visual', 'studio', '2008', 'need', 'run', 'w2k', 'xp', '2003', 'vista', 'applic', 'write', 'hklm', 'registri', 'vista', 'run', 'administr', 'question', 'forc', 'app', 'run', 'adminstr', 'automat', 'involv', 'creat', 'manifest', 'file', 'moment', 'follow', 'stdafxh', 'guess', 'creat', 'manifest', 'file', 'fli', '#', 'pragma', 'comment', 'linker', 'manifestdepend', 'typewin32', 'namemicrosoftwindowscommoncontrol', 'version', '6000', 'processorarchitecturex86', 'publickeytoken6595b64144ccf1df', 'languag', 'modifi', 'line', 'forc', 'elev', 'someth', 'vc', 'project', 'manifest', 'set', 'thank', 'advanc']\n",
      "True labels:\tc++\n",
      "Predicted labels:\t\n",
      "\n",
      "\n",
      "Title:\t['java', 'applet', 'standalon', 'window', 'applic', 'java', 'applet', 'meant', 'run', 'window', 'use', '3rd', 'parti', 'com', 'object', 'crossplatform', 'way', 'run', 'java', 'applet', 'standalon', 'applic', 'window']\n",
      "True labels:\tjava\n",
      "Predicted labels:\tiphone\n",
      "\n",
      "\n",
      "Title:\t['uiview', 'anim', 'work', 'addsubview', 'ipad', 'app', 'display', 'note', 'subclass', 'uilabel', 'text', 'order', 'navig', 'next', 'note', 'slide', 'screen', 'left', 'next', 'one', 'slide', 'right', 'get', 'either', 'anim', 'time', 'code', 'control', 'void', 'slideoutleft', 'creat', 'new', 'note', 'flslidingnot', 'newnot', 'flslidingnot', 'alloc', 'init', 'newnotetext', 'blah', 'blah', 'cgrect', 'newfram', 'cgrectmak', '1000', '70', '637', '297', 'right', 'newnotefram', 'newfram', 'selfview', 'addsubview', 'newnot', 'slide', 'current', 'one', 'cgrect', 'currentframeend', 'notelabelfram', 'notelabel', 'exist', 'note', 'currentframeendoriginx', '0', 'notelabelframesizewidth', 'left', 'uiview', 'animatewithduration10', 'anim', 'notelabelfram', 'currentframeend', 'complet', 'nil', 'notelabel', 'anim', 'comment', 'addsubview', 'newnot', 'part', 'still', 'rel', 'new', 'probabl', 'someth', 'simpl', 'problem', 'happen', 'whether', 'newnot', 'anim', 'anim', 'code', 'snippet']\n",
      "True labels:\tcocoa-touch,objective-c\n",
      "Predicted labels:\t\n",
      "\n",
      "\n",
      "Title:\t['aspnet', 'mvc', 'rout', 'valu', 'control', 'trail', 'slash', 'probabl', 'simpl', 'question', 'ca', 'get', 'rout', 'specifi', 'routeconfig', 'routesmaprout', 'name', 'defaultsiterout', 'url', 'accountid', 'hostnam', 'control', 'action', 'default', 'new', 'control', 'home', 'action', 'index', 'urlparameteropt', 'accountid', 'urlparameteropt', 'hostnam', 'urlparameteropt', 'url', '123456', 'wwwtestcom', '123456', 'wwwtestcom', 'control', 'action', 'ca', 'cope', '123456', 'wwwtestcom', 'get', 'ii', '404', 'stranger', 'call', 'urlact', 'rout', 'default', 'control', 'action', 'ie', 'home', 'index', 'creat', 'url', 'without', 'trail', 'slash', 'recognis', 'realli', 'without', 'trail', 'slash']\n",
      "True labels:\tasp.net-mvc\n",
      "Predicted labels:\t\n",
      "\n",
      "\n",
      "Title:\t['select', 'max', 'int', 'varchar', 'column', 'tri', 'retriev', 'largest', 'number', 'varchar', 'column', 'includ', 'number', 'string', 'exampl', 'data', 'work', 'boxnumb', '123', 'a5', '789', 'b1', 'return', 'largest', 'number', '789', 'case', 'column', 'ignor', 'nonnumer', 'valu', 'a5', 'b1', 'found', 'solut', 'use', 'custom', 'function', 'solv', 'problem', 'someth', 'execut', 'adhoc', 'queri', 'without', 'reli', 'custom', 'function', 'proc']\n",
      "True labels:\tsql-server,tsql\n",
      "Predicted labels:\tpython\n",
      "\n",
      "\n",
      "Title:\t['partcov', '23', 'net', '40', 'runtim', 'success', 'partcov', '23', 'work', 'vs', '2008', '64bit', 'machin', 'tri', 'get', 'vs', '2010', 'nunit', '253', 'nunit', 'correct', 'clr', 'version', 'ca', 'get', 'partcov', 'produc', 'output', 'get', 'empti', 'report', 'xml', 'file', 'partcoverreport', 'date', '20100330t1609051009099+0100', 'get', 'partcov', '23', '22', 'guess', 'nunit', '253', 'net', '40']\n",
      "True labels:\t.net\n",
      "Predicted labels:\t\n",
      "\n",
      "\n",
      "Title:\t['take', 'photo', 'email', 'user', 'take', 'photo', 'open', 'email', 'dialog', 'photo', 'attach', 'far', 'privat', 'void', 'btnsubmitphoto_click', 'object', 'sender', 'eventarg', 'e', 'cameracapturetask', 'cameracapturetask', 'new', 'cameracapturetask', 'cameracapturetaskcomplet', '+', 'cameracapturetask_complet', 'cameracapturetaskshow', 'privat', 'void', 'cameracapturetask_complet', 'object', 'sender', 'photoresult', 'e', 'etaskresult', 'taskresultok', 'currentimag', 'new', 'bitmapimag', 'currentimagesetsourc', 'echosenphoto', 'emailcomposetask', 'ect', 'new', 'emailcomposetask', 'see', 'add', 'attach', 'emailcomposetask', 'miss', 'someth']\n",
      "True labels:\tc#,email\n",
      "Predicted labels:\t\n",
      "\n",
      "\n",
      "Title:\t['forc', 'com', 'object', 'use', 'dllsurrog', 'see', 'question', 'question', 'turn', 'load', 'com', 'class', 'surrog', 'process', 'must', 'specifi', 'clsctx_inproc', 'flag', 'call', 'cocreateinst', 'allow', 'host', 'use', 'clsctx_all', 'allow', 'individu', 'com', 'class', 'opt', 'dllhost', 'reason', 'ask', 'locat', 'com', 'class', 'compon', 'categori', 'pass', 'clsctx_all', 'creat', 'inproc', 'abl', 'outofproc']\n",
      "True labels:\tcom\n",
      "Predicted labels:\t\n",
      "\n",
      "\n",
      "Title:\t['visual', 'gui', 'design', 'apach', 'pivot', 'learn', 'apach', 'pivot', 'exist', 'question', 'java', 'gui', 'framework', 'choos', 'swing', 'swt', 'awt', 'swingx', 'jgoodi', 'javafx', 'apach', 'pivot', 'seem', 'good', 'fit', 'current', 'project', 'involv', 'let', 'user', 'creat', 'gui', 'dynam', 'howev', 'also', 'deliv', 'visual', 'gui', 'design', 'whatev', 'technolog', 'choos', 'alreadi', 'design', 'pivot', 'googl', 'seem', 'suggest', 'ask', 'case', 'miss', 'one']\n",
      "True labels:\tjava\n",
      "Predicted labels:\t\n",
      "\n",
      "\n"
     ]
    }
   ],
   "source": [
    "y_test_pred_inversed = mlb.inverse_transform(y_test_predicted_labels_tfidf)\n",
    "y_test_inversed = mlb.inverse_transform(y_test)\n",
    "for i in range(20):\n",
    "    print('Title:\\t{}\\nTrue labels:\\t{}\\nPredicted labels:\\t{}\\n\\n'.format(\n",
    "        X_test.iloc[i],\n",
    "        ','.join(y_test_inversed[i]),\n",
    "        ','.join(y_test_pred_inversed[i])\n",
    "    ))"
   ]
  },
  {
   "cell_type": "code",
   "execution_count": 68,
   "metadata": {},
   "outputs": [
    {
     "name": "stdout",
     "output_type": "stream",
     "text": [
      "Tfidf\n",
      "<function accuracy_score at 0x00000281C4BE1B88> 0.024352129183487434\n",
      "functools.partial(<function f1_score at 0x00000281C4BE7048>, average='weighted') 0.06803333800432562\n"
     ]
    },
    {
     "name": "stderr",
     "output_type": "stream",
     "text": [
      "C:\\Users\\alice\\Anaconda3\\lib\\site-packages\\sklearn\\metrics\\classification.py:1437: UndefinedMetricWarning: F-score is ill-defined and being set to 0.0 in labels with no predicted samples.\n",
      "  'precision', 'predicted', average, warn_for)\n"
     ]
    }
   ],
   "source": [
    "def print_evaluation_scores(y_val, predicted):\n",
    "    f1_score_weighted = partial(f1_score,average=\"weighted\")\n",
    "    scores = [accuracy_score, f1_score_weighted]\n",
    "    for score in scores:\n",
    "        print(score,score(y_val,predicted))\n",
    "\n",
    "print('Tfidf')\n",
    "print_evaluation_scores(y_test, y_test_predicted_labels_tfidf)"
   ]
  },
  {
   "cell_type": "code",
   "execution_count": 69,
   "metadata": {},
   "outputs": [
    {
     "name": "stderr",
     "output_type": "stream",
     "text": [
      "C:\\Users\\alice\\Anaconda3\\lib\\site-packages\\sklearn\\metrics\\classification.py:1437: UndefinedMetricWarning: F-score is ill-defined and being set to 0.0 in labels with no predicted samples.\n",
      "  'precision', 'predicted', average, warn_for)\n",
      "C:\\Users\\alice\\Anaconda3\\lib\\site-packages\\sklearn\\metrics\\classification.py:1437: UndefinedMetricWarning: F-score is ill-defined and being set to 0.0 in labels with no predicted samples.\n",
      "  'precision', 'predicted', average, warn_for)\n",
      "C:\\Users\\alice\\Anaconda3\\lib\\site-packages\\sklearn\\metrics\\classification.py:1437: UndefinedMetricWarning: F-score is ill-defined and being set to 0.0 in labels with no predicted samples.\n",
      "  'precision', 'predicted', average, warn_for)\n",
      "C:\\Users\\alice\\Anaconda3\\lib\\site-packages\\sklearn\\metrics\\classification.py:1437: UndefinedMetricWarning: F-score is ill-defined and being set to 0.0 in labels with no predicted samples.\n",
      "  'precision', 'predicted', average, warn_for)\n",
      "C:\\Users\\alice\\Anaconda3\\lib\\site-packages\\sklearn\\metrics\\classification.py:1437: UndefinedMetricWarning: F-score is ill-defined and being set to 0.0 in labels with no predicted samples.\n",
      "  'precision', 'predicted', average, warn_for)\n",
      "C:\\Users\\alice\\Anaconda3\\lib\\site-packages\\sklearn\\metrics\\classification.py:1437: UndefinedMetricWarning: F-score is ill-defined and being set to 0.0 in labels with no predicted samples.\n",
      "  'precision', 'predicted', average, warn_for)\n",
      "C:\\Users\\alice\\Anaconda3\\lib\\site-packages\\sklearn\\metrics\\classification.py:1437: UndefinedMetricWarning: F-score is ill-defined and being set to 0.0 in labels with no predicted samples.\n",
      "  'precision', 'predicted', average, warn_for)\n",
      "C:\\Users\\alice\\Anaconda3\\lib\\site-packages\\sklearn\\metrics\\classification.py:1437: UndefinedMetricWarning: F-score is ill-defined and being set to 0.0 in labels with no predicted samples.\n",
      "  'precision', 'predicted', average, warn_for)\n",
      "C:\\Users\\alice\\Anaconda3\\lib\\site-packages\\sklearn\\metrics\\classification.py:1437: UndefinedMetricWarning: F-score is ill-defined and being set to 0.0 in labels with no predicted samples.\n",
      "  'precision', 'predicted', average, warn_for)\n",
      "C:\\Users\\alice\\Anaconda3\\lib\\site-packages\\sklearn\\metrics\\classification.py:1437: UndefinedMetricWarning: F-score is ill-defined and being set to 0.0 in labels with no predicted samples.\n",
      "  'precision', 'predicted', average, warn_for)\n",
      "C:\\Users\\alice\\Anaconda3\\lib\\site-packages\\sklearn\\metrics\\classification.py:1437: UndefinedMetricWarning: F-score is ill-defined and being set to 0.0 in labels with no predicted samples.\n",
      "  'precision', 'predicted', average, warn_for)\n",
      "C:\\Users\\alice\\Anaconda3\\lib\\site-packages\\sklearn\\metrics\\classification.py:1437: UndefinedMetricWarning: F-score is ill-defined and being set to 0.0 in labels with no predicted samples.\n",
      "  'precision', 'predicted', average, warn_for)\n",
      "C:\\Users\\alice\\Anaconda3\\lib\\site-packages\\sklearn\\metrics\\classification.py:1437: UndefinedMetricWarning: F-score is ill-defined and being set to 0.0 in labels with no predicted samples.\n",
      "  'precision', 'predicted', average, warn_for)\n",
      "C:\\Users\\alice\\Anaconda3\\lib\\site-packages\\sklearn\\metrics\\classification.py:1437: UndefinedMetricWarning: F-score is ill-defined and being set to 0.0 in labels with no predicted samples.\n",
      "  'precision', 'predicted', average, warn_for)\n",
      "C:\\Users\\alice\\Anaconda3\\lib\\site-packages\\sklearn\\metrics\\classification.py:1437: UndefinedMetricWarning: F-score is ill-defined and being set to 0.0 in labels with no predicted samples.\n",
      "  'precision', 'predicted', average, warn_for)\n",
      "C:\\Users\\alice\\Anaconda3\\lib\\site-packages\\sklearn\\metrics\\classification.py:1437: UndefinedMetricWarning: F-score is ill-defined and being set to 0.0 in labels with no predicted samples.\n",
      "  'precision', 'predicted', average, warn_for)\n",
      "C:\\Users\\alice\\Anaconda3\\lib\\site-packages\\sklearn\\metrics\\classification.py:1437: UndefinedMetricWarning: F-score is ill-defined and being set to 0.0 in labels with no predicted samples.\n",
      "  'precision', 'predicted', average, warn_for)\n",
      "C:\\Users\\alice\\Anaconda3\\lib\\site-packages\\sklearn\\metrics\\classification.py:1437: UndefinedMetricWarning: F-score is ill-defined and being set to 0.0 in labels with no predicted samples.\n",
      "  'precision', 'predicted', average, warn_for)\n",
      "C:\\Users\\alice\\Anaconda3\\lib\\site-packages\\sklearn\\metrics\\classification.py:1437: UndefinedMetricWarning: F-score is ill-defined and being set to 0.0 in labels with no predicted samples.\n",
      "  'precision', 'predicted', average, warn_for)\n"
     ]
    },
    {
     "data": {
      "image/png": "[encoded data removed]",
      "text/plain": [
       "<Figure size 504x360 with 1 Axes>"
      ]
     },
     "metadata": {
      "needs_background": "light"
     },
     "output_type": "display_data"
    }
   ],
   "source": [
    "hypers = np.arange(0.1, 2, 0.1) #Différentes valeurs de C\n",
    "res = []\n",
    "\n",
    "for h in hypers:\n",
    "    temp_model = train_classifier(X_tfidf_train, y_train, C=h, model='lr')\n",
    "    temp_pred = f1_score(y_test, temp_model.predict(X_tfidf_test), average='weighted')\n",
    "    res.append(temp_pred)\n",
    "\n",
    "plt.figure(figsize=(7,5))\n",
    "plt.plot(hypers, res, color='blue', marker='o')\n",
    "plt.grid(True)\n",
    "plt.xlabel('Parameter $C$')\n",
    "plt.ylabel('Weighted F1 score')\n",
    "plt.show()"
   ]
  },
  {
   "cell_type": "markdown",
   "metadata": {},
   "source": [
    "#### 1.4.2 SVM"
   ]
  },
  {
   "cell_type": "code",
   "execution_count": 70,
   "metadata": {},
   "outputs": [
    {
     "name": "stdout",
     "output_type": "stream",
     "text": [
      "Wall time: 2min 10s\n"
     ]
    }
   ],
   "source": [
    "%time classifier_tfidf = train_classifier(X_tfidf_train, y_train, C=1.0, model='svm')"
   ]
  },
  {
   "cell_type": "code",
   "execution_count": 71,
   "metadata": {},
   "outputs": [],
   "source": [
    "y_test_predicted_labels_tfidf = classifier_tfidf.predict(X_tfidf_test)"
   ]
  },
  {
   "cell_type": "code",
   "execution_count": 72,
   "metadata": {
    "scrolled": true
   },
   "outputs": [
    {
     "name": "stdout",
     "output_type": "stream",
     "text": [
      "Title:\t['assembl', 'add', 'refer', 'dialog', 'differ', 'depend', 'net', 'framework', 'use', 'curiou', 'list', 'assembl', 'add', 'refer', 'dialog', 'vari', 'depend', 'version', 'net', 'framework', 'use', 'select', 'project', 'differ', 'love', 'differ', 'lie', 'thank']\n",
      "True labels:\t.net,c#,visual-studio\n",
      "Predicted labels:\t\n",
      "\n",
      "\n",
      "Title:\t['check', 'socket', 'still', 'open', 'c++', 'app', 'use', 'standard', 'socket', 'call', 'want', 'tell', 'socket', 'still', 'open', 'without', 'send', 'receiv', 'data', 'reliabl', 'select', 'ioctlsocket', 'call', 'make']\n",
      "True labels:\tc++\n",
      "Predicted labels:\t\n",
      "\n",
      "\n",
      "Title:\t['array', 'case', '5', '5', 'joel', 'point', 'stack', 'overflow', 'podcast', '#', '34', 'c', 'program', 'languag', 'aka', 'k', 'r', 'mention', 'properti', 'array', 'c', '5', '5', 'joel', 'say', 'pointer', 'arithmet', 'still', 'understand', '5', '5']\n",
      "True labels:\tarrays\n",
      "Predicted labels:\t\n",
      "\n",
      "\n",
      "Title:\t['class', 'net', 'applic', 'intern', 'note', 'applic', 'oppos', 'librari', 'wpf', 'applic', 'broken', 'main', 'applic', 'project', 'associ', 'class', 'librari', 'circumst', 'class', 'main', 'applic', 'public', 'oppos', 'intern', 'exampl', 'data', 'bind', 'wpf', 'valu', 'convert', 'public', 'xaml', 'assembl']\n",
      "True labels:\t.net\n",
      "Predicted labels:\t\n",
      "\n",
      "\n",
      "Title:\t['best', 'approach', 'sql', 'server', 'queri', 'distinct', 'two', 'tabl', 'tablea', 'tableb', 'join', 'tableatablea_id', '1n', 'tablebtablea_id', 'simpl', 'pkfk', 'extract', 'distinct', 'tablea', 'record', 'given', 'certain', 'condit', 'tableb', '1st', 'approach', 'select', 'tablea', 'inner', 'join', 'tableb', 'b', 'aida', 'bida', 'bdate', '20090110', 'order', 'aid', 'nice', 'give', 'distinct', 'record', 'record', 'tabl', 'b', 'may', 'duplic', 'henc', 'get', 'record', 'decid', 'perform', 'subselect', 'perform', 'issu', 'given', 'subselect', 'probabl', 'end', '20', '30', 'record', 'max', 'select', 'tablea', 'tableaid', 'select', 'distinct', 'ida', 'tableb', 'date', '20090110', 'order', 'tableaida', 'question', 'use', 'inner', 'join', 'still', 'get', 'distinct', 'valu', 'possibl', 'one', 'pass', 'nest', 'queri', 'must', 'miss']\n",
      "True labels:\tsql,sql-server,tsql\n",
      "Predicted labels:\t\n",
      "\n",
      "\n",
      "Title:\t['inject', 'text', 'resourc', 'prebuilt', 'nativ', 'exe', 'nativ', 'exe', 'name', 'setupex', 'type', 'file', 'inject', 'text', 'resourc', 'eg', 'serverx123456', 'purpos', 'upon', 'run', 'exe', 'read', 'text', 'resourc', 'act', 'accordingli', 'way', 'c', '#', 'code', 'note', 'similar', 'question', 'focus', 'inject', 'skin', 'wpf', 'app']\n",
      "True labels:\tc#\n",
      "Predicted labels:\t\n",
      "\n",
      "\n",
      "Title:\t['consider', 'store', 'document', 'file', 'server', 'db', 'design', 'decis', 'make', 'regard', 'document', 'upload', 'web', 'site', 'either', 'store', 'file', 'server', 'somewher', 'store', 'blob', 'databas', 'mssql', '2005', 'make', 'differ', 'design', 'decis', 'document', 'confidenti', 'must', 'certain', 'degre', 'protect', 'consider', 'thought', 'store', 'file', 'server', 'make', 'huuuuuuug', 'number', 'file', 'dump', 'singl', 'directori', 'therefor', 'slower', 'access', 'unless', 'reason', 'semant', 'definit', 'directori', 'tree', 'structur', 'otoh', 'guess', 'file', 'server', 'handl', 'compress', 'somewhat', 'better', 'db', 'wrong', 'instinct', 'tell', 'db', 'secur', 'stronger', 'file', 'server', 'sure', 'necessarili', 'true', 'terabyt', 'blob', 'db', 'affect', 'perform', 'much', 'appreci', 'recommend', 'thank']\n",
      "True labels:\tsql-server\n",
      "Predicted labels:\t\n",
      "\n",
      "\n",
      "Title:\t['programmat', 'click', 'checkbox', 'way', 'programmat', 'gener', 'click', 'event', 'checkbox', 'look', 'equival', 'buttonperformclick']\n",
      "True labels:\t.net,c#,winforms\n",
      "Predicted labels:\t\n",
      "\n",
      "\n",
      "Title:\t['vs', '2008', 'window', 'form', 'make', 'view', 'code', 'default', 'usercontrol', 'usercontrol', 'design', 'window', 'form', 'design', 'vs', '2008', 'pretti', 'much', 'useless', 'take', 'time', 'design', 'throw', 'except', 'accident', 'doubleclick', 'usercontrol', 'solut', 'explor', 'way', 'make', 'design', 'open', 'c', '#', 'code', 'view', 'doubleclick', 'usercontrol', 'file']\n",
      "True labels:\tvisual-studio,winforms\n",
      "Predicted labels:\t\n",
      "\n",
      "\n",
      "Title:\t['run', 'differ', 'framework', 'sidebysid', 'owin', 'impress', 'one', 'big', 'benefit', 'owin', 'make', 'easi', 'run', 'differ', 'web', 'framework', 'sidebysid', 'without', 'ii', 'ihttphandl', 'huge', 'distribut', 'vertic', 'function', 'slice', 'nuget', 'featur', 'howev', 'everi', 'tutori', 'articl', 'find', 'talk', 'thing', 'selfhost', 'singl', 'framework', 'interest', 'interest', 'run', 'mvc', 'nanci', 'web', 'api', 'mayb', 'even', 'webform', 'applic', 'wrong', 'owin', 'enabl', 'want', 'mvc', 'handl', 'request', 'webform', 'handl', 'request', 'versionlegaci', 'header', 'nanci', 'handl', 'request', 'nanci', 'configur', 'startup', 'class', 'enabl']\n",
      "True labels:\t.net\n",
      "Predicted labels:\t\n",
      "\n",
      "\n",
      "Title:\t['differ', 'set', 'pc', 'applic', 'ran', 'creat', 'cash', 'regist', 'program', 'distribut', 'via', 'clickonc', 'believ', 'right', 'term', 'vs', 'builtin', 'packag', 'pc', 'run', 'softwar', 'differ', 'set', 'thing', 'credit', 'card', 'process', 'store', 'set', 'overwritten', 'everi', 'time', 'updat', 'uniqu', 'base', 'pc', 'instal']\n",
      "True labels:\tc#,winforms\n",
      "Predicted labels:\t\n",
      "\n",
      "\n",
      "Title:\t['forc', 'mfc', 'app', 'run', 'administr', 'vista', 'mfc', 'app', 'built', 'visual', 'studio', '2008', 'need', 'run', 'w2k', 'xp', '2003', 'vista', 'applic', 'write', 'hklm', 'registri', 'vista', 'run', 'administr', 'question', 'forc', 'app', 'run', 'adminstr', 'automat', 'involv', 'creat', 'manifest', 'file', 'moment', 'follow', 'stdafxh', 'guess', 'creat', 'manifest', 'file', 'fli', '#', 'pragma', 'comment', 'linker', 'manifestdepend', 'typewin32', 'namemicrosoftwindowscommoncontrol', 'version', '6000', 'processorarchitecturex86', 'publickeytoken6595b64144ccf1df', 'languag', 'modifi', 'line', 'forc', 'elev', 'someth', 'vc', 'project', 'manifest', 'set', 'thank', 'advanc']\n",
      "True labels:\tc++\n",
      "Predicted labels:\tgrails\n",
      "\n",
      "\n",
      "Title:\t['java', 'applet', 'standalon', 'window', 'applic', 'java', 'applet', 'meant', 'run', 'window', 'use', '3rd', 'parti', 'com', 'object', 'crossplatform', 'way', 'run', 'java', 'applet', 'standalon', 'applic', 'window']\n",
      "True labels:\tjava\n",
      "Predicted labels:\tiphone\n",
      "\n",
      "\n",
      "Title:\t['uiview', 'anim', 'work', 'addsubview', 'ipad', 'app', 'display', 'note', 'subclass', 'uilabel', 'text', 'order', 'navig', 'next', 'note', 'slide', 'screen', 'left', 'next', 'one', 'slide', 'right', 'get', 'either', 'anim', 'time', 'code', 'control', 'void', 'slideoutleft', 'creat', 'new', 'note', 'flslidingnot', 'newnot', 'flslidingnot', 'alloc', 'init', 'newnotetext', 'blah', 'blah', 'cgrect', 'newfram', 'cgrectmak', '1000', '70', '637', '297', 'right', 'newnotefram', 'newfram', 'selfview', 'addsubview', 'newnot', 'slide', 'current', 'one', 'cgrect', 'currentframeend', 'notelabelfram', 'notelabel', 'exist', 'note', 'currentframeendoriginx', '0', 'notelabelframesizewidth', 'left', 'uiview', 'animatewithduration10', 'anim', 'notelabelfram', 'currentframeend', 'complet', 'nil', 'notelabel', 'anim', 'comment', 'addsubview', 'newnot', 'part', 'still', 'rel', 'new', 'probabl', 'someth', 'simpl', 'problem', 'happen', 'whether', 'newnot', 'anim', 'anim', 'code', 'snippet']\n",
      "True labels:\tcocoa-touch,objective-c\n",
      "Predicted labels:\t\n",
      "\n",
      "\n",
      "Title:\t['aspnet', 'mvc', 'rout', 'valu', 'control', 'trail', 'slash', 'probabl', 'simpl', 'question', 'ca', 'get', 'rout', 'specifi', 'routeconfig', 'routesmaprout', 'name', 'defaultsiterout', 'url', 'accountid', 'hostnam', 'control', 'action', 'default', 'new', 'control', 'home', 'action', 'index', 'urlparameteropt', 'accountid', 'urlparameteropt', 'hostnam', 'urlparameteropt', 'url', '123456', 'wwwtestcom', '123456', 'wwwtestcom', 'control', 'action', 'ca', 'cope', '123456', 'wwwtestcom', 'get', 'ii', '404', 'stranger', 'call', 'urlact', 'rout', 'default', 'control', 'action', 'ie', 'home', 'index', 'creat', 'url', 'without', 'trail', 'slash', 'recognis', 'realli', 'without', 'trail', 'slash']\n",
      "True labels:\tasp.net-mvc\n",
      "Predicted labels:\t\n",
      "\n",
      "\n",
      "Title:\t['select', 'max', 'int', 'varchar', 'column', 'tri', 'retriev', 'largest', 'number', 'varchar', 'column', 'includ', 'number', 'string', 'exampl', 'data', 'work', 'boxnumb', '123', 'a5', '789', 'b1', 'return', 'largest', 'number', '789', 'case', 'column', 'ignor', 'nonnumer', 'valu', 'a5', 'b1', 'found', 'solut', 'use', 'custom', 'function', 'solv', 'problem', 'someth', 'execut', 'adhoc', 'queri', 'without', 'reli', 'custom', 'function', 'proc']\n",
      "True labels:\tsql-server,tsql\n",
      "Predicted labels:\tpython\n",
      "\n",
      "\n",
      "Title:\t['partcov', '23', 'net', '40', 'runtim', 'success', 'partcov', '23', 'work', 'vs', '2008', '64bit', 'machin', 'tri', 'get', 'vs', '2010', 'nunit', '253', 'nunit', 'correct', 'clr', 'version', 'ca', 'get', 'partcov', 'produc', 'output', 'get', 'empti', 'report', 'xml', 'file', 'partcoverreport', 'date', '20100330t1609051009099+0100', 'get', 'partcov', '23', '22', 'guess', 'nunit', '253', 'net', '40']\n",
      "True labels:\t.net\n",
      "Predicted labels:\tgrails\n",
      "\n",
      "\n",
      "Title:\t['take', 'photo', 'email', 'user', 'take', 'photo', 'open', 'email', 'dialog', 'photo', 'attach', 'far', 'privat', 'void', 'btnsubmitphoto_click', 'object', 'sender', 'eventarg', 'e', 'cameracapturetask', 'cameracapturetask', 'new', 'cameracapturetask', 'cameracapturetaskcomplet', '+', 'cameracapturetask_complet', 'cameracapturetaskshow', 'privat', 'void', 'cameracapturetask_complet', 'object', 'sender', 'photoresult', 'e', 'etaskresult', 'taskresultok', 'currentimag', 'new', 'bitmapimag', 'currentimagesetsourc', 'echosenphoto', 'emailcomposetask', 'ect', 'new', 'emailcomposetask', 'see', 'add', 'attach', 'emailcomposetask', 'miss', 'someth']\n",
      "True labels:\tc#,email\n",
      "Predicted labels:\t\n",
      "\n",
      "\n",
      "Title:\t['forc', 'com', 'object', 'use', 'dllsurrog', 'see', 'question', 'question', 'turn', 'load', 'com', 'class', 'surrog', 'process', 'must', 'specifi', 'clsctx_inproc', 'flag', 'call', 'cocreateinst', 'allow', 'host', 'use', 'clsctx_all', 'allow', 'individu', 'com', 'class', 'opt', 'dllhost', 'reason', 'ask', 'locat', 'com', 'class', 'compon', 'categori', 'pass', 'clsctx_all', 'creat', 'inproc', 'abl', 'outofproc']\n",
      "True labels:\tcom\n",
      "Predicted labels:\t\n",
      "\n",
      "\n",
      "Title:\t['visual', 'gui', 'design', 'apach', 'pivot', 'learn', 'apach', 'pivot', 'exist', 'question', 'java', 'gui', 'framework', 'choos', 'swing', 'swt', 'awt', 'swingx', 'jgoodi', 'javafx', 'apach', 'pivot', 'seem', 'good', 'fit', 'current', 'project', 'involv', 'let', 'user', 'creat', 'gui', 'dynam', 'howev', 'also', 'deliv', 'visual', 'gui', 'design', 'whatev', 'technolog', 'choos', 'alreadi', 'design', 'pivot', 'googl', 'seem', 'suggest', 'ask', 'case', 'miss', 'one']\n",
      "True labels:\tjava\n",
      "Predicted labels:\tapache\n",
      "\n",
      "\n"
     ]
    }
   ],
   "source": [
    "y_test_pred_inversed = mlb.inverse_transform(y_test_predicted_labels_tfidf)\n",
    "y_test_inversed = mlb.inverse_transform(y_test)\n",
    "for i in range(20):\n",
    "    print('Title:\\t{}\\nTrue labels:\\t{}\\nPredicted labels:\\t{}\\n\\n'.format(\n",
    "        X_test.iloc[i],\n",
    "        ','.join(y_test_inversed[i]),\n",
    "        ','.join(y_test_pred_inversed[i])\n",
    "    ))"
   ]
  },
  {
   "cell_type": "code",
   "execution_count": 73,
   "metadata": {},
   "outputs": [
    {
     "name": "stdout",
     "output_type": "stream",
     "text": [
      "Tfidf\n",
      "<function accuracy_score at 0x00000281C4BE1B88> 0.02539393150149759\n",
      "functools.partial(<function f1_score at 0x00000281C4BE7048>, average='weighted') 0.06947268604960295\n"
     ]
    },
    {
     "name": "stderr",
     "output_type": "stream",
     "text": [
      "C:\\Users\\alice\\Anaconda3\\lib\\site-packages\\sklearn\\metrics\\classification.py:1437: UndefinedMetricWarning: F-score is ill-defined and being set to 0.0 in labels with no predicted samples.\n",
      "  'precision', 'predicted', average, warn_for)\n"
     ]
    }
   ],
   "source": [
    "def print_evaluation_scores(y_val, predicted):\n",
    "    f1_score_weighted = partial(f1_score,average=\"weighted\")\n",
    "    scores = [accuracy_score, f1_score_weighted]\n",
    "    for score in scores:\n",
    "        print(score,score(y_val,predicted))\n",
    "\n",
    "print('Tfidf')\n",
    "print_evaluation_scores(y_test, y_test_predicted_labels_tfidf)"
   ]
  },
  {
   "cell_type": "markdown",
   "metadata": {},
   "source": [
    "#### 1.4.3 Naive Bayes"
   ]
  },
  {
   "cell_type": "code",
   "execution_count": 74,
   "metadata": {},
   "outputs": [
    {
     "name": "stdout",
     "output_type": "stream",
     "text": [
      "Wall time: 1.26 s\n"
     ]
    }
   ],
   "source": [
    "%time classifier_tfidf = train_classifier(X_tfidf_train, y_train, C=1.0, model='nbayes')"
   ]
  },
  {
   "cell_type": "code",
   "execution_count": 75,
   "metadata": {},
   "outputs": [],
   "source": [
    "y_test_predicted_labels_tfidf = classifier_tfidf.predict(X_tfidf_test)"
   ]
  },
  {
   "cell_type": "code",
   "execution_count": 76,
   "metadata": {
    "scrolled": true
   },
   "outputs": [
    {
     "name": "stdout",
     "output_type": "stream",
     "text": [
      "Title:\t['assembl', 'add', 'refer', 'dialog', 'differ', 'depend', 'net', 'framework', 'use', 'curiou', 'list', 'assembl', 'add', 'refer', 'dialog', 'vari', 'depend', 'version', 'net', 'framework', 'use', 'select', 'project', 'differ', 'love', 'differ', 'lie', 'thank']\n",
      "True labels:\t.net,c#,visual-studio\n",
      "Predicted labels:\t\n",
      "\n",
      "\n",
      "Title:\t['check', 'socket', 'still', 'open', 'c++', 'app', 'use', 'standard', 'socket', 'call', 'want', 'tell', 'socket', 'still', 'open', 'without', 'send', 'receiv', 'data', 'reliabl', 'select', 'ioctlsocket', 'call', 'make']\n",
      "True labels:\tc++\n",
      "Predicted labels:\t\n",
      "\n",
      "\n",
      "Title:\t['array', 'case', '5', '5', 'joel', 'point', 'stack', 'overflow', 'podcast', '#', '34', 'c', 'program', 'languag', 'aka', 'k', 'r', 'mention', 'properti', 'array', 'c', '5', '5', 'joel', 'say', 'pointer', 'arithmet', 'still', 'understand', '5', '5']\n",
      "True labels:\tarrays\n",
      "Predicted labels:\t\n",
      "\n",
      "\n",
      "Title:\t['class', 'net', 'applic', 'intern', 'note', 'applic', 'oppos', 'librari', 'wpf', 'applic', 'broken', 'main', 'applic', 'project', 'associ', 'class', 'librari', 'circumst', 'class', 'main', 'applic', 'public', 'oppos', 'intern', 'exampl', 'data', 'bind', 'wpf', 'valu', 'convert', 'public', 'xaml', 'assembl']\n",
      "True labels:\t.net\n",
      "Predicted labels:\t\n",
      "\n",
      "\n",
      "Title:\t['best', 'approach', 'sql', 'server', 'queri', 'distinct', 'two', 'tabl', 'tablea', 'tableb', 'join', 'tableatablea_id', '1n', 'tablebtablea_id', 'simpl', 'pkfk', 'extract', 'distinct', 'tablea', 'record', 'given', 'certain', 'condit', 'tableb', '1st', 'approach', 'select', 'tablea', 'inner', 'join', 'tableb', 'b', 'aida', 'bida', 'bdate', '20090110', 'order', 'aid', 'nice', 'give', 'distinct', 'record', 'record', 'tabl', 'b', 'may', 'duplic', 'henc', 'get', 'record', 'decid', 'perform', 'subselect', 'perform', 'issu', 'given', 'subselect', 'probabl', 'end', '20', '30', 'record', 'max', 'select', 'tablea', 'tableaid', 'select', 'distinct', 'ida', 'tableb', 'date', '20090110', 'order', 'tableaida', 'question', 'use', 'inner', 'join', 'still', 'get', 'distinct', 'valu', 'possibl', 'one', 'pass', 'nest', 'queri', 'must', 'miss']\n",
      "True labels:\tsql,sql-server,tsql\n",
      "Predicted labels:\t\n",
      "\n",
      "\n",
      "Title:\t['inject', 'text', 'resourc', 'prebuilt', 'nativ', 'exe', 'nativ', 'exe', 'name', 'setupex', 'type', 'file', 'inject', 'text', 'resourc', 'eg', 'serverx123456', 'purpos', 'upon', 'run', 'exe', 'read', 'text', 'resourc', 'act', 'accordingli', 'way', 'c', '#', 'code', 'note', 'similar', 'question', 'focus', 'inject', 'skin', 'wpf', 'app']\n",
      "True labels:\tc#\n",
      "Predicted labels:\t\n",
      "\n",
      "\n",
      "Title:\t['consider', 'store', 'document', 'file', 'server', 'db', 'design', 'decis', 'make', 'regard', 'document', 'upload', 'web', 'site', 'either', 'store', 'file', 'server', 'somewher', 'store', 'blob', 'databas', 'mssql', '2005', 'make', 'differ', 'design', 'decis', 'document', 'confidenti', 'must', 'certain', 'degre', 'protect', 'consider', 'thought', 'store', 'file', 'server', 'make', 'huuuuuuug', 'number', 'file', 'dump', 'singl', 'directori', 'therefor', 'slower', 'access', 'unless', 'reason', 'semant', 'definit', 'directori', 'tree', 'structur', 'otoh', 'guess', 'file', 'server', 'handl', 'compress', 'somewhat', 'better', 'db', 'wrong', 'instinct', 'tell', 'db', 'secur', 'stronger', 'file', 'server', 'sure', 'necessarili', 'true', 'terabyt', 'blob', 'db', 'affect', 'perform', 'much', 'appreci', 'recommend', 'thank']\n",
      "True labels:\tsql-server\n",
      "Predicted labels:\t\n",
      "\n",
      "\n",
      "Title:\t['programmat', 'click', 'checkbox', 'way', 'programmat', 'gener', 'click', 'event', 'checkbox', 'look', 'equival', 'buttonperformclick']\n",
      "True labels:\t.net,c#,winforms\n",
      "Predicted labels:\t\n",
      "\n",
      "\n",
      "Title:\t['vs', '2008', 'window', 'form', 'make', 'view', 'code', 'default', 'usercontrol', 'usercontrol', 'design', 'window', 'form', 'design', 'vs', '2008', 'pretti', 'much', 'useless', 'take', 'time', 'design', 'throw', 'except', 'accident', 'doubleclick', 'usercontrol', 'solut', 'explor', 'way', 'make', 'design', 'open', 'c', '#', 'code', 'view', 'doubleclick', 'usercontrol', 'file']\n",
      "True labels:\tvisual-studio,winforms\n",
      "Predicted labels:\t\n",
      "\n",
      "\n",
      "Title:\t['run', 'differ', 'framework', 'sidebysid', 'owin', 'impress', 'one', 'big', 'benefit', 'owin', 'make', 'easi', 'run', 'differ', 'web', 'framework', 'sidebysid', 'without', 'ii', 'ihttphandl', 'huge', 'distribut', 'vertic', 'function', 'slice', 'nuget', 'featur', 'howev', 'everi', 'tutori', 'articl', 'find', 'talk', 'thing', 'selfhost', 'singl', 'framework', 'interest', 'interest', 'run', 'mvc', 'nanci', 'web', 'api', 'mayb', 'even', 'webform', 'applic', 'wrong', 'owin', 'enabl', 'want', 'mvc', 'handl', 'request', 'webform', 'handl', 'request', 'versionlegaci', 'header', 'nanci', 'handl', 'request', 'nanci', 'configur', 'startup', 'class', 'enabl']\n",
      "True labels:\t.net\n",
      "Predicted labels:\t\n",
      "\n",
      "\n",
      "Title:\t['differ', 'set', 'pc', 'applic', 'ran', 'creat', 'cash', 'regist', 'program', 'distribut', 'via', 'clickonc', 'believ', 'right', 'term', 'vs', 'builtin', 'packag', 'pc', 'run', 'softwar', 'differ', 'set', 'thing', 'credit', 'card', 'process', 'store', 'set', 'overwritten', 'everi', 'time', 'updat', 'uniqu', 'base', 'pc', 'instal']\n",
      "True labels:\tc#,winforms\n",
      "Predicted labels:\t\n",
      "\n",
      "\n",
      "Title:\t['forc', 'mfc', 'app', 'run', 'administr', 'vista', 'mfc', 'app', 'built', 'visual', 'studio', '2008', 'need', 'run', 'w2k', 'xp', '2003', 'vista', 'applic', 'write', 'hklm', 'registri', 'vista', 'run', 'administr', 'question', 'forc', 'app', 'run', 'adminstr', 'automat', 'involv', 'creat', 'manifest', 'file', 'moment', 'follow', 'stdafxh', 'guess', 'creat', 'manifest', 'file', 'fli', '#', 'pragma', 'comment', 'linker', 'manifestdepend', 'typewin32', 'namemicrosoftwindowscommoncontrol', 'version', '6000', 'processorarchitecturex86', 'publickeytoken6595b64144ccf1df', 'languag', 'modifi', 'line', 'forc', 'elev', 'someth', 'vc', 'project', 'manifest', 'set', 'thank', 'advanc']\n",
      "True labels:\tc++\n",
      "Predicted labels:\t\n",
      "\n",
      "\n",
      "Title:\t['java', 'applet', 'standalon', 'window', 'applic', 'java', 'applet', 'meant', 'run', 'window', 'use', '3rd', 'parti', 'com', 'object', 'crossplatform', 'way', 'run', 'java', 'applet', 'standalon', 'applic', 'window']\n",
      "True labels:\tjava\n",
      "Predicted labels:\t\n",
      "\n",
      "\n",
      "Title:\t['uiview', 'anim', 'work', 'addsubview', 'ipad', 'app', 'display', 'note', 'subclass', 'uilabel', 'text', 'order', 'navig', 'next', 'note', 'slide', 'screen', 'left', 'next', 'one', 'slide', 'right', 'get', 'either', 'anim', 'time', 'code', 'control', 'void', 'slideoutleft', 'creat', 'new', 'note', 'flslidingnot', 'newnot', 'flslidingnot', 'alloc', 'init', 'newnotetext', 'blah', 'blah', 'cgrect', 'newfram', 'cgrectmak', '1000', '70', '637', '297', 'right', 'newnotefram', 'newfram', 'selfview', 'addsubview', 'newnot', 'slide', 'current', 'one', 'cgrect', 'currentframeend', 'notelabelfram', 'notelabel', 'exist', 'note', 'currentframeendoriginx', '0', 'notelabelframesizewidth', 'left', 'uiview', 'animatewithduration10', 'anim', 'notelabelfram', 'currentframeend', 'complet', 'nil', 'notelabel', 'anim', 'comment', 'addsubview', 'newnot', 'part', 'still', 'rel', 'new', 'probabl', 'someth', 'simpl', 'problem', 'happen', 'whether', 'newnot', 'anim', 'anim', 'code', 'snippet']\n",
      "True labels:\tcocoa-touch,objective-c\n",
      "Predicted labels:\t\n",
      "\n",
      "\n",
      "Title:\t['aspnet', 'mvc', 'rout', 'valu', 'control', 'trail', 'slash', 'probabl', 'simpl', 'question', 'ca', 'get', 'rout', 'specifi', 'routeconfig', 'routesmaprout', 'name', 'defaultsiterout', 'url', 'accountid', 'hostnam', 'control', 'action', 'default', 'new', 'control', 'home', 'action', 'index', 'urlparameteropt', 'accountid', 'urlparameteropt', 'hostnam', 'urlparameteropt', 'url', '123456', 'wwwtestcom', '123456', 'wwwtestcom', 'control', 'action', 'ca', 'cope', '123456', 'wwwtestcom', 'get', 'ii', '404', 'stranger', 'call', 'urlact', 'rout', 'default', 'control', 'action', 'ie', 'home', 'index', 'creat', 'url', 'without', 'trail', 'slash', 'recognis', 'realli', 'without', 'trail', 'slash']\n",
      "True labels:\tasp.net-mvc\n",
      "Predicted labels:\t\n",
      "\n",
      "\n",
      "Title:\t['select', 'max', 'int', 'varchar', 'column', 'tri', 'retriev', 'largest', 'number', 'varchar', 'column', 'includ', 'number', 'string', 'exampl', 'data', 'work', 'boxnumb', '123', 'a5', '789', 'b1', 'return', 'largest', 'number', '789', 'case', 'column', 'ignor', 'nonnumer', 'valu', 'a5', 'b1', 'found', 'solut', 'use', 'custom', 'function', 'solv', 'problem', 'someth', 'execut', 'adhoc', 'queri', 'without', 'reli', 'custom', 'function', 'proc']\n",
      "True labels:\tsql-server,tsql\n",
      "Predicted labels:\t\n",
      "\n",
      "\n",
      "Title:\t['partcov', '23', 'net', '40', 'runtim', 'success', 'partcov', '23', 'work', 'vs', '2008', '64bit', 'machin', 'tri', 'get', 'vs', '2010', 'nunit', '253', 'nunit', 'correct', 'clr', 'version', 'ca', 'get', 'partcov', 'produc', 'output', 'get', 'empti', 'report', 'xml', 'file', 'partcoverreport', 'date', '20100330t1609051009099+0100', 'get', 'partcov', '23', '22', 'guess', 'nunit', '253', 'net', '40']\n",
      "True labels:\t.net\n",
      "Predicted labels:\t\n",
      "\n",
      "\n",
      "Title:\t['take', 'photo', 'email', 'user', 'take', 'photo', 'open', 'email', 'dialog', 'photo', 'attach', 'far', 'privat', 'void', 'btnsubmitphoto_click', 'object', 'sender', 'eventarg', 'e', 'cameracapturetask', 'cameracapturetask', 'new', 'cameracapturetask', 'cameracapturetaskcomplet', '+', 'cameracapturetask_complet', 'cameracapturetaskshow', 'privat', 'void', 'cameracapturetask_complet', 'object', 'sender', 'photoresult', 'e', 'etaskresult', 'taskresultok', 'currentimag', 'new', 'bitmapimag', 'currentimagesetsourc', 'echosenphoto', 'emailcomposetask', 'ect', 'new', 'emailcomposetask', 'see', 'add', 'attach', 'emailcomposetask', 'miss', 'someth']\n",
      "True labels:\tc#,email\n",
      "Predicted labels:\t\n",
      "\n",
      "\n",
      "Title:\t['forc', 'com', 'object', 'use', 'dllsurrog', 'see', 'question', 'question', 'turn', 'load', 'com', 'class', 'surrog', 'process', 'must', 'specifi', 'clsctx_inproc', 'flag', 'call', 'cocreateinst', 'allow', 'host', 'use', 'clsctx_all', 'allow', 'individu', 'com', 'class', 'opt', 'dllhost', 'reason', 'ask', 'locat', 'com', 'class', 'compon', 'categori', 'pass', 'clsctx_all', 'creat', 'inproc', 'abl', 'outofproc']\n",
      "True labels:\tcom\n",
      "Predicted labels:\t\n",
      "\n",
      "\n",
      "Title:\t['visual', 'gui', 'design', 'apach', 'pivot', 'learn', 'apach', 'pivot', 'exist', 'question', 'java', 'gui', 'framework', 'choos', 'swing', 'swt', 'awt', 'swingx', 'jgoodi', 'javafx', 'apach', 'pivot', 'seem', 'good', 'fit', 'current', 'project', 'involv', 'let', 'user', 'creat', 'gui', 'dynam', 'howev', 'also', 'deliv', 'visual', 'gui', 'design', 'whatev', 'technolog', 'choos', 'alreadi', 'design', 'pivot', 'googl', 'seem', 'suggest', 'ask', 'case', 'miss', 'one']\n",
      "True labels:\tjava\n",
      "Predicted labels:\t\n",
      "\n",
      "\n"
     ]
    }
   ],
   "source": [
    "y_test_pred_inversed = mlb.inverse_transform(y_test_predicted_labels_tfidf)\n",
    "y_test_inversed = mlb.inverse_transform(y_test)\n",
    "for i in range(20):\n",
    "    print('Title:\\t{}\\nTrue labels:\\t{}\\nPredicted labels:\\t{}\\n\\n'.format(\n",
    "        X_test.iloc[i],\n",
    "        ','.join(y_test_inversed[i]),\n",
    "        ','.join(y_test_pred_inversed[i])\n",
    "    ))"
   ]
  },
  {
   "cell_type": "code",
   "execution_count": 77,
   "metadata": {},
   "outputs": [
    {
     "name": "stdout",
     "output_type": "stream",
     "text": [
      "Tfidf\n",
      "<function accuracy_score at 0x00000281C4BE1B88> 0.0028649563745279335\n",
      "functools.partial(<function f1_score at 0x00000281C4BE7048>, average='weighted') 0.0074605728103369915\n"
     ]
    },
    {
     "name": "stderr",
     "output_type": "stream",
     "text": [
      "C:\\Users\\alice\\Anaconda3\\lib\\site-packages\\sklearn\\metrics\\classification.py:1437: UndefinedMetricWarning: F-score is ill-defined and being set to 0.0 in labels with no predicted samples.\n",
      "  'precision', 'predicted', average, warn_for)\n"
     ]
    }
   ],
   "source": [
    "def print_evaluation_scores(y_val, predicted):\n",
    "    f1_score_weighted = partial(f1_score,average=\"weighted\")\n",
    "    scores = [accuracy_score, f1_score_weighted]\n",
    "    for score in scores:\n",
    "        print(score,score(y_val,predicted))\n",
    "\n",
    "print('Tfidf')\n",
    "print_evaluation_scores(y_test, y_test_predicted_labels_tfidf)"
   ]
  },
  {
   "cell_type": "markdown",
   "metadata": {},
   "source": [
    "#### 1.4.4 Multi-Layered Preceptron - Neural Networks"
   ]
  },
  {
   "cell_type": "code",
   "execution_count": 78,
   "metadata": {},
   "outputs": [
    {
     "name": "stdout",
     "output_type": "stream",
     "text": [
      "Wall time: 52min 30s\n"
     ]
    }
   ],
   "source": [
    "%time classifier_tfidf = train_classifier(X_tfidf_train, y_train, C=1.0, model='mlp')"
   ]
  },
  {
   "cell_type": "code",
   "execution_count": 79,
   "metadata": {},
   "outputs": [],
   "source": [
    "y_test_predicted_labels_tfidf = classifier_tfidf.predict(X_tfidf_test)"
   ]
  },
  {
   "cell_type": "code",
   "execution_count": 80,
   "metadata": {
    "scrolled": true
   },
   "outputs": [
    {
     "name": "stdout",
     "output_type": "stream",
     "text": [
      "Title:\t['assembl', 'add', 'refer', 'dialog', 'differ', 'depend', 'net', 'framework', 'use', 'curiou', 'list', 'assembl', 'add', 'refer', 'dialog', 'vari', 'depend', 'version', 'net', 'framework', 'use', 'select', 'project', 'differ', 'love', 'differ', 'lie', 'thank']\n",
      "True labels:\t.net,c#,visual-studio\n",
      "Predicted labels:\tc++\n",
      "\n",
      "\n",
      "Title:\t['check', 'socket', 'still', 'open', 'c++', 'app', 'use', 'standard', 'socket', 'call', 'want', 'tell', 'socket', 'still', 'open', 'without', 'send', 'receiv', 'data', 'reliabl', 'select', 'ioctlsocket', 'call', 'make']\n",
      "True labels:\tc++\n",
      "Predicted labels:\tios\n",
      "\n",
      "\n",
      "Title:\t['array', 'case', '5', '5', 'joel', 'point', 'stack', 'overflow', 'podcast', '#', '34', 'c', 'program', 'languag', 'aka', 'k', 'r', 'mention', 'properti', 'array', 'c', '5', '5', 'joel', 'say', 'pointer', 'arithmet', 'still', 'understand', '5', '5']\n",
      "True labels:\tarrays\n",
      "Predicted labels:\t\n",
      "\n",
      "\n",
      "Title:\t['class', 'net', 'applic', 'intern', 'note', 'applic', 'oppos', 'librari', 'wpf', 'applic', 'broken', 'main', 'applic', 'project', 'associ', 'class', 'librari', 'circumst', 'class', 'main', 'applic', 'public', 'oppos', 'intern', 'exampl', 'data', 'bind', 'wpf', 'valu', 'convert', 'public', 'xaml', 'assembl']\n",
      "True labels:\t.net\n",
      "Predicted labels:\tapache-flex\n",
      "\n",
      "\n",
      "Title:\t['best', 'approach', 'sql', 'server', 'queri', 'distinct', 'two', 'tabl', 'tablea', 'tableb', 'join', 'tableatablea_id', '1n', 'tablebtablea_id', 'simpl', 'pkfk', 'extract', 'distinct', 'tablea', 'record', 'given', 'certain', 'condit', 'tableb', '1st', 'approach', 'select', 'tablea', 'inner', 'join', 'tableb', 'b', 'aida', 'bida', 'bdate', '20090110', 'order', 'aid', 'nice', 'give', 'distinct', 'record', 'record', 'tabl', 'b', 'may', 'duplic', 'henc', 'get', 'record', 'decid', 'perform', 'subselect', 'perform', 'issu', 'given', 'subselect', 'probabl', 'end', '20', '30', 'record', 'max', 'select', 'tablea', 'tableaid', 'select', 'distinct', 'ida', 'tableb', 'date', '20090110', 'order', 'tableaida', 'question', 'use', 'inner', 'join', 'still', 'get', 'distinct', 'valu', 'possibl', 'one', 'pass', 'nest', 'queri', 'must', 'miss']\n",
      "True labels:\tsql,sql-server,tsql\n",
      "Predicted labels:\t\n",
      "\n",
      "\n",
      "Title:\t['inject', 'text', 'resourc', 'prebuilt', 'nativ', 'exe', 'nativ', 'exe', 'name', 'setupex', 'type', 'file', 'inject', 'text', 'resourc', 'eg', 'serverx123456', 'purpos', 'upon', 'run', 'exe', 'read', 'text', 'resourc', 'act', 'accordingli', 'way', 'c', '#', 'code', 'note', 'similar', 'question', 'focus', 'inject', 'skin', 'wpf', 'app']\n",
      "True labels:\tc#\n",
      "Predicted labels:\t\n",
      "\n",
      "\n",
      "Title:\t['consider', 'store', 'document', 'file', 'server', 'db', 'design', 'decis', 'make', 'regard', 'document', 'upload', 'web', 'site', 'either', 'store', 'file', 'server', 'somewher', 'store', 'blob', 'databas', 'mssql', '2005', 'make', 'differ', 'design', 'decis', 'document', 'confidenti', 'must', 'certain', 'degre', 'protect', 'consider', 'thought', 'store', 'file', 'server', 'make', 'huuuuuuug', 'number', 'file', 'dump', 'singl', 'directori', 'therefor', 'slower', 'access', 'unless', 'reason', 'semant', 'definit', 'directori', 'tree', 'structur', 'otoh', 'guess', 'file', 'server', 'handl', 'compress', 'somewhat', 'better', 'db', 'wrong', 'instinct', 'tell', 'db', 'secur', 'stronger', 'file', 'server', 'sure', 'necessarili', 'true', 'terabyt', 'blob', 'db', 'affect', 'perform', 'much', 'appreci', 'recommend', 'thank']\n",
      "True labels:\tsql-server\n",
      "Predicted labels:\t\n",
      "\n",
      "\n",
      "Title:\t['programmat', 'click', 'checkbox', 'way', 'programmat', 'gener', 'click', 'event', 'checkbox', 'look', 'equival', 'buttonperformclick']\n",
      "True labels:\t.net,c#,winforms\n",
      "Predicted labels:\t\n",
      "\n",
      "\n",
      "Title:\t['vs', '2008', 'window', 'form', 'make', 'view', 'code', 'default', 'usercontrol', 'usercontrol', 'design', 'window', 'form', 'design', 'vs', '2008', 'pretti', 'much', 'useless', 'take', 'time', 'design', 'throw', 'except', 'accident', 'doubleclick', 'usercontrol', 'solut', 'explor', 'way', 'make', 'design', 'open', 'c', '#', 'code', 'view', 'doubleclick', 'usercontrol', 'file']\n",
      "True labels:\tvisual-studio,winforms\n",
      "Predicted labels:\t\n",
      "\n",
      "\n",
      "Title:\t['run', 'differ', 'framework', 'sidebysid', 'owin', 'impress', 'one', 'big', 'benefit', 'owin', 'make', 'easi', 'run', 'differ', 'web', 'framework', 'sidebysid', 'without', 'ii', 'ihttphandl', 'huge', 'distribut', 'vertic', 'function', 'slice', 'nuget', 'featur', 'howev', 'everi', 'tutori', 'articl', 'find', 'talk', 'thing', 'selfhost', 'singl', 'framework', 'interest', 'interest', 'run', 'mvc', 'nanci', 'web', 'api', 'mayb', 'even', 'webform', 'applic', 'wrong', 'owin', 'enabl', 'want', 'mvc', 'handl', 'request', 'webform', 'handl', 'request', 'versionlegaci', 'header', 'nanci', 'handl', 'request', 'nanci', 'configur', 'startup', 'class', 'enabl']\n",
      "True labels:\t.net\n",
      "Predicted labels:\t\n",
      "\n",
      "\n",
      "Title:\t['differ', 'set', 'pc', 'applic', 'ran', 'creat', 'cash', 'regist', 'program', 'distribut', 'via', 'clickonc', 'believ', 'right', 'term', 'vs', 'builtin', 'packag', 'pc', 'run', 'softwar', 'differ', 'set', 'thing', 'credit', 'card', 'process', 'store', 'set', 'overwritten', 'everi', 'time', 'updat', 'uniqu', 'base', 'pc', 'instal']\n",
      "True labels:\tc#,winforms\n",
      "Predicted labels:\tasp.net\n",
      "\n",
      "\n",
      "Title:\t['forc', 'mfc', 'app', 'run', 'administr', 'vista', 'mfc', 'app', 'built', 'visual', 'studio', '2008', 'need', 'run', 'w2k', 'xp', '2003', 'vista', 'applic', 'write', 'hklm', 'registri', 'vista', 'run', 'administr', 'question', 'forc', 'app', 'run', 'adminstr', 'automat', 'involv', 'creat', 'manifest', 'file', 'moment', 'follow', 'stdafxh', 'guess', 'creat', 'manifest', 'file', 'fli', '#', 'pragma', 'comment', 'linker', 'manifestdepend', 'typewin32', 'namemicrosoftwindowscommoncontrol', 'version', '6000', 'processorarchitecturex86', 'publickeytoken6595b64144ccf1df', 'languag', 'modifi', 'line', 'forc', 'elev', 'someth', 'vc', 'project', 'manifest', 'set', 'thank', 'advanc']\n",
      "True labels:\tc++\n",
      "Predicted labels:\t\n",
      "\n",
      "\n",
      "Title:\t['java', 'applet', 'standalon', 'window', 'applic', 'java', 'applet', 'meant', 'run', 'window', 'use', '3rd', 'parti', 'com', 'object', 'crossplatform', 'way', 'run', 'java', 'applet', 'standalon', 'applic', 'window']\n",
      "True labels:\tjava\n",
      "Predicted labels:\tcocoa-touch,iphone\n",
      "\n",
      "\n",
      "Title:\t['uiview', 'anim', 'work', 'addsubview', 'ipad', 'app', 'display', 'note', 'subclass', 'uilabel', 'text', 'order', 'navig', 'next', 'note', 'slide', 'screen', 'left', 'next', 'one', 'slide', 'right', 'get', 'either', 'anim', 'time', 'code', 'control', 'void', 'slideoutleft', 'creat', 'new', 'note', 'flslidingnot', 'newnot', 'flslidingnot', 'alloc', 'init', 'newnotetext', 'blah', 'blah', 'cgrect', 'newfram', 'cgrectmak', '1000', '70', '637', '297', 'right', 'newnotefram', 'newfram', 'selfview', 'addsubview', 'newnot', 'slide', 'current', 'one', 'cgrect', 'currentframeend', 'notelabelfram', 'notelabel', 'exist', 'note', 'currentframeendoriginx', '0', 'notelabelframesizewidth', 'left', 'uiview', 'animatewithduration10', 'anim', 'notelabelfram', 'currentframeend', 'complet', 'nil', 'notelabel', 'anim', 'comment', 'addsubview', 'newnot', 'part', 'still', 'rel', 'new', 'probabl', 'someth', 'simpl', 'problem', 'happen', 'whether', 'newnot', 'anim', 'anim', 'code', 'snippet']\n",
      "True labels:\tcocoa-touch,objective-c\n",
      "Predicted labels:\t\n",
      "\n",
      "\n",
      "Title:\t['aspnet', 'mvc', 'rout', 'valu', 'control', 'trail', 'slash', 'probabl', 'simpl', 'question', 'ca', 'get', 'rout', 'specifi', 'routeconfig', 'routesmaprout', 'name', 'defaultsiterout', 'url', 'accountid', 'hostnam', 'control', 'action', 'default', 'new', 'control', 'home', 'action', 'index', 'urlparameteropt', 'accountid', 'urlparameteropt', 'hostnam', 'urlparameteropt', 'url', '123456', 'wwwtestcom', '123456', 'wwwtestcom', 'control', 'action', 'ca', 'cope', '123456', 'wwwtestcom', 'get', 'ii', '404', 'stranger', 'call', 'urlact', 'rout', 'default', 'control', 'action', 'ie', 'home', 'index', 'creat', 'url', 'without', 'trail', 'slash', 'recognis', 'realli', 'without', 'trail', 'slash']\n",
      "True labels:\tasp.net-mvc\n",
      "Predicted labels:\t\n",
      "\n",
      "\n",
      "Title:\t['select', 'max', 'int', 'varchar', 'column', 'tri', 'retriev', 'largest', 'number', 'varchar', 'column', 'includ', 'number', 'string', 'exampl', 'data', 'work', 'boxnumb', '123', 'a5', '789', 'b1', 'return', 'largest', 'number', '789', 'case', 'column', 'ignor', 'nonnumer', 'valu', 'a5', 'b1', 'found', 'solut', 'use', 'custom', 'function', 'solv', 'problem', 'someth', 'execut', 'adhoc', 'queri', 'without', 'reli', 'custom', 'function', 'proc']\n",
      "True labels:\tsql-server,tsql\n",
      "Predicted labels:\tpython\n",
      "\n",
      "\n",
      "Title:\t['partcov', '23', 'net', '40', 'runtim', 'success', 'partcov', '23', 'work', 'vs', '2008', '64bit', 'machin', 'tri', 'get', 'vs', '2010', 'nunit', '253', 'nunit', 'correct', 'clr', 'version', 'ca', 'get', 'partcov', 'produc', 'output', 'get', 'empti', 'report', 'xml', 'file', 'partcoverreport', 'date', '20100330t1609051009099+0100', 'get', 'partcov', '23', '22', 'guess', 'nunit', '253', 'net', '40']\n",
      "True labels:\t.net\n",
      "Predicted labels:\t\n",
      "\n",
      "\n",
      "Title:\t['take', 'photo', 'email', 'user', 'take', 'photo', 'open', 'email', 'dialog', 'photo', 'attach', 'far', 'privat', 'void', 'btnsubmitphoto_click', 'object', 'sender', 'eventarg', 'e', 'cameracapturetask', 'cameracapturetask', 'new', 'cameracapturetask', 'cameracapturetaskcomplet', '+', 'cameracapturetask_complet', 'cameracapturetaskshow', 'privat', 'void', 'cameracapturetask_complet', 'object', 'sender', 'photoresult', 'e', 'etaskresult', 'taskresultok', 'currentimag', 'new', 'bitmapimag', 'currentimagesetsourc', 'echosenphoto', 'emailcomposetask', 'ect', 'new', 'emailcomposetask', 'see', 'add', 'attach', 'emailcomposetask', 'miss', 'someth']\n",
      "True labels:\tc#,email\n",
      "Predicted labels:\tc#\n",
      "\n",
      "\n",
      "Title:\t['forc', 'com', 'object', 'use', 'dllsurrog', 'see', 'question', 'question', 'turn', 'load', 'com', 'class', 'surrog', 'process', 'must', 'specifi', 'clsctx_inproc', 'flag', 'call', 'cocreateinst', 'allow', 'host', 'use', 'clsctx_all', 'allow', 'individu', 'com', 'class', 'opt', 'dllhost', 'reason', 'ask', 'locat', 'com', 'class', 'compon', 'categori', 'pass', 'clsctx_all', 'creat', 'inproc', 'abl', 'outofproc']\n",
      "True labels:\tcom\n",
      "Predicted labels:\t\n",
      "\n",
      "\n",
      "Title:\t['visual', 'gui', 'design', 'apach', 'pivot', 'learn', 'apach', 'pivot', 'exist', 'question', 'java', 'gui', 'framework', 'choos', 'swing', 'swt', 'awt', 'swingx', 'jgoodi', 'javafx', 'apach', 'pivot', 'seem', 'good', 'fit', 'current', 'project', 'involv', 'let', 'user', 'creat', 'gui', 'dynam', 'howev', 'also', 'deliv', 'visual', 'gui', 'design', 'whatev', 'technolog', 'choos', 'alreadi', 'design', 'pivot', 'googl', 'seem', 'suggest', 'ask', 'case', 'miss', 'one']\n",
      "True labels:\tjava\n",
      "Predicted labels:\t\n",
      "\n",
      "\n"
     ]
    }
   ],
   "source": [
    "y_test_pred_inversed = mlb.inverse_transform(y_test_predicted_labels_tfidf)\n",
    "y_test_inversed = mlb.inverse_transform(y_test)\n",
    "for i in range(20):\n",
    "    print('Title:\\t{}\\nTrue labels:\\t{}\\nPredicted labels:\\t{}\\n\\n'.format(\n",
    "        X_test.iloc[i],\n",
    "        ','.join(y_test_inversed[i]),\n",
    "        ','.join(y_test_pred_inversed[i])\n",
    "    ))"
   ]
  },
  {
   "cell_type": "code",
   "execution_count": 81,
   "metadata": {},
   "outputs": [
    {
     "name": "stdout",
     "output_type": "stream",
     "text": [
      "Tfidf\n",
      "<function accuracy_score at 0x00000281C4BE1B88> 0.024352129183487434\n",
      "functools.partial(<function f1_score at 0x00000281C4BE7048>, average='weighted') 0.07033063623963018\n"
     ]
    },
    {
     "name": "stderr",
     "output_type": "stream",
     "text": [
      "C:\\Users\\alice\\Anaconda3\\lib\\site-packages\\sklearn\\metrics\\classification.py:1437: UndefinedMetricWarning: F-score is ill-defined and being set to 0.0 in labels with no predicted samples.\n",
      "  'precision', 'predicted', average, warn_for)\n"
     ]
    }
   ],
   "source": [
    "def print_evaluation_scores(y_val, predicted):\n",
    "    f1_score_weighted = partial(f1_score,average=\"weighted\")\n",
    "    scores = [accuracy_score, f1_score_weighted]\n",
    "    for score in scores:\n",
    "        print(score,score(y_val,predicted))\n",
    "\n",
    "print('Tfidf')\n",
    "print_evaluation_scores(y_test, y_test_predicted_labels_tfidf)"
   ]
  },
  {
   "cell_type": "code",
   "execution_count": null,
   "metadata": {},
   "outputs": [],
   "source": []
  },
  {
   "cell_type": "code",
   "execution_count": null,
   "metadata": {},
   "outputs": [],
   "source": []
  },
  {
   "cell_type": "code",
   "execution_count": null,
   "metadata": {},
   "outputs": [],
   "source": []
  },
  {
   "cell_type": "code",
   "execution_count": null,
   "metadata": {},
   "outputs": [],
   "source": []
  },
  {
   "cell_type": "code",
   "execution_count": null,
   "metadata": {},
   "outputs": [],
   "source": []
  },
  {
   "cell_type": "code",
   "execution_count": null,
   "metadata": {},
   "outputs": [],
   "source": []
  },
  {
   "cell_type": "code",
   "execution_count": null,
   "metadata": {},
   "outputs": [],
   "source": []
  },
  {
   "cell_type": "code",
   "execution_count": null,
   "metadata": {},
   "outputs": [],
   "source": []
  }
 ],
 "metadata": {
  "kernelspec": {
   "display_name": "Python 3",
   "language": "python",
   "name": "python3"
  },
  "language_info": {
   "codemirror_mode": {
    "name": "ipython",
    "version": 3
   },
   "file_extension": ".py",
   "mimetype": "text/x-python",
   "name": "python",
   "nbconvert_exporter": "python",
   "pygments_lexer": "ipython3",
   "version": "3.7.4"
  }
 },
 "nbformat": 4,
 "nbformat_minor": 2
}
